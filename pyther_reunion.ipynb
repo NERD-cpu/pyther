{
 "cells": [
  {
   "cell_type": "markdown",
   "metadata": {},
   "source": [
    "importar las linrerías requeridas, en este caso se trata de la numpy junto con pyther"
   ]
  },
  {
   "cell_type": "code",
   "execution_count": 4,
   "metadata": {
    "collapsed": false
   },
   "outputs": [],
   "source": [
    "import numpy as np\n",
    "import pyther as pt"
   ]
  },
  {
   "cell_type": "code",
   "execution_count": 5,
   "metadata": {
    "collapsed": false
   },
   "outputs": [
    {
     "name": "stdout",
     "output_type": "stream",
     "text": [
      "Component = CARBON DIOXIDE\n",
      "Acentric_factor = 0.22360000000000002\n",
      "Critical_Temperature = 304.21 K\n",
      "Critical_Pressure = 72.865 Bar\n",
      "Critical_Volume = 0.094 cm3/mol\n",
      "Compressibility_factor_Z = 0.274\n",
      "The NMODEL is eos_RKPR and method ICALC is density\n",
      "The parameter delta1(rho,T) = [ 2.65756708]\n",
      "[ 2.65756708]\n",
      "-------------------------------------------------------------------------------\n"
     ]
    }
   ],
   "source": [
    "properties_data = pt.Data_parse()\n",
    "\n",
    "dppr_file = \"PureFull.xls\"\n",
    "#component = 'METHANE'\n",
    "#component = \"ETHANE\"\n",
    "#component = \"3-METHYLHEPTANE\"\n",
    "#component = \"n-PENTACOSANE\"\n",
    "component = \"ISOBUTANE\"\n",
    "component = \"CARBON DIOXIDE\"\n",
    "\n",
    "NMODEL = \"RKPR\"\n",
    "ICALC = \"constants_eps\"\n",
    "ICALC = \"density\"\n",
    "\n",
    "properties_component = properties_data.selec_component(dppr_file, component)\n",
    "pt.print_properties_component(component, properties_component)\n",
    "#dinputs = np.array([properties_component[1]['Tc'], properties_component[1]['Pc'],\n",
    "#                    properties_component[1]['Omega'], properties_component[1]['Vc']])\n",
    "\n",
    "T_especific = 270.0\n",
    "RHOLSat_esp = 21.4626\n",
    "# valor initial of delta_1\n",
    "delta_1 = 1.5\n",
    "\n",
    "dinputs = np.array([properties_component[1]['Tc'], properties_component[1]['Pc'],\n",
    "                    properties_component[1]['Omega'], delta_1, T_especific, RHOLSat_esp])\n",
    "\n",
    "\n",
    "component_eos = pt.models_eos_cal(NMODEL, ICALC, dinputs)\n",
    "\n",
    "#ac = component_eos[0]\n",
    "print(component_eos)\n",
    "print('-' * 79)\n",
    "\n"
   ]
  },
  {
   "cell_type": "code",
   "execution_count": null,
   "metadata": {
    "collapsed": true
   },
   "outputs": [],
   "source": []
  }
 ],
 "metadata": {
  "anaconda-cloud": {},
  "kernelspec": {
   "display_name": "Python [conda root]",
   "language": "python",
   "name": "conda-root-py"
  },
  "language_info": {
   "codemirror_mode": {
    "name": "ipython",
    "version": 3
   },
   "file_extension": ".py",
   "mimetype": "text/x-python",
   "name": "python",
   "nbconvert_exporter": "python",
   "pygments_lexer": "ipython3",
   "version": "3.5.2"
  }
 },
 "nbformat": 4,
 "nbformat_minor": 1
}
