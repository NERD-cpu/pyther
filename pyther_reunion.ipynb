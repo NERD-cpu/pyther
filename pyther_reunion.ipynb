{
 "cells": [
  {
   "cell_type": "markdown",
   "metadata": {},
   "source": [
    "# 2. Parámetros de ecuaciones de estado cúbicas (SRK, PR, RKPR)"
   ]
  },
  {
   "cell_type": "markdown",
   "metadata": {},
   "source": [
    "## 2.1 Ecuaciones cúbicas: SRK y PR"
   ]
  },
  {
   "cell_type": "markdown",
   "metadata": {},
   "source": [
    "## 2.1.1 Especificación de las constantes: $T_c, P_c, \\omega$"
   ]
  },
  {
   "cell_type": "markdown",
   "metadata": {},
   "source": [
    "## 2.1.2 Especificación de los parámetros: $a_c, b, m$\n"
   ]
  },
  {
   "cell_type": "markdown",
   "metadata": {},
   "source": [
    "## 2.2 Ecuación cúbica RKPR"
   ]
  },
  {
   "cell_type": "markdown",
   "metadata": {},
   "source": [
    "En la figura 3 se muestra una descripción de la relación que existe entre las constantes críticas, los parámetros y posibles especificaciones que se pueden plantear utilizando las ecuaciones de estado SRK, PR, y RKPR.\n"
   ]
  },
  {
   "cell_type": "markdown",
   "metadata": {},
   "source": [
    "#imagen bloques parámetros"
   ]
  },
  {
   "cell_type": "markdown",
   "metadata": {},
   "source": [
    "\n",
    "NOTA: La notación usada en está figura es provisional. ICALC = 1,2,3 se refiere a especificar (Tc, Pc, w) + alguno de (Vc, 1, satlT), mientras ICALC = 4 corresponde a especificar (ac, b, k, 1) \n",
    "\n",
    "Bloque 1: Se refiere a la parte de las ecuaciones SRK y PR\n",
    "Bloque 2: Se refiere a la parte de la ecuación RKPR.\n",
    "\n",
    "Se plantea una primera división con respecto a si la especificación que se hace en el método de cálculo corresponde a establecer valores para las constantes críticas (ICALC = 1,2,3) de una sustancia pura o los parámetros de la ecuación de estado (ICALC = 4). \n",
    "\n",
    "Una segunda división se produce cuando se verifica el modelo de ecuación de estado que se quiere utilizar, por un lado SRK y PR (bloque 1), mientras que por otro, la ecuación RKPR (bloque 2). Señalando que por medio de ambos bloques, se pueden obtener los parámetros de ecuación de estado a partir de las constantes críticas de una sustancia pura y visceversa.\n",
    "\n",
    "Bloque 1: corresponde al caso de las ecuaciones SRK y PR. El manejo de estas ecuaciones es directo tanto para la especificación de constantes como de los parámetros.\n",
    "\n",
    "Bloque 2: corresponde al caso de la ecuación RKPR y contempla las opciones de especificar constantes críticas o parámetros. En caso de especificar las constantes críticas como temperatura crítica Tc, presión crítica Pc junto con el factor acéntrico w de cada sustancia pura, se tienen 3 posibles especificaciones adicionales: \n",
    "\n",
    "La primera especificación corresponde a un valor del factor de compresibilidad crítico Zc para luego determinar el correspondiente valor del parámetro d1 que cumple con dicha especificación. Después se procede con el cálculo del parámetro k.\n",
    "\n",
    "La segunda especificación corresponde a un valor del parámetro d1 para el posterior cálculo del parámetro k.\n",
    "\n",
    "La tercera opción es la especificación de un valor para la densidad de líquido saturado a una temperatura. En este caso se debe encontrar un valor d1 y el correspondiente valor del parámetro k, que permita cumplir con la imposición del valor de la densidad de líquido saturado. En este caso, se puede utilizar la clase Thermodynamic_correlations() para obtener un valor para la densidad de líquido saturado de una sustancia pura a una determinada temperatura y luego pasar este valor, como una especificación en la obtención de los parámetros de la ecuación RKPR.\n"
   ]
  },
  {
   "cell_type": "code",
   "execution_count": null,
   "metadata": {
    "collapsed": true
   },
   "outputs": [],
   "source": []
  },
  {
   "cell_type": "code",
   "execution_count": null,
   "metadata": {
    "collapsed": true
   },
   "outputs": [],
   "source": []
  },
  {
   "cell_type": "markdown",
   "metadata": {},
   "source": [
    "En esta sección se presenta una forma de calcular los parametros de ecuaciones de estado cúbicas. "
   ]
  },
  {
   "cell_type": "markdown",
   "metadata": {},
   "source": [
    "<img src=\"rkpr_paramters_latex.png\">"
   ]
  },
  {
   "cell_type": "markdown",
   "metadata": {},
   "source": [
    "En la figura 4 se muestran como variables de entrada las constantes Tc,Pc, w y alfa que puede ser una especificación de alguno de los 3 parámetros siguientes (d1, Vc, rho(T)_sar_liq).\n",
    "\n",
    "La función F1 corresponde a la estimación de un valor para el parámetro {d1} de acuerdo a una correlación preestablecida en el caso de {alfa = Vc}.\n",
    "\n",
    "La función F2 es el cálculo de los parámetros {ac} y {b} para el correspondiente valor del parámetro {d1}. En el caso de especificar el parámetro {alfa=d1}, el cálculo de los parámetros Zc, ac y b son directos y no requieren de iteración. Mientras que en el caso de alfa = {Vc} se requiere encontrar de forma iterativa el valor del parámetro d1 que verifique el valor de Zc correspondiente por medio del Vc previamente especificado. De manera similar se procede en el caso de {alfa = rho(T)_sat_liq}.\n"
   ]
  },
  {
   "cell_type": "markdown",
   "metadata": {},
   "source": [
    "En el caso de especificar los parámetros de ecuación de estado (ICALC = 4), el cálculo de las constantes críticas de temperatura crítica Tc,  presión Pc, volumen crítico Vc y el factor acéntrico es simple. "
   ]
  },
  {
   "cell_type": "markdown",
   "metadata": {},
   "source": [
    "importar las linrerías requeridas, en este caso se trata de las librerías numpy, pandas junto con pyther"
   ]
  },
  {
   "cell_type": "code",
   "execution_count": 19,
   "metadata": {},
   "outputs": [],
   "source": [
    "import numpy as np\n",
    "import pandas as pd\n",
    "import pyther as pt"
   ]
  },
  {
   "cell_type": "markdown",
   "metadata": {},
   "source": [
    "## 2.3 Especificación de las constantes: $T_c, P_c, \\omega$"
   ]
  },
  {
   "cell_type": "markdown",
   "metadata": {},
   "source": [
    "## 2.3.1 Especificación del parametro $\\delta_1 $"
   ]
  },
  {
   "cell_type": "markdown",
   "metadata": {},
   "source": [
    "## 2.3.2 Especificación del volumen crítico $V_c$"
   ]
  },
  {
   "cell_type": "markdown",
   "metadata": {},
   "source": [
    "## 2.3.3 Especificación de un valor de densidad de líqudo saturado $\\rho(T)_{sat}^l$"
   ]
  },
  {
   "cell_type": "markdown",
   "metadata": {},
   "source": [
    "## 2.4 Especificación de los parámetros: $a_c, b, k, \\delta_1$"
   ]
  },
  {
   "cell_type": "markdown",
   "metadata": {},
   "source": [
    "En los ejemplos siguientes se utilizan los datos termodísicos de la base de datos DPPR. Para el caso se tiene como especificación la ecuación de estado RKPR y las constantes criticas para el componente 3-METHYLHEPTANE."
   ]
  },
  {
   "cell_type": "code",
   "execution_count": 35,
   "metadata": {},
   "outputs": [
    {
     "name": "stdout",
     "output_type": "stream",
     "text": [
      "Component = n-HEXATRIACONTANE\n",
      "Acentric_factor = 1.526\n",
      "Critical_Temperature = 874 K\n",
      "Critical_Pressure = 6.711 Bar\n",
      "Critical_Volume = 2.09 cm3/mol\n",
      "Compressibility_factor_Z = 0.196\n",
      "The NMODEL is eos_PR and method ICALC is constants_eps\n",
      "params = [ac, b, rm, del1]\n",
      "[359.78656827704333, 0.84239649103360315, 2.0995725340799996, 2.4142135623730949]\n"
     ]
    }
   ],
   "source": [
    "properties_data = pt.Data_parse()\n",
    "\n",
    "dppr_file = \"PureFull.xls\"\n",
    "component = \"3-METHYLHEPTANE\"\n",
    "component = \"METHANE\"\n",
    "component = \"ETHANE\"\n",
    "component = \"PROPANE\"\n",
    "component = \"n-HEXATRIACONTANE\"\n",
    "\n",
    "NMODEL = \"RKPR\"\n",
    "NMODEL = \"PR\"\n",
    "ICALC = \"constants_eps\"\n",
    "\n",
    "properties_component = properties_data.selec_component(dppr_file, component)\n",
    "pt.print_properties_component(component, properties_component)\n",
    "dinputs = np.array([properties_component[1]['Tc'], properties_component[1]['Pc'],\n",
    "                    properties_component[1]['Omega'], properties_component[1]['Vc']])\n",
    "\n",
    "component_eos = pt.models_eos_cal(NMODEL, ICALC, dinputs)\n",
    "\n",
    "#ac = component_eos[0]\n",
    "print(component_eos)\n",
    "\n",
    "\n"
   ]
  },
  {
   "cell_type": "markdown",
   "metadata": {},
   "source": [
    "De esta forma se observa el calculo simple de los parámetros para la sustancia pura 3-METHYLHEPTANE_RKPR"
   ]
  },
  {
   "cell_type": "markdown",
   "metadata": {},
   "source": [
    "A continuación se realiza el mismo tipo de calculo pero tomando una serie de 9 sustancias puras, que se pueden extender facilmente a n sustancias, para obtener sus parámetros de nuevo con la ecuación de estado RKPR."
   ]
  },
  {
   "cell_type": "code",
   "execution_count": 25,
   "metadata": {},
   "outputs": [
    {
     "name": "stdout",
     "output_type": "stream",
     "text": [
      "Component = ISOBUTANE\n",
      "Acentric_factor = 0.18080000000000002\n",
      "Critical_Temperature = 408.14 K\n",
      "Critical_Pressure = 36.003 Bar\n",
      "Critical_Volume = 0.2627 cm3/mol\n",
      "Compressibility_factor_Z = 0.28200000000000003\n",
      "del1ini = 3.9722378008963446\n",
      "Zc = 0.27871152548257544\n",
      "The NMODEL is eos_RKPR and method ICALC is constants_eps\n",
      "params = [ac, b, rm, del1]\n",
      "Component = CARBON DIOXIDE\n",
      "Acentric_factor = 0.22360000000000002\n",
      "Critical_Temperature = 304.21 K\n",
      "Critical_Pressure = 72.865 Bar\n",
      "Critical_Volume = 0.094 cm3/mol\n",
      "Compressibility_factor_Z = 0.274\n",
      "del1ini = 4.462908059336361\n",
      "Zc = 0.2707937660977233\n",
      "The NMODEL is eos_RKPR and method ICALC is constants_eps\n",
      "params = [ac, b, rm, del1]\n",
      "Component = METHANE\n",
      "Acentric_factor = 0.0115\n",
      "Critical_Temperature = 190.564 K\n",
      "Critical_Pressure = 45.389 Bar\n",
      "Critical_Volume = 0.09860000000000001 cm3/mol\n",
      "Compressibility_factor_Z = 0.28600000000000003\n",
      "del1ini = 3.7519407434981633\n",
      "Zc = 0.2824567739174239\n",
      "The NMODEL is eos_RKPR and method ICALC is constants_eps\n",
      "params = [ac, b, rm, del1]\n",
      "Component = ETHANE\n",
      "Acentric_factor = 0.0995\n",
      "Critical_Temperature = 305.32 K\n",
      "Critical_Pressure = 48.083 Bar\n",
      "Critical_Volume = 0.14550000000000002 cm3/mol\n",
      "Compressibility_factor_Z = 0.279\n",
      "del1ini = 4.161423913263858\n",
      "Zc = 0.2755907402334964\n",
      "The NMODEL is eos_RKPR and method ICALC is constants_eps\n",
      "params = [ac, b, rm, del1]\n",
      "Component = 3-METHYLHEPTANE\n",
      "Acentric_factor = 0.3718\n",
      "Critical_Temperature = 563.67 K\n",
      "Critical_Pressure = 25.127 Bar\n",
      "Critical_Volume = 0.464 cm3/mol\n",
      "Compressibility_factor_Z = 0.252\n",
      "del1ini = 6.038268203938681\n",
      "Zc = 0.24877058378575795\n",
      "The NMODEL is eos_RKPR and method ICALC is constants_eps\n",
      "params = [ac, b, rm, del1]\n",
      "Component = n-PENTACOSANE\n",
      "Acentric_factor = 1.1053\n",
      "Critical_Temperature = 812 K\n",
      "Critical_Pressure = 9.376 Bar\n",
      "Critical_Volume = 1.46 cm3/mol\n",
      "Compressibility_factor_Z = 0.20500000000000002\n",
      "del1ini = 10.600246415857843\n",
      "Zc = 0.20275882073834256\n",
      "The NMODEL is eos_RKPR and method ICALC is constants_eps\n",
      "params = [ac, b, rm, del1]\n",
      "Component = NAPHTHALENE\n",
      "Acentric_factor = 0.3022\n",
      "Critical_Temperature = 748.35 K\n",
      "Critical_Pressure = 39.98 Bar\n",
      "Critical_Volume = 0.41300000000000003 cm3/mol\n",
      "Compressibility_factor_Z = 0.269\n",
      "del1ini = 4.8204311891035925\n",
      "Zc = 0.2653709654843225\n",
      "The NMODEL is eos_RKPR and method ICALC is constants_eps\n",
      "params = [ac, b, rm, del1]\n",
      "Component = m-ETHYLTOLUENE\n",
      "Acentric_factor = 0.3226\n",
      "Critical_Temperature = 637.15 K\n",
      "Critical_Pressure = 28.029 Bar\n",
      "Critical_Volume = 0.49 cm3/mol\n",
      "Compressibility_factor_Z = 0.263\n",
      "del1ini = 5.246526144851435\n",
      "Zc = 0.2592551086535563\n",
      "The NMODEL is eos_RKPR and method ICALC is constants_eps\n",
      "params = [ac, b, rm, del1]\n",
      "Component = 2-METHYL-1-HEXENE\n",
      "Acentric_factor = 0.3094\n",
      "Critical_Temperature = 538 K\n",
      "Critical_Pressure = 28.325 Bar\n",
      "Critical_Volume = 0.398 cm3/mol\n",
      "Compressibility_factor_Z = 0.255\n",
      "del1ini = 5.784189965441039\n",
      "Zc = 0.2520206003977051\n",
      "The NMODEL is eos_RKPR and method ICALC is constants_eps\n",
      "params = [ac, b, rm, del1]\n",
      "                           ac         b        rm       del1\n",
      "ISOBUTANE           15.743219  0.064343  2.205509   4.000470\n",
      "CARBON DIOXIDE       4.409808  0.022801  2.280728   4.492210\n",
      "METHANE              2.696405  0.024259  1.282178   3.777713\n",
      "ETHANE               6.649597  0.035503  1.673541   4.190762\n",
      "3-METHYLHEPTANE     46.430579  0.109351  2.586092   6.043125\n",
      "n-PENTACOSANE      289.947431  0.320522  4.581358  10.628260\n",
      "NAPHTHALENE         49.312554  0.099495  2.591582   4.847168\n",
      "m-ETHYLTOLUENE      51.786960  0.117115  2.565531   5.267361\n",
      "2-METHYL-1-HEXENE   37.214555  0.094214  2.338038   5.794610\n"
     ]
    }
   ],
   "source": [
    "properties_data = pt.Data_parse()\n",
    "\n",
    "dppr_file = \"PureFull.xls\"\n",
    "components = [\"ISOBUTANE\", \"CARBON DIOXIDE\", 'METHANE', \"ETHANE\", \"3-METHYLHEPTANE\", \"n-PENTACOSANE\",\n",
    "              \"NAPHTHALENE\", \"m-ETHYLTOLUENE\", \"2-METHYL-1-HEXENE\"]\n",
    "\n",
    "NMODEL = \"RKPR\"\n",
    "ICALC = \"constants_eps\"\n",
    "component_eos_list = np.zeros( (len(components),4) )\n",
    "\n",
    "for index, component in enumerate(components):\n",
    "    \n",
    "    properties_component = properties_data.selec_component(dppr_file, component)\n",
    "    pt.print_properties_component(component, properties_component)\n",
    "    dinputs = np.array([properties_component[1]['Tc'], properties_component[1]['Pc'],\n",
    "                        properties_component[1]['Omega'], properties_component[1]['Vc']])\n",
    "    \n",
    "    component_eos = pt.models_eos_cal(NMODEL, ICALC, dinputs)\n",
    "    component_eos_list[index] = component_eos \n",
    "\n",
    "    \n",
    "components_table = pd.DataFrame(component_eos_list, index=components, columns=['ac', 'b', 'rm', 'del1'])\n",
    "\n",
    "print(components_table)\n",
    "\n"
   ]
  },
  {
   "cell_type": "markdown",
   "metadata": {},
   "source": [
    "Como se observa, los resultados obtenidos son organizados en un DataFrame permitiendo agilizar la manipulación de los datos de una serie de sustancias puras."
   ]
  },
  {
   "cell_type": "code",
   "execution_count": 26,
   "metadata": {},
   "outputs": [
    {
     "data": {
      "text/html": [
       "<div>\n",
       "<table border=\"1\" class=\"dataframe\">\n",
       "  <thead>\n",
       "    <tr style=\"text-align: right;\">\n",
       "      <th></th>\n",
       "      <th>ac</th>\n",
       "      <th>b</th>\n",
       "      <th>rm</th>\n",
       "      <th>del1</th>\n",
       "    </tr>\n",
       "  </thead>\n",
       "  <tbody>\n",
       "    <tr>\n",
       "      <th>ISOBUTANE</th>\n",
       "      <td>15.743219</td>\n",
       "      <td>0.064343</td>\n",
       "      <td>2.205509</td>\n",
       "      <td>4.000470</td>\n",
       "    </tr>\n",
       "    <tr>\n",
       "      <th>CARBON DIOXIDE</th>\n",
       "      <td>4.409808</td>\n",
       "      <td>0.022801</td>\n",
       "      <td>2.280728</td>\n",
       "      <td>4.492210</td>\n",
       "    </tr>\n",
       "    <tr>\n",
       "      <th>METHANE</th>\n",
       "      <td>2.696405</td>\n",
       "      <td>0.024259</td>\n",
       "      <td>1.282178</td>\n",
       "      <td>3.777713</td>\n",
       "    </tr>\n",
       "    <tr>\n",
       "      <th>ETHANE</th>\n",
       "      <td>6.649597</td>\n",
       "      <td>0.035503</td>\n",
       "      <td>1.673541</td>\n",
       "      <td>4.190762</td>\n",
       "    </tr>\n",
       "    <tr>\n",
       "      <th>3-METHYLHEPTANE</th>\n",
       "      <td>46.430579</td>\n",
       "      <td>0.109351</td>\n",
       "      <td>2.586092</td>\n",
       "      <td>6.043125</td>\n",
       "    </tr>\n",
       "    <tr>\n",
       "      <th>n-PENTACOSANE</th>\n",
       "      <td>289.947431</td>\n",
       "      <td>0.320522</td>\n",
       "      <td>4.581358</td>\n",
       "      <td>10.628260</td>\n",
       "    </tr>\n",
       "    <tr>\n",
       "      <th>NAPHTHALENE</th>\n",
       "      <td>49.312554</td>\n",
       "      <td>0.099495</td>\n",
       "      <td>2.591582</td>\n",
       "      <td>4.847168</td>\n",
       "    </tr>\n",
       "    <tr>\n",
       "      <th>m-ETHYLTOLUENE</th>\n",
       "      <td>51.786960</td>\n",
       "      <td>0.117115</td>\n",
       "      <td>2.565531</td>\n",
       "      <td>5.267361</td>\n",
       "    </tr>\n",
       "    <tr>\n",
       "      <th>2-METHYL-1-HEXENE</th>\n",
       "      <td>37.214555</td>\n",
       "      <td>0.094214</td>\n",
       "      <td>2.338038</td>\n",
       "      <td>5.794610</td>\n",
       "    </tr>\n",
       "  </tbody>\n",
       "</table>\n",
       "</div>"
      ],
      "text/plain": [
       "                           ac         b        rm       del1\n",
       "ISOBUTANE           15.743219  0.064343  2.205509   4.000470\n",
       "CARBON DIOXIDE       4.409808  0.022801  2.280728   4.492210\n",
       "METHANE              2.696405  0.024259  1.282178   3.777713\n",
       "ETHANE               6.649597  0.035503  1.673541   4.190762\n",
       "3-METHYLHEPTANE     46.430579  0.109351  2.586092   6.043125\n",
       "n-PENTACOSANE      289.947431  0.320522  4.581358  10.628260\n",
       "NAPHTHALENE         49.312554  0.099495  2.591582   4.847168\n",
       "m-ETHYLTOLUENE      51.786960  0.117115  2.565531   5.267361\n",
       "2-METHYL-1-HEXENE   37.214555  0.094214  2.338038   5.794610"
      ]
     },
     "execution_count": 26,
     "metadata": {},
     "output_type": "execute_result"
    }
   ],
   "source": [
    "components_table"
   ]
  },
  {
   "cell_type": "markdown",
   "metadata": {},
   "source": [
    "En el siguiente ejemplo se utiliza la ecuación RKPR pero esta vez con la especificación de la temperatura y densidad de líquido saturado para el CARBON DIOXIDE y de esta forma encontrar el valor del parámetro *delta* que verifica la especificación realizada para la densidad de líquido saturado. "
   ]
  },
  {
   "cell_type": "code",
   "execution_count": 29,
   "metadata": {},
   "outputs": [
    {
     "name": "stdout",
     "output_type": "stream",
     "text": [
      "Component = CARBON DIOXIDE\n",
      "Acentric_factor = 0.22360000000000002\n",
      "Critical_Temperature = 304.21 K\n",
      "Critical_Pressure = 72.865 Bar\n",
      "Critical_Volume = 0.094 cm3/mol\n",
      "Compressibility_factor_Z = 0.274\n",
      "The NMODEL is eos_RKPR and method ICALC is density\n",
      "The parameter delta1(rho,T) = [ 2.65756708]\n",
      "[ 2.65756708]\n"
     ]
    }
   ],
   "source": [
    "properties_data = pt.Data_parse()\n",
    "\n",
    "dppr_file = \"PureFull.xls\"\n",
    "component = \"CARBON DIOXIDE\"\n",
    "\n",
    "NMODEL = \"RKPR\"\n",
    "ICALC = \"density\"\n",
    "\n",
    "properties_component = properties_data.selec_component(dppr_file, component)\n",
    "pt.print_properties_component(component, properties_component)\n",
    "#dinputs = np.array([properties_component[1]['Tc'], properties_component[1]['Pc'],\n",
    "#                    properties_component[1]['Omega'], properties_component[1]['Vc']])\n",
    "\n",
    "T_especific = 270.0\n",
    "RHOLSat_esp = 21.4626\n",
    "# valor initial of delta_1\n",
    "delta_1 = 1.5\n",
    "\n",
    "dinputs = np.array([properties_component[1]['Tc'], properties_component[1]['Pc'],\n",
    "                    properties_component[1]['Omega'], delta_1, T_especific, RHOLSat_esp])\n",
    "\n",
    "\n",
    "component_eos = pt.models_eos_cal(NMODEL, ICALC, dinputs)\n",
    "\n",
    "print(component_eos)"
   ]
  },
  {
   "cell_type": "code",
   "execution_count": null,
   "metadata": {
    "collapsed": true
   },
   "outputs": [],
   "source": []
  }
 ],
 "metadata": {
  "anaconda-cloud": {},
  "kernelspec": {
   "display_name": "Python [conda root]",
   "language": "python",
   "name": "conda-root-py"
  },
  "language_info": {
   "codemirror_mode": {
    "name": "ipython",
    "version": 3
   },
   "file_extension": ".py",
   "mimetype": "text/x-python",
   "name": "python",
   "nbconvert_exporter": "python",
   "pygments_lexer": "ipython3",
   "version": "3.5.2"
  }
 },
 "nbformat": 4,
 "nbformat_minor": 1
}
