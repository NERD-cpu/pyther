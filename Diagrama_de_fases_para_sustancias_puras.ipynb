{
 "cells": [
  {
   "cell_type": "markdown",
   "metadata": {},
   "source": [
    "# Envolvente de fases para sustancias puras"
   ]
  },
  {
   "cell_type": "markdown",
   "metadata": {
    "collapsed": true
   },
   "source": [
    "En esta sección se presenta el desarrollo y manipulación de las ecuaciones para establecer un algortimo que permita calcular los puntos del diagrama de fases para una sustancia pura utilizando ecuaciones de estado para modelar el comportamiento de fases. "
   ]
  },
  {
   "cell_type": "code",
   "execution_count": null,
   "metadata": {
    "collapsed": true
   },
   "outputs": [],
   "source": []
  },
  {
   "cell_type": "code",
   "execution_count": null,
   "metadata": {
    "collapsed": true
   },
   "outputs": [],
   "source": []
  },
  {
   "cell_type": "markdown",
   "metadata": {},
   "source": [
    "$$ P^l(T, V^l) - P^v(T, V^v) = 0$$\n",
    "\n",
    "$$ ln \\phi(T, V^l) - ln \\phi(T, V^v) = 0  $$\n",
    "\n",
    "$$ g(T, V^l, V^v) = X_S - S = 0 $$"
   ]
  },
  {
   "cell_type": "markdown",
   "metadata": {},
   "source": []
  },
  {
   "cell_type": "markdown",
   "metadata": {},
   "source": []
  },
  {
   "cell_type": "markdown",
   "metadata": {},
   "source": [
    "danto lugar a un sistema de 3 ecuaciones con la forma que se muestr a continuación:\n",
    "\n",
    "$$ F = \n",
    "\\begin{bmatrix}\n",
    "P^l(T, V^l) - P^v(T, V^v)\\\\\n",
    "ln \\phi(T, V^l) - ln \\phi(T, V^v)\\\\\n",
    "X_S - S\n",
    "\\end{bmatrix}\n",
    "= 0$$\n",
    "\n",
    "el sistema de ecuaciones se puede reescribir de la siguiente forma:\n",
    "\n",
    "$$ F = \n",
    "\\begin{bmatrix}\n",
    "ln \\left( \\frac{P^l(T, V^l)} {P^v(T, V^v)} \\right)\\\\\n",
    "ln f_l(T, V^l) - ln f_v(T, V^v)\\\\\n",
    "0\n",
    "\\end{bmatrix}\n",
    "$$"
   ]
  },
  {
   "cell_type": "markdown",
   "metadata": {},
   "source": [
    "\n",
    "\n"
   ]
  },
  {
   "cell_type": "markdown",
   "metadata": {},
   "source": [
    "$$ J \n",
    "\\begin{bmatrix}\n",
    "\\Delta ln T\\\\\n",
    "\\Delta ln V^l\\\\\n",
    "\\Delta ln V^v\\\\\n",
    "\\end{bmatrix}\n",
    "+ F = 0$$"
   ]
  },
  {
   "cell_type": "markdown",
   "metadata": {},
   "source": []
  },
  {
   "cell_type": "markdown",
   "metadata": {},
   "source": []
  },
  {
   "cell_type": "markdown",
   "metadata": {},
   "source": []
  },
  {
   "cell_type": "markdown",
   "metadata": {},
   "source": []
  },
  {
   "cell_type": "markdown",
   "metadata": {},
   "source": []
  },
  {
   "cell_type": "markdown",
   "metadata": {},
   "source": [
    "$$ Jx_{1,1} = T \\left( \\frac {\\left(\\frac{\\partial P_{x} }{\\partial T}\\right)} {P_l} - \\frac {\\left(\\frac{\\partial P_{y} }{\\partial T}\\right)} {P_v}  \\right) $$\n",
    "\n",
    "$$ Jx_{1,2} = -V_l \\left( \\frac {\\left(\\frac{\\partial P }{\\partial V_{x}}\\right)} {P_l} \\right) $$\n",
    "\n",
    "$$ Jx_{1,3} = -V_v \\left( \\frac {\\left(\\frac{\\partial P }{\\partial V_{y}}\\right)} {P_v} \\right) $$\n",
    "\n",
    "$$ Jx_{2,1} = T \\left(\\left(\\frac{\\partial f^l } {\\partial T} \\right) - \\left(\\frac{\\partial f^v } {\\partial T} \\right) \\right) $$\n",
    "\n",
    "$$ Jx_{2,2} = V_l \\left(\\frac{\\partial f^l } {\\partial V_{l}} \\right) $$\n",
    "\n",
    "$$ Jx_{2,3} = - V_v \\left(\\frac{\\partial f^y } {\\partial V_{v}} \\right) $$\n"
   ]
  },
  {
   "cell_type": "markdown",
   "metadata": {},
   "source": [
    "$$J_x =  \\begin{bmatrix}\n",
    "T \\left( \\frac {\\left(\\frac{\\partial P_{x} }{\\partial T}\\right)} {P_l} - \\frac {\\left(\\frac{\\partial P_{y} }{\\partial T}\\right)} {P_v}  \\right) & \n",
    "-V_l \\left( \\frac {\\left(\\frac{\\partial P_{x} }{\\partial V}\\right)} {P_l} \\right) & \n",
    "-V_v \\left( \\frac {\\left(\\frac{\\partial P_{y} }{\\partial V}\\right)} {P_y} \\right) \\\\\n",
    "    T \\left(\\left(\\frac{\\partial f^l } {\\partial T} \\right) - \\left(\\frac{\\partial f^v } {\\partial T} \\right) \\right) & V_l \\left(\\frac{\\partial f^l } {\\partial V_{l}} \\right) & - V_v \\left(\\frac{\\partial f^y } {\\partial V_{v}} \\right) &   \\\\\n",
    "    0       & 0 & 0 &  \n",
    "\\end{bmatrix}$$"
   ]
  },
  {
   "cell_type": "markdown",
   "metadata": {
    "collapsed": true
   },
   "source": [
    "\n",
    "\n",
    "$$ \\frac{\\partial ln(f)}{\\partial T } = \\frac{1} {R_GT} \\left(\\frac{\\partial Ar}{\\partial T \\partial n} - \\frac{\\frac{\\partial Ar}{\\partial n }} {T}\\right)  + \\frac{1} {T} $$\n",
    "\n",
    "$$ \\frac{\\partial P}{\\partial T} = -\\frac{\\partial Ar}{\\partial T \\partial V} + N_T \\frac{R_{G}} {V} $$\n"
   ]
  },
  {
   "cell_type": "code",
   "execution_count": 1,
   "metadata": {},
   "outputs": [
    {
     "ename": "SyntaxError",
     "evalue": "invalid syntax (<ipython-input-1-caee11e77b83>, line 1)",
     "output_type": "error",
     "traceback": [
      "\u001b[0;36m  File \u001b[0;32m\"<ipython-input-1-caee11e77b83>\"\u001b[0;36m, line \u001b[0;32m1\u001b[0m\n\u001b[0;31m    $$ \\frac{\\partial ln(f)}{\\partial T } = \\frac{1} {R_GT} \\left(\\frac{\\partial Ar}{\\partial T \\partial n} - \\frac{\\frac{\\partial Ar}{\\partial n }} {T}\\right)  + \\frac{1} {T} $$\u001b[0m\n\u001b[0m    ^\u001b[0m\n\u001b[0;31mSyntaxError\u001b[0m\u001b[0;31m:\u001b[0m invalid syntax\n"
     ]
    }
   ],
   "source": [
    "$$ \\frac{\\partial ln(f)}{\\partial T } = \\frac{1} {R_GT} \\left(\\frac{\\partial Ar}{\\partial T \\partial n} - \\frac{\\frac{\\partial Ar}{\\partial n }} {T}\\right)  + \\frac{1} {T} $$\n",
    "\n",
    "$$ \\frac{\\partial P}{\\partial T} = -\\frac{\\partial Ar}{\\partial T \\partial V} + N_T \\frac{R_{G}} {V} $$\n"
   ]
  },
  {
   "cell_type": "code",
   "execution_count": null,
   "metadata": {
    "collapsed": true
   },
   "outputs": [],
   "source": []
  },
  {
   "cell_type": "code",
   "execution_count": null,
   "metadata": {
    "collapsed": true
   },
   "outputs": [],
   "source": []
  },
  {
   "cell_type": "markdown",
   "metadata": {},
   "source": [
    "4. Descripción del algoritmo\n",
    "----------------------------"
   ]
  },
  {
   "cell_type": "markdown",
   "metadata": {
    "collapsed": true
   },
   "source": [
    "La descripción del algoritmo es tomado de Pisoni, Gerardo Oscar (2014):\n",
    "\n",
    "Donde $J_x$ es la matriz jacobiana de la función vectorial $F$, $Λ$ es el vector de variables del sistema $F=0$, $S_{Spec}$ es el valor asignado a una de las variables del vector $Λ$, $\\frac{dΛ}{ dS_{Spec}}$ es la derivada, manteniendo la condición $F=0$, del vector de variables con respecto al parámetro $S_{spec}$. Observe que si $S_{spec}=Λ_i$, entonces $\\frac{dΛi} {dS_{Spec}} =1$. El vector $\\frac{dΛ}{ dS_{Spec}}$ es llamado “vector de sensitividades”.\n",
    "\n",
    "$\\frac{\\partial F} {\\partial S_{Spec}}$ es la derivada parcial del vector de funciones $F$ con respecto la variable $S_{spec}$.\n",
    "\n",
    "En la ecuación A.3-1 la matriz jacobiana $J_x$ debe ser valuada en un punto ya convergido que es solución del sistema de ecuaciones $F=0$. Observe en los distintos sistemas de ecuaciones presentados en el capítulo 3, que sólo una componente del vector $F$ depende explícitamente de $S_{spec}$. Por tanto, las componentes del vector $\\frac{\\partial F} {\\partial S_{Spec}}$ son todas iguales a cero, excepto la que depende de $S_{spec}$, en esta tesis el valor de dicha componente es siempre $“-1”$.\n",
    "\n",
    "Conocidos $J_x$ y $\\frac{\\partial F} {\\partial S_{Spec}}$ es posible calcular todas las componentes del vector $\\frac{dΛ}{ dS_{Spec}}$."
   ]
  },
  {
   "cell_type": "markdown",
   "metadata": {
    "collapsed": true
   },
   "source": [
    "Con $\\frac{dΛ}{ dS_{Spec}}$ conocido es posible predecir los valores de todas las variables del vector $Λ$ para el siguiente punto de la “hiper-línea\" que se está calculando, aplicando la siguiente ecuación:\n",
    "\n",
    "$$ Λ_{next point}^0  = Λ_{conve. pont} + \\left(\\frac{dΛ}{dS_{Spec}}\\right) \\Delta S_{Spec} $$\n",
    "\n",
    "Aquí $Λ_{next point}^0$ corresponde al valor inicial del vector $Λ$ para el próximo punto a ser calculado. $Λ_{conve. pont}$ es el valor del vector $Λ$ en el punto ya convergido.\n",
    "\n",
    "Por otra parte, el vector de sensitividades $\\frac{dΛ}{ dS_{Spec}}$ provee información sobre la próxima variable que debe ser especificada en el próximo punto a ser calculado. La variable a especificar corresponderá a la componente del vector $\\frac{dΛ}{dS_{Spec}}$ de mayor valor absoluto. Supongamos que la variable especificada para el punto convergido fue la presión $P$, es decir en el punto convergido $S_{spec} = P$. Luego al calcular el vector de sensitividades para el punto convergido usando A.3-1, supongamos que se determina que la componente de mayor valor absoluto de dicho vector es la correspondiente a dT dP , esto implica que en el próximo punto a ser calculado la variable que se debe\n",
    "especificar ya no es P sino T. Esto es Sspec = T. Cuando existe un cambio de variables\n",
    "especificadas como el caso del ejemplo anterior, el vector de sensitividades se\n",
    "normaliza dividiendo todas las componentes del vector por la de mayor valor absoluto,\n",
    "en el caso anterior se deberían dividir todas las componentes por dT dP . Finalmente se\n",
    "aplica A.3-2 para encontrar los valores de Λ0 next point"
   ]
  },
  {
   "cell_type": "markdown",
   "metadata": {
    "collapsed": true
   },
   "source": [
    " "
   ]
  },
  {
   "cell_type": "markdown",
   "metadata": {
    "collapsed": true
   },
   "source": [
    "La variable\n",
    "∆SSpec se computa en esta tesis de la siguiente manera:"
   ]
  },
  {
   "cell_type": "code",
   "execution_count": null,
   "metadata": {
    "collapsed": true
   },
   "outputs": [],
   "source": []
  },
  {
   "cell_type": "markdown",
   "metadata": {},
   "source": [
    "Donde ∆SSpec _Old es el paso que se dio en la variable que se especifico para obtener el punto convergido. “N” es una constante impuesta por el usuario, e ITER es el número de iteraciones requeridas para el punto convergido. Note que para calcular ∆SSpec se utiliza la componente de dΛ dSSpec de mayor valor absoluto,\n",
    "\n",
    "\n",
    "max\n",
    "\n",
    "\n",
    "Λ\n",
    "dSSpec\n",
    "d\n",
    ", antes de que\n",
    "el vector\n",
    "dΛ dSSpec haya sido normalizado."
   ]
  },
  {
   "cell_type": "markdown",
   "metadata": {},
   "source": [
    "4. Referencias\n",
    "--------------"
   ]
  },
  {
   "cell_type": "markdown",
   "metadata": {},
   "source": [
    "[#] E.L. Allgower, K. Georg, Introduction to Numerical Continuation Methods, SIAM. Classics in Applied Mathematics, Philadelphia, 2003.\n",
    "\n",
    "[#] M. Cismondi, M.L. Michelsen, Global phase equilibrium calculations: Critical lines, critical end points and liquid-liquid-vapour equilibrium in binary mixtures, Journal of Supercritical Fluids, 39 (2007) 287-295.\n",
    "\n",
    "[#] M. Cismondi, M.L. Michelsen, M.S. Zabaloy, Automated generation of phase diagrams for binary systems with azeotropic behavior, Industrial and Engineering Chemistry Research, 47 (2008) 9728-9743.\n",
    "\n",
    "[#] Pisoni, Gerardo Oscar (2014). Mapas Característicos del Equilibrio entre Fases para Sistemas Ternarios (tesis doctoral). Universidad Nacional del Sur, Argentina."
   ]
  },
  {
   "cell_type": "code",
   "execution_count": null,
   "metadata": {
    "collapsed": true
   },
   "outputs": [],
   "source": []
  }
 ],
 "metadata": {
  "kernelspec": {
   "display_name": "Python [conda root]",
   "language": "python",
   "name": "conda-root-py"
  },
  "language_info": {
   "codemirror_mode": {
    "name": "ipython",
    "version": 3
   },
   "file_extension": ".py",
   "mimetype": "text/x-python",
   "name": "python",
   "nbconvert_exporter": "python",
   "pygments_lexer": "ipython3",
   "version": "3.5.2"
  }
 },
 "nbformat": 4,
 "nbformat_minor": 2
}
