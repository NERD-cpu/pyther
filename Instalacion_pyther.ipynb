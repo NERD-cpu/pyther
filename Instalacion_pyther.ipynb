{
 "cells": [
  {
   "cell_type": "markdown",
   "metadata": {},
   "source": [
    "# 1. Instalación de PyTher\n",
    "--------------------------------------\n",
    "--------------------------------------"
   ]
  },
  {
   "cell_type": "markdown",
   "metadata": {},
   "source": [
    " # Requisitos\n",
    " \n",
    " Para realizar la instalación de *PyTher* se requiere tener pre-instalado *Jupyter Notebook* y *Python*."
   ]
  },
  {
   "cell_type": "markdown",
   "metadata": {},
   "source": [
    "# Instalación de Jupyter utilizando Anaconda\n",
    "\n",
    "Se recomienda instalar [*Anaconda*]( https://www.continuum.io/downloads) porque de forma simple no solo instala [*Python*](https://www.python.org/) y [*Jupyter Notebook*](http://jupyter.org/) sino que también un gran número de librerías para computación científica. \n",
    "\n",
    "Pasos de instalación:\n",
    "\n",
    "1. Descargar Anaconda. Se recomienda la descarga de Anaconda superior a Python 3.X.\n",
    "\n",
    "2. Instalar la versión de Anaconda que descargo, siguiendo las instrucciones según sea el [caso](https://www.continuum.io/downloads#windows)\n",
    "\n",
    "3. Muy bien, ya se instalo Jupyter Notebook. Ahora vamos a probarlo en una [línea de comandos](https://es.wikipedia.org/wiki/S%C3%ADmbolo_del_sistema) y se ejecuta:\n",
    "\n",
    "jupyter notebook\n",
    "\n"
   ]
  },
  {
   "cell_type": "markdown",
   "metadata": {},
   "source": [
    "Luego de tener abierto *Jupyter Notebook* se puede realizar la instalación de *PyTher* desde una celda del mismo *Jupyter Notebook* utilizando *PyPi* con la instrucción:"
   ]
  },
  {
   "cell_type": "code",
   "execution_count": 1,
   "metadata": {
    "collapsed": false
   },
   "outputs": [
    {
     "name": "stdout",
     "output_type": "stream",
     "text": [
      "Requirement already satisfied: pyther in ./anaconda3/lib/python3.5/site-packages\r\n"
     ]
    }
   ],
   "source": [
    "!pip install pyther"
   ]
  },
  {
   "cell_type": "markdown",
   "metadata": {},
   "source": [
    "*NO olvidar el símbolo **!** inicial*"
   ]
  },
  {
   "cell_type": "markdown",
   "metadata": {},
   "source": [
    "Luego de instalar PyTher, se puede probar con una importación simple de la librería con el sigiente ejemplo:\n"
   ]
  },
  {
   "cell_type": "code",
   "execution_count": 2,
   "metadata": {
    "collapsed": true
   },
   "outputs": [],
   "source": [
    "import pyther as pt"
   ]
  },
  {
   "cell_type": "code",
   "execution_count": 3,
   "metadata": {
    "collapsed": false
   },
   "outputs": [
    {
     "name": "stdout",
     "output_type": "stream",
     "text": [
      "PyTher version:  0.6\n"
     ]
    }
   ],
   "source": [
    "print(\"PyTher version: \", pt.__version__)"
   ]
  },
  {
   "cell_type": "markdown",
   "metadata": {},
   "source": [
    "En este caso se accedió al atributo *__version__* de PyTher para verificar su correcta instalación."
   ]
  },
  {
   "cell_type": "markdown",
   "metadata": {},
   "source": [
    "De esta forma, ya se encuentra disponible la librería PyTher para ser utilizada con los ejemplos que vienen más adelante."
   ]
  }
 ],
 "metadata": {
  "kernelspec": {
   "display_name": "Python [conda root]",
   "language": "python",
   "name": "conda-root-py"
  },
  "language_info": {
   "codemirror_mode": {
    "name": "ipython",
    "version": 3
   },
   "file_extension": ".py",
   "mimetype": "text/x-python",
   "name": "python",
   "nbconvert_exporter": "python",
   "pygments_lexer": "ipython3",
   "version": "3.5.2"
  }
 },
 "nbformat": 4,
 "nbformat_minor": 2
}
