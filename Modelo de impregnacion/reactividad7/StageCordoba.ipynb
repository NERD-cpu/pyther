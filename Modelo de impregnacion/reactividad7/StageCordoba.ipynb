{
 "cells": [
  {
   "cell_type": "raw",
   "metadata": {},
   "source": [
    "# Cordoba\n",
    "\n",
    "$ \\frac{\\partial c_{ix}}{\\partial x}$"
   ]
  },
  {
   "cell_type": "code",
   "execution_count": 144,
   "metadata": {},
   "outputs": [],
   "source": [
    "import numpy as np\n",
    "import pandas as pd\n",
    "import math\n",
    "import cmath\n",
    "from scipy.optimize import root\n",
    "import matplotlib.pyplot as plt\n",
    "%matplotlib inline"
   ]
  },
  {
   "cell_type": "code",
   "execution_count": 4,
   "metadata": {},
   "outputs": [
    {
     "name": "stdout",
     "output_type": "stream",
     "text": [
      "Hola\n"
     ]
    }
   ],
   "source": [
    "print(\"Hola\")"
   ]
  },
  {
   "cell_type": "code",
   "execution_count": 5,
   "metadata": {},
   "outputs": [
    {
     "data": {
      "text/plain": [
       "0.6"
      ]
     },
     "execution_count": 5,
     "metadata": {},
     "output_type": "execute_result"
    }
   ],
   "source": [
    "3/5"
   ]
  },
  {
   "cell_type": "code",
   "execution_count": 6,
   "metadata": {},
   "outputs": [
    {
     "data": {
      "text/plain": [
       "8e-10"
      ]
     },
     "execution_count": 6,
     "metadata": {},
     "output_type": "execute_result"
    }
   ],
   "source": [
    "8e-10"
   ]
  },
  {
   "cell_type": "code",
   "execution_count": 7,
   "metadata": {},
   "outputs": [],
   "source": [
    "x=800 "
   ]
  },
  {
   "cell_type": "code",
   "execution_count": 8,
   "metadata": {},
   "outputs": [
    {
     "name": "stdout",
     "output_type": "stream",
     "text": [
      "AgnèsAgnèsAgnèsAgnèsAgnèsAgnèsAgnèsAgnèsAgnèsAgnèsAgnèsAgnèsAgnèsAgnèsAgnèsAgnèsAgnèsAgnèsAgnèsAgnèsAgnèsAgnèsAgnèsAgnèsAgnèsAgnèsAgnèsAgnèsAgnèsAgnès\n"
     ]
    }
   ],
   "source": [
    "print(\"Agnès\"*30)"
   ]
  },
  {
   "cell_type": "code",
   "execution_count": 9,
   "metadata": {},
   "outputs": [],
   "source": [
    "g = \"Universidad\""
   ]
  },
  {
   "cell_type": "code",
   "execution_count": 10,
   "metadata": {},
   "outputs": [
    {
     "data": {
      "text/plain": [
       "'UniversidadNacional'"
      ]
     },
     "execution_count": 10,
     "metadata": {},
     "output_type": "execute_result"
    }
   ],
   "source": [
    "g+\"Nacional\""
   ]
  },
  {
   "cell_type": "code",
   "execution_count": 11,
   "metadata": {},
   "outputs": [
    {
     "data": {
      "text/plain": [
       "[1, 2, 3, 4, 5, 6, 7, 8, 9, 10, 10, 11, 12]"
      ]
     },
     "execution_count": 11,
     "metadata": {},
     "output_type": "execute_result"
    }
   ],
   "source": [
    "[1,2,3,4,5,6,7,8,9,10,10,11,12]"
   ]
  },
  {
   "cell_type": "code",
   "execution_count": 12,
   "metadata": {},
   "outputs": [],
   "source": [
    "Lista1 = [1,2,3,4,5,6,7,8,9,10,10,11,12]"
   ]
  },
  {
   "cell_type": "code",
   "execution_count": 13,
   "metadata": {},
   "outputs": [
    {
     "data": {
      "text/plain": [
       "1"
      ]
     },
     "execution_count": 13,
     "metadata": {},
     "output_type": "execute_result"
    }
   ],
   "source": [
    "Lista1[0]"
   ]
  },
  {
   "cell_type": "code",
   "execution_count": 14,
   "metadata": {},
   "outputs": [
    {
     "data": {
      "text/plain": [
       "12"
      ]
     },
     "execution_count": 14,
     "metadata": {},
     "output_type": "execute_result"
    }
   ],
   "source": [
    "Lista1[-1]"
   ]
  },
  {
   "cell_type": "code",
   "execution_count": 15,
   "metadata": {},
   "outputs": [
    {
     "data": {
      "text/plain": [
       "[3, 4, 5, 6, 7, 8, 9, 10, 10, 11, 12]"
      ]
     },
     "execution_count": 15,
     "metadata": {},
     "output_type": "execute_result"
    }
   ],
   "source": [
    "Lista1[2:]"
   ]
  },
  {
   "cell_type": "code",
   "execution_count": 16,
   "metadata": {},
   "outputs": [
    {
     "data": {
      "text/plain": [
       "[4, 5, 6, 7, 8]"
      ]
     },
     "execution_count": 16,
     "metadata": {},
     "output_type": "execute_result"
    }
   ],
   "source": [
    "Lista1[3:8]"
   ]
  },
  {
   "cell_type": "code",
   "execution_count": 17,
   "metadata": {},
   "outputs": [
    {
     "data": {
      "text/plain": [
       "array([ 3, 10, 25, 98])"
      ]
     },
     "execution_count": 17,
     "metadata": {},
     "output_type": "execute_result"
    }
   ],
   "source": [
    "matrice1 = np.array([3,10,25,98])\n",
    "matrice1 "
   ]
  },
  {
   "cell_type": "code",
   "execution_count": 18,
   "metadata": {},
   "outputs": [
    {
     "data": {
      "text/plain": [
       "array([[ 2,  9,  7],\n",
       "       [14,  9, 22]])"
      ]
     },
     "execution_count": 18,
     "metadata": {},
     "output_type": "execute_result"
    }
   ],
   "source": [
    "matrice2 = np.array([[2,9,7],[14,9,22]])\n",
    "matrice2"
   ]
  },
  {
   "cell_type": "code",
   "execution_count": 19,
   "metadata": {},
   "outputs": [
    {
     "data": {
      "text/plain": [
       "22"
      ]
     },
     "execution_count": 19,
     "metadata": {},
     "output_type": "execute_result"
    }
   ],
   "source": [
    "matrice2[1][2]"
   ]
  },
  {
   "cell_type": "code",
   "execution_count": 20,
   "metadata": {},
   "outputs": [
    {
     "data": {
      "text/plain": [
       "array([2, 9, 7])"
      ]
     },
     "execution_count": 20,
     "metadata": {},
     "output_type": "execute_result"
    }
   ],
   "source": [
    "matrice2[0]"
   ]
  },
  {
   "cell_type": "code",
   "execution_count": 21,
   "metadata": {},
   "outputs": [
    {
     "data": {
      "text/plain": [
       "2"
      ]
     },
     "execution_count": 21,
     "metadata": {},
     "output_type": "execute_result"
    }
   ],
   "source": [
    "matrice2[0][0]"
   ]
  },
  {
   "cell_type": "code",
   "execution_count": 22,
   "metadata": {},
   "outputs": [
    {
     "data": {
      "text/plain": [
       "9"
      ]
     },
     "execution_count": 22,
     "metadata": {},
     "output_type": "execute_result"
    }
   ],
   "source": [
    "matrice2[0][1]"
   ]
  },
  {
   "cell_type": "code",
   "execution_count": 23,
   "metadata": {},
   "outputs": [
    {
     "name": "stdout",
     "output_type": "stream",
     "text": [
      "Superior\n"
     ]
    }
   ],
   "source": [
    "if matrice2[0][1] > 3: \n",
    "    print(\"Superior\")\n",
    "else: \n",
    "    print(\"Inferior\")"
   ]
  },
  {
   "cell_type": "code",
   "execution_count": 24,
   "metadata": {},
   "outputs": [
    {
     "name": "stdout",
     "output_type": "stream",
     "text": [
      "Superior\n"
     ]
    }
   ],
   "source": [
    "if matrice2[0][1] > 3:\n",
    "    print(\"Superior\")\n",
    "elif matrice2[2][1] < 5:\n",
    "    print(\"Ok\")\n",
    "else:\n",
    "    pass"
   ]
  },
  {
   "cell_type": "code",
   "execution_count": 25,
   "metadata": {},
   "outputs": [
    {
     "name": "stdout",
     "output_type": "stream",
     "text": [
      "Ok\n"
     ]
    }
   ],
   "source": [
    "if matrice2[0][1] < 3:\n",
    "    print(\"Superior\")\n",
    "elif matrice2[1][2] > 5:\n",
    "    print(\"Ok\")\n",
    "else:\n",
    "    print(\"Non\")"
   ]
  },
  {
   "cell_type": "code",
   "execution_count": 26,
   "metadata": {},
   "outputs": [
    {
     "name": "stdout",
     "output_type": "stream",
     "text": [
      "Ok\n"
     ]
    }
   ],
   "source": [
    "if matrice2[0][1] > 3 and matrice2[1][2] > 5: \n",
    "    print(\"Ok\")\n",
    "    "
   ]
  },
  {
   "cell_type": "code",
   "execution_count": 27,
   "metadata": {},
   "outputs": [],
   "source": [
    "def sumar(x,y):\n",
    "    z = x+y\n",
    "    return z "
   ]
  },
  {
   "cell_type": "code",
   "execution_count": 28,
   "metadata": {},
   "outputs": [
    {
     "data": {
      "text/plain": [
       "9"
      ]
     },
     "execution_count": 28,
     "metadata": {},
     "output_type": "execute_result"
    }
   ],
   "source": [
    "sumar(5,4)"
   ]
  },
  {
   "cell_type": "code",
   "execution_count": 29,
   "metadata": {},
   "outputs": [
    {
     "data": {
      "text/plain": [
       "'PythonAnaconda'"
      ]
     },
     "execution_count": 29,
     "metadata": {},
     "output_type": "execute_result"
    }
   ],
   "source": [
    "sumar(\"Python\",\"Anaconda\")"
   ]
  },
  {
   "cell_type": "code",
   "execution_count": 30,
   "metadata": {},
   "outputs": [],
   "source": [
    "resultado = sumar(4,5)"
   ]
  },
  {
   "cell_type": "code",
   "execution_count": 31,
   "metadata": {},
   "outputs": [
    {
     "data": {
      "text/plain": [
       "90"
      ]
     },
     "execution_count": 31,
     "metadata": {},
     "output_type": "execute_result"
    }
   ],
   "source": [
    "resultado*10"
   ]
  },
  {
   "cell_type": "code",
   "execution_count": 32,
   "metadata": {},
   "outputs": [],
   "source": [
    "def calcular(numero1,numero2,operacion):\n",
    "    \n",
    "    if operacion == \"+\":\n",
    "        numero3 = numero1 + numero2 \n",
    "    elif operacion == \"-\":\n",
    "        numero3 = numero1 - numero2\n",
    "    return numero3"
   ]
  },
  {
   "cell_type": "code",
   "execution_count": 33,
   "metadata": {},
   "outputs": [
    {
     "data": {
      "text/plain": [
       "3"
      ]
     },
     "execution_count": 33,
     "metadata": {},
     "output_type": "execute_result"
    }
   ],
   "source": [
    "calcular(1,2,\"+\")"
   ]
  },
  {
   "cell_type": "code",
   "execution_count": 34,
   "metadata": {},
   "outputs": [
    {
     "data": {
      "text/plain": [
       "-1"
      ]
     },
     "execution_count": 34,
     "metadata": {},
     "output_type": "execute_result"
    }
   ],
   "source": [
    "calcular(1,2,\"-\")"
   ]
  },
  {
   "cell_type": "code",
   "execution_count": 35,
   "metadata": {},
   "outputs": [],
   "source": [
    "def calcular2(numero1,numero2,operacion):\n",
    "    \n",
    "    if operacion == \"+\":\n",
    "        numero3 = numero1 + numero2 \n",
    "        return numero3\n",
    "    elif operacion == \"-\":\n",
    "        numero3 = numero1 - numero2 \n",
    "        return numero3"
   ]
  },
  {
   "cell_type": "code",
   "execution_count": 36,
   "metadata": {},
   "outputs": [
    {
     "data": {
      "text/plain": [
       "-3"
      ]
     },
     "execution_count": 36,
     "metadata": {},
     "output_type": "execute_result"
    }
   ],
   "source": [
    "calcular2(2,5,\"-\")"
   ]
  },
  {
   "cell_type": "code",
   "execution_count": 37,
   "metadata": {},
   "outputs": [],
   "source": [
    "def multiplicar(numero1,numero2):\n",
    "    numero3 = numero1*numero2\n",
    "    return numero3\n",
    "def cuadrado(numero1):\n",
    "    numero2 = numero1 **4\n",
    "    return numero2"
   ]
  },
  {
   "cell_type": "code",
   "execution_count": 38,
   "metadata": {},
   "outputs": [],
   "source": [
    "operacion = cuadrado(multiplicar(13,25))"
   ]
  },
  {
   "cell_type": "code",
   "execution_count": 39,
   "metadata": {},
   "outputs": [
    {
     "data": {
      "text/plain": [
       "11156640625"
      ]
     },
     "execution_count": 39,
     "metadata": {},
     "output_type": "execute_result"
    }
   ],
   "source": [
    "operacion"
   ]
  },
  {
   "cell_type": "code",
   "execution_count": 40,
   "metadata": {},
   "outputs": [],
   "source": [
    "elementos = np.array([\"numero\",\"palabras\",3,2])"
   ]
  },
  {
   "cell_type": "code",
   "execution_count": 41,
   "metadata": {},
   "outputs": [
    {
     "name": "stdout",
     "output_type": "stream",
     "text": [
      "numero\n",
      "palabras\n",
      "3\n",
      "2\n"
     ]
    }
   ],
   "source": [
    "for elemento in elementos: \n",
    "    print(elemento)"
   ]
  },
  {
   "cell_type": "code",
   "execution_count": 42,
   "metadata": {},
   "outputs": [
    {
     "data": {
      "text/plain": [
       "array([ 2.        ,  2.42105263,  2.84210526,  3.26315789,  3.68421053,\n",
       "        4.10526316,  4.52631579,  4.94736842,  5.36842105,  5.78947368,\n",
       "        6.21052632,  6.63157895,  7.05263158,  7.47368421,  7.89473684,\n",
       "        8.31578947,  8.73684211,  9.15789474,  9.57894737, 10.        ])"
      ]
     },
     "execution_count": 42,
     "metadata": {},
     "output_type": "execute_result"
    }
   ],
   "source": [
    "a = np.linspace(2.0,10.0, num =20)\n",
    "a"
   ]
  },
  {
   "cell_type": "code",
   "execution_count": 43,
   "metadata": {},
   "outputs": [],
   "source": [
    "b = a**4"
   ]
  },
  {
   "cell_type": "code",
   "execution_count": 44,
   "metadata": {},
   "outputs": [
    {
     "data": {
      "image/png": "[encoded data removed]",
      "text/plain": [
       "<matplotlib.figure.Figure at 0x22599e49208>"
      ]
     },
     "metadata": {},
     "output_type": "display_data"
    }
   ],
   "source": [
    "plt.plot(a,b)\n",
    "plt.title(\"Fonction\")\n",
    "plt.xlabel(\"a\")\n",
    "plt.ylabel(\"b\")\n",
    "plt.grid(True)"
   ]
  },
  {
   "cell_type": "code",
   "execution_count": 45,
   "metadata": {},
   "outputs": [
    {
     "name": "stdout",
     "output_type": "stream",
     "text": [
      "[[ 0.34697971 -0.1581298  -0.69601682  0.67452588]\n",
      " [ 0.22545314  0.42307345  2.23727046  0.55404901]\n",
      " [ 0.07742001  0.01562646 -0.30559832  1.17953383]\n",
      " [ 1.14657031 -0.75133242 -0.81239563  1.53757511]\n",
      " [ 0.17657201  0.36398444  0.14788283 -0.29438835]\n",
      " [-2.51890459  0.49594061 -0.28563097 -0.91089153]]\n"
     ]
    }
   ],
   "source": [
    "datos = np.random.randn(6,4)\n",
    "print (datos)\n",
    "compuestos = [\"ethanol\",\"propanol\",\"butanol\",\"butanone\",\"isobutanol\",\"ethylmethylcetone\"]\n",
    "propriedad = [\"viscosida\",\"densidad\",\"pression saturante\",\"conductividad\"]"
   ]
  },
  {
   "cell_type": "code",
   "execution_count": 46,
   "metadata": {},
   "outputs": [
    {
     "data": {
      "text/html": [
       "<div>\n",
       "<style scoped>\n",
       "    .dataframe tbody tr th:only-of-type {\n",
       "        vertical-align: middle;\n",
       "    }\n",
       "\n",
       "    .dataframe tbody tr th {\n",
       "        vertical-align: top;\n",
       "    }\n",
       "\n",
       "    .dataframe thead th {\n",
       "        text-align: right;\n",
       "    }\n",
       "</style>\n",
       "<table border=\"1\" class=\"dataframe\">\n",
       "  <thead>\n",
       "    <tr style=\"text-align: right;\">\n",
       "      <th></th>\n",
       "      <th>viscosida</th>\n",
       "      <th>densidad</th>\n",
       "      <th>pression saturante</th>\n",
       "      <th>conductividad</th>\n",
       "    </tr>\n",
       "  </thead>\n",
       "  <tbody>\n",
       "    <tr>\n",
       "      <th>ethanol</th>\n",
       "      <td>0.346980</td>\n",
       "      <td>-0.158130</td>\n",
       "      <td>-0.696017</td>\n",
       "      <td>0.674526</td>\n",
       "    </tr>\n",
       "    <tr>\n",
       "      <th>propanol</th>\n",
       "      <td>0.225453</td>\n",
       "      <td>0.423073</td>\n",
       "      <td>2.237270</td>\n",
       "      <td>0.554049</td>\n",
       "    </tr>\n",
       "    <tr>\n",
       "      <th>butanol</th>\n",
       "      <td>0.077420</td>\n",
       "      <td>0.015626</td>\n",
       "      <td>-0.305598</td>\n",
       "      <td>1.179534</td>\n",
       "    </tr>\n",
       "    <tr>\n",
       "      <th>butanone</th>\n",
       "      <td>1.146570</td>\n",
       "      <td>-0.751332</td>\n",
       "      <td>-0.812396</td>\n",
       "      <td>1.537575</td>\n",
       "    </tr>\n",
       "    <tr>\n",
       "      <th>isobutanol</th>\n",
       "      <td>0.176572</td>\n",
       "      <td>0.363984</td>\n",
       "      <td>0.147883</td>\n",
       "      <td>-0.294388</td>\n",
       "    </tr>\n",
       "    <tr>\n",
       "      <th>ethylmethylcetone</th>\n",
       "      <td>-2.518905</td>\n",
       "      <td>0.495941</td>\n",
       "      <td>-0.285631</td>\n",
       "      <td>-0.910892</td>\n",
       "    </tr>\n",
       "  </tbody>\n",
       "</table>\n",
       "</div>"
      ],
      "text/plain": [
       "                   viscosida  densidad  pression saturante  conductividad\n",
       "ethanol             0.346980 -0.158130           -0.696017       0.674526\n",
       "propanol            0.225453  0.423073            2.237270       0.554049\n",
       "butanol             0.077420  0.015626           -0.305598       1.179534\n",
       "butanone            1.146570 -0.751332           -0.812396       1.537575\n",
       "isobutanol          0.176572  0.363984            0.147883      -0.294388\n",
       "ethylmethylcetone  -2.518905  0.495941           -0.285631      -0.910892"
      ]
     },
     "execution_count": 46,
     "metadata": {},
     "output_type": "execute_result"
    }
   ],
   "source": [
    "tabla_de_datos = pd.DataFrame(data=datos,index= compuestos, columns=propriedad)\n",
    "tabla_de_datos"
   ]
  },
  {
   "cell_type": "code",
   "execution_count": 47,
   "metadata": {},
   "outputs": [
    {
     "data": {
      "text/plain": [
       "ethanol              0.346980\n",
       "propanol             0.225453\n",
       "butanol              0.077420\n",
       "butanone             1.146570\n",
       "isobutanol           0.176572\n",
       "ethylmethylcetone   -2.518905\n",
       "Name: viscosida, dtype: float64"
      ]
     },
     "execution_count": 47,
     "metadata": {},
     "output_type": "execute_result"
    }
   ],
   "source": [
    "tabla_de_datos[\"viscosida\"]"
   ]
  },
  {
   "cell_type": "code",
   "execution_count": 48,
   "metadata": {},
   "outputs": [
    {
     "data": {
      "text/html": [
       "<div>\n",
       "<style scoped>\n",
       "    .dataframe tbody tr th:only-of-type {\n",
       "        vertical-align: middle;\n",
       "    }\n",
       "\n",
       "    .dataframe tbody tr th {\n",
       "        vertical-align: top;\n",
       "    }\n",
       "\n",
       "    .dataframe thead th {\n",
       "        text-align: right;\n",
       "    }\n",
       "</style>\n",
       "<table border=\"1\" class=\"dataframe\">\n",
       "  <thead>\n",
       "    <tr style=\"text-align: right;\">\n",
       "      <th></th>\n",
       "      <th>viscosida</th>\n",
       "      <th>densidad</th>\n",
       "      <th>pression saturante</th>\n",
       "      <th>conductividad</th>\n",
       "    </tr>\n",
       "  </thead>\n",
       "  <tbody>\n",
       "    <tr>\n",
       "      <th>count</th>\n",
       "      <td>6.000000</td>\n",
       "      <td>6.000000</td>\n",
       "      <td>6.000000</td>\n",
       "      <td>6.000000</td>\n",
       "    </tr>\n",
       "    <tr>\n",
       "      <th>mean</th>\n",
       "      <td>-0.090985</td>\n",
       "      <td>0.064860</td>\n",
       "      <td>0.047585</td>\n",
       "      <td>0.456734</td>\n",
       "    </tr>\n",
       "    <tr>\n",
       "      <th>std</th>\n",
       "      <td>1.250458</td>\n",
       "      <td>0.473696</td>\n",
       "      <td>1.125439</td>\n",
       "      <td>0.914565</td>\n",
       "    </tr>\n",
       "    <tr>\n",
       "      <th>min</th>\n",
       "      <td>-2.518905</td>\n",
       "      <td>-0.751332</td>\n",
       "      <td>-0.812396</td>\n",
       "      <td>-0.910892</td>\n",
       "    </tr>\n",
       "    <tr>\n",
       "      <th>25%</th>\n",
       "      <td>0.102208</td>\n",
       "      <td>-0.114691</td>\n",
       "      <td>-0.598412</td>\n",
       "      <td>-0.082279</td>\n",
       "    </tr>\n",
       "    <tr>\n",
       "      <th>50%</th>\n",
       "      <td>0.201013</td>\n",
       "      <td>0.189805</td>\n",
       "      <td>-0.295615</td>\n",
       "      <td>0.614287</td>\n",
       "    </tr>\n",
       "    <tr>\n",
       "      <th>75%</th>\n",
       "      <td>0.316598</td>\n",
       "      <td>0.408301</td>\n",
       "      <td>0.039504</td>\n",
       "      <td>1.053282</td>\n",
       "    </tr>\n",
       "    <tr>\n",
       "      <th>max</th>\n",
       "      <td>1.146570</td>\n",
       "      <td>0.495941</td>\n",
       "      <td>2.237270</td>\n",
       "      <td>1.537575</td>\n",
       "    </tr>\n",
       "  </tbody>\n",
       "</table>\n",
       "</div>"
      ],
      "text/plain": [
       "       viscosida  densidad  pression saturante  conductividad\n",
       "count   6.000000  6.000000            6.000000       6.000000\n",
       "mean   -0.090985  0.064860            0.047585       0.456734\n",
       "std     1.250458  0.473696            1.125439       0.914565\n",
       "min    -2.518905 -0.751332           -0.812396      -0.910892\n",
       "25%     0.102208 -0.114691           -0.598412      -0.082279\n",
       "50%     0.201013  0.189805           -0.295615       0.614287\n",
       "75%     0.316598  0.408301            0.039504       1.053282\n",
       "max     1.146570  0.495941            2.237270       1.537575"
      ]
     },
     "execution_count": 48,
     "metadata": {},
     "output_type": "execute_result"
    }
   ],
   "source": [
    "tabla_de_datos.describe()"
   ]
  },
  {
   "cell_type": "code",
   "execution_count": 49,
   "metadata": {},
   "outputs": [
    {
     "data": {
      "text/plain": [
       "array([[ 0.34697971, -0.1581298 , -0.69601682,  0.67452588],\n",
       "       [ 0.22545314,  0.42307345,  2.23727046,  0.55404901],\n",
       "       [ 0.07742001,  0.01562646, -0.30559832,  1.17953383],\n",
       "       [ 1.14657031, -0.75133242, -0.81239563,  1.53757511],\n",
       "       [ 0.17657201,  0.36398444,  0.14788283, -0.29438835],\n",
       "       [-2.51890459,  0.49594061, -0.28563097, -0.91089153]])"
      ]
     },
     "execution_count": 49,
     "metadata": {},
     "output_type": "execute_result"
    }
   ],
   "source": [
    "tabla_de_datos.values"
   ]
  },
  {
   "cell_type": "code",
   "execution_count": 50,
   "metadata": {},
   "outputs": [
    {
     "data": {
      "text/html": [
       "<div>\n",
       "<style scoped>\n",
       "    .dataframe tbody tr th:only-of-type {\n",
       "        vertical-align: middle;\n",
       "    }\n",
       "\n",
       "    .dataframe tbody tr th {\n",
       "        vertical-align: top;\n",
       "    }\n",
       "\n",
       "    .dataframe thead th {\n",
       "        text-align: right;\n",
       "    }\n",
       "</style>\n",
       "<table border=\"1\" class=\"dataframe\">\n",
       "  <thead>\n",
       "    <tr style=\"text-align: right;\">\n",
       "      <th></th>\n",
       "      <th>viscosida</th>\n",
       "      <th>densidad</th>\n",
       "      <th>pression saturante</th>\n",
       "      <th>conductividad</th>\n",
       "    </tr>\n",
       "  </thead>\n",
       "  <tbody>\n",
       "    <tr>\n",
       "      <th>ethanol</th>\n",
       "      <td>0.346980</td>\n",
       "      <td>-0.158130</td>\n",
       "      <td>-0.696017</td>\n",
       "      <td>0.674526</td>\n",
       "    </tr>\n",
       "    <tr>\n",
       "      <th>propanol</th>\n",
       "      <td>0.225453</td>\n",
       "      <td>0.423073</td>\n",
       "      <td>2.237270</td>\n",
       "      <td>0.554049</td>\n",
       "    </tr>\n",
       "    <tr>\n",
       "      <th>butanol</th>\n",
       "      <td>0.077420</td>\n",
       "      <td>0.015626</td>\n",
       "      <td>-0.305598</td>\n",
       "      <td>1.179534</td>\n",
       "    </tr>\n",
       "  </tbody>\n",
       "</table>\n",
       "</div>"
      ],
      "text/plain": [
       "          viscosida  densidad  pression saturante  conductividad\n",
       "ethanol    0.346980 -0.158130           -0.696017       0.674526\n",
       "propanol   0.225453  0.423073            2.237270       0.554049\n",
       "butanol    0.077420  0.015626           -0.305598       1.179534"
      ]
     },
     "execution_count": 50,
     "metadata": {},
     "output_type": "execute_result"
    }
   ],
   "source": [
    "tabla_de_datos[0:3]"
   ]
  },
  {
   "cell_type": "code",
   "execution_count": 365,
   "metadata": {},
   "outputs": [
    {
     "data": {
      "text/plain": [
       "array([[ 0.34697971, -0.1581298 , -0.69601682,  0.67452588],\n",
       "       [ 0.22545314,  0.42307345,  2.23727046,  0.55404901],\n",
       "       [ 0.07742001,  0.01562646, -0.30559832,  1.17953383],\n",
       "       [ 1.14657031, -0.75133242, -0.81239563,  1.53757511],\n",
       "       [ 0.17657201,  0.36398444,  0.14788283, -0.29438835],\n",
       "       [-2.51890459,  0.49594061, -0.28563097, -0.91089153]])"
      ]
     },
     "execution_count": 365,
     "metadata": {},
     "output_type": "execute_result"
    }
   ],
   "source": [
    "tabla_de_datos2 = tabla_de_datos.copy()\n",
    "coefficients = tabla_de_datos2.values\n",
    "coefficients"
   ]
  },
  {
   "cell_type": "code",
   "execution_count": 380,
   "metadata": {},
   "outputs": [
    {
     "data": {
      "text/plain": [
       "array([ 0.34697971,  0.22545314,  0.07742001,  1.14657031,  0.17657201,\n",
       "       -2.51890459])"
      ]
     },
     "execution_count": 380,
     "metadata": {},
     "output_type": "execute_result"
    }
   ],
   "source": [
    "coefficients[:,0]"
   ]
  },
  {
   "cell_type": "code",
   "execution_count": 52,
   "metadata": {},
   "outputs": [
    {
     "data": {
      "text/html": [
       "<div>\n",
       "<style scoped>\n",
       "    .dataframe tbody tr th:only-of-type {\n",
       "        vertical-align: middle;\n",
       "    }\n",
       "\n",
       "    .dataframe tbody tr th {\n",
       "        vertical-align: top;\n",
       "    }\n",
       "\n",
       "    .dataframe thead th {\n",
       "        text-align: right;\n",
       "    }\n",
       "</style>\n",
       "<table border=\"1\" class=\"dataframe\">\n",
       "  <thead>\n",
       "    <tr style=\"text-align: right;\">\n",
       "      <th></th>\n",
       "      <th>viscosida</th>\n",
       "      <th>densidad</th>\n",
       "      <th>pression saturante</th>\n",
       "      <th>conductividad</th>\n",
       "    </tr>\n",
       "  </thead>\n",
       "  <tbody>\n",
       "    <tr>\n",
       "      <th>ethanol</th>\n",
       "      <td>-0.346980</td>\n",
       "      <td>-0.158130</td>\n",
       "      <td>-0.696017</td>\n",
       "      <td>-0.674526</td>\n",
       "    </tr>\n",
       "    <tr>\n",
       "      <th>propanol</th>\n",
       "      <td>-0.225453</td>\n",
       "      <td>-0.423073</td>\n",
       "      <td>-2.237270</td>\n",
       "      <td>-0.554049</td>\n",
       "    </tr>\n",
       "    <tr>\n",
       "      <th>butanol</th>\n",
       "      <td>-0.077420</td>\n",
       "      <td>-0.015626</td>\n",
       "      <td>-0.305598</td>\n",
       "      <td>-1.179534</td>\n",
       "    </tr>\n",
       "    <tr>\n",
       "      <th>butanone</th>\n",
       "      <td>-1.146570</td>\n",
       "      <td>-0.751332</td>\n",
       "      <td>-0.812396</td>\n",
       "      <td>-1.537575</td>\n",
       "    </tr>\n",
       "    <tr>\n",
       "      <th>isobutanol</th>\n",
       "      <td>-0.176572</td>\n",
       "      <td>-0.363984</td>\n",
       "      <td>-0.147883</td>\n",
       "      <td>-0.294388</td>\n",
       "    </tr>\n",
       "    <tr>\n",
       "      <th>ethylmethylcetone</th>\n",
       "      <td>-2.518905</td>\n",
       "      <td>-0.495941</td>\n",
       "      <td>-0.285631</td>\n",
       "      <td>-0.910892</td>\n",
       "    </tr>\n",
       "  </tbody>\n",
       "</table>\n",
       "</div>"
      ],
      "text/plain": [
       "                   viscosida  densidad  pression saturante  conductividad\n",
       "ethanol            -0.346980 -0.158130           -0.696017      -0.674526\n",
       "propanol           -0.225453 -0.423073           -2.237270      -0.554049\n",
       "butanol            -0.077420 -0.015626           -0.305598      -1.179534\n",
       "butanone           -1.146570 -0.751332           -0.812396      -1.537575\n",
       "isobutanol         -0.176572 -0.363984           -0.147883      -0.294388\n",
       "ethylmethylcetone  -2.518905 -0.495941           -0.285631      -0.910892"
      ]
     },
     "execution_count": 52,
     "metadata": {},
     "output_type": "execute_result"
    }
   ],
   "source": [
    "tabla_de_datos2[tabla_de_datos2 >0]=-tabla_de_datos2\n",
    "tabla_de_datos2"
   ]
  },
  {
   "cell_type": "code",
   "execution_count": 53,
   "metadata": {},
   "outputs": [
    {
     "data": {
      "text/html": [
       "<div>\n",
       "<style scoped>\n",
       "    .dataframe tbody tr th:only-of-type {\n",
       "        vertical-align: middle;\n",
       "    }\n",
       "\n",
       "    .dataframe tbody tr th {\n",
       "        vertical-align: top;\n",
       "    }\n",
       "\n",
       "    .dataframe thead th {\n",
       "        text-align: right;\n",
       "    }\n",
       "</style>\n",
       "<table border=\"1\" class=\"dataframe\">\n",
       "  <thead>\n",
       "    <tr style=\"text-align: right;\">\n",
       "      <th></th>\n",
       "      <th>viscosida</th>\n",
       "      <th>densidad</th>\n",
       "      <th>pression saturante</th>\n",
       "      <th>conductividad</th>\n",
       "    </tr>\n",
       "  </thead>\n",
       "  <tbody>\n",
       "    <tr>\n",
       "      <th>ethanol</th>\n",
       "      <td>0.346980</td>\n",
       "      <td>-0.158130</td>\n",
       "      <td>-0.696017</td>\n",
       "      <td>0.674526</td>\n",
       "    </tr>\n",
       "    <tr>\n",
       "      <th>propanol</th>\n",
       "      <td>0.225453</td>\n",
       "      <td>0.423073</td>\n",
       "      <td>2.237270</td>\n",
       "      <td>0.554049</td>\n",
       "    </tr>\n",
       "    <tr>\n",
       "      <th>butanol</th>\n",
       "      <td>0.077420</td>\n",
       "      <td>0.015626</td>\n",
       "      <td>-0.305598</td>\n",
       "      <td>1.179534</td>\n",
       "    </tr>\n",
       "    <tr>\n",
       "      <th>butanone</th>\n",
       "      <td>1.146570</td>\n",
       "      <td>-0.751332</td>\n",
       "      <td>-0.812396</td>\n",
       "      <td>1.537575</td>\n",
       "    </tr>\n",
       "    <tr>\n",
       "      <th>isobutanol</th>\n",
       "      <td>0.176572</td>\n",
       "      <td>0.363984</td>\n",
       "      <td>0.147883</td>\n",
       "      <td>-0.294388</td>\n",
       "    </tr>\n",
       "    <tr>\n",
       "      <th>ethylmethylcetone</th>\n",
       "      <td>-2.518905</td>\n",
       "      <td>0.495941</td>\n",
       "      <td>-0.285631</td>\n",
       "      <td>-0.910892</td>\n",
       "    </tr>\n",
       "  </tbody>\n",
       "</table>\n",
       "</div>"
      ],
      "text/plain": [
       "                   viscosida  densidad  pression saturante  conductividad\n",
       "ethanol             0.346980 -0.158130           -0.696017       0.674526\n",
       "propanol            0.225453  0.423073            2.237270       0.554049\n",
       "butanol             0.077420  0.015626           -0.305598       1.179534\n",
       "butanone            1.146570 -0.751332           -0.812396       1.537575\n",
       "isobutanol          0.176572  0.363984            0.147883      -0.294388\n",
       "ethylmethylcetone  -2.518905  0.495941           -0.285631      -0.910892"
      ]
     },
     "execution_count": 53,
     "metadata": {},
     "output_type": "execute_result"
    }
   ],
   "source": [
    "tabla_de_datos"
   ]
  },
  {
   "cell_type": "markdown",
   "metadata": {},
   "source": [
    "# Difusion "
   ]
  },
  {
   "cell_type": "markdown",
   "metadata": {},
   "source": [
    "Proceso de migracion "
   ]
  },
  {
   "cell_type": "markdown",
   "metadata": {},
   "source": [
    "![title](img/Diffusion.png)"
   ]
  },
  {
   "cell_type": "code",
   "execution_count": 54,
   "metadata": {},
   "outputs": [],
   "source": [
    "tabla_de_temperaturas : [10,20,30,40,50,60,70,80,90,100]"
   ]
  },
  {
   "cell_type": "code",
   "execution_count": 55,
   "metadata": {},
   "outputs": [
    {
     "data": {
      "text/plain": [
       "63"
      ]
     },
     "execution_count": 55,
     "metadata": {},
     "output_type": "execute_result"
    }
   ],
   "source": [
    "Volume = (7*(2+6+1))\n",
    "Volume"
   ]
  },
  {
   "cell_type": "code",
   "execution_count": 56,
   "metadata": {},
   "outputs": [],
   "source": [
    "def Volume(a,b,c,d,e,f,g,h,i,j,k,l):\n",
    "    z = ((7*(a+b+c+d+e+f))+31.5*g+24.5*h+10.5*i+38.5*j+(21*k-l))\n",
    "    return z"
   ]
  },
  {
   "cell_type": "code",
   "execution_count": 57,
   "metadata": {},
   "outputs": [
    {
     "data": {
      "text/plain": [
       "63.0"
      ]
     },
     "execution_count": 57,
     "metadata": {},
     "output_type": "execute_result"
    }
   ],
   "source": [
    "Volume(2,6,1,0,0,0,0,0,0,0,0,0)"
   ]
  },
  {
   "cell_type": "code",
   "execution_count": 58,
   "metadata": {},
   "outputs": [],
   "source": [
    "def D(phi,PM,T,u,Volume):\n",
    "    x = 1.173e-16*((phi*PM)**0.5)*(T/(u*Volume**0.6))\n",
    "    return x"
   ]
  },
  {
   "cell_type": "code",
   "execution_count": 59,
   "metadata": {},
   "outputs": [
    {
     "data": {
      "text/plain": [
       "array([ 10.,  20.,  30.,  40.,  50.,  60.,  70.,  80.,  90., 100.])"
      ]
     },
     "execution_count": 59,
     "metadata": {},
     "output_type": "execute_result"
    }
   ],
   "source": [
    "T1 = np.linspace(10,100,10)\n",
    "T1"
   ]
  },
  {
   "cell_type": "code",
   "execution_count": 60,
   "metadata": {},
   "outputs": [],
   "source": [
    "u = 0.0012"
   ]
  },
  {
   "cell_type": "code",
   "execution_count": 61,
   "metadata": {},
   "outputs": [],
   "source": [
    "phi = 1.5"
   ]
  },
  {
   "cell_type": "code",
   "execution_count": 62,
   "metadata": {},
   "outputs": [],
   "source": [
    "PM = 0.0446"
   ]
  },
  {
   "cell_type": "code",
   "execution_count": 63,
   "metadata": {},
   "outputs": [
    {
     "data": {
      "text/plain": [
       "array([2.10487105e-14, 4.20974210e-14, 6.31461315e-14, 8.41948421e-14,\n",
       "       1.05243553e-13, 1.26292263e-13, 1.47340974e-13, 1.68389684e-13,\n",
       "       1.89438395e-13, 2.10487105e-13])"
      ]
     },
     "execution_count": 63,
     "metadata": {},
     "output_type": "execute_result"
    }
   ],
   "source": [
    "D(1.5,0.0446,T1,0.0012,63)"
   ]
  },
  {
   "cell_type": "code",
   "execution_count": 64,
   "metadata": {},
   "outputs": [
    {
     "data": {
      "text/plain": [
       "4.2097421031825687e-14"
      ]
     },
     "execution_count": 64,
     "metadata": {},
     "output_type": "execute_result"
    }
   ],
   "source": [
    "D(1.5,0.0446,20,0.0012,63)"
   ]
  },
  {
   "cell_type": "code",
   "execution_count": 65,
   "metadata": {},
   "outputs": [
    {
     "data": {
      "text/plain": [
       "6.314613154773852e-14"
      ]
     },
     "execution_count": 65,
     "metadata": {},
     "output_type": "execute_result"
    }
   ],
   "source": [
    "D(1.5,0.0446,30,0.0012,63)"
   ]
  },
  {
   "cell_type": "code",
   "execution_count": 66,
   "metadata": {},
   "outputs": [
    {
     "data": {
      "text/plain": [
       "8.419484206365137e-14"
      ]
     },
     "execution_count": 66,
     "metadata": {},
     "output_type": "execute_result"
    }
   ],
   "source": [
    "D(1.5,0.0446,40,0.0012,63)"
   ]
  },
  {
   "cell_type": "code",
   "execution_count": 67,
   "metadata": {},
   "outputs": [
    {
     "data": {
      "text/plain": [
       "1.0524355257956421e-13"
      ]
     },
     "execution_count": 67,
     "metadata": {},
     "output_type": "execute_result"
    }
   ],
   "source": [
    "D(1.5,0.0446,50,0.0012,63)"
   ]
  },
  {
   "cell_type": "code",
   "execution_count": 68,
   "metadata": {},
   "outputs": [
    {
     "data": {
      "text/plain": [
       "1.2629226309547705e-13"
      ]
     },
     "execution_count": 68,
     "metadata": {},
     "output_type": "execute_result"
    }
   ],
   "source": [
    "D(1.5,0.0446,60,0.0012,63)"
   ]
  },
  {
   "cell_type": "code",
   "execution_count": 69,
   "metadata": {},
   "outputs": [
    {
     "data": {
      "text/plain": [
       "1.473409736113899e-13"
      ]
     },
     "execution_count": 69,
     "metadata": {},
     "output_type": "execute_result"
    }
   ],
   "source": [
    "D(1.5,0.0446,70,0.0012,63)"
   ]
  },
  {
   "cell_type": "code",
   "execution_count": 70,
   "metadata": {},
   "outputs": [
    {
     "data": {
      "text/plain": [
       "1.6838968412730275e-13"
      ]
     },
     "execution_count": 70,
     "metadata": {},
     "output_type": "execute_result"
    }
   ],
   "source": [
    "D(1.5,0.0446,80,0.0012,63)"
   ]
  },
  {
   "cell_type": "code",
   "execution_count": 71,
   "metadata": {},
   "outputs": [
    {
     "data": {
      "text/plain": [
       "[2.10487105e-14,\n",
       " 4.2097421e-14,\n",
       " 6.31461315e-14,\n",
       " 8.41948421e-14,\n",
       " 1.05243553e-13,\n",
       " 1.26292263e-13,\n",
       " 1.47340974e-13,\n",
       " 1.68389684e-13,\n",
       " 1.89438395e-13,\n",
       " 2.10487105e-13]"
      ]
     },
     "execution_count": 71,
     "metadata": {},
     "output_type": "execute_result"
    }
   ],
   "source": [
    "Diffusion3 = [2.10487105e-14, 4.20974210e-14, 6.31461315e-14, 8.41948421e-14,1.05243553e-13, 1.26292263e-13, 1.47340974e-13, 1.68389684e-13,1.89438395e-13, 2.10487105e-13]\n",
    "Diffusion3"
   ]
  },
  {
   "cell_type": "code",
   "execution_count": 72,
   "metadata": {},
   "outputs": [
    {
     "data": {
      "text/plain": [
       "Text(0,0.5,'Diffusion')"
      ]
     },
     "execution_count": 72,
     "metadata": {},
     "output_type": "execute_result"
    },
    {
     "data": {
      "image/png": "[encoded data removed]",
      "text/plain": [
       "<matplotlib.figure.Figure at 0x22599ed0a90>"
      ]
     },
     "metadata": {},
     "output_type": "display_data"
    }
   ],
   "source": [
    "plt.plot(T1,Diffusion3)\n",
    "plt.title(\"Diffusion = f(T)\")\n",
    "plt.xlabel(\"Température en degré\")\n",
    "plt.ylabel(\"Diffusion\")"
   ]
  },
  {
   "cell_type": "code",
   "execution_count": null,
   "metadata": {},
   "outputs": [],
   "source": []
  },
  {
   "cell_type": "code",
   "execution_count": 73,
   "metadata": {},
   "outputs": [],
   "source": [
    "Dif = [\"Diffusion\"]"
   ]
  },
  {
   "cell_type": "code",
   "execution_count": 74,
   "metadata": {},
   "outputs": [
    {
     "data": {
      "text/html": [
       "<div>\n",
       "<style scoped>\n",
       "    .dataframe tbody tr th:only-of-type {\n",
       "        vertical-align: middle;\n",
       "    }\n",
       "\n",
       "    .dataframe tbody tr th {\n",
       "        vertical-align: top;\n",
       "    }\n",
       "\n",
       "    .dataframe thead th {\n",
       "        text-align: right;\n",
       "    }\n",
       "</style>\n",
       "<table border=\"1\" class=\"dataframe\">\n",
       "  <thead>\n",
       "    <tr style=\"text-align: right;\">\n",
       "      <th></th>\n",
       "      <th>Diffusion</th>\n",
       "    </tr>\n",
       "  </thead>\n",
       "  <tbody>\n",
       "    <tr>\n",
       "      <th>10.0</th>\n",
       "      <td>2.104871e-14</td>\n",
       "    </tr>\n",
       "    <tr>\n",
       "      <th>20.0</th>\n",
       "      <td>4.209742e-14</td>\n",
       "    </tr>\n",
       "    <tr>\n",
       "      <th>30.0</th>\n",
       "      <td>6.314613e-14</td>\n",
       "    </tr>\n",
       "    <tr>\n",
       "      <th>40.0</th>\n",
       "      <td>8.419484e-14</td>\n",
       "    </tr>\n",
       "    <tr>\n",
       "      <th>50.0</th>\n",
       "      <td>1.052436e-13</td>\n",
       "    </tr>\n",
       "    <tr>\n",
       "      <th>60.0</th>\n",
       "      <td>1.262923e-13</td>\n",
       "    </tr>\n",
       "    <tr>\n",
       "      <th>70.0</th>\n",
       "      <td>1.473410e-13</td>\n",
       "    </tr>\n",
       "    <tr>\n",
       "      <th>80.0</th>\n",
       "      <td>1.683897e-13</td>\n",
       "    </tr>\n",
       "    <tr>\n",
       "      <th>90.0</th>\n",
       "      <td>1.894384e-13</td>\n",
       "    </tr>\n",
       "    <tr>\n",
       "      <th>100.0</th>\n",
       "      <td>2.104871e-13</td>\n",
       "    </tr>\n",
       "  </tbody>\n",
       "</table>\n",
       "</div>"
      ],
      "text/plain": [
       "          Diffusion\n",
       "10.0   2.104871e-14\n",
       "20.0   4.209742e-14\n",
       "30.0   6.314613e-14\n",
       "40.0   8.419484e-14\n",
       "50.0   1.052436e-13\n",
       "60.0   1.262923e-13\n",
       "70.0   1.473410e-13\n",
       "80.0   1.683897e-13\n",
       "90.0   1.894384e-13\n",
       "100.0  2.104871e-13"
      ]
     },
     "execution_count": 74,
     "metadata": {},
     "output_type": "execute_result"
    }
   ],
   "source": [
    "tabla_de_diffusion = pd.DataFrame(data=Diffusion3,index=T1,columns = Dif)\n",
    "tabla_de_diffusion"
   ]
  },
  {
   "cell_type": "code",
   "execution_count": 75,
   "metadata": {},
   "outputs": [
    {
     "data": {
      "text/html": [
       "<div>\n",
       "<style scoped>\n",
       "    .dataframe tbody tr th:only-of-type {\n",
       "        vertical-align: middle;\n",
       "    }\n",
       "\n",
       "    .dataframe tbody tr th {\n",
       "        vertical-align: top;\n",
       "    }\n",
       "\n",
       "    .dataframe thead th {\n",
       "        text-align: right;\n",
       "    }\n",
       "</style>\n",
       "<table border=\"1\" class=\"dataframe\">\n",
       "  <thead>\n",
       "    <tr style=\"text-align: right;\">\n",
       "      <th></th>\n",
       "      <th>Diffusion</th>\n",
       "    </tr>\n",
       "  </thead>\n",
       "  <tbody>\n",
       "    <tr>\n",
       "      <th>count</th>\n",
       "      <td>1.000000e+01</td>\n",
       "    </tr>\n",
       "    <tr>\n",
       "      <th>mean</th>\n",
       "      <td>1.157679e-13</td>\n",
       "    </tr>\n",
       "    <tr>\n",
       "      <th>std</th>\n",
       "      <td>6.372814e-14</td>\n",
       "    </tr>\n",
       "    <tr>\n",
       "      <th>min</th>\n",
       "      <td>2.104871e-14</td>\n",
       "    </tr>\n",
       "    <tr>\n",
       "      <th>25%</th>\n",
       "      <td>6.840831e-14</td>\n",
       "    </tr>\n",
       "    <tr>\n",
       "      <th>50%</th>\n",
       "      <td>1.157679e-13</td>\n",
       "    </tr>\n",
       "    <tr>\n",
       "      <th>75%</th>\n",
       "      <td>1.631275e-13</td>\n",
       "    </tr>\n",
       "    <tr>\n",
       "      <th>max</th>\n",
       "      <td>2.104871e-13</td>\n",
       "    </tr>\n",
       "  </tbody>\n",
       "</table>\n",
       "</div>"
      ],
      "text/plain": [
       "          Diffusion\n",
       "count  1.000000e+01\n",
       "mean   1.157679e-13\n",
       "std    6.372814e-14\n",
       "min    2.104871e-14\n",
       "25%    6.840831e-14\n",
       "50%    1.157679e-13\n",
       "75%    1.631275e-13\n",
       "max    2.104871e-13"
      ]
     },
     "execution_count": 75,
     "metadata": {},
     "output_type": "execute_result"
    }
   ],
   "source": [
    "tabla_de_diffusion.describe()"
   ]
  },
  {
   "cell_type": "code",
   "execution_count": 76,
   "metadata": {},
   "outputs": [
    {
     "data": {
      "text/plain": [
       "array([273.        , 287.11111111, 301.22222222, 315.33333333,\n",
       "       329.44444444, 343.55555556, 357.66666667, 371.77777778,\n",
       "       385.88888889, 400.        ])"
      ]
     },
     "execution_count": 76,
     "metadata": {},
     "output_type": "execute_result"
    }
   ],
   "source": [
    "T = np.linspace(273,400,10)\n",
    "T"
   ]
  },
  {
   "cell_type": "markdown",
   "metadata": {},
   "source": [
    "# Viscosité"
   ]
  },
  {
   "cell_type": "code",
   "execution_count": 77,
   "metadata": {},
   "outputs": [],
   "source": [
    "def Viscosite(A,B,C,T):\n",
    "    v = np.exp(A+(B/(C+T)))\n",
    "    return v "
   ]
  },
  {
   "cell_type": "code",
   "execution_count": 78,
   "metadata": {},
   "outputs": [
    {
     "data": {
      "text/plain": [
       "array([1.81554378, 1.33057377, 0.99816978, 0.76454528, 0.59660798,\n",
       "       0.47341651, 0.38137704, 0.31145891, 0.25753515, 0.215368  ])"
      ]
     },
     "execution_count": 78,
     "metadata": {},
     "output_type": "execute_result"
    }
   ],
   "source": [
    "Viscosite(-7.37146,2770.25,74.6787,T)"
   ]
  },
  {
   "cell_type": "code",
   "execution_count": 79,
   "metadata": {},
   "outputs": [
    {
     "data": {
      "text/plain": [
       "[1.80931608,\n",
       " 1.0559807,\n",
       " 0.65980795,\n",
       " 0.43602046,\n",
       " 0.30187114,\n",
       " 0.21733649,\n",
       " 0.16175719,\n",
       " 0.12386075,\n",
       " 0.09719506,\n",
       " 0.07791022]"
      ]
     },
     "execution_count": 79,
     "metadata": {},
     "output_type": "execute_result"
    }
   ],
   "source": [
    "Viscosité = [1.80931608, 1.0559807 , 0.65980795, 0.43602046, 0.30187114,0.21733649, 0.16175719, 0.12386075, 0.09719506, 0.07791022]\n",
    "Viscosité"
   ]
  },
  {
   "cell_type": "code",
   "execution_count": 80,
   "metadata": {},
   "outputs": [
    {
     "data": {
      "text/plain": [
       "Text(0,0.5,'Viscosité')"
      ]
     },
     "execution_count": 80,
     "metadata": {},
     "output_type": "execute_result"
    },
    {
     "data": {
      "image/png": "[encoded data removed]",
      "text/plain": [
       "<matplotlib.figure.Figure at 0x22599f7d7f0>"
      ]
     },
     "metadata": {},
     "output_type": "display_data"
    }
   ],
   "source": [
    "plt.plot(T,Viscosité)\n",
    "plt.title(\"Viscosité = f(T)\")\n",
    "plt.xlabel(\"Température en k\")\n",
    "plt.ylabel(\"Viscosité\")"
   ]
  },
  {
   "cell_type": "code",
   "execution_count": 81,
   "metadata": {},
   "outputs": [
    {
     "data": {
      "text/plain": [
       "array([273.  , 304.75, 336.5 , 368.25, 400.  ])"
      ]
     },
     "execution_count": 81,
     "metadata": {},
     "output_type": "execute_result"
    }
   ],
   "source": [
    "T3 = np.linspace(273,400,5)\n",
    "T3"
   ]
  },
  {
   "cell_type": "code",
   "execution_count": 82,
   "metadata": {},
   "outputs": [
    {
     "data": {
      "text/plain": [
       "array([1.81554378, 0.93206588, 0.53040113, 0.32723806, 0.215368  ])"
      ]
     },
     "execution_count": 82,
     "metadata": {},
     "output_type": "execute_result"
    }
   ],
   "source": [
    "Viscosite(-7.37146,2770.25,74.6787,T3)"
   ]
  },
  {
   "cell_type": "code",
   "execution_count": 83,
   "metadata": {},
   "outputs": [
    {
     "data": {
      "text/plain": [
       "array([  0.  ,  31.75,  63.5 ,  95.25, 127.  ])"
      ]
     },
     "execution_count": 83,
     "metadata": {},
     "output_type": "execute_result"
    }
   ],
   "source": [
    "T4 = np.linspace(0,127,5)\n",
    "T4"
   ]
  },
  {
   "cell_type": "code",
   "execution_count": 84,
   "metadata": {},
   "outputs": [
    {
     "data": {
      "text/plain": [
       "array([0.00000000e+00, 6.68296559e-14, 1.33659312e-13, 2.00488968e-13,\n",
       "       2.67318624e-13])"
      ]
     },
     "execution_count": 84,
     "metadata": {},
     "output_type": "execute_result"
    }
   ],
   "source": [
    "D(1.5,0.0446,T4,0.0012,63)"
   ]
  },
  {
   "cell_type": "code",
   "execution_count": 85,
   "metadata": {},
   "outputs": [],
   "source": [
    "Vis1 = [\"Viscosité\"]"
   ]
  },
  {
   "cell_type": "code",
   "execution_count": 86,
   "metadata": {},
   "outputs": [
    {
     "data": {
      "text/html": [
       "<div>\n",
       "<style scoped>\n",
       "    .dataframe tbody tr th:only-of-type {\n",
       "        vertical-align: middle;\n",
       "    }\n",
       "\n",
       "    .dataframe tbody tr th {\n",
       "        vertical-align: top;\n",
       "    }\n",
       "\n",
       "    .dataframe thead th {\n",
       "        text-align: right;\n",
       "    }\n",
       "</style>\n",
       "<table border=\"1\" class=\"dataframe\">\n",
       "  <thead>\n",
       "    <tr style=\"text-align: right;\">\n",
       "      <th></th>\n",
       "      <th>Viscosité</th>\n",
       "    </tr>\n",
       "  </thead>\n",
       "  <tbody>\n",
       "    <tr>\n",
       "      <th>273.000000</th>\n",
       "      <td>1.809316</td>\n",
       "    </tr>\n",
       "    <tr>\n",
       "      <th>287.111111</th>\n",
       "      <td>1.055981</td>\n",
       "    </tr>\n",
       "    <tr>\n",
       "      <th>301.222222</th>\n",
       "      <td>0.659808</td>\n",
       "    </tr>\n",
       "    <tr>\n",
       "      <th>315.333333</th>\n",
       "      <td>0.436020</td>\n",
       "    </tr>\n",
       "    <tr>\n",
       "      <th>329.444444</th>\n",
       "      <td>0.301871</td>\n",
       "    </tr>\n",
       "    <tr>\n",
       "      <th>343.555556</th>\n",
       "      <td>0.217336</td>\n",
       "    </tr>\n",
       "    <tr>\n",
       "      <th>357.666667</th>\n",
       "      <td>0.161757</td>\n",
       "    </tr>\n",
       "    <tr>\n",
       "      <th>371.777778</th>\n",
       "      <td>0.123861</td>\n",
       "    </tr>\n",
       "    <tr>\n",
       "      <th>385.888889</th>\n",
       "      <td>0.097195</td>\n",
       "    </tr>\n",
       "    <tr>\n",
       "      <th>400.000000</th>\n",
       "      <td>0.077910</td>\n",
       "    </tr>\n",
       "  </tbody>\n",
       "</table>\n",
       "</div>"
      ],
      "text/plain": [
       "            Viscosité\n",
       "273.000000   1.809316\n",
       "287.111111   1.055981\n",
       "301.222222   0.659808\n",
       "315.333333   0.436020\n",
       "329.444444   0.301871\n",
       "343.555556   0.217336\n",
       "357.666667   0.161757\n",
       "371.777778   0.123861\n",
       "385.888889   0.097195\n",
       "400.000000   0.077910"
      ]
     },
     "execution_count": 86,
     "metadata": {},
     "output_type": "execute_result"
    }
   ],
   "source": [
    "tabla_de_viscosité = pd.DataFrame(data=Viscosité,index=T, columns= Vis1)\n",
    "tabla_de_viscosité"
   ]
  },
  {
   "cell_type": "code",
   "execution_count": 87,
   "metadata": {},
   "outputs": [
    {
     "data": {
      "text/html": [
       "<div>\n",
       "<style scoped>\n",
       "    .dataframe tbody tr th:only-of-type {\n",
       "        vertical-align: middle;\n",
       "    }\n",
       "\n",
       "    .dataframe tbody tr th {\n",
       "        vertical-align: top;\n",
       "    }\n",
       "\n",
       "    .dataframe thead th {\n",
       "        text-align: right;\n",
       "    }\n",
       "</style>\n",
       "<table border=\"1\" class=\"dataframe\">\n",
       "  <thead>\n",
       "    <tr style=\"text-align: right;\">\n",
       "      <th></th>\n",
       "      <th>Viscosité</th>\n",
       "    </tr>\n",
       "  </thead>\n",
       "  <tbody>\n",
       "    <tr>\n",
       "      <th>count</th>\n",
       "      <td>10.000000</td>\n",
       "    </tr>\n",
       "    <tr>\n",
       "      <th>mean</th>\n",
       "      <td>0.494106</td>\n",
       "    </tr>\n",
       "    <tr>\n",
       "      <th>std</th>\n",
       "      <td>0.554593</td>\n",
       "    </tr>\n",
       "    <tr>\n",
       "      <th>min</th>\n",
       "      <td>0.077910</td>\n",
       "    </tr>\n",
       "    <tr>\n",
       "      <th>25%</th>\n",
       "      <td>0.133335</td>\n",
       "    </tr>\n",
       "    <tr>\n",
       "      <th>50%</th>\n",
       "      <td>0.259604</td>\n",
       "    </tr>\n",
       "    <tr>\n",
       "      <th>75%</th>\n",
       "      <td>0.603861</td>\n",
       "    </tr>\n",
       "    <tr>\n",
       "      <th>max</th>\n",
       "      <td>1.809316</td>\n",
       "    </tr>\n",
       "  </tbody>\n",
       "</table>\n",
       "</div>"
      ],
      "text/plain": [
       "       Viscosité\n",
       "count  10.000000\n",
       "mean    0.494106\n",
       "std     0.554593\n",
       "min     0.077910\n",
       "25%     0.133335\n",
       "50%     0.259604\n",
       "75%     0.603861\n",
       "max     1.809316"
      ]
     },
     "execution_count": 87,
     "metadata": {},
     "output_type": "execute_result"
    }
   ],
   "source": [
    "tabla_de_viscosité.describe()"
   ]
  },
  {
   "cell_type": "code",
   "execution_count": 88,
   "metadata": {},
   "outputs": [
    {
     "data": {
      "text/plain": [
       "Viscosité    0.494106\n",
       "dtype: float64"
      ]
     },
     "execution_count": 88,
     "metadata": {},
     "output_type": "execute_result"
    }
   ],
   "source": [
    "tabla_de_viscosité.mean()"
   ]
  },
  {
   "cell_type": "code",
   "execution_count": 89,
   "metadata": {},
   "outputs": [
    {
     "data": {
      "text/plain": [
       "Diffusion    1.157679e-13\n",
       "dtype: float64"
      ]
     },
     "execution_count": 89,
     "metadata": {},
     "output_type": "execute_result"
    }
   ],
   "source": [
    "tabla_de_diffusion.mean()"
   ]
  },
  {
   "cell_type": "markdown",
   "metadata": {},
   "source": [
    "# Diffusion/Viscosité"
   ]
  },
  {
   "cell_type": "markdown",
   "metadata": {},
   "source": [
    "Diffusion et viscosité en fonction de T (5 températures)"
   ]
  },
  {
   "cell_type": "code",
   "execution_count": 90,
   "metadata": {},
   "outputs": [
    {
     "data": {
      "text/plain": [
       "[0.65980795, 0.43602046, 0.30187114, 0.21733649, 0.16175719]"
      ]
     },
     "execution_count": 90,
     "metadata": {},
     "output_type": "execute_result"
    }
   ],
   "source": [
    "Viscosité [2:7]"
   ]
  },
  {
   "cell_type": "code",
   "execution_count": 91,
   "metadata": {},
   "outputs": [
    {
     "data": {
      "text/plain": [
       "[6.31461315e-14,\n",
       " 8.41948421e-14,\n",
       " 1.05243553e-13,\n",
       " 1.26292263e-13,\n",
       " 1.47340974e-13]"
      ]
     },
     "execution_count": 91,
     "metadata": {},
     "output_type": "execute_result"
    }
   ],
   "source": [
    "Diffusion3 [2:7]"
   ]
  },
  {
   "cell_type": "code",
   "execution_count": 92,
   "metadata": {},
   "outputs": [],
   "source": [
    "T4 = [10,20,30,40,50]"
   ]
  },
  {
   "cell_type": "code",
   "execution_count": 93,
   "metadata": {},
   "outputs": [
    {
     "data": {
      "text/plain": [
       "Text(0.5,0,'Température')"
      ]
     },
     "execution_count": 93,
     "metadata": {},
     "output_type": "execute_result"
    },
    {
     "data": {
      "image/png": "[encoded data removed]",
      "text/plain": [
       "<matplotlib.figure.Figure at 0x22599fc8438>"
      ]
     },
     "metadata": {},
     "output_type": "display_data"
    }
   ],
   "source": [
    "plt.plot(T4,Viscosité[2:7])\n",
    "plt.plot(T4,Diffusion3[2:7])\n",
    "plt.title(\"Diffusivité et viscosité en fonction de T\")\n",
    "plt.xlabel(\"Température\")"
   ]
  },
  {
   "cell_type": "code",
   "execution_count": 94,
   "metadata": {},
   "outputs": [
    {
     "data": {
      "text/plain": [
       "[6.31461315e-14,\n",
       " 8.41948421e-14,\n",
       " 1.05243553e-13,\n",
       " 1.26292263e-13,\n",
       " 1.47340974e-13]"
      ]
     },
     "execution_count": 94,
     "metadata": {},
     "output_type": "execute_result"
    }
   ],
   "source": [
    "Diffusion3[2:7]"
   ]
  },
  {
   "cell_type": "code",
   "execution_count": 95,
   "metadata": {},
   "outputs": [
    {
     "data": {
      "text/html": [
       "<div>\n",
       "<style scoped>\n",
       "    .dataframe tbody tr th:only-of-type {\n",
       "        vertical-align: middle;\n",
       "    }\n",
       "\n",
       "    .dataframe tbody tr th {\n",
       "        vertical-align: top;\n",
       "    }\n",
       "\n",
       "    .dataframe thead th {\n",
       "        text-align: right;\n",
       "    }\n",
       "</style>\n",
       "<table border=\"1\" class=\"dataframe\">\n",
       "  <thead>\n",
       "    <tr style=\"text-align: right;\">\n",
       "      <th></th>\n",
       "      <th>0</th>\n",
       "    </tr>\n",
       "  </thead>\n",
       "  <tbody>\n",
       "    <tr>\n",
       "      <th>6.314613e-14</th>\n",
       "      <td>10</td>\n",
       "    </tr>\n",
       "    <tr>\n",
       "      <th>8.419484e-14</th>\n",
       "      <td>20</td>\n",
       "    </tr>\n",
       "    <tr>\n",
       "      <th>1.052436e-13</th>\n",
       "      <td>30</td>\n",
       "    </tr>\n",
       "    <tr>\n",
       "      <th>1.262923e-13</th>\n",
       "      <td>40</td>\n",
       "    </tr>\n",
       "    <tr>\n",
       "      <th>1.473410e-13</th>\n",
       "      <td>50</td>\n",
       "    </tr>\n",
       "  </tbody>\n",
       "</table>\n",
       "</div>"
      ],
      "text/plain": [
       "               0\n",
       "6.314613e-14  10\n",
       "8.419484e-14  20\n",
       "1.052436e-13  30\n",
       "1.262923e-13  40\n",
       "1.473410e-13  50"
      ]
     },
     "execution_count": 95,
     "metadata": {},
     "output_type": "execute_result"
    }
   ],
   "source": [
    "tabla1 = pd.DataFrame(data = T4, index = Diffusion3[2:7])\n",
    "tabla1"
   ]
  },
  {
   "cell_type": "code",
   "execution_count": 96,
   "metadata": {},
   "outputs": [
    {
     "data": {
      "text/html": [
       "<div>\n",
       "<style scoped>\n",
       "    .dataframe tbody tr th:only-of-type {\n",
       "        vertical-align: middle;\n",
       "    }\n",
       "\n",
       "    .dataframe tbody tr th {\n",
       "        vertical-align: top;\n",
       "    }\n",
       "\n",
       "    .dataframe thead th {\n",
       "        text-align: right;\n",
       "    }\n",
       "</style>\n",
       "<table border=\"1\" class=\"dataframe\">\n",
       "  <thead>\n",
       "    <tr style=\"text-align: right;\">\n",
       "      <th></th>\n",
       "      <th>0</th>\n",
       "    </tr>\n",
       "  </thead>\n",
       "  <tbody>\n",
       "    <tr>\n",
       "      <th>0.659808</th>\n",
       "      <td>10</td>\n",
       "    </tr>\n",
       "    <tr>\n",
       "      <th>0.436020</th>\n",
       "      <td>20</td>\n",
       "    </tr>\n",
       "    <tr>\n",
       "      <th>0.301871</th>\n",
       "      <td>30</td>\n",
       "    </tr>\n",
       "    <tr>\n",
       "      <th>0.217336</th>\n",
       "      <td>40</td>\n",
       "    </tr>\n",
       "    <tr>\n",
       "      <th>0.161757</th>\n",
       "      <td>50</td>\n",
       "    </tr>\n",
       "  </tbody>\n",
       "</table>\n",
       "</div>"
      ],
      "text/plain": [
       "           0\n",
       "0.659808  10\n",
       "0.436020  20\n",
       "0.301871  30\n",
       "0.217336  40\n",
       "0.161757  50"
      ]
     },
     "execution_count": 96,
     "metadata": {},
     "output_type": "execute_result"
    }
   ],
   "source": [
    "tabla2 = pd.DataFrame(data =T4, index =Viscosité[2:7])\n",
    "tabla2"
   ]
  },
  {
   "cell_type": "code",
   "execution_count": 97,
   "metadata": {},
   "outputs": [
    {
     "data": {
      "text/html": [
       "<div>\n",
       "<style scoped>\n",
       "    .dataframe tbody tr th:only-of-type {\n",
       "        vertical-align: middle;\n",
       "    }\n",
       "\n",
       "    .dataframe tbody tr th {\n",
       "        vertical-align: top;\n",
       "    }\n",
       "\n",
       "    .dataframe thead th {\n",
       "        text-align: right;\n",
       "    }\n",
       "</style>\n",
       "<table border=\"1\" class=\"dataframe\">\n",
       "  <thead>\n",
       "    <tr style=\"text-align: right;\">\n",
       "      <th></th>\n",
       "      <th>Viscosité</th>\n",
       "    </tr>\n",
       "  </thead>\n",
       "  <tbody>\n",
       "    <tr>\n",
       "      <th>273.000000</th>\n",
       "      <td>1.809316</td>\n",
       "    </tr>\n",
       "    <tr>\n",
       "      <th>287.111111</th>\n",
       "      <td>1.055981</td>\n",
       "    </tr>\n",
       "    <tr>\n",
       "      <th>301.222222</th>\n",
       "      <td>0.659808</td>\n",
       "    </tr>\n",
       "    <tr>\n",
       "      <th>315.333333</th>\n",
       "      <td>0.436020</td>\n",
       "    </tr>\n",
       "    <tr>\n",
       "      <th>329.444444</th>\n",
       "      <td>0.301871</td>\n",
       "    </tr>\n",
       "    <tr>\n",
       "      <th>343.555556</th>\n",
       "      <td>0.217336</td>\n",
       "    </tr>\n",
       "    <tr>\n",
       "      <th>357.666667</th>\n",
       "      <td>0.161757</td>\n",
       "    </tr>\n",
       "    <tr>\n",
       "      <th>371.777778</th>\n",
       "      <td>0.123861</td>\n",
       "    </tr>\n",
       "    <tr>\n",
       "      <th>385.888889</th>\n",
       "      <td>0.097195</td>\n",
       "    </tr>\n",
       "    <tr>\n",
       "      <th>400.000000</th>\n",
       "      <td>0.077910</td>\n",
       "    </tr>\n",
       "  </tbody>\n",
       "</table>\n",
       "</div>"
      ],
      "text/plain": [
       "            Viscosité\n",
       "273.000000   1.809316\n",
       "287.111111   1.055981\n",
       "301.222222   0.659808\n",
       "315.333333   0.436020\n",
       "329.444444   0.301871\n",
       "343.555556   0.217336\n",
       "357.666667   0.161757\n",
       "371.777778   0.123861\n",
       "385.888889   0.097195\n",
       "400.000000   0.077910"
      ]
     },
     "execution_count": 97,
     "metadata": {},
     "output_type": "execute_result"
    }
   ],
   "source": [
    "tabla_de_viscosité2 = tabla_de_viscosité.copy()\n",
    "tabla_de_viscosité2"
   ]
  },
  {
   "cell_type": "code",
   "execution_count": 98,
   "metadata": {},
   "outputs": [
    {
     "data": {
      "text/html": [
       "<div>\n",
       "<style scoped>\n",
       "    .dataframe tbody tr th:only-of-type {\n",
       "        vertical-align: middle;\n",
       "    }\n",
       "\n",
       "    .dataframe tbody tr th {\n",
       "        vertical-align: top;\n",
       "    }\n",
       "\n",
       "    .dataframe thead th {\n",
       "        text-align: right;\n",
       "    }\n",
       "</style>\n",
       "<table border=\"1\" class=\"dataframe\">\n",
       "  <thead>\n",
       "    <tr style=\"text-align: right;\">\n",
       "      <th></th>\n",
       "      <th>Viscosité</th>\n",
       "    </tr>\n",
       "  </thead>\n",
       "  <tbody>\n",
       "    <tr>\n",
       "      <th>273.000000</th>\n",
       "      <td>1.809316</td>\n",
       "    </tr>\n",
       "    <tr>\n",
       "      <th>287.111111</th>\n",
       "      <td>1.055981</td>\n",
       "    </tr>\n",
       "    <tr>\n",
       "      <th>301.222222</th>\n",
       "      <td>0.659808</td>\n",
       "    </tr>\n",
       "    <tr>\n",
       "      <th>315.333333</th>\n",
       "      <td>NaN</td>\n",
       "    </tr>\n",
       "    <tr>\n",
       "      <th>329.444444</th>\n",
       "      <td>NaN</td>\n",
       "    </tr>\n",
       "    <tr>\n",
       "      <th>343.555556</th>\n",
       "      <td>NaN</td>\n",
       "    </tr>\n",
       "    <tr>\n",
       "      <th>357.666667</th>\n",
       "      <td>NaN</td>\n",
       "    </tr>\n",
       "    <tr>\n",
       "      <th>371.777778</th>\n",
       "      <td>NaN</td>\n",
       "    </tr>\n",
       "    <tr>\n",
       "      <th>385.888889</th>\n",
       "      <td>NaN</td>\n",
       "    </tr>\n",
       "    <tr>\n",
       "      <th>400.000000</th>\n",
       "      <td>NaN</td>\n",
       "    </tr>\n",
       "  </tbody>\n",
       "</table>\n",
       "</div>"
      ],
      "text/plain": [
       "            Viscosité\n",
       "273.000000   1.809316\n",
       "287.111111   1.055981\n",
       "301.222222   0.659808\n",
       "315.333333        NaN\n",
       "329.444444        NaN\n",
       "343.555556        NaN\n",
       "357.666667        NaN\n",
       "371.777778        NaN\n",
       "385.888889        NaN\n",
       "400.000000        NaN"
      ]
     },
     "execution_count": 98,
     "metadata": {},
     "output_type": "execute_result"
    }
   ],
   "source": [
    "tabla_de_viscosité2[tabla_de_viscosité2 >0.494106]"
   ]
  },
  {
   "cell_type": "code",
   "execution_count": 99,
   "metadata": {},
   "outputs": [
    {
     "data": {
      "text/html": [
       "<div>\n",
       "<style scoped>\n",
       "    .dataframe tbody tr th:only-of-type {\n",
       "        vertical-align: middle;\n",
       "    }\n",
       "\n",
       "    .dataframe tbody tr th {\n",
       "        vertical-align: top;\n",
       "    }\n",
       "\n",
       "    .dataframe thead th {\n",
       "        text-align: right;\n",
       "    }\n",
       "</style>\n",
       "<table border=\"1\" class=\"dataframe\">\n",
       "  <thead>\n",
       "    <tr style=\"text-align: right;\">\n",
       "      <th></th>\n",
       "      <th>Diffusion</th>\n",
       "    </tr>\n",
       "  </thead>\n",
       "  <tbody>\n",
       "    <tr>\n",
       "      <th>10.0</th>\n",
       "      <td>2.104871e-14</td>\n",
       "    </tr>\n",
       "    <tr>\n",
       "      <th>20.0</th>\n",
       "      <td>4.209742e-14</td>\n",
       "    </tr>\n",
       "    <tr>\n",
       "      <th>30.0</th>\n",
       "      <td>6.314613e-14</td>\n",
       "    </tr>\n",
       "    <tr>\n",
       "      <th>40.0</th>\n",
       "      <td>8.419484e-14</td>\n",
       "    </tr>\n",
       "    <tr>\n",
       "      <th>50.0</th>\n",
       "      <td>1.052436e-13</td>\n",
       "    </tr>\n",
       "    <tr>\n",
       "      <th>60.0</th>\n",
       "      <td>1.262923e-13</td>\n",
       "    </tr>\n",
       "    <tr>\n",
       "      <th>70.0</th>\n",
       "      <td>1.473410e-13</td>\n",
       "    </tr>\n",
       "    <tr>\n",
       "      <th>80.0</th>\n",
       "      <td>1.683897e-13</td>\n",
       "    </tr>\n",
       "    <tr>\n",
       "      <th>90.0</th>\n",
       "      <td>1.894384e-13</td>\n",
       "    </tr>\n",
       "    <tr>\n",
       "      <th>100.0</th>\n",
       "      <td>2.104871e-13</td>\n",
       "    </tr>\n",
       "  </tbody>\n",
       "</table>\n",
       "</div>"
      ],
      "text/plain": [
       "          Diffusion\n",
       "10.0   2.104871e-14\n",
       "20.0   4.209742e-14\n",
       "30.0   6.314613e-14\n",
       "40.0   8.419484e-14\n",
       "50.0   1.052436e-13\n",
       "60.0   1.262923e-13\n",
       "70.0   1.473410e-13\n",
       "80.0   1.683897e-13\n",
       "90.0   1.894384e-13\n",
       "100.0  2.104871e-13"
      ]
     },
     "execution_count": 99,
     "metadata": {},
     "output_type": "execute_result"
    }
   ],
   "source": [
    "tabla_de_diffusion2 =tabla_de_diffusion.copy()\n",
    "tabla_de_diffusion2"
   ]
  },
  {
   "cell_type": "code",
   "execution_count": 100,
   "metadata": {},
   "outputs": [
    {
     "data": {
      "text/html": [
       "<div>\n",
       "<style scoped>\n",
       "    .dataframe tbody tr th:only-of-type {\n",
       "        vertical-align: middle;\n",
       "    }\n",
       "\n",
       "    .dataframe tbody tr th {\n",
       "        vertical-align: top;\n",
       "    }\n",
       "\n",
       "    .dataframe thead th {\n",
       "        text-align: right;\n",
       "    }\n",
       "</style>\n",
       "<table border=\"1\" class=\"dataframe\">\n",
       "  <thead>\n",
       "    <tr style=\"text-align: right;\">\n",
       "      <th></th>\n",
       "      <th>Diffusion</th>\n",
       "    </tr>\n",
       "  </thead>\n",
       "  <tbody>\n",
       "    <tr>\n",
       "      <th>10.0</th>\n",
       "      <td>NaN</td>\n",
       "    </tr>\n",
       "    <tr>\n",
       "      <th>20.0</th>\n",
       "      <td>NaN</td>\n",
       "    </tr>\n",
       "    <tr>\n",
       "      <th>30.0</th>\n",
       "      <td>NaN</td>\n",
       "    </tr>\n",
       "    <tr>\n",
       "      <th>40.0</th>\n",
       "      <td>NaN</td>\n",
       "    </tr>\n",
       "    <tr>\n",
       "      <th>50.0</th>\n",
       "      <td>NaN</td>\n",
       "    </tr>\n",
       "    <tr>\n",
       "      <th>60.0</th>\n",
       "      <td>1.262923e-13</td>\n",
       "    </tr>\n",
       "    <tr>\n",
       "      <th>70.0</th>\n",
       "      <td>1.473410e-13</td>\n",
       "    </tr>\n",
       "    <tr>\n",
       "      <th>80.0</th>\n",
       "      <td>1.683897e-13</td>\n",
       "    </tr>\n",
       "    <tr>\n",
       "      <th>90.0</th>\n",
       "      <td>1.894384e-13</td>\n",
       "    </tr>\n",
       "    <tr>\n",
       "      <th>100.0</th>\n",
       "      <td>2.104871e-13</td>\n",
       "    </tr>\n",
       "  </tbody>\n",
       "</table>\n",
       "</div>"
      ],
      "text/plain": [
       "          Diffusion\n",
       "10.0            NaN\n",
       "20.0            NaN\n",
       "30.0            NaN\n",
       "40.0            NaN\n",
       "50.0            NaN\n",
       "60.0   1.262923e-13\n",
       "70.0   1.473410e-13\n",
       "80.0   1.683897e-13\n",
       "90.0   1.894384e-13\n",
       "100.0  2.104871e-13"
      ]
     },
     "execution_count": 100,
     "metadata": {},
     "output_type": "execute_result"
    }
   ],
   "source": [
    "tabla_de_diffusion2[tabla_de_diffusion2>1.157679e-13] "
   ]
  },
  {
   "cell_type": "markdown",
   "metadata": {},
   "source": [
    "# Fonction Dictionnaire"
   ]
  },
  {
   "cell_type": "code",
   "execution_count": 101,
   "metadata": {},
   "outputs": [
    {
     "name": "stdout",
     "output_type": "stream",
     "text": [
      "Hoy estoy en la universidad nacional de cordoba\n"
     ]
    }
   ],
   "source": [
    "print(\"Hoy estoy en la universidad nacional de cordoba\")"
   ]
  },
  {
   "cell_type": "code",
   "execution_count": 102,
   "metadata": {},
   "outputs": [],
   "source": [
    "Universidad1 = \"universidad nacional de Cordoba\""
   ]
  },
  {
   "cell_type": "code",
   "execution_count": 103,
   "metadata": {},
   "outputs": [],
   "source": [
    "Universidad2 = \"Institut Universitaire Paul Sabatier\""
   ]
  },
  {
   "cell_type": "code",
   "execution_count": 104,
   "metadata": {},
   "outputs": [
    {
     "ename": "NameError",
     "evalue": "name 'Universidad' is not defined",
     "output_type": "error",
     "traceback": [
      "\u001b[1;31m---------------------------------------------------------------------------\u001b[0m",
      "\u001b[1;31mNameError\u001b[0m                                 Traceback (most recent call last)",
      "\u001b[1;32m<ipython-input-104-a7e298498b44>\u001b[0m in \u001b[0;36m<module>\u001b[1;34m()\u001b[0m\n\u001b[1;32m----> 1\u001b[1;33m \u001b[0mprint\u001b[0m\u001b[1;33m(\u001b[0m\u001b[1;34m\"Hoy estoy en la\"\u001b[0m\u001b[1;33m,\u001b[0m\u001b[0mUniversidad\u001b[0m\u001b[1;33m)\u001b[0m\u001b[1;33m\u001b[0m\u001b[0m\n\u001b[0m",
      "\u001b[1;31mNameError\u001b[0m: name 'Universidad' is not defined"
     ]
    }
   ],
   "source": [
    "print(\"Hoy estoy en la\",Universidad)"
   ]
  },
  {
   "cell_type": "code",
   "execution_count": null,
   "metadata": {},
   "outputs": [],
   "source": [
    "print(\"Antes estaba en el {1} y Hoy estoy en la {0}\".format(Universidad1,Universidad2))"
   ]
  },
  {
   "cell_type": "code",
   "execution_count": null,
   "metadata": {},
   "outputs": [],
   "source": [
    "C = 1.4e-4"
   ]
  },
  {
   "cell_type": "code",
   "execution_count": null,
   "metadata": {},
   "outputs": [],
   "source": [
    "print(\"La concentration de éthanol es de\",C)"
   ]
  },
  {
   "cell_type": "code",
   "execution_count": null,
   "metadata": {},
   "outputs": [],
   "source": [
    "print(\"La concentration d'éthanol est {0}\".format(C))"
   ]
  },
  {
   "cell_type": "code",
   "execution_count": null,
   "metadata": {},
   "outputs": [],
   "source": [
    "Densidades = {\"ethanol\":1.8,\"propanol\":2.6,\"isobutanol\":3.4,\"methylethylcetone\":4.2}\n",
    "Densidades"
   ]
  },
  {
   "cell_type": "code",
   "execution_count": null,
   "metadata": {},
   "outputs": [],
   "source": [
    "Densidades [\"propanol\"]"
   ]
  },
  {
   "cell_type": "code",
   "execution_count": null,
   "metadata": {},
   "outputs": [],
   "source": [
    "Densidades.keys()"
   ]
  },
  {
   "cell_type": "code",
   "execution_count": null,
   "metadata": {},
   "outputs": [],
   "source": [
    "Densidades.items()"
   ]
  },
  {
   "cell_type": "code",
   "execution_count": null,
   "metadata": {},
   "outputs": [],
   "source": [
    "for (sustancia,densidad) in Densidades.items():\n",
    "    print(\"La densidad de {0} es igual a {1}\".format(sustancia,densidad))"
   ]
  },
  {
   "cell_type": "code",
   "execution_count": null,
   "metadata": {},
   "outputs": [],
   "source": [
    "Comidades = [\"Citron\",\"Chocolat\",\"Pitaya\",\"Muesli\",\"Noix de coco\"]\n",
    "Precios =[2,1,4,5,8]"
   ]
  },
  {
   "cell_type": "code",
   "execution_count": null,
   "metadata": {},
   "outputs": [],
   "source": [
    "zip(Comidades,Precios)"
   ]
  },
  {
   "cell_type": "code",
   "execution_count": null,
   "metadata": {},
   "outputs": [],
   "source": [
    "dict(zip(Comidades,Precios))"
   ]
  },
  {
   "cell_type": "code",
   "execution_count": null,
   "metadata": {},
   "outputs": [],
   "source": [
    "plt.plot(Comidades,Precios)\n",
    "plt.annotate(s = \"me gusta\",xy=(2,5))"
   ]
  },
  {
   "cell_type": "markdown",
   "metadata": {},
   "source": [
    "# Polynôme 8x²-4x+3 = 0"
   ]
  },
  {
   "cell_type": "code",
   "execution_count": null,
   "metadata": {},
   "outputs": [],
   "source": [
    "a = 8\n",
    "b = -4\n",
    "c = 3\n",
    "D = b**2-4*a*c\n",
    "x1 = (-b+ D**0.5)/(2*a)\n",
    "print(x1)\n",
    "x2 = (-b-D**0.5)/2*a\n",
    "print(x2)"
   ]
  },
  {
   "cell_type": "code",
   "execution_count": null,
   "metadata": {},
   "outputs": [],
   "source": [
    "str(5)"
   ]
  },
  {
   "cell_type": "code",
   "execution_count": null,
   "metadata": {},
   "outputs": [],
   "source": [
    "int(\"5\")"
   ]
  },
  {
   "cell_type": "code",
   "execution_count": null,
   "metadata": {},
   "outputs": [],
   "source": [
    "int(\"Cinco\")"
   ]
  },
  {
   "cell_type": "code",
   "execution_count": null,
   "metadata": {},
   "outputs": [],
   "source": [
    "valor = int (input(\"ingresar un numero\"))\n"
   ]
  },
  {
   "cell_type": "code",
   "execution_count": null,
   "metadata": {},
   "outputs": [],
   "source": [
    "valor "
   ]
  },
  {
   "cell_type": "code",
   "execution_count": null,
   "metadata": {},
   "outputs": [],
   "source": [
    "valor "
   ]
  },
  {
   "cell_type": "code",
   "execution_count": null,
   "metadata": {},
   "outputs": [],
   "source": [
    "int(valor)"
   ]
  },
  {
   "cell_type": "code",
   "execution_count": null,
   "metadata": {},
   "outputs": [],
   "source": [
    "while True:\n",
    "    try:\n",
    "        x = int(input(\"Ingresar un numero\"))\n",
    "        print(\"Correct\")\n",
    "        break \n",
    "    except ValueError:\n",
    "        print(\"Incorrect\")"
   ]
  },
  {
   "cell_type": "code",
   "execution_count": null,
   "metadata": {},
   "outputs": [],
   "source": [
    "i = 0\n",
    "while True: \n",
    "    print(i)\n",
    "    if i >= 10: \n",
    "        break\n",
    "    i = i+1"
   ]
  },
  {
   "cell_type": "markdown",
   "metadata": {},
   "source": [
    "# ax²+bx+c =0"
   ]
  },
  {
   "cell_type": "code",
   "execution_count": null,
   "metadata": {},
   "outputs": [],
   "source": []
  },
  {
   "cell_type": "code",
   "execution_count": null,
   "metadata": {},
   "outputs": [],
   "source": [
    "a = int(input(\"ingresar un numero\"))\n",
    "b = int(input(\"ingresar un numero\"))\n",
    "c = int(input(\"ingresar un numero\"))\n",
    "D = b**2-(4*a*c)\n",
    "print(\"D =\",D)\n",
    "if D < 0:\n",
    "    print (\"Pas de solutions reelles\")\n",
    "elif D == 0:\n",
    "    x = (-b+math.sqrt(b**2-4*a*c))/2*a\n",
    "    print (\"L'equation a une solution: x = \", x)\n",
    "else:\n",
    "    x1 = (-b+math.sqrt(b**2-4*a*c))/2*a\n",
    "    x2 = (-b-math.sqrt(b**2-4*a*c))/2*a\n",
    "    print (\"L'equation a deux solution: x1 = \", x1, \" et x2 =\", x2)"
   ]
  },
  {
   "cell_type": "code",
   "execution_count": null,
   "metadata": {},
   "outputs": [],
   "source": [
    "while True:\n",
    "    try:\n",
    "        d = 1/D     \n",
    "        print(\"Possible\")\n",
    "        break \n",
    "    except ZeroDivisionError:\n",
    "        print(\"Division par 0 : impossible\") \n",
    "        break "
   ]
  },
  {
   "cell_type": "code",
   "execution_count": null,
   "metadata": {},
   "outputs": [],
   "source": [
    "if D < 0:\n",
    "    print(\"D=\",D)\n",
    "    x1 = (-b+cmath.sqrt(b**2-4*a*c))/2*a\n",
    "    x2 = (-b-cmath.sqrt(b**2-4*a*c))/2*a\n",
    "    print (\"L'equation a deux solution: x1 = \", x1, \" et x2 =\", x2)"
   ]
  },
  {
   "cell_type": "code",
   "execution_count": null,
   "metadata": {},
   "outputs": [],
   "source": [
    "def cuadratica(a,b,c):\n",
    "    a = int(input(\"ingresar un numero\"))\n",
    "    b = int(input(\"ingresar un numero\"))\n",
    "    c = int(input(\"ingresar un numero\"))\n",
    "    Delta = (b**2)-(4*a*c)\n",
    "    print (\"Delta = {}\".format(Delta))\n",
    "    if Delta < 0:\n",
    "        print (\"Pas de solutions reelles\")\n",
    "    elif Delta == 0:\n",
    "        x = (-b+math.sqrt(b**2-4*a*c))/2*a\n",
    "        print (\"L'equation a une solution: x = {}\".format(x))\n",
    "    else:\n",
    "        x1 = (-b+math.sqrt(b**2-4*a*c))/2*a\n",
    "        x2 = (-b-math.sqrt(b**2-4*a*c))/2*a\n",
    "        print (\"L'equation a deux solution: x1 = {0} et x2 ={1}\".format(x1,x2))\n",
    "    try:\n",
    "        d = 1/Delta     \n",
    "        print(\"Possible\") \n",
    "    except ZeroDivisionError:\n",
    "        print(\"Division par 0 : impossible\") "
   ]
  },
  {
   "cell_type": "code",
   "execution_count": null,
   "metadata": {},
   "outputs": [],
   "source": [
    "cuadratica(3,5,1)"
   ]
  },
  {
   "cell_type": "code",
   "execution_count": null,
   "metadata": {},
   "outputs": [],
   "source": [
    "cuadratica(1,2,3)"
   ]
  },
  {
   "cell_type": "code",
   "execution_count": null,
   "metadata": {},
   "outputs": [],
   "source": [
    "def cuadratica(a,b,c):\n",
    "    a = int(input(\"ingresar un numero\"))\n",
    "    b = int(input(\"ingresar un numero\"))\n",
    "    c = int(input(\"ingresar un numero\"))\n",
    "    Delta = (b**2)-(4*a*c)\n",
    "    print (\"Delta = {}\".format(Delta))\n",
    "    if Delta < 0:\n",
    "        x1 = (-b+cmath.sqrt(b**2-4*a*c))/2*a\n",
    "        x2 = (-b-cmath.sqrt(b**2-4*a*c))/2*a\n",
    "        print (\"L'equation a deux solution: x1 = {0} et x2 ={1}\".format(x1,x2))\n",
    "    elif Delta == 0:\n",
    "        x = (-b+math.sqrt(b**2-4*a*c))/2*a\n",
    "        print (\"L'equation a une solution: x = {}\".format(x))\n",
    "    else:\n",
    "        x1 = (-b+math.sqrt(b**2-4*a*c))/2*a\n",
    "        x2 = (-b-math.sqrt(b**2-4*a*c))/2*a\n",
    "        print (\"L'equation a deux solution: x1 = {0} et x2 ={1}\".format(x1,x2))\n",
    "    try:\n",
    "        d = 1/Delta     \n",
    "        print(\"Possible\") \n",
    "    except ZeroDivisionError:\n",
    "        print(\"Division par 0 : impossible\") \n",
    "x = np.linspace(-10,10,100)\n",
    "y = a*x**2+b*x+c\n",
    "plt.plot(x,y)\n",
    "plt.title(\"Fonction\")\n",
    "plt.xlabel(\"x\")\n",
    "plt.ylabel(\"y\")\n",
    "plt.grid(True)"
   ]
  },
  {
   "cell_type": "code",
   "execution_count": null,
   "metadata": {},
   "outputs": [],
   "source": [
    "cuadratica(1,2,5)"
   ]
  },
  {
   "cell_type": "code",
   "execution_count": 125,
   "metadata": {},
   "outputs": [],
   "source": [
    "def cuadratica(a,b,c):\n",
    "    \"\"\" Esta function resuelve una equation cuadratrica  \n",
    "    De la forma ax²+bx+c\"\"\" \n",
    "    a = int(input(\"ingresar un numero\"))\n",
    "    b = int(input(\"ingresar un numero\"))\n",
    "    c = int(input(\"ingresar un numero\"))\n",
    "    Delta = (b**2)-(4*a*c)\n",
    "    print (\"Delta = {}\".format(Delta))\n",
    "    if Delta < 0:\n",
    "        print(\"L'equation n'a pas de solutions réelles\")\n",
    "        x1 = (-b+cmath.sqrt((b**2)-(4*a*c)))/(2*a)\n",
    "        x2 = (-b-cmath.sqrt((b**2)-(4*a*c)))/(2*a)\n",
    "        print (\"L'equation a deux solution: x1 = {0} et x2 ={1}\".format(x1,x2))\n",
    "    elif Delta == 0:\n",
    "        x = (-b/(2*a))\n",
    "        print (\"L'equation a une solution: x = {}\".format(x))\n",
    "    else:\n",
    "        x1 = (-b+math.sqrt((b**2)-(4*a*c)))/(2*a)\n",
    "        x2 = (-b-math.sqrt((b**2)-(4*a*c)))/(2*a)\n",
    "        print (\"L'equation a deux solution: x1 = {0} et x2 ={1}\".format(x1,x2))\n",
    "    try:\n",
    "        d = 1/Delta     \n",
    "        print(\"Possible\") \n",
    "    except ZeroDivisionError:\n",
    "        print(\"Division par 0 : impossible\") \n",
    "    x = np.linspace(-5,5,100)\n",
    "    g = (a*x**2)+b*x+c        \n",
    "    plt.plot(x,g)\n",
    "    plt.title(\"Fonction\")\n",
    "    plt.xlabel(\"x\")\n",
    "    plt.ylabel(\"y\")\n",
    "    plt.grid(True)\n",
    "    plt.annotate(\"x1\",xy=(x1,0))\n",
    "    plt.annotate(\"x2\",xy=(x2,0))"
   ]
  },
  {
   "cell_type": "code",
   "execution_count": 126,
   "metadata": {},
   "outputs": [
    {
     "data": {
      "text/plain": [
       "' Esta function resuelve una equation cuadratrica  \\n    De la forma ax²+bx+c'"
      ]
     },
     "execution_count": 126,
     "metadata": {},
     "output_type": "execute_result"
    }
   ],
   "source": [
    "cuadratica.__doc__"
   ]
  },
  {
   "cell_type": "code",
   "execution_count": 118,
   "metadata": {},
   "outputs": [
    {
     "name": "stdout",
     "output_type": "stream",
     "text": [
      "ingresar un numero2\n",
      "ingresar un numero4\n",
      "ingresar un numero-4\n",
      "Delta = 48\n",
      "L'equation a deux solution: x1 = 0.7320508075688772 et x2 =-2.732050807568877\n",
      "Possible\n"
     ]
    },
    {
     "data": {
      "image/png": "[encoded data removed]",
      "text/plain": [
       "<matplotlib.figure.Figure at 0x2259b484da0>"
      ]
     },
     "metadata": {},
     "output_type": "display_data"
    }
   ],
   "source": [
    "cuadratica(1,2,3)"
   ]
  },
  {
   "cell_type": "code",
   "execution_count": 111,
   "metadata": {},
   "outputs": [
    {
     "name": "stdout",
     "output_type": "stream",
     "text": [
      "ingresar un numero4\n",
      "ingresar un numero6\n",
      "ingresar un numero-2\n",
      "Delta = 68\n",
      "L'equation a deux solution: x1 = 0.28077640640441515 et x2 =-1.7807764064044151\n",
      "Possible\n"
     ]
    },
    {
     "data": {
      "image/png": "[encoded data removed]",
      "text/plain": [
       "<matplotlib.figure.Figure at 0x2259b3632b0>"
      ]
     },
     "metadata": {},
     "output_type": "display_data"
    }
   ],
   "source": [
    "cuadratica(1,2,3)"
   ]
  },
  {
   "cell_type": "code",
   "execution_count": 134,
   "metadata": {},
   "outputs": [
    {
     "data": {
      "text/html": [
       "<div>\n",
       "<style scoped>\n",
       "    .dataframe tbody tr th:only-of-type {\n",
       "        vertical-align: middle;\n",
       "    }\n",
       "\n",
       "    .dataframe tbody tr th {\n",
       "        vertical-align: top;\n",
       "    }\n",
       "\n",
       "    .dataframe thead th {\n",
       "        text-align: right;\n",
       "    }\n",
       "</style>\n",
       "<table border=\"1\" class=\"dataframe\">\n",
       "  <thead>\n",
       "    <tr style=\"text-align: right;\">\n",
       "      <th></th>\n",
       "      <th>Je</th>\n",
       "      <th>m'appelle</th>\n",
       "      <th>Agnès</th>\n",
       "    </tr>\n",
       "  </thead>\n",
       "  <tbody>\n",
       "    <tr>\n",
       "      <th>0</th>\n",
       "      <td>1</td>\n",
       "      <td>2</td>\n",
       "      <td>3</td>\n",
       "    </tr>\n",
       "    <tr>\n",
       "      <th>1</th>\n",
       "      <td>4</td>\n",
       "      <td>5</td>\n",
       "      <td>6</td>\n",
       "    </tr>\n",
       "    <tr>\n",
       "      <th>2</th>\n",
       "      <td>7</td>\n",
       "      <td>8</td>\n",
       "      <td>9</td>\n",
       "    </tr>\n",
       "  </tbody>\n",
       "</table>\n",
       "</div>"
      ],
      "text/plain": [
       "   Je  m'appelle  Agnès\n",
       "0   1          2      3\n",
       "1   4          5      6\n",
       "2   7          8      9"
      ]
     },
     "execution_count": 134,
     "metadata": {},
     "output_type": "execute_result"
    }
   ],
   "source": [
    "dataset=pd.read_csv(\"Texet1.txt\",sep=\" \")\n",
    "dataset"
   ]
  },
  {
   "cell_type": "code",
   "execution_count": 137,
   "metadata": {},
   "outputs": [
    {
     "data": {
      "text/plain": [
       "0    3\n",
       "1    6\n",
       "2    9\n",
       "Name: Agnès, dtype: int64"
      ]
     },
     "execution_count": 137,
     "metadata": {},
     "output_type": "execute_result"
    }
   ],
   "source": [
    "dataset[\"Agnès\"]"
   ]
  },
  {
   "cell_type": "code",
   "execution_count": 143,
   "metadata": {},
   "outputs": [
    {
     "data": {
      "text/html": [
       "<div>\n",
       "<style scoped>\n",
       "    .dataframe tbody tr th:only-of-type {\n",
       "        vertical-align: middle;\n",
       "    }\n",
       "\n",
       "    .dataframe tbody tr th {\n",
       "        vertical-align: top;\n",
       "    }\n",
       "\n",
       "    .dataframe thead th {\n",
       "        text-align: right;\n",
       "    }\n",
       "</style>\n",
       "<table border=\"1\" class=\"dataframe\">\n",
       "  <thead>\n",
       "    <tr style=\"text-align: right;\">\n",
       "      <th></th>\n",
       "      <th>Experiment</th>\n",
       "      <th>Thickness</th>\n",
       "      <th>Food</th>\n",
       "      <th>Simulant</th>\n",
       "      <th>Cpo</th>\n",
       "      <th>K</th>\n",
       "      <th>Dp</th>\n",
       "      <th>RMSE</th>\n",
       "    </tr>\n",
       "  </thead>\n",
       "  <tbody>\n",
       "    <tr>\n",
       "      <th>0</th>\n",
       "      <td>1</td>\n",
       "      <td>146</td>\n",
       "      <td>EtOH95%</td>\n",
       "      <td>1157(+/-112)</td>\n",
       "      <td>52</td>\n",
       "      <td>1.950000e-13</td>\n",
       "      <td>1.5</td>\n",
       "      <td>NaN</td>\n",
       "    </tr>\n",
       "  </tbody>\n",
       "</table>\n",
       "</div>"
      ],
      "text/plain": [
       "   Experiment  Thickness     Food      Simulant  Cpo             K   Dp  RMSE\n",
       "0           1        146  EtOH95%  1157(+/-112)   52  1.950000e-13  1.5   NaN"
      ]
     },
     "execution_count": 143,
     "metadata": {},
     "output_type": "execute_result"
    }
   ],
   "source": [
    "dataset=pd.read_csv(\"Table1.txt\",sep=\" \")\n",
    "dataset"
   ]
  },
  {
   "cell_type": "code",
   "execution_count": 152,
   "metadata": {},
   "outputs": [],
   "source": [
    "def fonction(x,a,b,c):\n",
    "    return a*x**2+b*x+c"
   ]
  },
  {
   "cell_type": "code",
   "execution_count": 157,
   "metadata": {},
   "outputs": [
    {
     "data": {
      "text/plain": [
       "array([-0.19979919])"
      ]
     },
     "execution_count": 157,
     "metadata": {},
     "output_type": "execute_result"
    }
   ],
   "source": [
    "a = 5\n",
    "b = 2\n",
    "c = 4\n",
    "sol = root(fonction,32.8,args=(a,b,c))\n",
    "sol.x"
   ]
  },
  {
   "cell_type": "markdown",
   "metadata": {},
   "source": [
    "# Flux de Transfert"
   ]
  },
  {
   "cell_type": "code",
   "execution_count": 265,
   "metadata": {},
   "outputs": [],
   "source": [
    "def fonction1(c2,D,L,c1,c4,K,k): \n",
    "    j1 = (D/(L/2)*(c1-c2))\n",
    "    c3 = c2/K\n",
    "    j2 = k*(c3-c4)\n",
    "    return (j1-j2)/j1"
   ]
  },
  {
   "cell_type": "code",
   "execution_count": 266,
   "metadata": {},
   "outputs": [
    {
     "data": {
      "text/plain": [
       "array([47.36581234])"
      ]
     },
     "execution_count": 266,
     "metadata": {},
     "output_type": "execute_result"
    }
   ],
   "source": [
    "D = 1.93e-13\n",
    "L = 146e-6\n",
    "c1 = 1157\n",
    "c4 = 0.5\n",
    "K = 52\n",
    "k = 7.14e-6\n",
    "sol = root(fonction1,24,args=(D,L,c1,c4,K,k))\n",
    "sol.x"
   ]
  },
  {
   "cell_type": "code",
   "execution_count": null,
   "metadata": {},
   "outputs": [],
   "source": []
  },
  {
   "cell_type": "code",
   "execution_count": 172,
   "metadata": {},
   "outputs": [
    {
     "data": {
      "text/plain": [
       "array([1045.        , 1047.26262626, 1049.52525253, 1051.78787879,\n",
       "       1054.05050505, 1056.31313131, 1058.57575758, 1060.83838384,\n",
       "       1063.1010101 , 1065.36363636, 1067.62626263, 1069.88888889,\n",
       "       1072.15151515, 1074.41414141, 1076.67676768, 1078.93939394,\n",
       "       1081.2020202 , 1083.46464646, 1085.72727273, 1087.98989899,\n",
       "       1090.25252525, 1092.51515152, 1094.77777778, 1097.04040404,\n",
       "       1099.3030303 , 1101.56565657, 1103.82828283, 1106.09090909,\n",
       "       1108.35353535, 1110.61616162, 1112.87878788, 1115.14141414,\n",
       "       1117.4040404 , 1119.66666667, 1121.92929293, 1124.19191919,\n",
       "       1126.45454545, 1128.71717172, 1130.97979798, 1133.24242424,\n",
       "       1135.50505051, 1137.76767677, 1140.03030303, 1142.29292929,\n",
       "       1144.55555556, 1146.81818182, 1149.08080808, 1151.34343434,\n",
       "       1153.60606061, 1155.86868687, 1158.13131313, 1160.39393939,\n",
       "       1162.65656566, 1164.91919192, 1167.18181818, 1169.44444444,\n",
       "       1171.70707071, 1173.96969697, 1176.23232323, 1178.49494949,\n",
       "       1180.75757576, 1183.02020202, 1185.28282828, 1187.54545455,\n",
       "       1189.80808081, 1192.07070707, 1194.33333333, 1196.5959596 ,\n",
       "       1198.85858586, 1201.12121212, 1203.38383838, 1205.64646465,\n",
       "       1207.90909091, 1210.17171717, 1212.43434343, 1214.6969697 ,\n",
       "       1216.95959596, 1219.22222222, 1221.48484848, 1223.74747475,\n",
       "       1226.01010101, 1228.27272727, 1230.53535354, 1232.7979798 ,\n",
       "       1235.06060606, 1237.32323232, 1239.58585859, 1241.84848485,\n",
       "       1244.11111111, 1246.37373737, 1248.63636364, 1250.8989899 ,\n",
       "       1253.16161616, 1255.42424242, 1257.68686869, 1259.94949495,\n",
       "       1262.21212121, 1264.47474747, 1266.73737374, 1269.        ])"
      ]
     },
     "execution_count": 172,
     "metadata": {},
     "output_type": "execute_result"
    }
   ],
   "source": [
    "c1 = np.linspace(1157-112,1157+112,100)\n",
    "c1"
   ]
  },
  {
   "cell_type": "code",
   "execution_count": 175,
   "metadata": {},
   "outputs": [
    {
     "data": {
      "text/plain": [
       "100"
      ]
     },
     "execution_count": 175,
     "metadata": {},
     "output_type": "execute_result"
    }
   ],
   "source": [
    "Longitud = len(c1)\n",
    "Longitud"
   ]
  },
  {
   "cell_type": "code",
   "execution_count": 176,
   "metadata": {},
   "outputs": [
    {
     "data": {
      "text/plain": [
       "array([0., 0., 0., 0., 0., 0., 0., 0., 0., 0., 0., 0., 0., 0., 0., 0., 0.,\n",
       "       0., 0., 0., 0., 0., 0., 0., 0., 0., 0., 0., 0., 0., 0., 0., 0., 0.,\n",
       "       0., 0., 0., 0., 0., 0., 0., 0., 0., 0., 0., 0., 0., 0., 0., 0., 0.,\n",
       "       0., 0., 0., 0., 0., 0., 0., 0., 0., 0., 0., 0., 0., 0., 0., 0., 0.,\n",
       "       0., 0., 0., 0., 0., 0., 0., 0., 0., 0., 0., 0., 0., 0., 0., 0., 0.,\n",
       "       0., 0., 0., 0., 0., 0., 0., 0., 0., 0., 0., 0., 0., 0., 0.])"
      ]
     },
     "execution_count": 176,
     "metadata": {},
     "output_type": "execute_result"
    }
   ],
   "source": [
    "c2 = np.zeros(100)\n",
    "c2"
   ]
  },
  {
   "cell_type": "code",
   "execution_count": 177,
   "metadata": {},
   "outputs": [
    {
     "data": {
      "text/plain": [
       "array([0., 0., 0., 0., 5., 0., 0., 0., 0., 0., 0., 0., 0., 0., 0., 0., 0.,\n",
       "       0., 0., 0., 0., 0., 0., 0., 0., 0., 0., 0., 0., 0., 0., 0., 0., 0.,\n",
       "       0., 0., 0., 0., 0., 0., 0., 0., 0., 0., 0., 0., 0., 0., 0., 0., 0.,\n",
       "       0., 0., 0., 0., 0., 0., 0., 0., 0., 0., 0., 0., 0., 0., 0., 0., 0.,\n",
       "       0., 0., 0., 0., 0., 0., 0., 0., 0., 0., 0., 0., 0., 0., 0., 0., 0.,\n",
       "       0., 0., 0., 0., 0., 0., 0., 0., 0., 0., 0., 0., 0., 0., 0.])"
      ]
     },
     "execution_count": 177,
     "metadata": {},
     "output_type": "execute_result"
    }
   ],
   "source": [
    "c2[4]=5\n",
    "c2"
   ]
  },
  {
   "cell_type": "code",
   "execution_count": 268,
   "metadata": {},
   "outputs": [
    {
     "data": {
      "text/plain": [
       "    fjac: array([[-1.]])\n",
       "     fun: array([0.        , 1.55343026, 1.55221984, 1.55101471, 1.54981483,\n",
       "       1.54862016, 1.54743067, 1.54624632, 1.54506709, 1.54389295,\n",
       "       1.54272385, 1.54155976, 1.54040066, 1.5392465 , 1.53809727,\n",
       "       1.53695293, 1.53581344, 1.53467878, 1.53354891, 1.53242381,\n",
       "       1.53130345, 1.53018779, 1.5290768 , 1.52797046, 1.52686874,\n",
       "       1.52577161, 1.52467903, 1.52359099, 1.52250745, 1.52142839,\n",
       "       1.52035378, 1.51928358, 1.51821778, 1.51715634, 1.51609925,\n",
       "       1.51504646, 1.51399796, 1.51295373, 1.51191372, 1.51087793,\n",
       "       1.50984632, 1.50881886, 1.50779554, 1.50677633, 1.5057612 ,\n",
       "       1.50475013, 1.50374309, 1.50274007, 1.50174103, 1.50074595,\n",
       "       1.49975481, 1.49876759, 1.49778426, 1.4968048 , 1.49582919,\n",
       "       1.4948574 , 1.49388941, 1.4929252 , 1.49196475, 1.49100804,\n",
       "       1.49005504, 1.48910573, 1.48816009, 1.4872181 , 1.48627974,\n",
       "       1.48534499, 1.48441383, 1.48348623, 1.48256217, 1.48164165,\n",
       "       1.48072462, 1.47981109, 1.47890101, 1.47799439, 1.47709119,\n",
       "       1.47619139, 1.47529499, 1.47440195, 1.47351226, 1.47262591,\n",
       "       1.47174286, 1.47086311, 1.46998664, 1.46911342, 1.46824344,\n",
       "       1.46737668, 1.46651312, 1.46565275, 1.46479555, 1.4639415 ,\n",
       "       1.46309057, 1.46224277, 1.46139806, 1.46055644, 1.45971788,\n",
       "       1.45888237, 1.45804989, 1.45722042, 1.45639396, 1.45557047])\n",
       " message: 'The solution converged.'\n",
       "    nfev: 7\n",
       "     qtf: array([3.71892757e-11])\n",
       "       r: array([0.05294827])\n",
       "  status: 1\n",
       " success: True\n",
       "       x: array([45.25001129])"
      ]
     },
     "execution_count": 268,
     "metadata": {},
     "output_type": "execute_result"
    }
   ],
   "source": [
    "D = 1.93e-13\n",
    "L = 146e-6\n",
    "c1 = np.linspace(1157-112,1157+112,100)\n",
    "c4 = 0.5\n",
    "K = 52\n",
    "k = 7.14e-6\n",
    "sol = root(fonction1,15,args=(D,L,c1,c4,K,k))\n",
    "sol"
   ]
  },
  {
   "cell_type": "code",
   "execution_count": 193,
   "metadata": {},
   "outputs": [],
   "source": [
    "c2 = [1.5535421        , 1.55343026, 1.55221984, 1.55101471, 1.54981483,\n",
    "       1.54862016, 1.54743067, 1.54624632, 1.54506709, 1.54389295,\n",
    "       1.54272385, 1.54155976, 1.54040066, 1.5392465 , 1.53809727,\n",
    "       1.53695293, 1.53581344, 1.53467878, 1.53354891, 1.53242381,\n",
    "       1.53130345, 1.53018779, 1.5290768 , 1.52797046, 1.52686874,\n",
    "       1.52577161, 1.52467903, 1.52359099, 1.52250745, 1.52142839,\n",
    "       1.52035378, 1.51928358, 1.51821778, 1.51715634, 1.51609925,\n",
    "       1.51504646, 1.51399796, 1.51295373, 1.51191372, 1.51087793,\n",
    "       1.50984632, 1.50881886, 1.50779554, 1.50677633, 1.5057612 ,\n",
    "       1.50475013, 1.50374309, 1.50274007, 1.50174103, 1.50074595,\n",
    "       1.49975481, 1.49876759, 1.49778426, 1.4968048 , 1.49582919,\n",
    "       1.4948574 , 1.49388941, 1.4929252 , 1.49196475, 1.49100804,\n",
    "       1.49005504, 1.48910573, 1.48816009, 1.4872181 , 1.48627974,\n",
    "       1.48534499, 1.48441383, 1.48348623, 1.48256217, 1.48164165,\n",
    "       1.48072462, 1.47981109, 1.47890101, 1.47799439, 1.47709119,\n",
    "       1.47619139, 1.47529499, 1.47440195, 1.47351226, 1.47262591,\n",
    "       1.47174286, 1.47086311, 1.46998664, 1.46911342, 1.46824344,\n",
    "       1.46737668, 1.46651312, 1.46565275, 1.46479555, 1.4639415 ,\n",
    "       1.46309057, 1.46224277, 1.46139806, 1.46055644, 1.45971788,\n",
    "       1.45888237, 1.45804989, 1.45722042, 1.45639396, 1.45557047]"
   ]
  },
  {
   "cell_type": "code",
   "execution_count": 240,
   "metadata": {},
   "outputs": [
    {
     "data": {
      "text/plain": [
       "Text(0,0.5,'c2')"
      ]
     },
     "execution_count": 240,
     "metadata": {},
     "output_type": "execute_result"
    },
    {
     "data": {
      "image/png": "[encoded data removed]",
      "text/plain": [
       "<matplotlib.figure.Figure at 0x2259c5696d8>"
      ]
     },
     "metadata": {},
     "output_type": "display_data"
    }
   ],
   "source": [
    "plt.plot(c1,c2, \"b--\")\n",
    "plt.title(\"c2 = f (c1)\")\n",
    "plt.xlabel(\"c1\")\n",
    "plt.ylabel(\"c2\")"
   ]
  },
  {
   "cell_type": "code",
   "execution_count": 303,
   "metadata": {},
   "outputs": [
    {
     "name": "stdout",
     "output_type": "stream",
     "text": [
      "(100,)\n",
      "[22.29206258 22.33480604 22.37754949 22.42029295 22.46303641 22.50577986\n",
      " 22.54852332 22.59126677 22.63401023 22.67675368 22.71949714 22.76224059\n",
      " 22.80498405 22.8477275  22.89047096 22.93321442 22.97595787 23.01870133\n",
      " 23.06144478 23.10418824 23.14693169 23.18967515 23.2324186  23.27516206\n",
      " 23.31790551 23.36064897 23.40339243 23.44613588 23.48887934 23.53162279\n",
      " 23.57436625 23.6171097  23.65985316 23.70259661 23.74534007 23.78808352\n",
      " 23.83082698 23.87357044 23.91631389 23.95905735 24.0018008  24.04454426\n",
      " 24.08728771 24.13003117 24.17277462 24.21551808 24.25826153 24.30100499\n",
      " 24.34374845 24.3864919  24.42923536 24.47197881 24.51472227 24.55746572\n",
      " 24.60020918 24.64295263 24.68569609 24.72843954 24.771183   24.81392646\n",
      " 24.85666991 24.89941337 24.94215682 24.98490028 25.02764373 25.07038719\n",
      " 25.11313064 25.1558741  25.19861755 25.24136101 25.28410447 25.32684792\n",
      " 25.36959138 25.41233483 25.45507829 25.49782174 25.5405652  25.58330865\n",
      " 25.62605211 25.66879556 25.71153902 25.75428248 25.79702593 25.83976939\n",
      " 25.88251284 25.9252563  25.96799975 26.01074321 26.05348666 26.09623012\n",
      " 26.13897357 26.18171703 26.22446049 26.26720394 26.3099474  26.35269085\n",
      " 26.39543431 26.43817776 26.48092122 26.52366467]\n"
     ]
    }
   ],
   "source": [
    "def fonction2(c2,D,L,c1,c4,K,k): \n",
    "    j1 = (D/(L/2)*(c1-c2))\n",
    "    c3 = c2/K\n",
    "    j2 = k*(c3-c4)\n",
    "    return (j1-j2)/j1\n",
    "i = 0\n",
    "c2 = np.zeros(100) \n",
    "dimension = np.shape(c2)\n",
    "print(dimension)\n",
    "c1 = np.linspace(1157-112,1157+112,100)\n",
    "D = 1.93e-13\n",
    "L = 146e-6\n",
    "c4 = 0.05\n",
    "K = 52\n",
    "k = 7.14e-6\n",
    "for c1i in c1:\n",
    "    sol = root(fonction2,15,args=(D,L,c1i,c4,K,k))\n",
    "    c2[i]= sol.x \n",
    "    i = i + 1\n",
    "print(c2)"
   ]
  },
  {
   "cell_type": "code",
   "execution_count": 258,
   "metadata": {},
   "outputs": [],
   "source": [
    "def fonction2(c2,D,L,c1,c4,K,k): \n",
    "    j1 = (D/(L/2)*(c1-c2))\n",
    "    c3 = c2/K\n",
    "    j2 = k*(c3-c4)\n",
    "    return (j1-j2)/j1"
   ]
  },
  {
   "cell_type": "code",
   "execution_count": 272,
   "metadata": {},
   "outputs": [
    {
     "data": {
      "text/plain": [
       "    fjac: array([[-1.]])\n",
       "     fun: array([-3.13266697e-16,  3.76133163e-01,  3.77497631e-01,  3.78856145e-01,\n",
       "        3.80208742e-01,  3.81555460e-01,  3.82896339e-01,  3.84231417e-01,\n",
       "        3.85560729e-01,  3.86884315e-01,  3.88202211e-01,  3.89514453e-01,\n",
       "        3.90821078e-01,  3.92122122e-01,  3.93417620e-01,  3.94707609e-01,\n",
       "        3.95992122e-01,  3.97271194e-01,  3.98544862e-01,  3.99813157e-01,\n",
       "        4.01076115e-01,  4.02333768e-01,  4.03586151e-01,  4.04833297e-01,\n",
       "        4.06075237e-01,  4.07312005e-01,  4.08543633e-01,  4.09770153e-01,\n",
       "        4.10991597e-01,  4.12207995e-01,  4.13419380e-01,  4.14625782e-01,\n",
       "        4.15827232e-01,  4.17023760e-01,  4.18215396e-01,  4.19402171e-01,\n",
       "        4.20584114e-01,  4.21761255e-01,  4.22933622e-01,  4.24101245e-01,\n",
       "        4.25264152e-01,  4.26422373e-01,  4.27575934e-01,  4.28724865e-01,\n",
       "        4.29869193e-01,  4.31008946e-01,  4.32144151e-01,  4.33274835e-01,\n",
       "        4.34401026e-01,  4.35522749e-01,  4.36640032e-01,  4.37752901e-01,\n",
       "        4.38861381e-01,  4.39965500e-01,  4.41065282e-01,  4.42160753e-01,\n",
       "        4.43251938e-01,  4.44338863e-01,  4.45421552e-01,  4.46500030e-01,\n",
       "        4.47574321e-01,  4.48644451e-01,  4.49710442e-01,  4.50772320e-01,\n",
       "        4.51830107e-01,  4.52883827e-01,  4.53933505e-01,  4.54979162e-01,\n",
       "        4.56020822e-01,  4.57058508e-01,  4.58092243e-01,  4.59122049e-01,\n",
       "        4.60147948e-01,  4.61169963e-01,  4.62188116e-01,  4.63202428e-01,\n",
       "        4.64212922e-01,  4.65219618e-01,  4.66222538e-01,  4.67221704e-01,\n",
       "        4.68217136e-01,  4.69208855e-01,  4.70196882e-01,  4.71181238e-01,\n",
       "        4.72161943e-01,  4.73139017e-01,  4.74112480e-01,  4.75082353e-01,\n",
       "        4.76048655e-01,  4.77011406e-01,  4.77970625e-01,  4.78926332e-01,\n",
       "        4.79878546e-01,  4.80827286e-01,  4.81772572e-01,  4.82714421e-01,\n",
       "        4.83652853e-01,  4.84587887e-01,  4.85519540e-01,  4.86447831e-01])\n",
       " message: 'The solution converged.'\n",
       "    nfev: 6\n",
       "     qtf: array([-9.75518447e-10])\n",
       "       r: array([0.05175966])\n",
       "  status: 1\n",
       " success: True\n",
       "       x: array([22.29206258])"
      ]
     },
     "execution_count": 272,
     "metadata": {},
     "output_type": "execute_result"
    }
   ],
   "source": [
    "D = 1.93e-13\n",
    "L = 146e-6\n",
    "c1 = np.linspace(1157-112,1157+112,100)\n",
    "c4 = 0.05\n",
    "K = 52\n",
    "k = 7.14e-6\n",
    "sol = root(fonction1,15,args=(D,L,c1,c4,K,k))\n",
    "sol"
   ]
  },
  {
   "cell_type": "code",
   "execution_count": null,
   "metadata": {},
   "outputs": [],
   "source": []
  },
  {
   "cell_type": "code",
   "execution_count": 304,
   "metadata": {},
   "outputs": [
    {
     "data": {
      "text/plain": [
       "Text(0,0.5,'c2')"
      ]
     },
     "execution_count": 304,
     "metadata": {},
     "output_type": "execute_result"
    },
    {
     "data": {
      "image/png": "[encoded data removed]",
      "text/plain": [
       "<matplotlib.figure.Figure at 0x2259f13f400>"
      ]
     },
     "metadata": {},
     "output_type": "display_data"
    }
   ],
   "source": [
    "plt.plot(c1,c2, \"g--\")\n",
    "plt.title(\"c2 = f (c1)\")\n",
    "plt.xlabel(\"c1\")\n",
    "plt.ylabel(\"c2\")"
   ]
  },
  {
   "cell_type": "code",
   "execution_count": 354,
   "metadata": {},
   "outputs": [
    {
     "data": {
      "text/html": [
       "<div>\n",
       "<style scoped>\n",
       "    .dataframe tbody tr th:only-of-type {\n",
       "        vertical-align: middle;\n",
       "    }\n",
       "\n",
       "    .dataframe tbody tr th {\n",
       "        vertical-align: top;\n",
       "    }\n",
       "\n",
       "    .dataframe thead th {\n",
       "        text-align: right;\n",
       "    }\n",
       "</style>\n",
       "<table border=\"1\" class=\"dataframe\">\n",
       "  <thead>\n",
       "    <tr style=\"text-align: right;\">\n",
       "      <th></th>\n",
       "      <th>first_name</th>\n",
       "      <th>last_name</th>\n",
       "      <th>age</th>\n",
       "      <th>preTestScore</th>\n",
       "      <th>postTestScore</th>\n",
       "    </tr>\n",
       "  </thead>\n",
       "  <tbody>\n",
       "    <tr>\n",
       "      <th>exp1</th>\n",
       "      <td>Jason</td>\n",
       "      <td>Miller</td>\n",
       "      <td>42</td>\n",
       "      <td>4</td>\n",
       "      <td>25</td>\n",
       "    </tr>\n",
       "    <tr>\n",
       "      <th>exp2</th>\n",
       "      <td>Molly</td>\n",
       "      <td>Jacobson</td>\n",
       "      <td>52</td>\n",
       "      <td>24</td>\n",
       "      <td>94</td>\n",
       "    </tr>\n",
       "    <tr>\n",
       "      <th>exp3</th>\n",
       "      <td>Tina</td>\n",
       "      <td>Ali</td>\n",
       "      <td>36</td>\n",
       "      <td>31</td>\n",
       "      <td>57</td>\n",
       "    </tr>\n",
       "    <tr>\n",
       "      <th>exp4</th>\n",
       "      <td>Jake</td>\n",
       "      <td>Milner</td>\n",
       "      <td>24</td>\n",
       "      <td>2</td>\n",
       "      <td>62</td>\n",
       "    </tr>\n",
       "    <tr>\n",
       "      <th>exp5</th>\n",
       "      <td>Amy</td>\n",
       "      <td>Cooze</td>\n",
       "      <td>73</td>\n",
       "      <td>3</td>\n",
       "      <td>70</td>\n",
       "    </tr>\n",
       "  </tbody>\n",
       "</table>\n",
       "</div>"
      ],
      "text/plain": [
       "     first_name last_name  age  preTestScore  postTestScore\n",
       "exp1      Jason    Miller   42             4             25\n",
       "exp2      Molly  Jacobson   52            24             94\n",
       "exp3       Tina       Ali   36            31             57\n",
       "exp4       Jake    Milner   24             2             62\n",
       "exp5        Amy     Cooze   73             3             70"
      ]
     },
     "execution_count": 354,
     "metadata": {},
     "output_type": "execute_result"
    }
   ],
   "source": [
    "raw_data = {'first_name': ['Jason', 'Molly', 'Tina', 'Jake', 'Amy'], \n",
    "        'last_name': ['Miller', 'Jacobson', 'Ali', 'Milner', 'Cooze'], \n",
    "        'age': [42, 52, 36, 24, 73], \n",
    "        'preTestScore': [4, 24, 31, 2, 3],\n",
    "        'postTestScore': [25, 94, 57, 62, 70]}\n",
    "df = pd.DataFrame(raw_data, index = ['exp1', 'exp2', 'exp3','exp4','exp5'],columns = ['first_name', 'last_name', 'age', 'preTestScore', 'postTestScore']\n",
    ")\n",
    "df"
   ]
  },
  {
   "cell_type": "code",
   "execution_count": 355,
   "metadata": {},
   "outputs": [],
   "source": [
    "df.to_csv('df2')"
   ]
  },
  {
   "cell_type": "code",
   "execution_count": 348,
   "metadata": {},
   "outputs": [
    {
     "data": {
      "text/plain": [
       "0    25\n",
       "1    94\n",
       "2    57\n",
       "3    62\n",
       "4    70\n",
       "Name: postTestScore, dtype: int64"
      ]
     },
     "execution_count": 348,
     "metadata": {},
     "output_type": "execute_result"
    }
   ],
   "source": [
    "df[\"postTestScore\"]"
   ]
  },
  {
   "cell_type": "code",
   "execution_count": null,
   "metadata": {},
   "outputs": [],
   "source": []
  },
  {
   "cell_type": "code",
   "execution_count": 345,
   "metadata": {},
   "outputs": [],
   "source": [
    "class Rectangle:\n",
    "    def __init__(self,base, altura):\n",
    "        self.base = base\n",
    "        self.altura = altura\n",
    "    def aire(self):\n",
    "        return self.base*self.altura\n",
    "    def perimetre(self):\n",
    "        return(self.base+self.altura)*2\n",
    "    def volume(self, profondeur):\n",
    "        return self.aire()*profondeur\n",
    "    def __str__(self):\n",
    "        return\"{} de {}x{}\".format(type(self). name, self.base,self.altura)"
   ]
  },
  {
   "cell_type": "code",
   "execution_count": 346,
   "metadata": {},
   "outputs": [
    {
     "data": {
      "text/plain": [
       "<__main__.Rectangle at 0x2259f150320>"
      ]
     },
     "execution_count": 346,
     "metadata": {},
     "output_type": "execute_result"
    }
   ],
   "source": [
    "r = Rectangle(3,4)\n",
    "r"
   ]
  },
  {
   "cell_type": "code",
   "execution_count": 343,
   "metadata": {},
   "outputs": [
    {
     "ename": "IndentationError",
     "evalue": "expected an indented block (<ipython-input-343-4323d9e80de8>, line 4)",
     "output_type": "error",
     "traceback": [
      "\u001b[1;36m  File \u001b[1;32m\"<ipython-input-343-4323d9e80de8>\"\u001b[1;36m, line \u001b[1;32m4\u001b[0m\n\u001b[1;33m    Delta = (b**2)-(4*a*c)\u001b[0m\n\u001b[1;37m    ^\u001b[0m\n\u001b[1;31mIndentationError\u001b[0m\u001b[1;31m:\u001b[0m expected an indented block\n"
     ]
    }
   ],
   "source": [
    "class Polynôme:\n",
    "    def __init__ (dataset=pd.read_csv(\"fbao.txt\",sep=\" \")):\n",
    "        def calcul(self):\n",
    "    Delta = (b**2)-(4*a*c)\n",
    "    print (\"Delta = {}\".format(Delta))\n",
    "    if Delta < 0:\n",
    "        print(\"L'equation n'a pas de solutions réelles\")\n",
    "        x1 = (-b+cmath.sqrt((b**2)-(4*a*c)))/(2*a)\n",
    "        x2 = (-b-cmath.sqrt((b**2)-(4*a*c)))/(2*a)\n",
    "        print (\"L'equation a deux solution: x1 = {0} et x2 ={1}\".format(x1,x2))\n",
    "    elif Delta == 0:\n",
    "        x = (-b/(2*a))\n",
    "        print (\"L'equation a une solution: x = {}\".format(x))\n",
    "    else:\n",
    "        x1 = (-b+math.sqrt((b**2)-(4*a*c)))/(2*a)\n",
    "        x2 = (-b-math.sqrt((b**2)-(4*a*c)))/(2*a)\n",
    "        print (\"L'equation a deux solution: x1 = {0} et x2 ={1}\".format(x1,x2))\n",
    "    try:\n",
    "        d = 1/Delta     \n",
    "        print(\"Possible\") \n",
    "    except ZeroDivisionError:\n",
    "        print(\"Division par 0 : impossible\") \n",
    "    x = np.linspace(-5,5,100)\n",
    "    g = (a*x**2)+b*x+c        \n",
    "    plt.plot(x,g)\n",
    "    plt.title(\"Fonction\")\n",
    "    plt.xlabel(\"x\")\n",
    "    plt.ylabel(\"y\")\n",
    "    plt.grid(True)\n",
    "    plt.annotate(\"x1\",xy=(x1,0))\n",
    "    plt.annotate(\"x2\",xy=(x2,0))\n",
    "    def garder(self):\n",
    "        df.to_csv\n",
    "    "
   ]
  },
  {
   "cell_type": "code",
   "execution_count": null,
   "metadata": {},
   "outputs": [],
   "source": []
  }
 ],
 "metadata": {
  "kernelspec": {
   "display_name": "Python 3",
   "language": "python",
   "name": "python3"
  },
  "language_info": {
   "codemirror_mode": {
    "name": "ipython",
    "version": 3
   },
   "file_extension": ".py",
   "mimetype": "text/x-python",
   "name": "python",
   "nbconvert_exporter": "python",
   "pygments_lexer": "ipython3",
   "version": "3.6.4"
  }
 },
 "nbformat": 4,
 "nbformat_minor": 2
}
