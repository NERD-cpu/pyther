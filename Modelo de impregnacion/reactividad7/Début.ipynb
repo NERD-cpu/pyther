{
 "cells": [
  {
   "cell_type": "code",
   "execution_count": 13,
   "metadata": {},
   "outputs": [],
   "source": [
    "import numpy as np\n",
    "import pandas as pd\n",
    "import math\n",
    "import cmath\n",
    "from scipy.optimize import root\n",
    "import matplotlib.pyplot as plt\n",
    "%matplotlib inline"
   ]
  },
  {
   "cell_type": "code",
   "execution_count": 224,
   "metadata": {},
   "outputs": [
    {
     "ename": "NameError",
     "evalue": "name 'self' is not defined",
     "output_type": "error",
     "traceback": [
      "\u001b[1;31m---------------------------------------------------------------------------\u001b[0m",
      "\u001b[1;31mNameError\u001b[0m                                 Traceback (most recent call last)",
      "\u001b[1;32m<ipython-input-224-d61dfc2df070>\u001b[0m in \u001b[0;36m<module>\u001b[1;34m()\u001b[0m\n\u001b[1;32m----> 1\u001b[1;33m \u001b[0mSolutions\u001b[0m \u001b[1;33m=\u001b[0m \u001b[1;33m{\u001b[0m\u001b[1;34m'a'\u001b[0m\u001b[1;33m:\u001b[0m \u001b[1;33m[\u001b[0m\u001b[1;36m1\u001b[0m\u001b[1;33m]\u001b[0m\u001b[1;33m,\u001b[0m\u001b[1;34m'b'\u001b[0m\u001b[1;33m:\u001b[0m \u001b[1;33m[\u001b[0m\u001b[1;36m2\u001b[0m\u001b[1;33m]\u001b[0m\u001b[1;33m,\u001b[0m \u001b[1;34m'c'\u001b[0m\u001b[1;33m:\u001b[0m \u001b[1;33m[\u001b[0m\u001b[1;36m3\u001b[0m\u001b[1;33m]\u001b[0m\u001b[1;33m,\u001b[0m\u001b[1;34m'x1'\u001b[0m\u001b[1;33m:\u001b[0m \u001b[1;33m[\u001b[0m\u001b[0mself\u001b[0m\u001b[1;33m.\u001b[0m\u001b[0mx1\u001b[0m\u001b[1;33m]\u001b[0m\u001b[1;33m,\u001b[0m\u001b[1;34m'x2'\u001b[0m\u001b[1;33m:\u001b[0m \u001b[1;33m[\u001b[0m\u001b[0mself\u001b[0m\u001b[1;33m.\u001b[0m\u001b[0mx2\u001b[0m\u001b[1;33m]\u001b[0m\u001b[1;33m}\u001b[0m\u001b[1;33m\u001b[0m\u001b[0m\n\u001b[0m\u001b[0;32m      2\u001b[0m \u001b[0mdf\u001b[0m \u001b[1;33m=\u001b[0m \u001b[0mpd\u001b[0m\u001b[1;33m.\u001b[0m\u001b[0mDataFrame\u001b[0m\u001b[1;33m(\u001b[0m\u001b[0mSolutions\u001b[0m\u001b[1;33m,\u001b[0m \u001b[0mindex\u001b[0m \u001b[1;33m=\u001b[0m \u001b[1;33m[\u001b[0m\u001b[1;34m'exp1'\u001b[0m\u001b[1;33m,\u001b[0m \u001b[1;34m'exp2'\u001b[0m\u001b[1;33m,\u001b[0m \u001b[1;34m'exp3'\u001b[0m\u001b[1;33m,\u001b[0m\u001b[1;34m'exp4'\u001b[0m\u001b[1;33m,\u001b[0m\u001b[1;34m'exp5'\u001b[0m\u001b[1;33m]\u001b[0m\u001b[1;33m,\u001b[0m\u001b[0mcolumns\u001b[0m \u001b[1;33m=\u001b[0m \u001b[1;33m[\u001b[0m\u001b[1;34m'a'\u001b[0m\u001b[1;33m,\u001b[0m \u001b[1;34m'b'\u001b[0m\u001b[1;33m,\u001b[0m \u001b[1;34m'c'\u001b[0m\u001b[1;33m,\u001b[0m \u001b[1;34m'x1'\u001b[0m\u001b[1;33m,\u001b[0m \u001b[1;34m'x2'\u001b[0m\u001b[1;33m]\u001b[0m\u001b[1;33m)\u001b[0m\u001b[1;33m\u001b[0m\u001b[0m\n\u001b[0;32m      3\u001b[0m \u001b[0mdf\u001b[0m\u001b[1;33m\u001b[0m\u001b[0m\n",
      "\u001b[1;31mNameError\u001b[0m: name 'self' is not defined"
     ]
    }
   ],
   "source": [
    "Solutions = {'a': [1],'b': [2], 'c': [3],'x1': [self.x1],'x2': [self.x2]}\n",
    "df = pd.DataFrame(Solutions, index = ['exp1', 'exp2', 'exp3','exp4','exp5'],columns = ['a', 'b', 'c', 'x1', 'x2'])\n",
    "df"
   ]
  },
  {
   "cell_type": "code",
   "execution_count": 489,
   "metadata": {},
   "outputs": [],
   "source": [
    "class Polynôme:\n",
    "    def __init__ (self,file):\n",
    "        self.file = file\n",
    "        \n",
    "    def leer(self):\n",
    "        paramètres = pd.read_csv(self.file,sep=\" \")\n",
    "        coefficients = paramètres.values\n",
    "        self.a = coefficients[:,0]\n",
    "        self.b = coefficients[:,1]\n",
    "        self.c = coefficients[:,2]\n",
    "        print(self.a,self.b,self.c)\n",
    "        return paramètres\n",
    "    def calcul(self):\n",
    "        i = 0\n",
    "        self.x1 = np.zeros(18)\n",
    "        self.x2 =np.zeros(18)\n",
    "        Deltas = (self.b**2)-(4*self.a*self.c)\n",
    "        print (\"Delta = {}\".format(Deltas))\n",
    "        for Delta in Deltas:\n",
    "            if Delta < 0:\n",
    "                print(\"L'equation n'a pas de solutions réelles\")\n",
    "                self.x1i = (-self.b+cmath.sqrt(Delta))/(2*self.a)\n",
    "                self.x2i = (-self.b-cmath.sqrt(Delta))/(2*self.a)\n",
    "                print (\"L'equation a deux solutions : x1 = {0} et x2 ={1}\".format(self.x1,self.x2))\n",
    "            elif Delta == 0:\n",
    "                self.xi = (-self.b/(2*self.a))\n",
    "                print (\"L'equation a une solution: x = {}\".format(x))\n",
    "            else:\n",
    "                self.x1i = (-self.b+math.sqrt(Delta))/(2*self.a)\n",
    "                self.x2i = (-self.b-math.sqrt(Delta))/(2*self.a)\n",
    "                print (\"L'equation a deux solutions : x1 = {0} et x2 ={1}\".format(self.x1,self.x2))\n",
    "        try:\n",
    "            d = 1/Delta     \n",
    "            print(\"Possible\") \n",
    "        except ZeroDivisionError:\n",
    "            print(\"Division par 0 : impossible\") \n",
    "        for self.x1i in self.x1:\n",
    "                self.x1[i]= self.x1 \n",
    "                print(x1)\n",
    "        for self.x2i in self.x2:\n",
    "                self.x2[i] = self.x2\n",
    "                print(x2)\n",
    "        return calcul(self)\n",
    "    def graphique(self):\n",
    "        x = np.linspace(-5,5,100)\n",
    "        g = (self.a*x**2)+self.b*x+self.c     \n",
    "        plt.plot(x,g)\n",
    "        plt.title(\"Fonction\")\n",
    "        plt.xlabel(\"x\")\n",
    "        plt.ylabel(\"y\")\n",
    "        plt.grid(True)\n",
    "        plt.annotate(\"x1\",xy=(self.x1,0))\n",
    "        plt.annotate(\"x2\",xy=(self.x2,0))\n",
    "    def Solutions(self):\n",
    "        Solutions2= {'a': [self.a],'b': [self.b], 'c': [self.c],'x1': [self.x1],'x2': [self.x2]}\n",
    "        self.df = pd.DataFrame(Solutions2, index = ['exp1','exp2','exp3','exp4','exp5'],columns = ['a', 'b', 'c', 'x1', 'x2'])\n",
    "        self.df\n",
    "        self.df.to_csv(\"Polynome2.csv\")\n",
    "    def addition(self):\n",
    "        self.add = self.x1+self.x2\n",
    "        return self.add\n",
    "    def carre(self):\n",
    "        carre = self.add**2\n",
    "        return carre\n",
    "    def copie(self):\n",
    "        df2 = self.df.copy()\n",
    "        df2\n",
    "        return df2"
   ]
  },
  {
   "cell_type": "code",
   "execution_count": 494,
   "metadata": {},
   "outputs": [
    {
     "data": {
      "text/plain": [
       "<__main__.Polynôme at 0x1600130acc0>"
      ]
     },
     "execution_count": 494,
     "metadata": {},
     "output_type": "execute_result"
    }
   ],
   "source": [
    "p = Polynôme(\"fbao.txt\")\n",
    "p"
   ]
  },
  {
   "cell_type": "code",
   "execution_count": 491,
   "metadata": {},
   "outputs": [
    {
     "name": "stdout",
     "output_type": "stream",
     "text": [
      "[1 2 5 4 7 0 6 8 9] [ 2  3 -2  6 -2  5 -2 -1 -4] [-3 -5 -3 -3 -1 -2 -5 -9 -1]\n"
     ]
    },
    {
     "data": {
      "text/html": [
       "<div>\n",
       "<style scoped>\n",
       "    .dataframe tbody tr th:only-of-type {\n",
       "        vertical-align: middle;\n",
       "    }\n",
       "\n",
       "    .dataframe tbody tr th {\n",
       "        vertical-align: top;\n",
       "    }\n",
       "\n",
       "    .dataframe thead th {\n",
       "        text-align: right;\n",
       "    }\n",
       "</style>\n",
       "<table border=\"1\" class=\"dataframe\">\n",
       "  <thead>\n",
       "    <tr style=\"text-align: right;\">\n",
       "      <th></th>\n",
       "      <th>a</th>\n",
       "      <th>b</th>\n",
       "      <th>c</th>\n",
       "    </tr>\n",
       "  </thead>\n",
       "  <tbody>\n",
       "    <tr>\n",
       "      <th>0</th>\n",
       "      <td>1</td>\n",
       "      <td>2</td>\n",
       "      <td>-3</td>\n",
       "    </tr>\n",
       "    <tr>\n",
       "      <th>1</th>\n",
       "      <td>2</td>\n",
       "      <td>3</td>\n",
       "      <td>-5</td>\n",
       "    </tr>\n",
       "    <tr>\n",
       "      <th>2</th>\n",
       "      <td>5</td>\n",
       "      <td>-2</td>\n",
       "      <td>-3</td>\n",
       "    </tr>\n",
       "    <tr>\n",
       "      <th>3</th>\n",
       "      <td>4</td>\n",
       "      <td>6</td>\n",
       "      <td>-3</td>\n",
       "    </tr>\n",
       "    <tr>\n",
       "      <th>4</th>\n",
       "      <td>7</td>\n",
       "      <td>-2</td>\n",
       "      <td>-1</td>\n",
       "    </tr>\n",
       "    <tr>\n",
       "      <th>5</th>\n",
       "      <td>0</td>\n",
       "      <td>5</td>\n",
       "      <td>-2</td>\n",
       "    </tr>\n",
       "    <tr>\n",
       "      <th>6</th>\n",
       "      <td>6</td>\n",
       "      <td>-2</td>\n",
       "      <td>-5</td>\n",
       "    </tr>\n",
       "    <tr>\n",
       "      <th>7</th>\n",
       "      <td>8</td>\n",
       "      <td>-1</td>\n",
       "      <td>-9</td>\n",
       "    </tr>\n",
       "    <tr>\n",
       "      <th>8</th>\n",
       "      <td>9</td>\n",
       "      <td>-4</td>\n",
       "      <td>-1</td>\n",
       "    </tr>\n",
       "  </tbody>\n",
       "</table>\n",
       "</div>"
      ],
      "text/plain": [
       "   a  b  c\n",
       "0  1  2 -3\n",
       "1  2  3 -5\n",
       "2  5 -2 -3\n",
       "3  4  6 -3\n",
       "4  7 -2 -1\n",
       "5  0  5 -2\n",
       "6  6 -2 -5\n",
       "7  8 -1 -9\n",
       "8  9 -4 -1"
      ]
     },
     "execution_count": 491,
     "metadata": {},
     "output_type": "execute_result"
    }
   ],
   "source": [
    "p.leer()"
   ]
  },
  {
   "cell_type": "code",
   "execution_count": 495,
   "metadata": {},
   "outputs": [
    {
     "data": {
      "text/plain": [
       "'fbao.txt'"
      ]
     },
     "execution_count": 495,
     "metadata": {},
     "output_type": "execute_result"
    }
   ],
   "source": [
    "file = \"fbao.txt\"\n",
    "file"
   ]
  },
  {
   "cell_type": "code",
   "execution_count": 493,
   "metadata": {},
   "outputs": [
    {
     "name": "stdout",
     "output_type": "stream",
     "text": [
      "Delta = [ 16  49  64  84  32  25 124 289  52]\n",
      "L'equation a deux solutions : x1 = [0. 0. 0. 0. 0. 0. 0. 0. 0. 0. 0. 0. 0. 0. 0. 0. 0. 0.] et x2 =[0. 0. 0. 0. 0. 0. 0. 0. 0. 0. 0. 0. 0. 0. 0. 0. 0. 0.]\n",
      "L'equation a deux solutions : x1 = [0. 0. 0. 0. 0. 0. 0. 0. 0. 0. 0. 0. 0. 0. 0. 0. 0. 0.] et x2 =[0. 0. 0. 0. 0. 0. 0. 0. 0. 0. 0. 0. 0. 0. 0. 0. 0. 0.]\n",
      "L'equation a deux solutions : x1 = [0. 0. 0. 0. 0. 0. 0. 0. 0. 0. 0. 0. 0. 0. 0. 0. 0. 0.] et x2 =[0. 0. 0. 0. 0. 0. 0. 0. 0. 0. 0. 0. 0. 0. 0. 0. 0. 0.]\n",
      "L'equation a deux solutions : x1 = [0. 0. 0. 0. 0. 0. 0. 0. 0. 0. 0. 0. 0. 0. 0. 0. 0. 0.] et x2 =[0. 0. 0. 0. 0. 0. 0. 0. 0. 0. 0. 0. 0. 0. 0. 0. 0. 0.]\n",
      "L'equation a deux solutions : x1 = [0. 0. 0. 0. 0. 0. 0. 0. 0. 0. 0. 0. 0. 0. 0. 0. 0. 0.] et x2 =[0. 0. 0. 0. 0. 0. 0. 0. 0. 0. 0. 0. 0. 0. 0. 0. 0. 0.]\n",
      "L'equation a deux solutions : x1 = [0. 0. 0. 0. 0. 0. 0. 0. 0. 0. 0. 0. 0. 0. 0. 0. 0. 0.] et x2 =[0. 0. 0. 0. 0. 0. 0. 0. 0. 0. 0. 0. 0. 0. 0. 0. 0. 0.]\n",
      "L'equation a deux solutions : x1 = [0. 0. 0. 0. 0. 0. 0. 0. 0. 0. 0. 0. 0. 0. 0. 0. 0. 0.] et x2 =[0. 0. 0. 0. 0. 0. 0. 0. 0. 0. 0. 0. 0. 0. 0. 0. 0. 0.]\n",
      "L'equation a deux solutions : x1 = [0. 0. 0. 0. 0. 0. 0. 0. 0. 0. 0. 0. 0. 0. 0. 0. 0. 0.] et x2 =[0. 0. 0. 0. 0. 0. 0. 0. 0. 0. 0. 0. 0. 0. 0. 0. 0. 0.]\n",
      "L'equation a deux solutions : x1 = [0. 0. 0. 0. 0. 0. 0. 0. 0. 0. 0. 0. 0. 0. 0. 0. 0. 0.] et x2 =[0. 0. 0. 0. 0. 0. 0. 0. 0. 0. 0. 0. 0. 0. 0. 0. 0. 0.]\n",
      "Possible\n"
     ]
    },
    {
     "name": "stderr",
     "output_type": "stream",
     "text": [
      "C:\\Users\\Agnès\\Anaconda3\\lib\\site-packages\\ipykernel_launcher.py:29: RuntimeWarning: divide by zero encountered in true_divide\n",
      "C:\\Users\\Agnès\\Anaconda3\\lib\\site-packages\\ipykernel_launcher.py:30: RuntimeWarning: divide by zero encountered in true_divide\n",
      "C:\\Users\\Agnès\\Anaconda3\\lib\\site-packages\\ipykernel_launcher.py:29: RuntimeWarning: invalid value encountered in true_divide\n"
     ]
    },
    {
     "ename": "ValueError",
     "evalue": "setting an array element with a sequence.",
     "output_type": "error",
     "traceback": [
      "\u001b[1;31m---------------------------------------------------------------------------\u001b[0m",
      "\u001b[1;31mValueError\u001b[0m                                Traceback (most recent call last)",
      "\u001b[1;32m<ipython-input-493-0317c0f8b0b2>\u001b[0m in \u001b[0;36m<module>\u001b[1;34m()\u001b[0m\n\u001b[1;32m----> 1\u001b[1;33m \u001b[0mp\u001b[0m\u001b[1;33m.\u001b[0m\u001b[0mcalcul\u001b[0m\u001b[1;33m(\u001b[0m\u001b[1;33m)\u001b[0m\u001b[1;33m\u001b[0m\u001b[0m\n\u001b[0m\u001b[0;32m      2\u001b[0m \u001b[0mtype\u001b[0m\u001b[1;33m(\u001b[0m\u001b[0mp\u001b[0m\u001b[1;33m.\u001b[0m\u001b[0mcalcul\u001b[0m\u001b[1;33m(\u001b[0m\u001b[1;33m)\u001b[0m\u001b[1;33m)\u001b[0m\u001b[1;33m\u001b[0m\u001b[0m\n",
      "\u001b[1;32m<ipython-input-489-57aaf2ed9123>\u001b[0m in \u001b[0;36mcalcul\u001b[1;34m(self)\u001b[0m\n\u001b[0;32m     36\u001b[0m             \u001b[0mprint\u001b[0m\u001b[1;33m(\u001b[0m\u001b[1;34m\"Division par 0 : impossible\"\u001b[0m\u001b[1;33m)\u001b[0m\u001b[1;33m\u001b[0m\u001b[0m\n\u001b[0;32m     37\u001b[0m         \u001b[1;32mfor\u001b[0m \u001b[0mself\u001b[0m\u001b[1;33m.\u001b[0m\u001b[0mx1i\u001b[0m \u001b[1;32min\u001b[0m \u001b[0mself\u001b[0m\u001b[1;33m.\u001b[0m\u001b[0mx1\u001b[0m\u001b[1;33m:\u001b[0m\u001b[1;33m\u001b[0m\u001b[0m\n\u001b[1;32m---> 38\u001b[1;33m                 \u001b[0mself\u001b[0m\u001b[1;33m.\u001b[0m\u001b[0mx1\u001b[0m\u001b[1;33m[\u001b[0m\u001b[0mi\u001b[0m\u001b[1;33m]\u001b[0m\u001b[1;33m=\u001b[0m \u001b[0mself\u001b[0m\u001b[1;33m.\u001b[0m\u001b[0mx1\u001b[0m\u001b[1;33m\u001b[0m\u001b[0m\n\u001b[0m\u001b[0;32m     39\u001b[0m                 \u001b[0mprint\u001b[0m\u001b[1;33m(\u001b[0m\u001b[0mx1\u001b[0m\u001b[1;33m)\u001b[0m\u001b[1;33m\u001b[0m\u001b[0m\n\u001b[0;32m     40\u001b[0m         \u001b[1;32mfor\u001b[0m \u001b[0mself\u001b[0m\u001b[1;33m.\u001b[0m\u001b[0mx2i\u001b[0m \u001b[1;32min\u001b[0m \u001b[0mself\u001b[0m\u001b[1;33m.\u001b[0m\u001b[0mx2\u001b[0m\u001b[1;33m:\u001b[0m\u001b[1;33m\u001b[0m\u001b[0m\n",
      "\u001b[1;31mValueError\u001b[0m: setting an array element with a sequence."
     ]
    }
   ],
   "source": [
    "p.calcul()\n",
    "type(p.calcul())"
   ]
  },
  {
   "cell_type": "code",
   "execution_count": 480,
   "metadata": {},
   "outputs": [],
   "source": [
    "p.Solutions()"
   ]
  },
  {
   "cell_type": "code",
   "execution_count": 481,
   "metadata": {},
   "outputs": [
    {
     "ename": "ValueError",
     "evalue": "operands could not be broadcast together with shapes (9,) (100,) ",
     "output_type": "error",
     "traceback": [
      "\u001b[1;31m---------------------------------------------------------------------------\u001b[0m",
      "\u001b[1;31mValueError\u001b[0m                                Traceback (most recent call last)",
      "\u001b[1;32m<ipython-input-481-c45da0440a37>\u001b[0m in \u001b[0;36m<module>\u001b[1;34m()\u001b[0m\n\u001b[1;32m----> 1\u001b[1;33m \u001b[0mp\u001b[0m\u001b[1;33m.\u001b[0m\u001b[0mgraphique\u001b[0m\u001b[1;33m(\u001b[0m\u001b[1;33m)\u001b[0m\u001b[1;33m\u001b[0m\u001b[0m\n\u001b[0m",
      "\u001b[1;32m<ipython-input-475-4009ec388011>\u001b[0m in \u001b[0;36mgraphique\u001b[1;34m(self)\u001b[0m\n\u001b[0;32m     43\u001b[0m     \u001b[1;32mdef\u001b[0m \u001b[0mgraphique\u001b[0m\u001b[1;33m(\u001b[0m\u001b[0mself\u001b[0m\u001b[1;33m)\u001b[0m\u001b[1;33m:\u001b[0m\u001b[1;33m\u001b[0m\u001b[0m\n\u001b[0;32m     44\u001b[0m         \u001b[0mx\u001b[0m \u001b[1;33m=\u001b[0m \u001b[0mnp\u001b[0m\u001b[1;33m.\u001b[0m\u001b[0mlinspace\u001b[0m\u001b[1;33m(\u001b[0m\u001b[1;33m-\u001b[0m\u001b[1;36m5\u001b[0m\u001b[1;33m,\u001b[0m\u001b[1;36m5\u001b[0m\u001b[1;33m,\u001b[0m\u001b[1;36m100\u001b[0m\u001b[1;33m)\u001b[0m\u001b[1;33m\u001b[0m\u001b[0m\n\u001b[1;32m---> 45\u001b[1;33m         \u001b[0mg\u001b[0m \u001b[1;33m=\u001b[0m \u001b[1;33m(\u001b[0m\u001b[0mself\u001b[0m\u001b[1;33m.\u001b[0m\u001b[0ma\u001b[0m\u001b[1;33m*\u001b[0m\u001b[0mx\u001b[0m\u001b[1;33m**\u001b[0m\u001b[1;36m2\u001b[0m\u001b[1;33m)\u001b[0m\u001b[1;33m+\u001b[0m\u001b[0mself\u001b[0m\u001b[1;33m.\u001b[0m\u001b[0mb\u001b[0m\u001b[1;33m*\u001b[0m\u001b[0mx\u001b[0m\u001b[1;33m+\u001b[0m\u001b[0mself\u001b[0m\u001b[1;33m.\u001b[0m\u001b[0mc\u001b[0m\u001b[1;33m\u001b[0m\u001b[0m\n\u001b[0m\u001b[0;32m     46\u001b[0m         \u001b[0mplt\u001b[0m\u001b[1;33m.\u001b[0m\u001b[0mplot\u001b[0m\u001b[1;33m(\u001b[0m\u001b[0mx\u001b[0m\u001b[1;33m,\u001b[0m\u001b[0mg\u001b[0m\u001b[1;33m)\u001b[0m\u001b[1;33m\u001b[0m\u001b[0m\n\u001b[0;32m     47\u001b[0m         \u001b[0mplt\u001b[0m\u001b[1;33m.\u001b[0m\u001b[0mtitle\u001b[0m\u001b[1;33m(\u001b[0m\u001b[1;34m\"Fonction\"\u001b[0m\u001b[1;33m)\u001b[0m\u001b[1;33m\u001b[0m\u001b[0m\n",
      "\u001b[1;31mValueError\u001b[0m: operands could not be broadcast together with shapes (9,) (100,) "
     ]
    }
   ],
   "source": [
    "p.graphique()"
   ]
  },
  {
   "cell_type": "code",
   "execution_count": 464,
   "metadata": {},
   "outputs": [
    {
     "name": "stderr",
     "output_type": "stream",
     "text": [
      "C:\\Users\\Agnès\\Anaconda3\\lib\\site-packages\\ipykernel_launcher.py:51: RuntimeWarning: invalid value encountered in add\n"
     ]
    },
    {
     "data": {
      "text/plain": [
       "array([-2.        , -1.5       ,  0.4       , -1.5       ,  0.28571429,\n",
       "               nan,  0.33333333,  0.125     ,  0.44444444])"
      ]
     },
     "execution_count": 464,
     "metadata": {},
     "output_type": "execute_result"
    }
   ],
   "source": [
    "p.addition()"
   ]
  },
  {
   "cell_type": "code",
   "execution_count": 465,
   "metadata": {},
   "outputs": [
    {
     "data": {
      "text/plain": [
       "array([4.        , 2.25      , 0.16      , 2.25      , 0.08163265,\n",
       "              nan, 0.11111111, 0.015625  , 0.19753086])"
      ]
     },
     "execution_count": 465,
     "metadata": {},
     "output_type": "execute_result"
    }
   ],
   "source": [
    "p.carre()"
   ]
  },
  {
   "cell_type": "code",
   "execution_count": 453,
   "metadata": {},
   "outputs": [
    {
     "data": {
      "text/html": [
       "<div>\n",
       "<style scoped>\n",
       "    .dataframe tbody tr th:only-of-type {\n",
       "        vertical-align: middle;\n",
       "    }\n",
       "\n",
       "    .dataframe tbody tr th {\n",
       "        vertical-align: top;\n",
       "    }\n",
       "\n",
       "    .dataframe thead th {\n",
       "        text-align: right;\n",
       "    }\n",
       "</style>\n",
       "<table border=\"1\" class=\"dataframe\">\n",
       "  <thead>\n",
       "    <tr style=\"text-align: right;\">\n",
       "      <th></th>\n",
       "      <th>a</th>\n",
       "      <th>b</th>\n",
       "      <th>c</th>\n",
       "      <th>x1</th>\n",
       "      <th>x2</th>\n",
       "    </tr>\n",
       "  </thead>\n",
       "  <tbody>\n",
       "    <tr>\n",
       "      <th>exp1</th>\n",
       "      <td>[1, 2, 5, 4, 7, 0, 6, 8, 9]</td>\n",
       "      <td>[2, 3, -2, 6, -2, 5, -2, -1, -4]</td>\n",
       "      <td>[3, 5, 3, -3, 1, 2, 5, 9, 1]</td>\n",
       "      <td>[(-1+2.23606797749979j), (-0.75+1.118033988749...</td>\n",
       "      <td>[(-1-2.23606797749979j), (-0.75-1.118033988749...</td>\n",
       "    </tr>\n",
       "    <tr>\n",
       "      <th>exp2</th>\n",
       "      <td>[1, 2, 5, 4, 7, 0, 6, 8, 9]</td>\n",
       "      <td>[2, 3, -2, 6, -2, 5, -2, -1, -4]</td>\n",
       "      <td>[3, 5, 3, -3, 1, 2, 5, 9, 1]</td>\n",
       "      <td>[(-1+2.23606797749979j), (-0.75+1.118033988749...</td>\n",
       "      <td>[(-1-2.23606797749979j), (-0.75-1.118033988749...</td>\n",
       "    </tr>\n",
       "    <tr>\n",
       "      <th>exp3</th>\n",
       "      <td>[1, 2, 5, 4, 7, 0, 6, 8, 9]</td>\n",
       "      <td>[2, 3, -2, 6, -2, 5, -2, -1, -4]</td>\n",
       "      <td>[3, 5, 3, -3, 1, 2, 5, 9, 1]</td>\n",
       "      <td>[(-1+2.23606797749979j), (-0.75+1.118033988749...</td>\n",
       "      <td>[(-1-2.23606797749979j), (-0.75-1.118033988749...</td>\n",
       "    </tr>\n",
       "    <tr>\n",
       "      <th>exp4</th>\n",
       "      <td>[1, 2, 5, 4, 7, 0, 6, 8, 9]</td>\n",
       "      <td>[2, 3, -2, 6, -2, 5, -2, -1, -4]</td>\n",
       "      <td>[3, 5, 3, -3, 1, 2, 5, 9, 1]</td>\n",
       "      <td>[(-1+2.23606797749979j), (-0.75+1.118033988749...</td>\n",
       "      <td>[(-1-2.23606797749979j), (-0.75-1.118033988749...</td>\n",
       "    </tr>\n",
       "    <tr>\n",
       "      <th>exp5</th>\n",
       "      <td>[1, 2, 5, 4, 7, 0, 6, 8, 9]</td>\n",
       "      <td>[2, 3, -2, 6, -2, 5, -2, -1, -4]</td>\n",
       "      <td>[3, 5, 3, -3, 1, 2, 5, 9, 1]</td>\n",
       "      <td>[(-1+2.23606797749979j), (-0.75+1.118033988749...</td>\n",
       "      <td>[(-1-2.23606797749979j), (-0.75-1.118033988749...</td>\n",
       "    </tr>\n",
       "  </tbody>\n",
       "</table>\n",
       "</div>"
      ],
      "text/plain": [
       "                                a                                 b  \\\n",
       "exp1  [1, 2, 5, 4, 7, 0, 6, 8, 9]  [2, 3, -2, 6, -2, 5, -2, -1, -4]   \n",
       "exp2  [1, 2, 5, 4, 7, 0, 6, 8, 9]  [2, 3, -2, 6, -2, 5, -2, -1, -4]   \n",
       "exp3  [1, 2, 5, 4, 7, 0, 6, 8, 9]  [2, 3, -2, 6, -2, 5, -2, -1, -4]   \n",
       "exp4  [1, 2, 5, 4, 7, 0, 6, 8, 9]  [2, 3, -2, 6, -2, 5, -2, -1, -4]   \n",
       "exp5  [1, 2, 5, 4, 7, 0, 6, 8, 9]  [2, 3, -2, 6, -2, 5, -2, -1, -4]   \n",
       "\n",
       "                                 c  \\\n",
       "exp1  [3, 5, 3, -3, 1, 2, 5, 9, 1]   \n",
       "exp2  [3, 5, 3, -3, 1, 2, 5, 9, 1]   \n",
       "exp3  [3, 5, 3, -3, 1, 2, 5, 9, 1]   \n",
       "exp4  [3, 5, 3, -3, 1, 2, 5, 9, 1]   \n",
       "exp5  [3, 5, 3, -3, 1, 2, 5, 9, 1]   \n",
       "\n",
       "                                                     x1  \\\n",
       "exp1  [(-1+2.23606797749979j), (-0.75+1.118033988749...   \n",
       "exp2  [(-1+2.23606797749979j), (-0.75+1.118033988749...   \n",
       "exp3  [(-1+2.23606797749979j), (-0.75+1.118033988749...   \n",
       "exp4  [(-1+2.23606797749979j), (-0.75+1.118033988749...   \n",
       "exp5  [(-1+2.23606797749979j), (-0.75+1.118033988749...   \n",
       "\n",
       "                                                     x2  \n",
       "exp1  [(-1-2.23606797749979j), (-0.75-1.118033988749...  \n",
       "exp2  [(-1-2.23606797749979j), (-0.75-1.118033988749...  \n",
       "exp3  [(-1-2.23606797749979j), (-0.75-1.118033988749...  \n",
       "exp4  [(-1-2.23606797749979j), (-0.75-1.118033988749...  \n",
       "exp5  [(-1-2.23606797749979j), (-0.75-1.118033988749...  "
      ]
     },
     "execution_count": 453,
     "metadata": {},
     "output_type": "execute_result"
    }
   ],
   "source": [
    "tableau = p.copie()\n",
    "tableau"
   ]
  },
  {
   "cell_type": "code",
   "execution_count": null,
   "metadata": {},
   "outputs": [],
   "source": []
  },
  {
   "cell_type": "code",
   "execution_count": null,
   "metadata": {},
   "outputs": [],
   "source": []
  },
  {
   "cell_type": "code",
   "execution_count": null,
   "metadata": {},
   "outputs": [],
   "source": []
  }
 ],
 "metadata": {
  "kernelspec": {
   "display_name": "Python 3",
   "language": "python",
   "name": "python3"
  },
  "language_info": {
   "codemirror_mode": {
    "name": "ipython",
    "version": 3
   },
   "file_extension": ".py",
   "mimetype": "text/x-python",
   "name": "python",
   "nbconvert_exporter": "python",
   "pygments_lexer": "ipython3",
   "version": "3.6.4"
  }
 },
 "nbformat": 4,
 "nbformat_minor": 2
}
