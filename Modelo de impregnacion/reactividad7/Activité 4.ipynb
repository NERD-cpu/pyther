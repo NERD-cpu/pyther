{
 "cells": [
  {
   "cell_type": "code",
   "execution_count": 71,
   "metadata": {},
   "outputs": [],
   "source": [
    "import numpy as np\n",
    "import pandas as pd\n",
    "import math\n",
    "import cmath\n",
    "from scipy.optimize import root\n",
    "import matplotlib.pyplot as plt\n",
    "%matplotlib inline"
   ]
  },
  {
   "cell_type": "code",
   "execution_count": 72,
   "metadata": {},
   "outputs": [
    {
     "data": {
      "text/plain": [
       "'Table1.txt'"
      ]
     },
     "execution_count": 72,
     "metadata": {},
     "output_type": "execute_result"
    }
   ],
   "source": [
    "a = (\"Table1.txt\")\n",
    "a"
   ]
  },
  {
   "cell_type": "code",
   "execution_count": 73,
   "metadata": {},
   "outputs": [],
   "source": [
    "class InterfazPolimero:\n",
    "    def __init__ (self,a):\n",
    "        self.a=a\n",
    "        self.c1 = np.linspace(1157-112,1157+112,10,10)\n",
    "        print(self.c1)\n",
    "    def lire(self):\n",
    "        tab = pd.read_csv(self.a,sep=\" \")\n",
    "        coef =tab.values\n",
    "        self.Experiment = coef[:,0]\n",
    "        self.Thickness = coef[:,1]\n",
    "        self.FoodSimulant = coef[:,2]\n",
    "        self.Cpo = coef[:,3]\n",
    "        self.K = coef [:,4]\n",
    "        self.Dp = coef[:,5]\n",
    "        self.RMSE = coef[:,6]\n",
    "        self.k = coef[:,7]\n",
    "        self.c4 = coef[:,8]\n",
    "        return tab\n",
    "        self.c2 = np.zeros(10)\n",
    "        dimension = np.shape(self.c2)\n",
    "    try: \n",
    "        calcul(self)\n",
    "    except:\n",
    "        def calcul(self): \n",
    "            self.j1 = ((float(self.Dp) / (float(self.Thickness)/2))*(float(self.c1) - float(self.c2)))\n",
    "            self.c3 = float(self.c2) / float(self.K)\n",
    "            self.j2 = float(self.k) * (float(self.c3) - float(self.c4))\n",
    "            return (j1 - j2) / j1\n",
    "        def calcul2(self):\n",
    "            i = 0\n",
    "            for self.c1i in self.c1: \n",
    "                for self.Dpi in self.Dp:\n",
    "                    for self.ki in self.k:\n",
    "                        for self.Ki in self.K:\n",
    "                            for self.Thicknessi in self.Thickness:\n",
    "                                sol = root(calcul,15,args=(float(self.Dp),float(self.k),float(self.K),float(self.c4),float(self.c1),float(self.Thickness)))\n",
    "                                c2[i]= sol.x \n",
    "                                i = i+ 1\n",
    "            return c2"
   ]
  },
  {
   "cell_type": "code",
   "execution_count": 74,
   "metadata": {},
   "outputs": [
    {
     "name": "stdout",
     "output_type": "stream",
     "text": [
      "[1045.         1069.88888889 1094.77777778 1119.66666667 1144.55555556\n",
      " 1169.44444444 1194.33333333 1219.22222222 1244.11111111 1269.        ]\n"
     ]
    },
    {
     "data": {
      "text/plain": [
       "<__main__.InterfazPolimero at 0x26ec123f390>"
      ]
     },
     "execution_count": 74,
     "metadata": {},
     "output_type": "execute_result"
    }
   ],
   "source": [
    "p = InterfazPolimero(\"Table1.txt\")\n",
    "p"
   ]
  },
  {
   "cell_type": "code",
   "execution_count": 75,
   "metadata": {},
   "outputs": [
    {
     "data": {
      "text/html": [
       "<div>\n",
       "<style scoped>\n",
       "    .dataframe tbody tr th:only-of-type {\n",
       "        vertical-align: middle;\n",
       "    }\n",
       "\n",
       "    .dataframe tbody tr th {\n",
       "        vertical-align: top;\n",
       "    }\n",
       "\n",
       "    .dataframe thead th {\n",
       "        text-align: right;\n",
       "    }\n",
       "</style>\n",
       "<table border=\"1\" class=\"dataframe\">\n",
       "  <thead>\n",
       "    <tr style=\"text-align: right;\">\n",
       "      <th></th>\n",
       "      <th>Experiment</th>\n",
       "      <th>Thickness</th>\n",
       "      <th>FoodSimulant</th>\n",
       "      <th>Cpo</th>\n",
       "      <th>K</th>\n",
       "      <th>Dp</th>\n",
       "      <th>RMSE</th>\n",
       "      <th>k</th>\n",
       "      <th>c4</th>\n",
       "    </tr>\n",
       "  </thead>\n",
       "  <tbody>\n",
       "    <tr>\n",
       "      <th>0</th>\n",
       "      <td>1</td>\n",
       "      <td>146</td>\n",
       "      <td>EtOH95%</td>\n",
       "      <td>1157(+/-112)</td>\n",
       "      <td>52.0</td>\n",
       "      <td>1.950000e-13</td>\n",
       "      <td>1.5</td>\n",
       "      <td>0.000007</td>\n",
       "      <td>0.05</td>\n",
       "    </tr>\n",
       "    <tr>\n",
       "      <th>1</th>\n",
       "      <td>2</td>\n",
       "      <td>146</td>\n",
       "      <td>NaN</td>\n",
       "      <td>2440(+/-62)</td>\n",
       "      <td>35.0</td>\n",
       "      <td>1.970000e-13</td>\n",
       "      <td>3.0</td>\n",
       "      <td>0.000007</td>\n",
       "      <td>0.05</td>\n",
       "    </tr>\n",
       "    <tr>\n",
       "      <th>2</th>\n",
       "      <td>3</td>\n",
       "      <td>146</td>\n",
       "      <td>NaN</td>\n",
       "      <td>3152(+/-40)</td>\n",
       "      <td>24.0</td>\n",
       "      <td>2.000000e-13</td>\n",
       "      <td>2.6</td>\n",
       "      <td>0.000007</td>\n",
       "      <td>0.05</td>\n",
       "    </tr>\n",
       "    <tr>\n",
       "      <th>3</th>\n",
       "      <td>4</td>\n",
       "      <td>146</td>\n",
       "      <td>NaN</td>\n",
       "      <td>5950(+/-35)</td>\n",
       "      <td>0.5</td>\n",
       "      <td>2.000000e-13</td>\n",
       "      <td>2.3</td>\n",
       "      <td>0.000007</td>\n",
       "      <td>0.05</td>\n",
       "    </tr>\n",
       "    <tr>\n",
       "      <th>4</th>\n",
       "      <td>5</td>\n",
       "      <td>50</td>\n",
       "      <td>EtOH95%</td>\n",
       "      <td>2050(+/-110)</td>\n",
       "      <td>334.0</td>\n",
       "      <td>1.000000e-14</td>\n",
       "      <td>3.1</td>\n",
       "      <td>0.000007</td>\n",
       "      <td>0.05</td>\n",
       "    </tr>\n",
       "    <tr>\n",
       "      <th>5</th>\n",
       "      <td>6</td>\n",
       "      <td>146</td>\n",
       "      <td>NaN</td>\n",
       "      <td>2440(+/-62)</td>\n",
       "      <td>35.0</td>\n",
       "      <td>1.970000e-13</td>\n",
       "      <td>3.0</td>\n",
       "      <td>0.000007</td>\n",
       "      <td>0.05</td>\n",
       "    </tr>\n",
       "    <tr>\n",
       "      <th>6</th>\n",
       "      <td>7</td>\n",
       "      <td>190</td>\n",
       "      <td>NaN</td>\n",
       "      <td>2878(+/-115)</td>\n",
       "      <td>34.0</td>\n",
       "      <td>2.000000e-13</td>\n",
       "      <td>4.6</td>\n",
       "      <td>0.000007</td>\n",
       "      <td>0.05</td>\n",
       "    </tr>\n",
       "    <tr>\n",
       "      <th>7</th>\n",
       "      <td>8</td>\n",
       "      <td>50</td>\n",
       "      <td>EtOH10%</td>\n",
       "      <td>2050(+/-110)</td>\n",
       "      <td>0.0</td>\n",
       "      <td>0.000000e+00</td>\n",
       "      <td>0.0</td>\n",
       "      <td>0.000007</td>\n",
       "      <td>0.05</td>\n",
       "    </tr>\n",
       "    <tr>\n",
       "      <th>8</th>\n",
       "      <td>9</td>\n",
       "      <td>146</td>\n",
       "      <td>NaN</td>\n",
       "      <td>2440(+/-62)</td>\n",
       "      <td>0.0</td>\n",
       "      <td>0.000000e+00</td>\n",
       "      <td>0.0</td>\n",
       "      <td>0.000007</td>\n",
       "      <td>0.05</td>\n",
       "    </tr>\n",
       "    <tr>\n",
       "      <th>9</th>\n",
       "      <td>10</td>\n",
       "      <td>190</td>\n",
       "      <td>NaN</td>\n",
       "      <td>2878(+/-115)</td>\n",
       "      <td>0.0</td>\n",
       "      <td>0.000000e+00</td>\n",
       "      <td>0.0</td>\n",
       "      <td>0.000007</td>\n",
       "      <td>0.05</td>\n",
       "    </tr>\n",
       "  </tbody>\n",
       "</table>\n",
       "</div>"
      ],
      "text/plain": [
       "   Experiment  Thickness FoodSimulant           Cpo      K            Dp  \\\n",
       "0           1        146      EtOH95%  1157(+/-112)   52.0  1.950000e-13   \n",
       "1           2        146          NaN   2440(+/-62)   35.0  1.970000e-13   \n",
       "2           3        146          NaN   3152(+/-40)   24.0  2.000000e-13   \n",
       "3           4        146          NaN   5950(+/-35)    0.5  2.000000e-13   \n",
       "4           5         50      EtOH95%  2050(+/-110)  334.0  1.000000e-14   \n",
       "5           6        146          NaN   2440(+/-62)   35.0  1.970000e-13   \n",
       "6           7        190          NaN  2878(+/-115)   34.0  2.000000e-13   \n",
       "7           8         50      EtOH10%  2050(+/-110)    0.0  0.000000e+00   \n",
       "8           9        146          NaN   2440(+/-62)    0.0  0.000000e+00   \n",
       "9          10        190          NaN  2878(+/-115)    0.0  0.000000e+00   \n",
       "\n",
       "   RMSE         k    c4  \n",
       "0   1.5  0.000007  0.05  \n",
       "1   3.0  0.000007  0.05  \n",
       "2   2.6  0.000007  0.05  \n",
       "3   2.3  0.000007  0.05  \n",
       "4   3.1  0.000007  0.05  \n",
       "5   3.0  0.000007  0.05  \n",
       "6   4.6  0.000007  0.05  \n",
       "7   0.0  0.000007  0.05  \n",
       "8   0.0  0.000007  0.05  \n",
       "9   0.0  0.000007  0.05  "
      ]
     },
     "execution_count": 75,
     "metadata": {},
     "output_type": "execute_result"
    }
   ],
   "source": [
    "p.lire()"
   ]
  },
  {
   "cell_type": "code",
   "execution_count": 78,
   "metadata": {},
   "outputs": [
    {
     "ename": "TypeError",
     "evalue": "only size-1 arrays can be converted to Python scalars",
     "output_type": "error",
     "traceback": [
      "\u001b[1;31m---------------------------------------------------------------------------\u001b[0m",
      "\u001b[1;31mTypeError\u001b[0m                                 Traceback (most recent call last)",
      "\u001b[1;32m<ipython-input-78-d92e516f3867>\u001b[0m in \u001b[0;36m<module>\u001b[1;34m()\u001b[0m\n\u001b[1;32m----> 1\u001b[1;33m \u001b[0mp\u001b[0m\u001b[1;33m.\u001b[0m\u001b[0mcalcul2\u001b[0m\u001b[1;33m(\u001b[0m\u001b[1;33m)\u001b[0m\u001b[1;33m\u001b[0m\u001b[0m\n\u001b[0m",
      "\u001b[1;32m<ipython-input-73-839c29b07b20>\u001b[0m in \u001b[0;36mcalcul2\u001b[1;34m(self)\u001b[0m\n\u001b[0;32m     38\u001b[0m                         \u001b[1;32mfor\u001b[0m \u001b[0mself\u001b[0m\u001b[1;33m.\u001b[0m\u001b[0mKi\u001b[0m \u001b[1;32min\u001b[0m \u001b[0mself\u001b[0m\u001b[1;33m.\u001b[0m\u001b[0mK\u001b[0m\u001b[1;33m:\u001b[0m\u001b[1;33m\u001b[0m\u001b[0m\n\u001b[0;32m     39\u001b[0m                             \u001b[1;32mfor\u001b[0m \u001b[0mself\u001b[0m\u001b[1;33m.\u001b[0m\u001b[0mThicknessi\u001b[0m \u001b[1;32min\u001b[0m \u001b[0mself\u001b[0m\u001b[1;33m.\u001b[0m\u001b[0mThickness\u001b[0m\u001b[1;33m:\u001b[0m\u001b[1;33m\u001b[0m\u001b[0m\n\u001b[1;32m---> 40\u001b[1;33m                                 \u001b[0msol\u001b[0m \u001b[1;33m=\u001b[0m \u001b[0mroot\u001b[0m\u001b[1;33m(\u001b[0m\u001b[0mcalcul\u001b[0m\u001b[1;33m,\u001b[0m\u001b[1;36m15\u001b[0m\u001b[1;33m,\u001b[0m\u001b[0margs\u001b[0m\u001b[1;33m=\u001b[0m\u001b[1;33m(\u001b[0m\u001b[0mfloat\u001b[0m\u001b[1;33m(\u001b[0m\u001b[0mself\u001b[0m\u001b[1;33m.\u001b[0m\u001b[0mDp\u001b[0m\u001b[1;33m)\u001b[0m\u001b[1;33m,\u001b[0m\u001b[0mfloat\u001b[0m\u001b[1;33m(\u001b[0m\u001b[0mself\u001b[0m\u001b[1;33m.\u001b[0m\u001b[0mk\u001b[0m\u001b[1;33m)\u001b[0m\u001b[1;33m,\u001b[0m\u001b[0mfloat\u001b[0m\u001b[1;33m(\u001b[0m\u001b[0mself\u001b[0m\u001b[1;33m.\u001b[0m\u001b[0mK\u001b[0m\u001b[1;33m)\u001b[0m\u001b[1;33m,\u001b[0m\u001b[0mfloat\u001b[0m\u001b[1;33m(\u001b[0m\u001b[0mself\u001b[0m\u001b[1;33m.\u001b[0m\u001b[0mc4\u001b[0m\u001b[1;33m)\u001b[0m\u001b[1;33m,\u001b[0m\u001b[0mfloat\u001b[0m\u001b[1;33m(\u001b[0m\u001b[0mself\u001b[0m\u001b[1;33m.\u001b[0m\u001b[0mc1\u001b[0m\u001b[1;33m)\u001b[0m\u001b[1;33m,\u001b[0m\u001b[0mfloat\u001b[0m\u001b[1;33m(\u001b[0m\u001b[0mself\u001b[0m\u001b[1;33m.\u001b[0m\u001b[0mThickness\u001b[0m\u001b[1;33m)\u001b[0m\u001b[1;33m)\u001b[0m\u001b[1;33m)\u001b[0m\u001b[1;33m\u001b[0m\u001b[0m\n\u001b[0m\u001b[0;32m     41\u001b[0m                                 \u001b[0mc2\u001b[0m\u001b[1;33m[\u001b[0m\u001b[0mi\u001b[0m\u001b[1;33m]\u001b[0m\u001b[1;33m=\u001b[0m \u001b[0msol\u001b[0m\u001b[1;33m.\u001b[0m\u001b[0mx\u001b[0m\u001b[1;33m\u001b[0m\u001b[0m\n\u001b[0;32m     42\u001b[0m                                 \u001b[0mi\u001b[0m \u001b[1;33m=\u001b[0m \u001b[0mi\u001b[0m\u001b[1;33m+\u001b[0m \u001b[1;36m1\u001b[0m\u001b[1;33m\u001b[0m\u001b[0m\n",
      "\u001b[1;31mTypeError\u001b[0m: only size-1 arrays can be converted to Python scalars"
     ]
    }
   ],
   "source": [
    "p.calcul2()"
   ]
  },
  {
   "cell_type": "code",
   "execution_count": null,
   "metadata": {},
   "outputs": [],
   "source": [
    "c1 = np.linspace(1157-112,1157+112,10)\n",
    "K = 0.1\n",
    "c4 = 0.05\n",
    "k = 7.14e-6\n",
    "D = 1.93e-13\n",
    "L = 1\n",
    "c2 = np.zeros(10)\n",
    "dimension = np.shape(c2)\n",
    "def calcul(c2,D,k,K,c4,c1,L): \n",
    "    j1 = (D/(L/2)*(c1-c2))\n",
    "    c3 = c2/K\n",
    "    j2 = k*(c3-c4) \n",
    "    return (j1-j2)/j1\n",
    "def calcul2():\n",
    "    i = 0\n",
    "    for c1i in c1: \n",
    "        sol = root(calcul,15,args=(D,k,K,c4,c1,L))\n",
    "        c2[i]= sol.x \n",
    "        i = i + 1 \n",
    "    return c2"
   ]
  },
  {
   "cell_type": "code",
   "execution_count": null,
   "metadata": {},
   "outputs": [],
   "source": [
    "calcul2()"
   ]
  },
  {
   "cell_type": "code",
   "execution_count": null,
   "metadata": {},
   "outputs": [],
   "source": [
    "a =np.linspace(1,11,10)\n",
    "a"
   ]
  },
  {
   "cell_type": "code",
   "execution_count": null,
   "metadata": {},
   "outputs": [],
   "source": [
    "b = np.zeros(10)\n",
    "for ai in a:\n",
    "    b = ai + 1 "
   ]
  },
  {
   "cell_type": "code",
   "execution_count": null,
   "metadata": {},
   "outputs": [],
   "source": []
  },
  {
   "cell_type": "code",
   "execution_count": null,
   "metadata": {},
   "outputs": [],
   "source": [
    "p.__init__(1)"
   ]
  },
  {
   "cell_type": "code",
   "execution_count": null,
   "metadata": {},
   "outputs": [],
   "source": []
  },
  {
   "cell_type": "code",
   "execution_count": null,
   "metadata": {},
   "outputs": [],
   "source": []
  }
 ],
 "metadata": {
  "kernelspec": {
   "display_name": "Python 3",
   "language": "python",
   "name": "python3"
  }
 },
 "nbformat": 4,
 "nbformat_minor": 2
}
