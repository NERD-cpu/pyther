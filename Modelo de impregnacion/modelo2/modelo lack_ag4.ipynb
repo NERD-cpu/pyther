{
 "cells": [
  {
   "cell_type": "code",
   "execution_count": 1,
   "metadata": {
    "collapsed": true
   },
   "outputs": [],
   "source": [
    "import numpy as np\n",
    "import pandas as pd\n",
    "import math\n",
    "import cmath\n",
    "from scipy.optimize import root\n",
    "from scipy.integrate import odeint\n",
    "from __future__ import division\n",
    "from scipy import *\n",
    "from pylab import *\n",
    "import matplotlib.pyplot as plt\n",
    "%matplotlib inline"
   ]
  },
  {
   "cell_type": "code",
   "execution_count": 2,
   "metadata": {
    "collapsed": true
   },
   "outputs": [],
   "source": [
    "xo = 0.5\n",
    "gamma = 0.8\n",
    "yr = 0.1 #kg kgCO2 −1\n",
    "TAO = 15"
   ]
  },
  {
   "cell_type": "code",
   "execution_count": 3,
   "metadata": {},
   "outputs": [
    {
     "data": {
      "text/plain": [
       "array([[ 0.1,  1. ],\n",
       "       [ 0.3,  2. ],\n",
       "       [ 0.4,  4. ]])"
      ]
     },
     "execution_count": 3,
     "metadata": {},
     "output_type": "execute_result"
    }
   ],
   "source": [
    "# en la matriz parametros se define cada conbinación (xk, A) como una fila de la matriz\n",
    "parametros = np.array([[0.1, 1],[0.3, 2],[0.4, 4]])\n",
    "parametros"
   ]
  },
  {
   "cell_type": "code",
   "execution_count": 4,
   "metadata": {
    "collapsed": true
   },
   "outputs": [],
   "source": [
    "def intervalosExtraccion(tao, xk, A):\n",
    "    tao1 = (xo - xk) / (gamma * A * yr)\n",
    "    tao2 = tao1 + xk / (gamma * A * yr) * np.log(xk / xo + (1 - xk / xo) * np.exp(xo / xk * A))\n",
    "    zk = xk / (A * xo) * np.log((xo * np.exp(gamma * A * yr / xk * (tao - tao1)) - xk) / (xo - xk))\n",
    "\n",
    "    return tao1, tao2, zk\n"
   ]
  },
  {
   "cell_type": "code",
   "execution_count": 5,
   "metadata": {
    "collapsed": true
   },
   "outputs": [],
   "source": [
    "def rendimiento(tao, xk, A):\n",
    "    \n",
    "    tao1, tao2, zk = intervalosExtraccion(tao, xk, A)\n",
    "    \n",
    "    if tao <= tao1 and tao < tao2:\n",
    "        e = gamma * yr* tao * (1- np.exp(- A))\n",
    "        #print(\"tao < tao1 and tao < tao2\")\n",
    "        return e\n",
    "    if tao > tao1 and tao <= tao2:\n",
    "        zk = xk / (A * xo) * np.log((xo * np.exp(gamma * A * yr / xk * (tao - tao1)) - xk) / (xo - xk))\n",
    "        e = gamma * yr * (tao - tao1 * np.exp(- A * (1 - zk)))\n",
    "        #print(\"tao >= tao1 and tao < tao2\")\n",
    "        return e\n",
    "    if tao > tao2:\n",
    "        e = xo - xk / A * np.log(1 + xk / xo * (np.exp(xo / xk * A) - 1) * np.exp(gamma * A * yr / xk * (tao1 - tao)))\n",
    "        #print(\"tao >= tao2\")\n",
    "        return e"
   ]
  },
  {
   "cell_type": "code",
   "execution_count": 6,
   "metadata": {},
   "outputs": [
    {
     "name": "stderr",
     "output_type": "stream",
     "text": [
      "/home/andres-python/anaconda3/lib/python3.5/site-packages/ipykernel/__main__.py:4: RuntimeWarning: invalid value encountered in log\n"
     ]
    },
    {
     "data": {
      "text/plain": [
       "[[0.0,\n",
       "  0.015480503481515702,\n",
       "  0.030961006963031404,\n",
       "  0.046441510444547106,\n",
       "  0.061922013926062808,\n",
       "  0.077402517407578517,\n",
       "  0.092883020889094212,\n",
       "  0.10836352437060991,\n",
       "  0.12384402785212562,\n",
       "  0.13932453133364131,\n",
       "  0.15480503481515703,\n",
       "  0.17028553829667273,\n",
       "  0.18576604177818842,\n",
       "  0.20124654525970415,\n",
       "  0.21672704874121981,\n",
       "  0.23220755222273556,\n",
       "  0.24768805570425123,\n",
       "  0.26316226702728307,\n",
       "  0.27855816883989115,\n",
       "  0.29378225368823213,\n",
       "  0.30876157355231604,\n",
       "  0.32343654083397494,\n",
       "  0.33775619815162916,\n",
       "  0.35167527000149623,\n",
       "  0.36515222904087458,\n",
       "  0.3781479701886501,\n",
       "  0.39062486466268487,\n",
       "  0.402546060258831,\n",
       "  0.41387494623903642,\n",
       "  0.42457473119368283,\n",
       "  0.43460810015827545,\n",
       "  0.44393692830690873,\n",
       "  0.45252203554707215,\n",
       "  0.46032297089746099,\n",
       "  0.46729781856882635,\n",
       "  0.47340301974008819,\n",
       "  0.47859332113463482,\n",
       "  0.48286931725454763,\n",
       "  0.48634893672002549,\n",
       "  0.48915980931666803,\n",
       "  0.49141660746817667,\n",
       "  0.49321943250109174,\n",
       "  0.49465369004190646,\n",
       "  0.49579093662844093,\n",
       "  0.49669026865739097,\n",
       "  0.49739993904691948,\n",
       "  0.49795899361401663,\n",
       "  0.49839880411139981,\n",
       "  0.49874443572454247,\n",
       "  0.49901582679662498],\n",
       " [0.0,\n",
       "  0.021175462451348267,\n",
       "  0.042350924902696534,\n",
       "  0.063526387354044797,\n",
       "  0.084701849805393067,\n",
       "  0.10586240724665469,\n",
       "  0.12693119197306726,\n",
       "  0.14783738881474864,\n",
       "  0.1685261464121838,\n",
       "  0.18894922443715043,\n",
       "  0.20906060982884964,\n",
       "  0.22881410899010135,\n",
       "  0.24816182896433522,\n",
       "  0.26705309024678237,\n",
       "  0.28543355559493905,\n",
       "  0.30324446322126325,\n",
       "  0.32042190154796807,\n",
       "  0.33689608714873753,\n",
       "  0.35259062034949884,\n",
       "  0.36742169991480716,\n",
       "  0.38130372981839566,\n",
       "  0.39419609082205931,\n",
       "  0.40609012315244303,\n",
       "  0.41699047089218877,\n",
       "  0.42691473211076258,\n",
       "  0.43589255261409354,\n",
       "  0.44396415365496233,\n",
       "  0.45117844370314303,\n",
       "  0.45759089218955901,\n",
       "  0.46326134405019936,\n",
       "  0.46825193197286874,\n",
       "  0.47262520626848792,\n",
       "  0.47644255912026351,\n",
       "  0.479762978345391,\n",
       "  0.48264213103884324,\n",
       "  0.48513175212947535,\n",
       "  0.48727929723524216,\n",
       "  0.48912781199630445,\n",
       "  0.49071596928965422,\n",
       "  0.49207822925725819,\n",
       "  0.49324508303711023,\n",
       "  0.49424334802607572,\n",
       "  0.49509648943078877,\n",
       "  0.49582494917820918,\n",
       "  0.49644646866322384,\n",
       "  0.49697639621796236,\n",
       "  0.49742797363639818,\n",
       "  0.4978125986875685,\n",
       "  0.49814006243866604,\n",
       "  0.49841876152514436],\n",
       " [0.0,\n",
       "  0.024041249659867737,\n",
       "  0.048071045167731294,\n",
       "  0.07204855156465495,\n",
       "  0.095944822306298611,\n",
       "  0.11973478671205953,\n",
       "  0.14339127944692867,\n",
       "  0.16688275925732202,\n",
       "  0.19017165999482702,\n",
       "  0.21321275986469856,\n",
       "  0.23595135235832557,\n",
       "  0.25832109460095881,\n",
       "  0.28024142838261135,\n",
       "  0.30161446466951503,\n",
       "  0.32232120677507808,\n",
       "  0.34221696436393212,\n",
       "  0.36113676813322215,\n",
       "  0.37893448936471802,\n",
       "  0.39547915297515002,\n",
       "  0.41065899741032463,\n",
       "  0.42439210534462729,\n",
       "  0.43663509264548273,\n",
       "  0.44738801583190058,\n",
       "  0.45669436554392162,\n",
       "  0.46463614757215638,\n",
       "  0.4713251864255304,\n",
       "  0.47689249223342239,\n",
       "  0.48147761541705325,\n",
       "  0.48521947683365291,\n",
       "  0.48824948300646315,\n",
       "  0.49068709355671958,\n",
       "  0.49263756209496956,\n",
       "  0.49419135465912917,\n",
       "  0.49542471233898844,\n",
       "  0.49640089297803586,\n",
       "  0.49717173720285363,\n",
       "  0.49777931571338624,\n",
       "  0.49825750797968005,\n",
       "  0.49863343155527706,\n",
       "  0.49892868792607403,\n",
       "  0.49916041983863529,\n",
       "  0.49934219141038738,\n",
       "  0.49948471027077262,\n",
       "  0.49959641371380292,\n",
       "  0.49968394057592386,\n",
       "  0.49975250873476684,\n",
       "  0.49980621564599303,\n",
       "  0.49984827671470905,\n",
       "  0.49988121381246126,\n",
       "  0.49990700403098148]]"
      ]
     },
     "execution_count": 6,
     "metadata": {},
     "output_type": "execute_result"
    }
   ],
   "source": [
    "caso1 = [[rendimiento(tao, xk, A) for tao in np.linspace(0,TAO)] for xk, A in parametros]\n",
    "caso1"
   ]
  },
  {
   "cell_type": "code",
   "execution_count": 9,
   "metadata": {},
   "outputs": [
    {
     "data": {
      "text/plain": [
       "<matplotlib.text.Text at 0x7f0789130320>"
      ]
     },
     "execution_count": 9,
     "metadata": {},
     "output_type": "execute_result"
    },
    {
     "data": {
      "image/png": "[encoded data removed]",
      "text/plain": [
       "<matplotlib.figure.Figure at 0x7f0789104208>"
      ]
     },
     "metadata": {},
     "output_type": "display_data"
    }
   ],
   "source": [
    "Tao = np.linspace(0,TAO)\n",
    "\n",
    "plt.plot(Tao, caso1[2])\n",
    "plt.title(\"Modelo Lack\")\n",
    "plt.xlabel(\" $tao $ \")\n",
    "plt.ylabel(\"Rendimiento e\")"
   ]
  },
  {
   "cell_type": "code",
   "execution_count": null,
   "metadata": {
    "collapsed": true
   },
   "outputs": [],
   "source": []
  },
  {
   "cell_type": "code",
   "execution_count": null,
   "metadata": {
    "collapsed": true
   },
   "outputs": [],
   "source": []
  },
  {
   "cell_type": "code",
   "execution_count": null,
   "metadata": {
    "collapsed": true
   },
   "outputs": [],
   "source": []
  },
  {
   "cell_type": "code",
   "execution_count": null,
   "metadata": {
    "collapsed": true
   },
   "outputs": [],
   "source": []
  },
  {
   "cell_type": "code",
   "execution_count": null,
   "metadata": {
    "collapsed": true
   },
   "outputs": [],
   "source": []
  },
  {
   "cell_type": "code",
   "execution_count": null,
   "metadata": {
    "collapsed": true
   },
   "outputs": [],
   "source": []
  },
  {
   "cell_type": "code",
   "execution_count": null,
   "metadata": {
    "collapsed": true
   },
   "outputs": [],
   "source": []
  },
  {
   "cell_type": "code",
   "execution_count": null,
   "metadata": {
    "collapsed": true
   },
   "outputs": [],
   "source": []
  },
  {
   "cell_type": "code",
   "execution_count": null,
   "metadata": {
    "collapsed": true
   },
   "outputs": [],
   "source": []
  },
  {
   "cell_type": "code",
   "execution_count": null,
   "metadata": {
    "collapsed": true
   },
   "outputs": [],
   "source": []
  },
  {
   "cell_type": "code",
   "execution_count": null,
   "metadata": {
    "collapsed": true
   },
   "outputs": [],
   "source": []
  },
  {
   "cell_type": "code",
   "execution_count": null,
   "metadata": {
    "collapsed": true
   },
   "outputs": [],
   "source": []
  },
  {
   "cell_type": "code",
   "execution_count": null,
   "metadata": {
    "collapsed": true
   },
   "outputs": [],
   "source": []
  },
  {
   "cell_type": "code",
   "execution_count": null,
   "metadata": {
    "collapsed": true
   },
   "outputs": [],
   "source": []
  },
  {
   "cell_type": "code",
   "execution_count": null,
   "metadata": {
    "collapsed": true
   },
   "outputs": [],
   "source": []
  },
  {
   "cell_type": "code",
   "execution_count": null,
   "metadata": {
    "collapsed": true
   },
   "outputs": [],
   "source": []
  },
  {
   "cell_type": "code",
   "execution_count": null,
   "metadata": {
    "collapsed": true
   },
   "outputs": [],
   "source": []
  }
 ],
 "metadata": {
  "kernelspec": {
   "display_name": "Python [default]",
   "language": "python",
   "name": "python3"
  },
  "language_info": {
   "codemirror_mode": {
    "name": "ipython",
    "version": 3
   },
   "file_extension": ".py",
   "mimetype": "text/x-python",
   "name": "python",
   "nbconvert_exporter": "python",
   "pygments_lexer": "ipython3",
   "version": "3.5.2"
  }
 },
 "nbformat": 4,
 "nbformat_minor": 2
}
