{
 "cells": [
  {
   "cell_type": "code",
   "execution_count": 1,
   "metadata": {
    "collapsed": true
   },
   "outputs": [],
   "source": [
    "import numpy as np\n",
    "import pandas as pd\n",
    "import math\n",
    "import cmath\n",
    "from scipy.optimize import root\n",
    "from scipy.integrate import odeint\n",
    "from __future__ import division\n",
    "from scipy import *\n",
    "from pylab import *\n",
    "import matplotlib.pyplot as plt\n",
    "%matplotlib inline"
   ]
  },
  {
   "cell_type": "code",
   "execution_count": 47,
   "metadata": {},
   "outputs": [],
   "source": [
    "xo = 0.5\n",
    "xk = 0.3\n",
    "gamma = 0.8\n",
    "A = 2\n",
    "yr = 0.1 #kg kgCO2 −1\n",
    "\n",
    "#tao = np.linspace(0,5)\n",
    "#print(tao)\n",
    "#print(np.shape(tao), type(tao))\n",
    "\n"
   ]
  },
  {
   "cell_type": "code",
   "execution_count": 4,
   "metadata": {},
   "outputs": [
    {
     "data": {
      "text/plain": [
       "1.2499999999999998"
      ]
     },
     "execution_count": 4,
     "metadata": {},
     "output_type": "execute_result"
    }
   ],
   "source": [
    "tao1 = (xo - xk) / (gamma * A * yr) \n",
    "tao1\n",
    "\n"
   ]
  },
  {
   "cell_type": "code",
   "execution_count": 5,
   "metadata": {},
   "outputs": [
    {
     "data": {
      "text/plain": [
       "5.8796956017132089"
      ]
     },
     "execution_count": 5,
     "metadata": {},
     "output_type": "execute_result"
    }
   ],
   "source": [
    "tao2 = tao1 + xk / (gamma * A * yr) * np.log(xk / xo + (1 - xk / xo) * np.exp(xo / xk * A))\n",
    "tao2"
   ]
  },
  {
   "cell_type": "code",
   "execution_count": 6,
   "metadata": {
    "collapsed": true
   },
   "outputs": [],
   "source": [
    "def concentracion(tao):\n",
    "    \n",
    "    if tao == 1:\n",
    "        x = x0 - gamma * A * yr * tao * exp(-A*z)\n",
    "        return x\n",
    "    if tao == 2:\n",
    "        x = x0 - (xo - xk) * exp(-A * (z - zk))\n",
    "        return x\n",
    "    if tao == 3:\n",
    "        x = x0 / (1 + ((xo/xk) * exp(gamma * A * yr / xk * (tao - tao1)) - 1) * exp(-xo/xk * A*z))\n",
    "        return x"
   ]
  },
  {
   "cell_type": "code",
   "execution_count": 7,
   "metadata": {},
   "outputs": [
    {
     "ename": "NameError",
     "evalue": "name 'tao' is not defined",
     "output_type": "error",
     "traceback": [
      "\u001b[0;31m---------------------------------------------------------------------------\u001b[0m",
      "\u001b[0;31mNameError\u001b[0m                                 Traceback (most recent call last)",
      "\u001b[0;32m<ipython-input-7-5ea8c1465211>\u001b[0m in \u001b[0;36m<module>\u001b[0;34m()\u001b[0m\n\u001b[0;32m----> 1\u001b[0;31m \u001b[0mzk\u001b[0m \u001b[0;34m=\u001b[0m \u001b[0mxk\u001b[0m \u001b[0;34m/\u001b[0m \u001b[0;34m(\u001b[0m\u001b[0mA\u001b[0m \u001b[0;34m*\u001b[0m \u001b[0mxo\u001b[0m\u001b[0;34m)\u001b[0m \u001b[0;34m*\u001b[0m \u001b[0mnp\u001b[0m\u001b[0;34m.\u001b[0m\u001b[0mlog\u001b[0m\u001b[0;34m(\u001b[0m\u001b[0;34m(\u001b[0m\u001b[0mxo\u001b[0m \u001b[0;34m*\u001b[0m \u001b[0mnp\u001b[0m\u001b[0;34m.\u001b[0m\u001b[0mexp\u001b[0m\u001b[0;34m(\u001b[0m\u001b[0mgamma\u001b[0m \u001b[0;34m*\u001b[0m \u001b[0mA\u001b[0m \u001b[0;34m*\u001b[0m \u001b[0myr\u001b[0m \u001b[0;34m/\u001b[0m \u001b[0mxk\u001b[0m \u001b[0;34m*\u001b[0m \u001b[0;34m(\u001b[0m\u001b[0mtao\u001b[0m \u001b[0;34m-\u001b[0m \u001b[0mtao1\u001b[0m\u001b[0;34m)\u001b[0m\u001b[0;34m)\u001b[0m \u001b[0;34m-\u001b[0m \u001b[0mxk\u001b[0m\u001b[0;34m)\u001b[0m \u001b[0;34m/\u001b[0m \u001b[0;34m(\u001b[0m\u001b[0mxo\u001b[0m \u001b[0;34m-\u001b[0m \u001b[0mxk\u001b[0m\u001b[0;34m)\u001b[0m\u001b[0;34m)\u001b[0m\u001b[0;34m\u001b[0m\u001b[0m\n\u001b[0m\u001b[1;32m      2\u001b[0m \u001b[0mzk\u001b[0m\u001b[0;34m\u001b[0m\u001b[0m\n",
      "\u001b[0;31mNameError\u001b[0m: name 'tao' is not defined"
     ]
    }
   ],
   "source": [
    "zk = xk / (A * xo) * np.log((xo * np.exp(gamma * A * yr / xk * (tao - tao1)) - xk) / (xo - xk))\n",
    "zk"
   ]
  },
  {
   "cell_type": "code",
   "execution_count": 8,
   "metadata": {},
   "outputs": [
    {
     "data": {
      "text/plain": [
       "5.8796956017132089"
      ]
     },
     "execution_count": 8,
     "metadata": {},
     "output_type": "execute_result"
    }
   ],
   "source": [
    "tao2 = tao1 + xk / (gamma * A * yr) * np.log(xk / xo + (1 - xk / xo) * np.exp(xo / xk * A))\n",
    "tao2"
   ]
  },
  {
   "cell_type": "code",
   "execution_count": 9,
   "metadata": {},
   "outputs": [
    {
     "ename": "NameError",
     "evalue": "name 'tao' is not defined",
     "output_type": "error",
     "traceback": [
      "\u001b[0;31m---------------------------------------------------------------------------\u001b[0m",
      "\u001b[0;31mNameError\u001b[0m                                 Traceback (most recent call last)",
      "\u001b[0;32m<ipython-input-9-f96611aa44ec>\u001b[0m in \u001b[0;36m<module>\u001b[0;34m()\u001b[0m\n\u001b[0;32m----> 1\u001b[0;31m \u001b[0me\u001b[0m \u001b[0;34m=\u001b[0m \u001b[0mgamma\u001b[0m \u001b[0;34m*\u001b[0m \u001b[0myr\u001b[0m\u001b[0;34m*\u001b[0m \u001b[0mtao\u001b[0m \u001b[0;34m*\u001b[0m \u001b[0;34m(\u001b[0m\u001b[0;36m1\u001b[0m\u001b[0;34m-\u001b[0m \u001b[0mnp\u001b[0m\u001b[0;34m.\u001b[0m\u001b[0mexp\u001b[0m\u001b[0;34m(\u001b[0m\u001b[0;34m-\u001b[0m\u001b[0mA\u001b[0m\u001b[0;34m)\u001b[0m\u001b[0;34m)\u001b[0m\u001b[0;34m\u001b[0m\u001b[0m\n\u001b[0m\u001b[1;32m      2\u001b[0m \u001b[0mnp\u001b[0m\u001b[0;34m.\u001b[0m\u001b[0mshape\u001b[0m\u001b[0;34m(\u001b[0m\u001b[0me\u001b[0m\u001b[0;34m)\u001b[0m\u001b[0;34m\u001b[0m\u001b[0m\n\u001b[1;32m      3\u001b[0m \u001b[0mtype\u001b[0m\u001b[0;34m(\u001b[0m\u001b[0me\u001b[0m\u001b[0;34m)\u001b[0m\u001b[0;34m\u001b[0m\u001b[0m\n",
      "\u001b[0;31mNameError\u001b[0m: name 'tao' is not defined"
     ]
    }
   ],
   "source": [
    "e = gamma * yr* tao * (1- np.exp(-A))\n",
    "np.shape(e)\n",
    "type(e)"
   ]
  },
  {
   "cell_type": "code",
   "execution_count": 14,
   "metadata": {},
   "outputs": [
    {
     "data": {
      "text/plain": [
       "[<matplotlib.lines.Line2D at 0x7fb4cc930eb8>]"
      ]
     },
     "execution_count": 14,
     "metadata": {},
     "output_type": "execute_result"
    },
    {
     "data": {
      "image/png": "[encoded data removed]",
      "text/plain": [
       "<matplotlib.figure.Figure at 0x7fb4cc94a128>"
      ]
     },
     "metadata": {},
     "output_type": "display_data"
    }
   ],
   "source": [
    "plt.plot(tao, e)"
   ]
  },
  {
   "cell_type": "code",
   "execution_count": 15,
   "metadata": {
    "collapsed": true
   },
   "outputs": [],
   "source": [
    "e = gamma * yr* (tao - tao1 * np.exp(-A * (1 - zk)))\n"
   ]
  },
  {
   "cell_type": "code",
   "execution_count": 17,
   "metadata": {
    "collapsed": true
   },
   "outputs": [],
   "source": [
    "e = xo - xk / A * np.log(1 + xk / xo * (np.exp(xo / xk * A) - 1)) * np.exp(gamma * A * yr / xk * (tao1 - tao))"
   ]
  },
  {
   "cell_type": "code",
   "execution_count": 48,
   "metadata": {
    "collapsed": true
   },
   "outputs": [],
   "source": [
    "def rendimiento(tao):\n",
    "    if tao <= tao1 and tao < tao2:\n",
    "        e = gamma * yr* tao * (1- np.exp(- A))\n",
    "        print(\"tao < tao1 and tao < tao2\")\n",
    "        return e\n",
    "    if tao > tao1 and tao <= tao2:\n",
    "        zk = xk / (A * xo) * np.log((xo * np.exp(gamma * A * yr / xk * (tao - tao1)) - xk) / (xo - xk))\n",
    "        e = gamma * yr * (tao - tao1 * np.exp(- A * (1 - zk)))\n",
    "        print(\"tao >= tao1 and tao < tao2\")\n",
    "        return e\n",
    "    if tao > tao2:\n",
    "        e = xo - xk / A * np.log(1 + xk / xo * (np.exp(xo / xk * A) - 1) * np.exp(gamma * A * yr / xk * (tao1 - tao)))\n",
    "        print(\"tao >= tao2\")\n",
    "        return e\n",
    "    "
   ]
  },
  {
   "cell_type": "code",
   "execution_count": 50,
   "metadata": {},
   "outputs": [
    {
     "name": "stdout",
     "output_type": "stream",
     "text": [
      "tao1 = 1.2499999999999998 tao2 = 5.879695601713209\n",
      "tao >= tao2\n"
     ]
    },
    {
     "data": {
      "text/plain": [
       "0.46533565099574969"
      ]
     },
     "execution_count": 50,
     "metadata": {},
     "output_type": "execute_result"
    }
   ],
   "source": [
    "tao = 9\n",
    "print(\"tao1 = {} tao2 = {}\".format(tao1, tao2))\n",
    "rendimiento(tao)"
   ]
  },
  {
   "cell_type": "code",
   "execution_count": 51,
   "metadata": {},
   "outputs": [
    {
     "data": {
      "text/plain": [
       "[0, 1, 2, 3, 4]"
      ]
     },
     "execution_count": 51,
     "metadata": {},
     "output_type": "execute_result"
    }
   ],
   "source": [
    "ttao = [i for i in range(5)]\n",
    "ttao"
   ]
  },
  {
   "cell_type": "code",
   "execution_count": 52,
   "metadata": {},
   "outputs": [
    {
     "data": {
      "text/plain": [
       "[0.0,\n",
       " 0.10204081632653061,\n",
       " 0.20408163265306123,\n",
       " 0.30612244897959184,\n",
       " 0.40816326530612246,\n",
       " 0.51020408163265307,\n",
       " 0.61224489795918369,\n",
       " 0.7142857142857143,\n",
       " 0.81632653061224492,\n",
       " 0.91836734693877553,\n",
       " 1.0204081632653061,\n",
       " 1.1224489795918369,\n",
       " 1.2244897959183674,\n",
       " 1.3265306122448979,\n",
       " 1.4285714285714286,\n",
       " 1.5306122448979593,\n",
       " 1.6326530612244898,\n",
       " 1.7346938775510203,\n",
       " 1.8367346938775511,\n",
       " 1.9387755102040818,\n",
       " 2.0408163265306123,\n",
       " 2.1428571428571428,\n",
       " 2.2448979591836737,\n",
       " 2.3469387755102042,\n",
       " 2.4489795918367347,\n",
       " 2.5510204081632653,\n",
       " 2.6530612244897958,\n",
       " 2.7551020408163267,\n",
       " 2.8571428571428572,\n",
       " 2.9591836734693877,\n",
       " 3.0612244897959187,\n",
       " 3.1632653061224492,\n",
       " 3.2653061224489797,\n",
       " 3.3673469387755102,\n",
       " 3.4693877551020407,\n",
       " 3.5714285714285716,\n",
       " 3.6734693877551021,\n",
       " 3.7755102040816326,\n",
       " 3.8775510204081636,\n",
       " 3.9795918367346941,\n",
       " 4.0816326530612246,\n",
       " 4.1836734693877551,\n",
       " 4.2857142857142856,\n",
       " 4.3877551020408161,\n",
       " 4.4897959183673475,\n",
       " 4.591836734693878,\n",
       " 4.6938775510204085,\n",
       " 4.795918367346939,\n",
       " 4.8979591836734695,\n",
       " 5.0]"
      ]
     },
     "execution_count": 52,
     "metadata": {},
     "output_type": "execute_result"
    }
   ],
   "source": [
    "ttao = [i for i in np.linspace(0,5)]\n",
    "ttao"
   ]
  },
  {
   "cell_type": "code",
   "execution_count": 53,
   "metadata": {},
   "outputs": [
    {
     "name": "stdout",
     "output_type": "stream",
     "text": [
      "tao < tao1 and tao < tao2\n",
      "tao < tao1 and tao < tao2\n",
      "tao < tao1 and tao < tao2\n",
      "tao < tao1 and tao < tao2\n",
      "tao < tao1 and tao < tao2\n",
      "tao >= tao1 and tao < tao2\n",
      "tao >= tao1 and tao < tao2\n",
      "tao >= tao1 and tao < tao2\n",
      "tao >= tao1 and tao < tao2\n",
      "tao >= tao1 and tao < tao2\n",
      "tao >= tao1 and tao < tao2\n",
      "tao >= tao1 and tao < tao2\n",
      "tao >= tao1 and tao < tao2\n",
      "tao >= tao1 and tao < tao2\n",
      "tao >= tao1 and tao < tao2\n",
      "tao >= tao1 and tao < tao2\n",
      "tao >= tao1 and tao < tao2\n",
      "tao >= tao1 and tao < tao2\n",
      "tao >= tao1 and tao < tao2\n",
      "tao >= tao1 and tao < tao2\n",
      "tao >= tao2\n",
      "tao >= tao2\n",
      "tao >= tao2\n",
      "tao >= tao2\n",
      "tao >= tao2\n",
      "tao >= tao2\n",
      "tao >= tao2\n",
      "tao >= tao2\n",
      "tao >= tao2\n",
      "tao >= tao2\n",
      "tao >= tao2\n",
      "tao >= tao2\n",
      "tao >= tao2\n",
      "tao >= tao2\n",
      "tao >= tao2\n",
      "tao >= tao2\n",
      "tao >= tao2\n",
      "tao >= tao2\n",
      "tao >= tao2\n",
      "tao >= tao2\n",
      "tao >= tao2\n",
      "tao >= tao2\n",
      "tao >= tao2\n",
      "tao >= tao2\n",
      "tao >= tao2\n",
      "tao >= tao2\n",
      "tao >= tao2\n",
      "tao >= tao2\n",
      "tao >= tao2\n",
      "tao >= tao2\n"
     ]
    },
    {
     "data": {
      "text/plain": [
       "[0.0,\n",
       " 0.021175462451348267,\n",
       " 0.042350924902696534,\n",
       " 0.063526387354044797,\n",
       " 0.084701849805393067,\n",
       " 0.10586240724665469,\n",
       " 0.12693119197306726,\n",
       " 0.14783738881474864,\n",
       " 0.1685261464121838,\n",
       " 0.18894922443715043,\n",
       " 0.20906060982884964,\n",
       " 0.22881410899010135,\n",
       " 0.24816182896433522,\n",
       " 0.26705309024678237,\n",
       " 0.28543355559493905,\n",
       " 0.30324446322126325,\n",
       " 0.32042190154796807,\n",
       " 0.33689608714873753,\n",
       " 0.35259062034949884,\n",
       " 0.36742169991480716,\n",
       " 0.38130372981839566,\n",
       " 0.39419609082205931,\n",
       " 0.40609012315244303,\n",
       " 0.41699047089218877,\n",
       " 0.42691473211076258,\n",
       " 0.43589255261409354,\n",
       " 0.44396415365496233,\n",
       " 0.45117844370314303,\n",
       " 0.45759089218955901,\n",
       " 0.46326134405019936,\n",
       " 0.46825193197286874,\n",
       " 0.47262520626848792,\n",
       " 0.47644255912026351,\n",
       " 0.479762978345391,\n",
       " 0.48264213103884324,\n",
       " 0.48513175212947535,\n",
       " 0.48727929723524216,\n",
       " 0.48912781199630445,\n",
       " 0.49071596928965422,\n",
       " 0.49207822925725819,\n",
       " 0.49324508303711023,\n",
       " 0.49424334802607572,\n",
       " 0.49509648943078877,\n",
       " 0.49582494917820918,\n",
       " 0.49644646866322384,\n",
       " 0.49697639621796236,\n",
       " 0.49742797363639818,\n",
       " 0.4978125986875685,\n",
       " 0.49814006243866604,\n",
       " 0.49841876152514436]"
      ]
     },
     "execution_count": 53,
     "metadata": {},
     "output_type": "execute_result"
    }
   ],
   "source": [
    "caso1 = [rendimiento(tao) for tao in np.linspace(0,15)]\n",
    "caso1\n"
   ]
  },
  {
   "cell_type": "code",
   "execution_count": 54,
   "metadata": {},
   "outputs": [
    {
     "data": {
      "text/plain": [
       "[0.0,\n",
       " 0.021175462451348267,\n",
       " 0.042350924902696534,\n",
       " 0.063526387354044797,\n",
       " 0.084701849805393067,\n",
       " 0.10586240724665469,\n",
       " 0.12693119197306726,\n",
       " 0.14783738881474864,\n",
       " 0.1685261464121838,\n",
       " 0.18894922443715043,\n",
       " 0.20906060982884964,\n",
       " 0.22881410899010135,\n",
       " 0.24816182896433522,\n",
       " 0.26705309024678237,\n",
       " 0.28543355559493905,\n",
       " 0.30324446322126325,\n",
       " 0.32042190154796807,\n",
       " 0.33689608714873753,\n",
       " 0.35259062034949884,\n",
       " 0.36742169991480716,\n",
       " 0.38130372981839566,\n",
       " 0.39419609082205931,\n",
       " 0.40609012315244303,\n",
       " 0.41699047089218877,\n",
       " 0.42691473211076258,\n",
       " 0.43589255261409354,\n",
       " 0.44396415365496233,\n",
       " 0.45117844370314303,\n",
       " 0.45759089218955901,\n",
       " 0.46326134405019936,\n",
       " 0.46825193197286874,\n",
       " 0.47262520626848792,\n",
       " 0.47644255912026351,\n",
       " 0.479762978345391,\n",
       " 0.48264213103884324,\n",
       " 0.48513175212947535,\n",
       " 0.48727929723524216,\n",
       " 0.48912781199630445,\n",
       " 0.49071596928965422,\n",
       " 0.49207822925725819,\n",
       " 0.49324508303711023,\n",
       " 0.49424334802607572,\n",
       " 0.49509648943078877,\n",
       " 0.49582494917820918,\n",
       " 0.49644646866322384,\n",
       " 0.49697639621796236,\n",
       " 0.49742797363639818,\n",
       " 0.4978125986875685,\n",
       " 0.49814006243866604,\n",
       " 0.49841876152514436]"
      ]
     },
     "execution_count": 54,
     "metadata": {},
     "output_type": "execute_result"
    }
   ],
   "source": [
    "caso1"
   ]
  },
  {
   "cell_type": "code",
   "execution_count": 80,
   "metadata": {},
   "outputs": [
    {
     "data": {
      "text/plain": [
       "<matplotlib.text.Text at 0x7f9de3186a58>"
      ]
     },
     "execution_count": 80,
     "metadata": {},
     "output_type": "execute_result"
    },
    {
     "data": {
      "image/png": "[encoded data removed]",
      "text/plain": [
       "<matplotlib.figure.Figure at 0x7f9de30f69e8>"
      ]
     },
     "metadata": {},
     "output_type": "display_data"
    }
   ],
   "source": [
    "Tao = np.linspace(0,15)\n",
    "\n",
    "plt.plot(Tao, caso1)\n",
    "plt.title(\"Modelo Lack\")\n",
    "plt.xlabel(\"$\\tau$\")\n",
    "plt.ylabel(\"Rendimiento e\")\n",
    "#plt.legend(('$xk=0.3$'),loc=0)"
   ]
  },
  {
   "cell_type": "code",
   "execution_count": null,
   "metadata": {
    "collapsed": true
   },
   "outputs": [],
   "source": []
  },
  {
   "cell_type": "markdown",
   "metadata": {
    "collapsed": true
   },
   "source": [
    "![pilares_open_science](sovova.png)\n"
   ]
  },
  {
   "cell_type": "markdown",
   "metadata": {
    "collapsed": true
   },
   "source": [
    "$\\tau$"
   ]
  },
  {
   "cell_type": "code",
   "execution_count": null,
   "metadata": {
    "collapsed": true
   },
   "outputs": [],
   "source": []
  },
  {
   "cell_type": "code",
   "execution_count": null,
   "metadata": {
    "collapsed": true
   },
   "outputs": [],
   "source": []
  },
  {
   "cell_type": "code",
   "execution_count": null,
   "metadata": {
    "collapsed": true
   },
   "outputs": [],
   "source": []
  },
  {
   "cell_type": "code",
   "execution_count": null,
   "metadata": {
    "collapsed": true
   },
   "outputs": [],
   "source": []
  }
 ],
 "metadata": {
  "kernelspec": {
   "display_name": "Python [conda root]",
   "language": "python",
   "name": "conda-root-py"
  },
  "language_info": {
   "codemirror_mode": {
    "name": "ipython",
    "version": 3
   },
   "file_extension": ".py",
   "mimetype": "text/x-python",
   "name": "python",
   "nbconvert_exporter": "python",
   "pygments_lexer": "ipython3",
   "version": "3.5.2"
  }
 },
 "nbformat": 4,
 "nbformat_minor": 2
}
