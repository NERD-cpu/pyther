{
 "cells": [
  {
   "cell_type": "code",
   "execution_count": 144,
   "metadata": {
    "collapsed": true
   },
   "outputs": [],
   "source": [
    "import numpy as np\n",
    "import pandas as pd\n",
    "import math\n",
    "import cmath\n",
    "from scipy.optimize import root\n",
    "from scipy.integrate import odeint\n",
    "from __future__ import division\n",
    "from scipy import *\n",
    "from pylab import *\n",
    "import matplotlib.pyplot as plt\n",
    "%matplotlib inline"
   ]
  },
  {
   "cell_type": "code",
   "execution_count": 145,
   "metadata": {},
   "outputs": [
    {
     "name": "stdout",
     "output_type": "stream",
     "text": [
      "[0.         0.10204082 0.20408163 0.30612245 0.40816327 0.51020408\n",
      " 0.6122449  0.71428571 0.81632653 0.91836735 1.02040816 1.12244898\n",
      " 1.2244898  1.32653061 1.42857143 1.53061224 1.63265306 1.73469388\n",
      " 1.83673469 1.93877551 2.04081633 2.14285714 2.24489796 2.34693878\n",
      " 2.44897959 2.55102041 2.65306122 2.75510204 2.85714286 2.95918367\n",
      " 3.06122449 3.16326531 3.26530612 3.36734694 3.46938776 3.57142857\n",
      " 3.67346939 3.7755102  3.87755102 3.97959184 4.08163265 4.18367347\n",
      " 4.28571429 4.3877551  4.48979592 4.59183673 4.69387755 4.79591837\n",
      " 4.89795918 5.        ]\n",
      "(50,) <class 'numpy.ndarray'>\n"
     ]
    }
   ],
   "source": [
    "xo = 0.5\n",
    "xk = 0.3\n",
    "gamma = 0.8\n",
    "A = 2\n",
    "yr = 0.1 #kg kgCO2 −1\n",
    "\n",
    "tao = np.linspace(0,5)\n",
    "print(tao)\n",
    "print(np.shape(tao), type(tao))"
   ]
  },
  {
   "cell_type": "code",
   "execution_count": 146,
   "metadata": {},
   "outputs": [
    {
     "data": {
      "text/plain": [
       "1.2499999999999998"
      ]
     },
     "execution_count": 146,
     "metadata": {},
     "output_type": "execute_result"
    }
   ],
   "source": [
    "tao1 = (xo - xk) / (gamma * A * yr) \n",
    "tao1\n",
    "\n"
   ]
  },
  {
   "cell_type": "code",
   "execution_count": 147,
   "metadata": {},
   "outputs": [
    {
     "data": {
      "text/plain": [
       "5.879695601713209"
      ]
     },
     "execution_count": 147,
     "metadata": {},
     "output_type": "execute_result"
    }
   ],
   "source": [
    "tao2 = tao1 + xk / (gamma * A * yr) * np.log(xk / xo + (1 - xk / xo) * np.exp(xo / xk * A))\n",
    "tao2\n"
   ]
  },
  {
   "cell_type": "code",
   "execution_count": 148,
   "metadata": {
    "collapsed": true
   },
   "outputs": [],
   "source": [
    "def concentracion(tao):\n",
    "    \n",
    "    if tao == 1:\n",
    "        x = x0 - gamma * A * yr * tao * exp(-A*z)\n",
    "        return x\n",
    "    if tao == 2:\n",
    "        x = x0 - (xo - xk) * exp(-A * (z - zk))\n",
    "        return x\n",
    "    if tao == 3:\n",
    "        x = x0 / (1 + ((xo/xk) * exp(gamma * A * yr / xk * (tao - tao1)) - 1) * exp(-xo/xk * A*z))\n",
    "        return x"
   ]
  },
  {
   "cell_type": "code",
   "execution_count": 149,
   "metadata": {},
   "outputs": [
    {
     "name": "stderr",
     "output_type": "stream",
     "text": [
      "C:\\Users\\Agnès\\Anaconda3\\lib\\site-packages\\ipykernel_launcher.py:1: RuntimeWarning: invalid value encountered in log\n",
      "  \"\"\"Entry point for launching an IPython kernel.\n"
     ]
    },
    {
     "data": {
      "text/plain": [
       "array([        nan,         nan,         nan, -1.34814669, -0.70396795,\n",
       "       -0.50630908, -0.38276556, -0.29130864, -0.21784477, -0.15589928,\n",
       "       -0.10195478, -0.05388602, -0.01031013,  0.02972326,  0.06689549,\n",
       "        0.10171164,  0.13455655,  0.16573011,  0.1954706 ,  0.2239704 ,\n",
       "        0.25138712,  0.27785142,  0.30347285,  0.32834414,  0.35254444,\n",
       "        0.37614186,  0.39919539,  0.42175649,  0.44387025,  0.46557642,\n",
       "        0.48691022,  0.50790296,  0.52858263,  0.54897428,  0.56910048,\n",
       "        0.5889816 ,  0.60863604,  0.62808054,  0.6473303 ,  0.66639922,\n",
       "        0.68529996,  0.70404416,  0.72264248,  0.74110472,  0.75943992,\n",
       "        0.7776564 ,  0.79576186,  0.81376343,  0.8316677 ,  0.8494808 ])"
      ]
     },
     "execution_count": 149,
     "metadata": {},
     "output_type": "execute_result"
    }
   ],
   "source": [
    "zk = xk / (A * xo) * np.log((xo * np.exp(gamma * A * yr / xk * (tao - tao1)) - xk) / (xo - xk))\n",
    "zk"
   ]
  },
  {
   "cell_type": "code",
   "execution_count": 150,
   "metadata": {},
   "outputs": [
    {
     "data": {
      "text/plain": [
       "5.879695601713209"
      ]
     },
     "execution_count": 150,
     "metadata": {},
     "output_type": "execute_result"
    }
   ],
   "source": [
    "tao2 = tao1 + xk / (gamma * A * yr) * np.log(xk / xo + (1 - xk / xo) * np.exp(xo / xk * A))\n",
    "tao2"
   ]
  },
  {
   "cell_type": "code",
   "execution_count": 151,
   "metadata": {},
   "outputs": [
    {
     "data": {
      "text/plain": [
       "numpy.ndarray"
      ]
     },
     "execution_count": 151,
     "metadata": {},
     "output_type": "execute_result"
    }
   ],
   "source": [
    "e = gamma * yr* tao * (1- np.exp(-A))\n",
    "np.shape(e)\n",
    "type(e)"
   ]
  },
  {
   "cell_type": "code",
   "execution_count": 152,
   "metadata": {},
   "outputs": [
    {
     "data": {
      "text/plain": [
       "[<matplotlib.lines.Line2D at 0x12d86682400>]"
      ]
     },
     "execution_count": 152,
     "metadata": {},
     "output_type": "execute_result"
    },
    {
     "data": {
      "image/png": "[encoded data removed]",
      "text/plain": [
       "<matplotlib.figure.Figure at 0x12d86658588>"
      ]
     },
     "metadata": {},
     "output_type": "display_data"
    }
   ],
   "source": [
    "plt.plot(tao, e)"
   ]
  },
  {
   "cell_type": "code",
   "execution_count": 153,
   "metadata": {
    "collapsed": true
   },
   "outputs": [],
   "source": [
    "e = gamma * yr* (tao - tao1 * np.exp(-A * (1 - zk)))\n"
   ]
  },
  {
   "cell_type": "code",
   "execution_count": 154,
   "metadata": {
    "collapsed": true
   },
   "outputs": [],
   "source": [
    "e = xo - xk / A * np.log(1 + xk / xo * (np.exp(xo / xk * A) - 1)) * np.exp(gamma * A * yr / xk * (tao1 - tao))"
   ]
  },
  {
   "cell_type": "code",
   "execution_count": 155,
   "metadata": {
    "collapsed": true
   },
   "outputs": [],
   "source": [
    "def rendimiento(tao):\n",
    "    if tao <= tao1 and tao < tao2:\n",
    "        e = gamma * yr* tao * (1- np.exp(- A))\n",
    "        print(\"tao < tao1 and tao < tao2\")\n",
    "        return e\n",
    "    if tao > tao1 and tao <= tao2:\n",
    "        zk = xk / (A * xo) * np.log((xo * np.exp(gamma * A * yr / xk * (tao - tao1)) - xk) / (xo - xk))\n",
    "        e = gamma * yr * (tao - tao1 * np.exp(- A * (1 - zk)))\n",
    "        print(\"tao >= tao1 and tao < tao2\")\n",
    "        return e\n",
    "    if tao > tao2:\n",
    "        e = xo - xk / A * np.log(1 + xk / xo * (np.exp(xo / xk * A) - 1) * np.exp(gamma * A * yr / xk * (tao1 - tao)))\n",
    "        print(\"tao >= tao2\")\n",
    "        return e\n",
    "    "
   ]
  },
  {
   "cell_type": "code",
   "execution_count": 156,
   "metadata": {},
   "outputs": [
    {
     "name": "stdout",
     "output_type": "stream",
     "text": [
      "tao1 = 1.2499999999999998 tao2 = 5.879695601713209\n",
      "tao >= tao2\n"
     ]
    },
    {
     "data": {
      "text/plain": [
       "0.4653356509957497"
      ]
     },
     "execution_count": 156,
     "metadata": {},
     "output_type": "execute_result"
    }
   ],
   "source": [
    "tao = 9\n",
    "print(\"tao1 = {} tao2 = {}\".format(tao1, tao2))\n",
    "rendimiento(tao)"
   ]
  },
  {
   "cell_type": "code",
   "execution_count": 157,
   "metadata": {},
   "outputs": [
    {
     "data": {
      "text/plain": [
       "[0, 1, 2, 3, 4]"
      ]
     },
     "execution_count": 157,
     "metadata": {},
     "output_type": "execute_result"
    }
   ],
   "source": [
    "ttao = [i for i in range(5)]\n",
    "ttao"
   ]
  },
  {
   "cell_type": "code",
   "execution_count": 158,
   "metadata": {},
   "outputs": [
    {
     "data": {
      "text/plain": [
       "[0.0,\n",
       " 0.10204081632653061,\n",
       " 0.20408163265306123,\n",
       " 0.30612244897959184,\n",
       " 0.40816326530612246,\n",
       " 0.5102040816326531,\n",
       " 0.6122448979591837,\n",
       " 0.7142857142857143,\n",
       " 0.8163265306122449,\n",
       " 0.9183673469387755,\n",
       " 1.0204081632653061,\n",
       " 1.1224489795918369,\n",
       " 1.2244897959183674,\n",
       " 1.3265306122448979,\n",
       " 1.4285714285714286,\n",
       " 1.5306122448979593,\n",
       " 1.6326530612244898,\n",
       " 1.7346938775510203,\n",
       " 1.836734693877551,\n",
       " 1.9387755102040818,\n",
       " 2.0408163265306123,\n",
       " 2.142857142857143,\n",
       " 2.2448979591836737,\n",
       " 2.3469387755102042,\n",
       " 2.4489795918367347,\n",
       " 2.5510204081632653,\n",
       " 2.6530612244897958,\n",
       " 2.7551020408163267,\n",
       " 2.857142857142857,\n",
       " 2.9591836734693877,\n",
       " 3.0612244897959187,\n",
       " 3.163265306122449,\n",
       " 3.2653061224489797,\n",
       " 3.36734693877551,\n",
       " 3.4693877551020407,\n",
       " 3.5714285714285716,\n",
       " 3.673469387755102,\n",
       " 3.7755102040816326,\n",
       " 3.8775510204081636,\n",
       " 3.979591836734694,\n",
       " 4.081632653061225,\n",
       " 4.183673469387755,\n",
       " 4.285714285714286,\n",
       " 4.387755102040816,\n",
       " 4.4897959183673475,\n",
       " 4.591836734693878,\n",
       " 4.6938775510204085,\n",
       " 4.795918367346939,\n",
       " 4.8979591836734695,\n",
       " 5.0]"
      ]
     },
     "execution_count": 158,
     "metadata": {},
     "output_type": "execute_result"
    }
   ],
   "source": [
    "ttao = [i for i in np.linspace(0,5)]\n",
    "ttao"
   ]
  },
  {
   "cell_type": "code",
   "execution_count": 159,
   "metadata": {},
   "outputs": [
    {
     "name": "stdout",
     "output_type": "stream",
     "text": [
      "tao < tao1 and tao < tao2\n",
      "tao < tao1 and tao < tao2\n",
      "tao < tao1 and tao < tao2\n",
      "tao < tao1 and tao < tao2\n",
      "tao < tao1 and tao < tao2\n",
      "tao >= tao1 and tao < tao2\n",
      "tao >= tao1 and tao < tao2\n",
      "tao >= tao1 and tao < tao2\n",
      "tao >= tao1 and tao < tao2\n",
      "tao >= tao1 and tao < tao2\n",
      "tao >= tao1 and tao < tao2\n",
      "tao >= tao1 and tao < tao2\n",
      "tao >= tao1 and tao < tao2\n",
      "tao >= tao1 and tao < tao2\n",
      "tao >= tao1 and tao < tao2\n",
      "tao >= tao1 and tao < tao2\n",
      "tao >= tao1 and tao < tao2\n",
      "tao >= tao1 and tao < tao2\n",
      "tao >= tao1 and tao < tao2\n",
      "tao >= tao1 and tao < tao2\n",
      "tao >= tao2\n",
      "tao >= tao2\n",
      "tao >= tao2\n",
      "tao >= tao2\n",
      "tao >= tao2\n",
      "tao >= tao2\n",
      "tao >= tao2\n",
      "tao >= tao2\n",
      "tao >= tao2\n",
      "tao >= tao2\n",
      "tao >= tao2\n",
      "tao >= tao2\n",
      "tao >= tao2\n",
      "tao >= tao2\n",
      "tao >= tao2\n",
      "tao >= tao2\n",
      "tao >= tao2\n",
      "tao >= tao2\n",
      "tao >= tao2\n",
      "tao >= tao2\n",
      "tao >= tao2\n",
      "tao >= tao2\n",
      "tao >= tao2\n",
      "tao >= tao2\n",
      "tao >= tao2\n",
      "tao >= tao2\n",
      "tao >= tao2\n",
      "tao >= tao2\n",
      "tao >= tao2\n",
      "tao >= tao2\n"
     ]
    },
    {
     "data": {
      "text/plain": [
       "[0.0,\n",
       " 0.021175462451348267,\n",
       " 0.042350924902696534,\n",
       " 0.0635263873540448,\n",
       " 0.08470184980539307,\n",
       " 0.10586240724665469,\n",
       " 0.12693119197306726,\n",
       " 0.14783738881474864,\n",
       " 0.1685261464121838,\n",
       " 0.18894922443715043,\n",
       " 0.20906060982884964,\n",
       " 0.22881410899010135,\n",
       " 0.24816182896433522,\n",
       " 0.26705309024678237,\n",
       " 0.28543355559493905,\n",
       " 0.30324446322126325,\n",
       " 0.32042190154796807,\n",
       " 0.33689608714873753,\n",
       " 0.35259062034949884,\n",
       " 0.36742169991480716,\n",
       " 0.38130372981839566,\n",
       " 0.3941960908220593,\n",
       " 0.406090123152443,\n",
       " 0.41699047089218877,\n",
       " 0.4269147321107626,\n",
       " 0.43589255261409354,\n",
       " 0.44396415365496233,\n",
       " 0.45117844370314303,\n",
       " 0.457590892189559,\n",
       " 0.46326134405019936,\n",
       " 0.46825193197286874,\n",
       " 0.4726252062684879,\n",
       " 0.4764425591202635,\n",
       " 0.479762978345391,\n",
       " 0.48264213103884324,\n",
       " 0.48513175212947535,\n",
       " 0.48727929723524216,\n",
       " 0.48912781199630445,\n",
       " 0.4907159692896542,\n",
       " 0.4920782292572582,\n",
       " 0.49324508303711023,\n",
       " 0.4942433480260757,\n",
       " 0.49509648943078877,\n",
       " 0.4958249491782092,\n",
       " 0.49644646866322384,\n",
       " 0.49697639621796236,\n",
       " 0.4974279736363982,\n",
       " 0.4978125986875685,\n",
       " 0.49814006243866604,\n",
       " 0.49841876152514436]"
      ]
     },
     "execution_count": 159,
     "metadata": {},
     "output_type": "execute_result"
    }
   ],
   "source": [
    "caso1 = [rendimiento(tao) for tao in np.linspace(0,15)]\n",
    "caso1\n"
   ]
  },
  {
   "cell_type": "code",
   "execution_count": 160,
   "metadata": {},
   "outputs": [
    {
     "data": {
      "text/plain": [
       "[0.0,\n",
       " 0.021175462451348267,\n",
       " 0.042350924902696534,\n",
       " 0.0635263873540448,\n",
       " 0.08470184980539307,\n",
       " 0.10586240724665469,\n",
       " 0.12693119197306726,\n",
       " 0.14783738881474864,\n",
       " 0.1685261464121838,\n",
       " 0.18894922443715043,\n",
       " 0.20906060982884964,\n",
       " 0.22881410899010135,\n",
       " 0.24816182896433522,\n",
       " 0.26705309024678237,\n",
       " 0.28543355559493905,\n",
       " 0.30324446322126325,\n",
       " 0.32042190154796807,\n",
       " 0.33689608714873753,\n",
       " 0.35259062034949884,\n",
       " 0.36742169991480716,\n",
       " 0.38130372981839566,\n",
       " 0.3941960908220593,\n",
       " 0.406090123152443,\n",
       " 0.41699047089218877,\n",
       " 0.4269147321107626,\n",
       " 0.43589255261409354,\n",
       " 0.44396415365496233,\n",
       " 0.45117844370314303,\n",
       " 0.457590892189559,\n",
       " 0.46326134405019936,\n",
       " 0.46825193197286874,\n",
       " 0.4726252062684879,\n",
       " 0.4764425591202635,\n",
       " 0.479762978345391,\n",
       " 0.48264213103884324,\n",
       " 0.48513175212947535,\n",
       " 0.48727929723524216,\n",
       " 0.48912781199630445,\n",
       " 0.4907159692896542,\n",
       " 0.4920782292572582,\n",
       " 0.49324508303711023,\n",
       " 0.4942433480260757,\n",
       " 0.49509648943078877,\n",
       " 0.4958249491782092,\n",
       " 0.49644646866322384,\n",
       " 0.49697639621796236,\n",
       " 0.4974279736363982,\n",
       " 0.4978125986875685,\n",
       " 0.49814006243866604,\n",
       " 0.49841876152514436]"
      ]
     },
     "execution_count": 160,
     "metadata": {},
     "output_type": "execute_result"
    }
   ],
   "source": [
    "caso1"
   ]
  },
  {
   "cell_type": "code",
   "execution_count": 161,
   "metadata": {},
   "outputs": [
    {
     "data": {
      "text/plain": [
       "Text(0,0.5,'Rendimiento e')"
      ]
     },
     "execution_count": 161,
     "metadata": {},
     "output_type": "execute_result"
    },
    {
     "data": {
      "image/png": "[encoded data removed]",
      "text/plain": [
       "<matplotlib.figure.Figure at 0x12d86633668>"
      ]
     },
     "metadata": {},
     "output_type": "display_data"
    }
   ],
   "source": [
    "Tao = np.linspace(0,15)\n",
    "\n",
    "plt.plot(Tao, caso1)\n",
    "plt.title(\"Modelo Lack\")\n",
    "plt.xlabel(\" $tao $ \")\n",
    "plt.ylabel(\"Rendimiento e\")\n",
    "#plt.legend(('$xk=0.3$'),loc=0)"
   ]
  },
  {
   "cell_type": "markdown",
   "metadata": {},
   "source": [
    "# Autre"
   ]
  },
  {
   "cell_type": "code",
   "execution_count": 228,
   "metadata": {
    "collapsed": true
   },
   "outputs": [],
   "source": [
    "def rendimiento(tao):\n",
    "    if tao <= tao1 and tao < tao2:\n",
    "        e = gamma * yr* tao * (1- np.exp(- A))\n",
    "        print(\"tao < tao1 and tao < tao2\")\n",
    "        return e\n",
    "    if tao > tao1 and tao <= tao2:\n",
    "        zk = xk / (A * xo) * np.log((xo * np.exp(gamma * A * yr / xk * (tao - tao1)) - xk) / (xo - xk))\n",
    "        e = gamma * yr * (tao - tao1 * np.exp(- A * (1 - zk)))\n",
    "        print(\"tao >= tao1 and tao < tao2\")\n",
    "        return e\n",
    "    if tao > tao2:\n",
    "        e = xo - xk / A * np.log(1 + xk / xo * (np.exp(xo / xk * A) - 1) * np.exp(gamma * A * yr / xk * (tao1 - tao)))\n",
    "        print(\"tao >= tao2\")\n",
    "        return e\n",
    "    "
   ]
  },
  {
   "cell_type": "code",
   "execution_count": 232,
   "metadata": {
    "collapsed": true
   },
   "outputs": [],
   "source": [
    "def rendementparametre(xk,A):\n",
    "    Tao = np.linspace(0,15)\n",
    "\n",
    "    plt.plot(Tao, caso1)\n",
    "    plt.title(\"Modelo Lack\")\n",
    "    plt.xlabel(\" $tao $ \")\n",
    "    plt.ylabel(\"Rendimiento e\")\n",
    "    return\n"
   ]
  },
  {
   "cell_type": "code",
   "execution_count": 233,
   "metadata": {},
   "outputs": [
    {
     "data": {
      "image/png": "[encoded data removed]",
      "text/plain": [
       "<matplotlib.figure.Figure at 0x12d87a1b438>"
      ]
     },
     "metadata": {},
     "output_type": "display_data"
    }
   ],
   "source": [
    "rendementparametre(0.1,1)"
   ]
  },
  {
   "cell_type": "code",
   "execution_count": 234,
   "metadata": {},
   "outputs": [
    {
     "data": {
      "image/png": "[encoded data removed]",
      "text/plain": [
       "<matplotlib.figure.Figure at 0x12d87a7bc18>"
      ]
     },
     "metadata": {},
     "output_type": "display_data"
    }
   ],
   "source": [
    "rendementparametre(0.2,2)"
   ]
  },
  {
   "cell_type": "code",
   "execution_count": 235,
   "metadata": {},
   "outputs": [
    {
     "data": {
      "image/png": "[encoded data removed]",
      "text/plain": [
       "<matplotlib.figure.Figure at 0x12d87ae3518>"
      ]
     },
     "metadata": {},
     "output_type": "display_data"
    }
   ],
   "source": [
    "rendementparametre(0.4,4)"
   ]
  },
  {
   "cell_type": "code",
   "execution_count": 216,
   "metadata": {},
   "outputs": [
    {
     "data": {
      "text/plain": [
       "4.583946341135364"
      ]
     },
     "execution_count": 216,
     "metadata": {},
     "output_type": "execute_result"
    }
   ],
   "source": []
  },
  {
   "cell_type": "code",
   "execution_count": 217,
   "metadata": {},
   "outputs": [
    {
     "data": {
      "text/plain": [
       "numpy.ndarray"
      ]
     },
     "execution_count": 217,
     "metadata": {},
     "output_type": "execute_result"
    }
   ],
   "source": []
  },
  {
   "cell_type": "code",
   "execution_count": 218,
   "metadata": {},
   "outputs": [
    {
     "data": {
      "text/plain": [
       "[<matplotlib.lines.Line2D at 0x12d879905c0>]"
      ]
     },
     "execution_count": 218,
     "metadata": {},
     "output_type": "execute_result"
    },
    {
     "data": {
      "image/png": "[encoded data removed]",
      "text/plain": [
       "<matplotlib.figure.Figure at 0x12d8793e780>"
      ]
     },
     "metadata": {},
     "output_type": "display_data"
    }
   ],
   "source": []
  },
  {
   "cell_type": "code",
   "execution_count": 219,
   "metadata": {
    "collapsed": true
   },
   "outputs": [],
   "source": []
  },
  {
   "cell_type": "code",
   "execution_count": 220,
   "metadata": {
    "collapsed": true
   },
   "outputs": [],
   "source": []
  },
  {
   "cell_type": "code",
   "execution_count": 221,
   "metadata": {
    "collapsed": true
   },
   "outputs": [],
   "source": []
  },
  {
   "cell_type": "code",
   "execution_count": 222,
   "metadata": {},
   "outputs": [
    {
     "name": "stdout",
     "output_type": "stream",
     "text": [
      "tao1 = 1.2499999999999998 tao2 = 5.879695601713209\n",
      "tao >= tao2\n"
     ]
    },
    {
     "data": {
      "text/plain": [
       "0.48928938945393036"
      ]
     },
     "execution_count": 222,
     "metadata": {},
     "output_type": "execute_result"
    }
   ],
   "source": []
  },
  {
   "cell_type": "code",
   "execution_count": 223,
   "metadata": {},
   "outputs": [
    {
     "data": {
      "text/plain": [
       "[0, 1, 2, 3, 4]"
      ]
     },
     "execution_count": 223,
     "metadata": {},
     "output_type": "execute_result"
    }
   ],
   "source": []
  },
  {
   "cell_type": "code",
   "execution_count": 224,
   "metadata": {},
   "outputs": [
    {
     "data": {
      "text/plain": [
       "[0.0,\n",
       " 0.10204081632653061,\n",
       " 0.20408163265306123,\n",
       " 0.30612244897959184,\n",
       " 0.40816326530612246,\n",
       " 0.5102040816326531,\n",
       " 0.6122448979591837,\n",
       " 0.7142857142857143,\n",
       " 0.8163265306122449,\n",
       " 0.9183673469387755,\n",
       " 1.0204081632653061,\n",
       " 1.1224489795918369,\n",
       " 1.2244897959183674,\n",
       " 1.3265306122448979,\n",
       " 1.4285714285714286,\n",
       " 1.5306122448979593,\n",
       " 1.6326530612244898,\n",
       " 1.7346938775510203,\n",
       " 1.836734693877551,\n",
       " 1.9387755102040818,\n",
       " 2.0408163265306123,\n",
       " 2.142857142857143,\n",
       " 2.2448979591836737,\n",
       " 2.3469387755102042,\n",
       " 2.4489795918367347,\n",
       " 2.5510204081632653,\n",
       " 2.6530612244897958,\n",
       " 2.7551020408163267,\n",
       " 2.857142857142857,\n",
       " 2.9591836734693877,\n",
       " 3.0612244897959187,\n",
       " 3.163265306122449,\n",
       " 3.2653061224489797,\n",
       " 3.36734693877551,\n",
       " 3.4693877551020407,\n",
       " 3.5714285714285716,\n",
       " 3.673469387755102,\n",
       " 3.7755102040816326,\n",
       " 3.8775510204081636,\n",
       " 3.979591836734694,\n",
       " 4.081632653061225,\n",
       " 4.183673469387755,\n",
       " 4.285714285714286,\n",
       " 4.387755102040816,\n",
       " 4.4897959183673475,\n",
       " 4.591836734693878,\n",
       " 4.6938775510204085,\n",
       " 4.795918367346939,\n",
       " 4.8979591836734695,\n",
       " 5.0]"
      ]
     },
     "execution_count": 224,
     "metadata": {},
     "output_type": "execute_result"
    }
   ],
   "source": []
  },
  {
   "cell_type": "code",
   "execution_count": 225,
   "metadata": {},
   "outputs": [
    {
     "name": "stdout",
     "output_type": "stream",
     "text": [
      "tao < tao1 and tao < tao2\n",
      "tao < tao1 and tao < tao2\n",
      "tao >= tao1 and tao < tao2\n",
      "tao >= tao1 and tao < tao2\n",
      "tao >= tao1 and tao < tao2\n",
      "tao >= tao1 and tao < tao2\n",
      "tao >= tao1 and tao < tao2\n",
      "tao >= tao1 and tao < tao2\n",
      "tao >= tao1 and tao < tao2\n",
      "tao >= tao1 and tao < tao2\n",
      "tao >= tao1 and tao < tao2\n",
      "tao >= tao1 and tao < tao2\n",
      "tao >= tao1 and tao < tao2\n",
      "tao >= tao1 and tao < tao2\n",
      "tao >= tao1 and tao < tao2\n",
      "tao >= tao2\n",
      "tao >= tao2\n",
      "tao >= tao2\n",
      "tao >= tao2\n",
      "tao >= tao2\n",
      "tao >= tao2\n",
      "tao >= tao2\n",
      "tao >= tao2\n",
      "tao >= tao2\n",
      "tao >= tao2\n",
      "tao >= tao2\n",
      "tao >= tao2\n",
      "tao >= tao2\n",
      "tao >= tao2\n",
      "tao >= tao2\n",
      "tao >= tao2\n",
      "tao >= tao2\n",
      "tao >= tao2\n",
      "tao >= tao2\n",
      "tao >= tao2\n",
      "tao >= tao2\n",
      "tao >= tao2\n",
      "tao >= tao2\n",
      "tao >= tao2\n",
      "tao >= tao2\n",
      "tao >= tao2\n",
      "tao >= tao2\n",
      "tao >= tao2\n",
      "tao >= tao2\n",
      "tao >= tao2\n",
      "tao >= tao2\n",
      "tao >= tao2\n",
      "tao >= tao2\n",
      "tao >= tao2\n",
      "tao >= tao2\n"
     ]
    },
    {
     "data": {
      "text/plain": [
       "[0.0,\n",
       " 0.024041249659867737,\n",
       " 0.7190914533309968,\n",
       " 0.718579163809553,\n",
       " 0.7179856386328294,\n",
       " 0.7172858071202229,\n",
       " 0.7164525039367247,\n",
       " 0.7154541878287507,\n",
       " 0.7142532926478884,\n",
       " 0.7128045965993925,\n",
       " 0.7110533931746522,\n",
       " 0.7089333394989181,\n",
       " 0.7063638773622033,\n",
       " 0.7032471177307396,\n",
       " 0.6994640639179353,\n",
       " 0.3422169643639321,\n",
       " 0.36113676813322215,\n",
       " 0.378934489364718,\n",
       " 0.39547915297515,\n",
       " 0.41065899741032463,\n",
       " 0.4243921053446273,\n",
       " 0.4366350926454827,\n",
       " 0.4473880158319006,\n",
       " 0.4566943655439216,\n",
       " 0.4646361475721564,\n",
       " 0.4713251864255304,\n",
       " 0.4768924922334224,\n",
       " 0.48147761541705325,\n",
       " 0.4852194768336529,\n",
       " 0.48824948300646315,\n",
       " 0.4906870935567196,\n",
       " 0.49263756209496956,\n",
       " 0.49419135465912917,\n",
       " 0.49542471233898844,\n",
       " 0.49640089297803586,\n",
       " 0.4971717372028536,\n",
       " 0.49777931571338624,\n",
       " 0.49825750797968005,\n",
       " 0.49863343155527706,\n",
       " 0.49892868792607403,\n",
       " 0.4991604198386353,\n",
       " 0.4993421914103874,\n",
       " 0.4994847102707726,\n",
       " 0.4995964137138029,\n",
       " 0.49968394057592386,\n",
       " 0.49975250873476684,\n",
       " 0.49980621564599303,\n",
       " 0.49984827671470905,\n",
       " 0.49988121381246126,\n",
       " 0.4999070040309815]"
      ]
     },
     "execution_count": 225,
     "metadata": {},
     "output_type": "execute_result"
    }
   ],
   "source": []
  },
  {
   "cell_type": "code",
   "execution_count": 226,
   "metadata": {},
   "outputs": [
    {
     "data": {
      "text/plain": [
       "[0.0,\n",
       " 0.024041249659867737,\n",
       " 0.7190914533309968,\n",
       " 0.718579163809553,\n",
       " 0.7179856386328294,\n",
       " 0.7172858071202229,\n",
       " 0.7164525039367247,\n",
       " 0.7154541878287507,\n",
       " 0.7142532926478884,\n",
       " 0.7128045965993925,\n",
       " 0.7110533931746522,\n",
       " 0.7089333394989181,\n",
       " 0.7063638773622033,\n",
       " 0.7032471177307396,\n",
       " 0.6994640639179353,\n",
       " 0.3422169643639321,\n",
       " 0.36113676813322215,\n",
       " 0.378934489364718,\n",
       " 0.39547915297515,\n",
       " 0.41065899741032463,\n",
       " 0.4243921053446273,\n",
       " 0.4366350926454827,\n",
       " 0.4473880158319006,\n",
       " 0.4566943655439216,\n",
       " 0.4646361475721564,\n",
       " 0.4713251864255304,\n",
       " 0.4768924922334224,\n",
       " 0.48147761541705325,\n",
       " 0.4852194768336529,\n",
       " 0.48824948300646315,\n",
       " 0.4906870935567196,\n",
       " 0.49263756209496956,\n",
       " 0.49419135465912917,\n",
       " 0.49542471233898844,\n",
       " 0.49640089297803586,\n",
       " 0.4971717372028536,\n",
       " 0.49777931571338624,\n",
       " 0.49825750797968005,\n",
       " 0.49863343155527706,\n",
       " 0.49892868792607403,\n",
       " 0.4991604198386353,\n",
       " 0.4993421914103874,\n",
       " 0.4994847102707726,\n",
       " 0.4995964137138029,\n",
       " 0.49968394057592386,\n",
       " 0.49975250873476684,\n",
       " 0.49980621564599303,\n",
       " 0.49984827671470905,\n",
       " 0.49988121381246126,\n",
       " 0.4999070040309815]"
      ]
     },
     "execution_count": 226,
     "metadata": {},
     "output_type": "execute_result"
    }
   ],
   "source": []
  },
  {
   "cell_type": "code",
   "execution_count": 227,
   "metadata": {},
   "outputs": [
    {
     "data": {
      "text/plain": [
       "Text(0,0.5,'Rendimiento e')"
      ]
     },
     "execution_count": 227,
     "metadata": {},
     "output_type": "execute_result"
    },
    {
     "data": {
      "image/png": "[encoded data removed]",
      "text/plain": [
       "<matplotlib.figure.Figure at 0x12d879b50b8>"
      ]
     },
     "metadata": {},
     "output_type": "display_data"
    }
   ],
   "source": []
  },
  {
   "cell_type": "code",
   "execution_count": null,
   "metadata": {
    "collapsed": true
   },
   "outputs": [],
   "source": []
  },
  {
   "cell_type": "code",
   "execution_count": null,
   "metadata": {
    "collapsed": true
   },
   "outputs": [],
   "source": []
  }
 ],
 "metadata": {
  "kernelspec": {
   "display_name": "Python [default]",
   "language": "python",
   "name": "python3"
  },
  "language_info": {
   "codemirror_mode": {
    "name": "ipython",
    "version": 3
   },
   "file_extension": ".py",
   "mimetype": "text/x-python",
   "name": "python",
   "nbconvert_exporter": "python",
   "pygments_lexer": "ipython3",
   "version": "3.5.2"
  }
 },
 "nbformat": 4,
 "nbformat_minor": 2
}
