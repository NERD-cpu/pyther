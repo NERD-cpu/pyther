{
 "cells": [
  {
   "cell_type": "code",
   "execution_count": 1,
   "metadata": {
    "collapsed": true
   },
   "outputs": [],
   "source": [
    "import numpy as np\n",
    "import pandas as pd\n",
    "import math\n",
    "import cmath\n",
    "from scipy.optimize import root\n",
    "import matplotlib.pyplot as plt\n",
    "%matplotlib inline"
   ]
  },
  {
   "cell_type": "code",
   "execution_count": 2,
   "metadata": {},
   "outputs": [
    {
     "data": {
      "text/plain": [
       "'Tablea1.txt'"
      ]
     },
     "execution_count": 2,
     "metadata": {},
     "output_type": "execute_result"
    }
   ],
   "source": [
    "table = (\"Tablea1.txt\")\n",
    "table"
   ]
  },
  {
   "cell_type": "code",
   "execution_count": 3,
   "metadata": {
    "collapsed": true
   },
   "outputs": [],
   "source": [
    "class Polynome:\n",
    "    def __init__(self,table):\n",
    "        self.table=table\n",
    "        \n",
    "    def Lire(self):\n",
    "        self.abc = pd.read_csv(self.table,sep=\" \")\n",
    "        coef = self.abc.values\n",
    "        self.a = coef[:,0]\n",
    "        self.b = coef[:,1]\n",
    "        self.c = coef[:,2]\n",
    "        \n",
    "        print(self.a,self.b,self.c)\n",
    "        return self.abc \n",
    "    \n",
    "    def calcul(self):\n",
    "        i = 0\n",
    "        self.x1 = np.zeros(1)\n",
    "        self.x2 = np.zeros(1)\n",
    "        self.x0 = np.zeros(1)\n",
    "        self.x11 =np.zeros(1)\n",
    "        self.x12 =np.zeros(1)\n",
    "                \n",
    "        print(\"a : {0},b : {1} et c : {2}\".format(self.a,self.b,self.c))\n",
    "        \n",
    "        for self.a2, self.b2, self.c2 in zip(self.a,self.b, self.c):\n",
    "            self.Delta = (self.b**2)-(4 * self.a * self.c)\n",
    "            print (\"Delta = {}\".format(self.Delta))\n",
    "            if self.Delta < 0:\n",
    "                self.x11 = (-self.b2-cmath.sqrt(self.Delta))/(2*self.a2)\n",
    "                self.x12 = (-self.b2-cmath.sqrt(self.Delta))/(2*self.a2)\n",
    "                print (\"L'equation a deux solutions : x1 = {0} et x2 ={1}\".format(self.x11,self.x12))\n",
    "            elif self.Delta == 0:\n",
    "                self.x0 = (-self.b2/(2*self.a2))\n",
    "                print (\"L'equation a une solution: x = {}\".format(self.x0))\n",
    "            else:\n",
    "                self.x1 = (-self.b2+math.sqrt(self.Delta))/(2*self.a2)\n",
    "                self.x2 = (-self.b2-math.sqrt(self.Delta))/(2*self.a2)\n",
    "                print (\"L'equation a deux solutions : x1 = {0} et x2 ={1}\".format(self.x1,self.x2))\n",
    "                \n",
    "\n",
    "\n",
    "    def graphique2(self):\n",
    "        \n",
    "        fig,axes=plt.subplots(4,2)\n",
    "        x = np.linspace(-5,5,100)\n",
    "        g = (self.a2*x**2)+self.b2*x+self.c2 \n",
    "    \n",
    "\n",
    "        for self.a2,self.b2,self.c2 in zip(self.a,self.b,self.c):\n",
    "\n",
    "            axes[0,0].plot(x,g)\n",
    "            axes[1,1].plot(x,g)\n",
    "            axes[0,1].plot(x,g)\n",
    "            axes[1,0].plot(x,g)"
   ]
  },
  {
   "cell_type": "code",
   "execution_count": 7,
   "metadata": {},
   "outputs": [
    {
     "data": {
      "text/plain": [
       "<__main__.Polynome at 0x7fe54fc64828>"
      ]
     },
     "execution_count": 7,
     "metadata": {},
     "output_type": "execute_result"
    }
   ],
   "source": [
    "p = Polynome(\"Table1.txt\")\n",
    "p"
   ]
  },
  {
   "cell_type": "code",
   "execution_count": 8,
   "metadata": {},
   "outputs": [
    {
     "name": "stdout",
     "output_type": "stream",
     "text": [
      "[1 2 3 4 5 6 7 8 9 10] [146 146 146 146 50 146 190 50 146 190] ['EtOH95%' nan nan nan 'EtOH95%' nan nan 'EtOH10%' nan nan]\n"
     ]
    },
    {
     "data": {
      "text/html": [
       "<div>\n",
       "<table border=\"1\" class=\"dataframe\">\n",
       "  <thead>\n",
       "    <tr style=\"text-align: right;\">\n",
       "      <th></th>\n",
       "      <th>Experiment</th>\n",
       "      <th>Thickness</th>\n",
       "      <th>FoodSimulant</th>\n",
       "      <th>Cpo</th>\n",
       "      <th>K</th>\n",
       "      <th>Dp</th>\n",
       "      <th>RMSE</th>\n",
       "      <th>k</th>\n",
       "      <th>c4</th>\n",
       "    </tr>\n",
       "  </thead>\n",
       "  <tbody>\n",
       "    <tr>\n",
       "      <th>0</th>\n",
       "      <td>1</td>\n",
       "      <td>146</td>\n",
       "      <td>EtOH95%</td>\n",
       "      <td>1157(+/-112)</td>\n",
       "      <td>52.0</td>\n",
       "      <td>1.950000e-13</td>\n",
       "      <td>1.5</td>\n",
       "      <td>0.000007</td>\n",
       "      <td>0.05</td>\n",
       "    </tr>\n",
       "    <tr>\n",
       "      <th>1</th>\n",
       "      <td>2</td>\n",
       "      <td>146</td>\n",
       "      <td>NaN</td>\n",
       "      <td>2440(+/-62)</td>\n",
       "      <td>35.0</td>\n",
       "      <td>1.970000e-13</td>\n",
       "      <td>3.0</td>\n",
       "      <td>0.000007</td>\n",
       "      <td>0.05</td>\n",
       "    </tr>\n",
       "    <tr>\n",
       "      <th>2</th>\n",
       "      <td>3</td>\n",
       "      <td>146</td>\n",
       "      <td>NaN</td>\n",
       "      <td>3152(+/-40)</td>\n",
       "      <td>24.0</td>\n",
       "      <td>2.000000e-13</td>\n",
       "      <td>2.6</td>\n",
       "      <td>0.000007</td>\n",
       "      <td>0.05</td>\n",
       "    </tr>\n",
       "    <tr>\n",
       "      <th>3</th>\n",
       "      <td>4</td>\n",
       "      <td>146</td>\n",
       "      <td>NaN</td>\n",
       "      <td>5950(+/-35)</td>\n",
       "      <td>0.5</td>\n",
       "      <td>2.000000e-13</td>\n",
       "      <td>2.3</td>\n",
       "      <td>0.000007</td>\n",
       "      <td>0.05</td>\n",
       "    </tr>\n",
       "    <tr>\n",
       "      <th>4</th>\n",
       "      <td>5</td>\n",
       "      <td>50</td>\n",
       "      <td>EtOH95%</td>\n",
       "      <td>2050(+/-110)</td>\n",
       "      <td>334.0</td>\n",
       "      <td>1.000000e-14</td>\n",
       "      <td>3.1</td>\n",
       "      <td>0.000007</td>\n",
       "      <td>0.05</td>\n",
       "    </tr>\n",
       "    <tr>\n",
       "      <th>5</th>\n",
       "      <td>6</td>\n",
       "      <td>146</td>\n",
       "      <td>NaN</td>\n",
       "      <td>2440(+/-62)</td>\n",
       "      <td>35.0</td>\n",
       "      <td>1.970000e-13</td>\n",
       "      <td>3.0</td>\n",
       "      <td>0.000007</td>\n",
       "      <td>0.05</td>\n",
       "    </tr>\n",
       "    <tr>\n",
       "      <th>6</th>\n",
       "      <td>7</td>\n",
       "      <td>190</td>\n",
       "      <td>NaN</td>\n",
       "      <td>2878(+/-115)</td>\n",
       "      <td>34.0</td>\n",
       "      <td>2.000000e-13</td>\n",
       "      <td>4.6</td>\n",
       "      <td>0.000007</td>\n",
       "      <td>0.05</td>\n",
       "    </tr>\n",
       "    <tr>\n",
       "      <th>7</th>\n",
       "      <td>8</td>\n",
       "      <td>50</td>\n",
       "      <td>EtOH10%</td>\n",
       "      <td>2050(+/-110)</td>\n",
       "      <td>0.0</td>\n",
       "      <td>0.000000e+00</td>\n",
       "      <td>0.0</td>\n",
       "      <td>0.000007</td>\n",
       "      <td>0.05</td>\n",
       "    </tr>\n",
       "    <tr>\n",
       "      <th>8</th>\n",
       "      <td>9</td>\n",
       "      <td>146</td>\n",
       "      <td>NaN</td>\n",
       "      <td>2440(+/-62)</td>\n",
       "      <td>0.0</td>\n",
       "      <td>0.000000e+00</td>\n",
       "      <td>0.0</td>\n",
       "      <td>0.000007</td>\n",
       "      <td>0.05</td>\n",
       "    </tr>\n",
       "    <tr>\n",
       "      <th>9</th>\n",
       "      <td>10</td>\n",
       "      <td>190</td>\n",
       "      <td>NaN</td>\n",
       "      <td>2878(+/-115)</td>\n",
       "      <td>0.0</td>\n",
       "      <td>0.000000e+00</td>\n",
       "      <td>0.0</td>\n",
       "      <td>0.000007</td>\n",
       "      <td>0.05</td>\n",
       "    </tr>\n",
       "  </tbody>\n",
       "</table>\n",
       "</div>"
      ],
      "text/plain": [
       "   Experiment  Thickness FoodSimulant           Cpo      K            Dp  \\\n",
       "0           1        146      EtOH95%  1157(+/-112)   52.0  1.950000e-13   \n",
       "1           2        146          NaN   2440(+/-62)   35.0  1.970000e-13   \n",
       "2           3        146          NaN   3152(+/-40)   24.0  2.000000e-13   \n",
       "3           4        146          NaN   5950(+/-35)    0.5  2.000000e-13   \n",
       "4           5         50      EtOH95%  2050(+/-110)  334.0  1.000000e-14   \n",
       "5           6        146          NaN   2440(+/-62)   35.0  1.970000e-13   \n",
       "6           7        190          NaN  2878(+/-115)   34.0  2.000000e-13   \n",
       "7           8         50      EtOH10%  2050(+/-110)    0.0  0.000000e+00   \n",
       "8           9        146          NaN   2440(+/-62)    0.0  0.000000e+00   \n",
       "9          10        190          NaN  2878(+/-115)    0.0  0.000000e+00   \n",
       "\n",
       "   RMSE         k    c4  \n",
       "0   1.5  0.000007  0.05  \n",
       "1   3.0  0.000007  0.05  \n",
       "2   2.6  0.000007  0.05  \n",
       "3   2.3  0.000007  0.05  \n",
       "4   3.1  0.000007  0.05  \n",
       "5   3.0  0.000007  0.05  \n",
       "6   4.6  0.000007  0.05  \n",
       "7   0.0  0.000007  0.05  \n",
       "8   0.0  0.000007  0.05  \n",
       "9   0.0  0.000007  0.05  "
      ]
     },
     "execution_count": 8,
     "metadata": {},
     "output_type": "execute_result"
    }
   ],
   "source": [
    "p.Lire()"
   ]
  },
  {
   "cell_type": "code",
   "execution_count": 9,
   "metadata": {},
   "outputs": [
    {
     "name": "stdout",
     "output_type": "stream",
     "text": [
      "a : [1 2 3 4 5 6 7 8 9 10],b : [146 146 146 146 50 146 190 50 146 190] et c : ['EtOH95%' nan nan nan 'EtOH95%' nan nan 'EtOH10%' nan nan]\n"
     ]
    },
    {
     "ename": "TypeError",
     "evalue": "unsupported operand type(s) for -: 'int' and 'str'",
     "output_type": "error",
     "traceback": [
      "\u001b[0;31m---------------------------------------------------------------------------\u001b[0m",
      "\u001b[0;31mTypeError\u001b[0m                                 Traceback (most recent call last)",
      "\u001b[0;32m<ipython-input-9-f83de2fb7f7c>\u001b[0m in \u001b[0;36m<module>\u001b[0;34m()\u001b[0m\n\u001b[0;32m----> 1\u001b[0;31m \u001b[0mp\u001b[0m\u001b[0;34m.\u001b[0m\u001b[0mcalcul\u001b[0m\u001b[0;34m(\u001b[0m\u001b[0;34m)\u001b[0m\u001b[0;34m\u001b[0m\u001b[0m\n\u001b[0m",
      "\u001b[0;32m<ipython-input-3-c8c05230e69d>\u001b[0m in \u001b[0;36mcalcul\u001b[0;34m(self)\u001b[0m\n\u001b[1;32m     24\u001b[0m \u001b[0;34m\u001b[0m\u001b[0m\n\u001b[1;32m     25\u001b[0m         \u001b[0;32mfor\u001b[0m \u001b[0mself\u001b[0m\u001b[0;34m.\u001b[0m\u001b[0ma2\u001b[0m\u001b[0;34m,\u001b[0m \u001b[0mself\u001b[0m\u001b[0;34m.\u001b[0m\u001b[0mb2\u001b[0m\u001b[0;34m,\u001b[0m \u001b[0mself\u001b[0m\u001b[0;34m.\u001b[0m\u001b[0mc2\u001b[0m \u001b[0;32min\u001b[0m \u001b[0mzip\u001b[0m\u001b[0;34m(\u001b[0m\u001b[0mself\u001b[0m\u001b[0;34m.\u001b[0m\u001b[0ma\u001b[0m\u001b[0;34m,\u001b[0m\u001b[0mself\u001b[0m\u001b[0;34m.\u001b[0m\u001b[0mb\u001b[0m\u001b[0;34m,\u001b[0m \u001b[0mself\u001b[0m\u001b[0;34m.\u001b[0m\u001b[0mc\u001b[0m\u001b[0;34m)\u001b[0m\u001b[0;34m:\u001b[0m\u001b[0;34m\u001b[0m\u001b[0m\n\u001b[0;32m---> 26\u001b[0;31m             \u001b[0mself\u001b[0m\u001b[0;34m.\u001b[0m\u001b[0mDelta\u001b[0m \u001b[0;34m=\u001b[0m \u001b[0;34m(\u001b[0m\u001b[0mself\u001b[0m\u001b[0;34m.\u001b[0m\u001b[0mb\u001b[0m\u001b[0;34m**\u001b[0m\u001b[0;36m2\u001b[0m\u001b[0;34m)\u001b[0m\u001b[0;34m-\u001b[0m\u001b[0;34m(\u001b[0m\u001b[0;36m4\u001b[0m \u001b[0;34m*\u001b[0m \u001b[0mself\u001b[0m\u001b[0;34m.\u001b[0m\u001b[0ma\u001b[0m \u001b[0;34m*\u001b[0m \u001b[0mself\u001b[0m\u001b[0;34m.\u001b[0m\u001b[0mc\u001b[0m\u001b[0;34m)\u001b[0m\u001b[0;34m\u001b[0m\u001b[0m\n\u001b[0m\u001b[1;32m     27\u001b[0m             \u001b[0mprint\u001b[0m \u001b[0;34m(\u001b[0m\u001b[0;34m\"Delta = {}\"\u001b[0m\u001b[0;34m.\u001b[0m\u001b[0mformat\u001b[0m\u001b[0;34m(\u001b[0m\u001b[0mself\u001b[0m\u001b[0;34m.\u001b[0m\u001b[0mDelta\u001b[0m\u001b[0;34m)\u001b[0m\u001b[0;34m)\u001b[0m\u001b[0;34m\u001b[0m\u001b[0m\n\u001b[1;32m     28\u001b[0m             \u001b[0;32mif\u001b[0m \u001b[0mself\u001b[0m\u001b[0;34m.\u001b[0m\u001b[0mDelta\u001b[0m \u001b[0;34m<\u001b[0m \u001b[0;36m0\u001b[0m\u001b[0;34m:\u001b[0m\u001b[0;34m\u001b[0m\u001b[0m\n",
      "\u001b[0;31mTypeError\u001b[0m: unsupported operand type(s) for -: 'int' and 'str'"
     ]
    }
   ],
   "source": [
    "p.calcul()"
   ]
  },
  {
   "cell_type": "code",
   "execution_count": null,
   "metadata": {
    "collapsed": true
   },
   "outputs": [],
   "source": []
  },
  {
   "cell_type": "code",
   "execution_count": null,
   "metadata": {
    "collapsed": true
   },
   "outputs": [],
   "source": []
  },
  {
   "cell_type": "code",
   "execution_count": null,
   "metadata": {
    "collapsed": true
   },
   "outputs": [],
   "source": []
  }
 ],
 "metadata": {
  "kernelspec": {
   "display_name": "Python [default]",
   "language": "python",
   "name": "python3"
  },
  "language_info": {
   "codemirror_mode": {
    "name": "ipython",
    "version": 3
   },
   "file_extension": ".py",
   "mimetype": "text/x-python",
   "name": "python",
   "nbconvert_exporter": "python",
   "pygments_lexer": "ipython3",
   "version": "3.5.2"
  }
 },
 "nbformat": 4,
 "nbformat_minor": 2
}
