{
 "cells": [
  {
   "cell_type": "code",
   "execution_count": 4,
   "metadata": {
    "collapsed": true
   },
   "outputs": [],
   "source": [
    "import numpy as np\n",
    "import pandas as pd\n",
    "import math\n",
    "import cmath\n",
    "from scipy.optimize import root\n",
    "import matplotlib.pyplot as plt\n",
    "%matplotlib inline"
   ]
  },
  {
   "cell_type": "code",
   "execution_count": 5,
   "metadata": {},
   "outputs": [
    {
     "data": {
      "text/plain": [
       "'Tableact6bis.txt'"
      ]
     },
     "execution_count": 5,
     "metadata": {},
     "output_type": "execute_result"
    }
   ],
   "source": [
    "table = (\"Tableact6bis.txt\")\n",
    "table"
   ]
  },
  {
   "cell_type": "code",
   "execution_count": 6,
   "metadata": {
    "collapsed": true
   },
   "outputs": [],
   "source": [
    "class Polynome:\n",
    "    def __init__(self,table):\n",
    "        self.table=table\n",
    "        \n",
    "    def Lire(self):\n",
    "        self.abc = pd.read_csv(self.table,sep=\" \")\n",
    "        coef = self.abc.values\n",
    "        self.a = coef[:,0]\n",
    "        self.b = coef[:,1]\n",
    "        self.c = coef[:,2]\n",
    "        return self.abc \n",
    "\n",
    "    def pair1(self):\n",
    "        print(self.a)\n",
    "        self.liste_pair=list()\n",
    "        self.liste_impair = list()\n",
    "        for nombre in self.a:\n",
    "            if nombre%2 == 0:\n",
    "                self.liste_pair.append(nombre)\n",
    "            else:\n",
    "                self.liste_impair.append(nombre)\n",
    "        print (\"Liste des pairs : {0}\".format((self.liste_pair)))\n",
    "        print (\"Liste des impairs : {0}\".format((self.liste_impair)))\n",
    "        \n",
    "        self.ap = self.liste_pair\n",
    "        self.aip =np.asarray(self.liste_impair)\n",
    "        \n",
    "    def pair2(self):\n",
    "        print(self.b)\n",
    "        self.liste_pair2=list()\n",
    "        self.liste_impair2 = list()\n",
    "        for nombre in self.b:\n",
    "            if nombre%2 == 0:\n",
    "                self.liste_pair2.append(nombre)\n",
    "            else:\n",
    "                self.liste_impair2.append(nombre)\n",
    "        print (\"Liste des pairs : {0}\".format((self.liste_pair2)))\n",
    "        print (\"Liste des impairs : {0}\".format((self.liste_impair2)))\n",
    "        \n",
    "        self.bp = self.liste_pair2\n",
    "        self.bip =np.asarray(self.liste_impair2)\n",
    "        \n",
    "                \n",
    "    def pair3(self):\n",
    "        print(self.c)\n",
    "        self.liste_pair3=list()\n",
    "        self.liste_impair3 = list()\n",
    "        for nombre in self.c:\n",
    "            if nombre%2 == 0:\n",
    "                self.liste_pair3.append(nombre)\n",
    "            else:\n",
    "                self.liste_impair3.append(nombre)\n",
    "                \n",
    "        print (\"Liste des pairs : {0}\".format((self.liste_pair3)))\n",
    "        print (\"Liste des impairs : {0}\".format((self.liste_impair3)))\n",
    "        \n",
    "        self.cp = np.asarray(self.liste_pair3)\n",
    "        self.cip =np.asarray(self.liste_impair3)\n",
    "    \n",
    "    def calcul(self):\n",
    "        i = 0\n",
    "        self.x1 = np.zeros(1)\n",
    "        self.x2 = np.zeros(1)\n",
    "        self.x0 = np.zeros(1)\n",
    "        self.x11 =np.zeros(1)\n",
    "        self.x12 =np.zeros(1)\n",
    "        \n",
    "        \n",
    "        for self.ap2,self.bp2,self.cp2 in zip(self.ap,self.bp,self.cp): \n",
    "            print(\"ap : {0},bp : {1} et cp : {2}\".format(self.ap2,self.bp2,self.cp2))\n",
    "\n",
    "            self.Delta = (self.bp2**2)-(4 * self.ap2 * self.cp2)\n",
    "            print (\"Delta = {}\".format(self.Delta))\n",
    "            if self.Delta < 0:\n",
    "                self.x11 = (-self.bp2-cmath.sqrt(self.Delta))/(2*self.ap2)\n",
    "                self.x12 = (-self.bp2-cmath.sqrt(self.Delta))/(2*self.ap2)\n",
    "                print (\"L'equation a deux solutions : x1 = {0} et x2 ={1}\".format(self.x11,self.x12))\n",
    "            elif self.Delta == 0:\n",
    "                self.x0 = (-self.bp2/(2*self.ap2))\n",
    "                print (\"L'equation a une solution: x = {}\".format(self.x0))\n",
    "            else:\n",
    "                self.x1 = (-self.bp2+math.sqrt(self.Delta))/(2*self.ap2)\n",
    "                self.x2 = (-self.bp2-math.sqrt(self.Delta))/(2*self.ap2)\n",
    "                print (\"L'equation a deux solutions : x1 = {0} et x2 ={1}\".format(self.x1,self.x2))\n",
    "\n",
    "\n",
    "    def graphique2(self):\n",
    "        \n",
    "        fig,axes=plt.subplots(2,2)\n",
    "        x = np.linspace(-5,5,100)\n",
    "        g = (self.ap2*x**2)+self.bp2*x+self.cp2\n",
    "    \n",
    "\n",
    "        for self.ap2,self.bp2,self.cp2 in zip(self.ap,self.bp,self.cp):\n",
    "\n",
    "\n",
    "            axes[0,0].plot(x,g)\n",
    "            axes[1,1].plot(x,g)\n",
    "            axes[0,1].plot(x,g)\n",
    "            axes[1,0].plot(x,g)"
   ]
  },
  {
   "cell_type": "code",
   "execution_count": 7,
   "metadata": {},
   "outputs": [
    {
     "data": {
      "text/plain": [
       "<__main__.Polynome at 0x20932ea2b38>"
      ]
     },
     "execution_count": 7,
     "metadata": {},
     "output_type": "execute_result"
    }
   ],
   "source": [
    "p = Polynome(\"Tableact6bis.txt\")\n",
    "p"
   ]
  },
  {
   "cell_type": "code",
   "execution_count": 8,
   "metadata": {},
   "outputs": [
    {
     "data": {
      "text/html": [
       "<div>\n",
       "<style scoped>\n",
       "    .dataframe tbody tr th:only-of-type {\n",
       "        vertical-align: middle;\n",
       "    }\n",
       "\n",
       "    .dataframe tbody tr th {\n",
       "        vertical-align: top;\n",
       "    }\n",
       "\n",
       "    .dataframe thead th {\n",
       "        text-align: right;\n",
       "    }\n",
       "</style>\n",
       "<table border=\"1\" class=\"dataframe\">\n",
       "  <thead>\n",
       "    <tr style=\"text-align: right;\">\n",
       "      <th></th>\n",
       "      <th>a</th>\n",
       "      <th>b</th>\n",
       "      <th>c</th>\n",
       "    </tr>\n",
       "  </thead>\n",
       "  <tbody>\n",
       "    <tr>\n",
       "      <th>0</th>\n",
       "      <td>-4</td>\n",
       "      <td>2</td>\n",
       "      <td>2</td>\n",
       "    </tr>\n",
       "    <tr>\n",
       "      <th>1</th>\n",
       "      <td>1</td>\n",
       "      <td>1</td>\n",
       "      <td>1</td>\n",
       "    </tr>\n",
       "    <tr>\n",
       "      <th>2</th>\n",
       "      <td>3</td>\n",
       "      <td>3</td>\n",
       "      <td>3</td>\n",
       "    </tr>\n",
       "    <tr>\n",
       "      <th>3</th>\n",
       "      <td>4</td>\n",
       "      <td>2</td>\n",
       "      <td>-2</td>\n",
       "    </tr>\n",
       "    <tr>\n",
       "      <th>4</th>\n",
       "      <td>1</td>\n",
       "      <td>5</td>\n",
       "      <td>3</td>\n",
       "    </tr>\n",
       "    <tr>\n",
       "      <th>5</th>\n",
       "      <td>2</td>\n",
       "      <td>6</td>\n",
       "      <td>-4</td>\n",
       "    </tr>\n",
       "    <tr>\n",
       "      <th>6</th>\n",
       "      <td>4</td>\n",
       "      <td>10</td>\n",
       "      <td>-2</td>\n",
       "    </tr>\n",
       "  </tbody>\n",
       "</table>\n",
       "</div>"
      ],
      "text/plain": [
       "   a   b  c\n",
       "0 -4   2  2\n",
       "1  1   1  1\n",
       "2  3   3  3\n",
       "3  4   2 -2\n",
       "4  1   5  3\n",
       "5  2   6 -4\n",
       "6  4  10 -2"
      ]
     },
     "execution_count": 8,
     "metadata": {},
     "output_type": "execute_result"
    }
   ],
   "source": [
    "p.Lire()"
   ]
  },
  {
   "cell_type": "code",
   "execution_count": 9,
   "metadata": {},
   "outputs": [
    {
     "name": "stdout",
     "output_type": "stream",
     "text": [
      "[-4  1  3  4  1  2  4]\n",
      "Liste des pairs : [-4, 4, 2, 4]\n",
      "Liste des impairs : [1, 3, 1]\n"
     ]
    }
   ],
   "source": [
    "p.pair1()"
   ]
  },
  {
   "cell_type": "code",
   "execution_count": 10,
   "metadata": {},
   "outputs": [
    {
     "name": "stdout",
     "output_type": "stream",
     "text": [
      "[ 2  1  3  2  5  6 10]\n",
      "Liste des pairs : [2, 2, 6, 10]\n",
      "Liste des impairs : [1, 3, 5]\n"
     ]
    }
   ],
   "source": [
    "p.pair2()"
   ]
  },
  {
   "cell_type": "code",
   "execution_count": 11,
   "metadata": {},
   "outputs": [
    {
     "name": "stdout",
     "output_type": "stream",
     "text": [
      "[ 2  1  3 -2  3 -4 -2]\n",
      "Liste des pairs : [2, -2, -4, -2]\n",
      "Liste des impairs : [1, 3, 3]\n"
     ]
    }
   ],
   "source": [
    "p.pair3()"
   ]
  },
  {
   "cell_type": "code",
   "execution_count": 12,
   "metadata": {},
   "outputs": [
    {
     "name": "stdout",
     "output_type": "stream",
     "text": [
      "ap : -4,bp : 2 et cp : 2\n",
      "Delta = 36\n",
      "L'equation a deux solutions : x1 = -0.5 et x2 =1.0\n",
      "ap : 4,bp : 2 et cp : -2\n",
      "Delta = 36\n",
      "L'equation a deux solutions : x1 = 0.5 et x2 =-1.0\n",
      "ap : 2,bp : 6 et cp : -4\n",
      "Delta = 68\n",
      "L'equation a deux solutions : x1 = 0.5615528128088303 et x2 =-3.5615528128088303\n",
      "ap : 4,bp : 10 et cp : -2\n",
      "Delta = 132\n",
      "L'equation a deux solutions : x1 = 0.18614066163450715 et x2 =-2.686140661634507\n"
     ]
    }
   ],
   "source": [
    "p.calcul()"
   ]
  },
  {
   "cell_type": "code",
   "execution_count": 13,
   "metadata": {},
   "outputs": [
    {
     "data": {
      "image/png": "[encoded data removed]",
      "text/plain": [
       "<matplotlib.figure.Figure at 0x20932ef9cf8>"
      ]
     },
     "metadata": {},
     "output_type": "display_data"
    }
   ],
   "source": [
    "p.graphique2()"
   ]
  },
  {
   "cell_type": "code",
   "execution_count": null,
   "metadata": {
    "collapsed": true
   },
   "outputs": [],
   "source": []
  },
  {
   "cell_type": "code",
   "execution_count": null,
   "metadata": {
    "collapsed": true
   },
   "outputs": [],
   "source": []
  }
 ],
 "metadata": {
  "kernelspec": {
   "display_name": "Python [default]",
   "language": "python",
   "name": "python3"
  },
  "language_info": {
   "codemirror_mode": {
    "name": "ipython",
    "version": 3
   },
   "file_extension": ".py",
   "mimetype": "text/x-python",
   "name": "python",
   "nbconvert_exporter": "python",
   "pygments_lexer": "ipython3",
   "version": "3.5.2"
  }
 },
 "nbformat": 4,
 "nbformat_minor": 2
}
