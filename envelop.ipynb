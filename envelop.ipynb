{
 "cells": [
  {
   "cell_type": "markdown",
   "metadata": {
    "collapsed": true
   },
   "source": [
    "# Envolvente de fases para sustancias puras"
   ]
  },
  {
   "cell_type": "markdown",
   "metadata": {
    "collapsed": true
   },
   "source": [
    "En esta sección se presenta el desarrollo y manipulación de las ecuaciones para establecer un algortimo que permita calcular los puntos del diagrama de fases para una sustancia pura utilizando ecuaciones de estado para modelar el comportamiento de fases. "
   ]
  },
  {
   "cell_type": "markdown",
   "metadata": {},
   "source": [
    "$$ P^l(T, V^l) - P^v(T, V^v) = 0$$"
   ]
  },
  {
   "cell_type": "markdown",
   "metadata": {},
   "source": [
    "$$ ln \\phi(T, V^l) - ln \\phi(T, V^v) = 0  $$"
   ]
  },
  {
   "cell_type": "markdown",
   "metadata": {},
   "source": [
    "$$ g(T, V^l, V^v) = X_S - S = 0 $$"
   ]
  },
  {
   "cell_type": "markdown",
   "metadata": {},
   "source": [
    "$$ F = \n",
    "\\begin{bmatrix}\n",
    "P^l(T, V^l) - P^v(T, V^v)\\\\\n",
    "ln \\phi(T, V^l) - ln \\phi(T, V^v)\\\\\n",
    "X_S - S\n",
    "\\end{bmatrix}\n",
    "= 0$$"
   ]
  },
  {
   "cell_type": "markdown",
   "metadata": {},
   "source": [
    "$$ J \n",
    "\\begin{bmatrix}\n",
    "\\Delta ln T\\\\\n",
    "\\Delta ln V^l\\\\\n",
    "\\Delta ln V^v\\\\\n",
    "\\end{bmatrix}\n",
    "+ F = 0$$"
   ]
  },
  {
   "cell_type": "markdown",
   "metadata": {},
   "source": []
  },
  {
   "cell_type": "markdown",
   "metadata": {},
   "source": []
  },
  {
   "cell_type": "markdown",
   "metadata": {},
   "source": []
  },
  {
   "cell_type": "markdown",
   "metadata": {},
   "source": []
  },
  {
   "cell_type": "markdown",
   "metadata": {},
   "source": []
  },
  {
   "cell_type": "markdown",
   "metadata": {},
   "source": [
    "Se inicia con el cálculo de la envolvente de fases de uns sustancia pura.\n",
    "\n",
    "$$ n \\left(\\frac{\\partial ln \\hat\\phi_i}{\\partial n_j}\\right)_{T,P} = n \\left(\\frac{\\partial ln \\hat\\phi_j}{\\partial n_j}\\right)_{T,P} = n \\left(\\frac{\\partial^2 F} {\\partial n_j \\partial n_i}    \\right)_{T,V} + 1 + \\frac{n}{RT} + \\frac{ \\left(\\frac{\\partial P} {\\partial n_j}\\right)_{T,V} \\left(\\frac{\\partial P} {\\partial n_i}\\right)_{T,V} } {\\left(\\frac{\\partial P} {\\partial V}    \\right)_{T,n}}$$\n",
    "\n",
    "\n",
    "Relación entre derivadas de la fugacidad y el coeficiente de fugacidad\n",
    "\n",
    "$$ \\left(\\frac{\\partial ln\\hat f_i }{\\partial n_i}\\right)_{T,P} = \\left(\\frac{\\partial \\hat \\phi_i}{\\partial n_i}\\right)_{T,P} + \\left(\\frac{\\delta_{ij}}{n} - \\frac{1}{n} \\right)$$"
   ]
  },
  {
   "cell_type": "markdown",
   "metadata": {},
   "source": [
    "\n",
    "\n",
    "$$RJAC(1,1)=DPDTx/Pl-DPDTy/Pv$$\n",
    "\n",
    "$$ RJAC(1,1)=T*RJAC(1,1) $$\n",
    "\n",
    "$$ RJAC(1,1) = T \\left( \\frac {\\left(\\frac{\\partial P_{x} }{\\partial T}\\right)} {P_l} - \\frac {\\left(\\frac{\\partial P_{y} }{\\partial T}\\right)} {P_v}  \\right) $$\n",
    "\n",
    "\n",
    "$$RJAC(1,2)=Vl*DPDVx/Pl$$\n",
    "\n",
    "$$ RJAC(1,2) = -V_l \\left( \\frac {\\left(\\frac{\\partial P_{x} }{\\partial V}\\right)} {P_l} \\right) $$\n",
    "\n",
    "$$RJAC(1,3)=-Vv*DPDVy/Pv$$\n",
    "\n",
    "$$ RJAC(1,2) = -V_v \\left( \\frac {\\left(\\frac{\\partial P_{y} }{\\partial V}\\right)} {P_y} \\right) $$\n",
    "\n",
    "\n",
    "\n",
    "$$RJAC(2,1)=FUGTx(icomp)-FUGTy(icomp)$$\n",
    "\n",
    "$$ RJAC(2,1)= \\left(\\frac{\\partial f_{ix} } {\\partial T} \\right) - \\left(\\frac{\\partial f_{iy} } {\\partial T} \\right)$$ \n",
    "\n",
    "$$RJAC(2,1)=T*RJAC(2,1)$$\n",
    "\n",
    "$$RJAC(2,1)=T* \\left(\\left(\\frac{\\partial f_{ix} } {\\partial T} \\right) - \\left(\\frac{\\partial f_{iy} } {\\partial T} \\right) \\right) $$\n",
    "\n",
    "$$RJAC(2,2)=Vl*FUGVx(icomp)$$\n",
    "\n",
    "$$ RJAC(2,1)= V_l \\left(\\frac{\\partial f_{ix} } {\\partial V} \\right) $$\n",
    "\n",
    "\n",
    "\n",
    "$$RJAC(2,3)=-Vv*FUGVy(icomp)$$\n",
    "\n",
    "$$ RJAC(2,3)= V_v \\left(\\frac{\\partial f_{iy} } {\\partial V_{y}} \\right) $$\n",
    "\n",
    "\n",
    "\n",
    "$$DLFUGT(I)=(ArTn(I)-Arn(I)/T)/RT+1.D0/T    ! term DPDT/P is cancelled out $$\n",
    "\n",
    "$$ DPDT = -ArTV+TOTN*RGAS/V $$"
   ]
  },
  {
   "cell_type": "markdown",
   "metadata": {
    "collapsed": true
   },
   "source": []
  },
  {
   "cell_type": "code",
   "execution_count": null,
   "metadata": {
    "collapsed": true
   },
   "outputs": [],
   "source": []
  },
  {
   "cell_type": "markdown",
   "metadata": {
    "collapsed": true
   },
   "source": [
    "$$ f_i = ln K_i + ln \\hat\\phi_i^v(T,P,y) - ln \\hat\\phi_i^l(T,P,x) = 0 $$\n",
    "\n",
    "$$ i = 1,2,... C $$\n",
    "\n",
    "$$ f_{C+1} = \\sum_{i=1}^C(y_i - x_i) = 0 $$\n",
    "\n",
    "$$ f_{C+2} = X -X_{spec} = 0 $$"
   ]
  },
  {
   "cell_type": "markdown",
   "metadata": {},
   "source": [
    "$$ x_i = \\frac{z_i} {1-\\beta+ \\beta K_i}$$\n",
    "\n",
    "$$ y_i = \\frac{K_iz_i} {1-\\beta+ \\beta K_i}$$"
   ]
  },
  {
   "cell_type": "markdown",
   "metadata": {},
   "source": [
    "$$ J_{ij} = \\frac{\\partial f_i}{\\partial ln K_j} = \\frac{\\partial ln K_i}{\\partial ln K_j} + \\frac{\\partial \\hat \\phi_i^v}{\\partial ln K_j} - \\frac{\\partial \\hat \\phi_i^l}{\\partial ln K_j} $$"
   ]
  },
  {
   "cell_type": "markdown",
   "metadata": {},
   "source": []
  },
  {
   "cell_type": "markdown",
   "metadata": {},
   "source": [
    "$$ \\frac{\\partial ln K_i}{\\partial ln K_j} = \\left\\{ \\begin{array}{lcc}\n",
    "             1 & i = j \\\\\n",
    "             \\\\ 0 &  i \\neq j \\\\\n",
    "             \\end{array}\n",
    "   \\right.$$"
   ]
  },
  {
   "cell_type": "markdown",
   "metadata": {},
   "source": [
    "$$ \\frac{\\partial ln \\hat \\phi_i^v}{\\partial ln K_j} = \\sum_{k=1}^C\\frac{\\partial ln \\hat \\phi_i^v}{\\partial y_k} \\frac{\\partial y_k}{\\partial ln K_j}  $$"
   ]
  },
  {
   "cell_type": "markdown",
   "metadata": {},
   "source": [
    "$$ \\frac{\\partial y_k}{\\partial ln K_j} = 0 $$\n",
    "\n",
    "$$ k \\neq j $$"
   ]
  },
  {
   "cell_type": "markdown",
   "metadata": {},
   "source": [
    "$$ \\frac{\\partial ln \\hat \\phi_i^v}{\\partial ln K_j} = \\frac{\\partial ln \\hat \\phi_i^v}{\\partial y_k} \\frac{\\partial y_k}{\\partial ln K_j}  $$"
   ]
  },
  {
   "cell_type": "markdown",
   "metadata": {},
   "source": [
    "$$ \\frac{\\partial x_i}{\\partial ln K_j} = K_j \\frac{\\partial x_i}{\\partial K_j} = \\frac{ \\beta K_j z_j}{(1 - \\beta + \\beta K_j)^2} = -\\beta \\frac{x_i y_i}{z_i} $$"
   ]
  },
  {
   "cell_type": "markdown",
   "metadata": {},
   "source": [
    "$$ \\frac{\\partial y_i}{\\partial ln K_j} = (1 - \\beta) \\frac{x_i y_i}{z_i} $$"
   ]
  },
  {
   "cell_type": "markdown",
   "metadata": {},
   "source": [
    "Finalmente, el termino $ \\frac{\\partial ln \\hat \\phi_i^v}{\\partial y_k} $"
   ]
  },
  {
   "cell_type": "markdown",
   "metadata": {
    "collapsed": true
   },
   "source": []
  },
  {
   "cell_type": "markdown",
   "metadata": {
    "collapsed": true
   },
   "source": []
  },
  {
   "cell_type": "markdown",
   "metadata": {
    "collapsed": true
   },
   "source": []
  },
  {
   "cell_type": "markdown",
   "metadata": {
    "collapsed": true
   },
   "source": []
  },
  {
   "cell_type": "code",
   "execution_count": null,
   "metadata": {
    "collapsed": true
   },
   "outputs": [],
   "source": []
  },
  {
   "cell_type": "code",
   "execution_count": null,
   "metadata": {
    "collapsed": true
   },
   "outputs": [],
   "source": []
  },
  {
   "cell_type": "code",
   "execution_count": null,
   "metadata": {
    "collapsed": true
   },
   "outputs": [],
   "source": []
  },
  {
   "cell_type": "code",
   "execution_count": null,
   "metadata": {
    "collapsed": true
   },
   "outputs": [],
   "source": []
  },
  {
   "cell_type": "code",
   "execution_count": null,
   "metadata": {
    "collapsed": true
   },
   "outputs": [],
   "source": []
  }
 ],
 "metadata": {
  "kernelspec": {
   "display_name": "Python [conda root]",
   "language": "python",
   "name": "conda-root-py"
  },
  "language_info": {
   "codemirror_mode": {
    "name": "ipython",
    "version": 3
   },
   "file_extension": ".py",
   "mimetype": "text/x-python",
   "name": "python",
   "nbconvert_exporter": "python",
   "pygments_lexer": "ipython3",
   "version": "3.5.2"
  }
 },
 "nbformat": 4,
 "nbformat_minor": 2
}
