{
 "cells": [
  {
   "cell_type": "code",
   "execution_count": null,
   "metadata": {
    "collapsed": true
   },
   "outputs": [],
   "source": []
  },
  {
   "cell_type": "code",
   "execution_count": null,
   "metadata": {
    "collapsed": true
   },
   "outputs": [],
   "source": []
  },
  {
   "cell_type": "markdown",
   "metadata": {},
   "source": [
    "Se inicia con el cálculo de la envolvente de fases de uns sustancia pura.\n",
    "\n",
    "$$ n \\left(\\frac{\\partial ln \\hat\\phi_i}{\\partial n_j}\\right)_{T,P} = n \\left(\\frac{\\partial ln \\hat\\phi_j}{\\partial n_j}\\right)_{T,P} = n \\left(\\frac{\\partial^2 F} {\\partial n_j \\partial n_i}    \\right)_{T,V} + 1 + \\frac{n}{RT} + \\frac{ \\left(\\frac{\\partial P} {\\partial n_j}\\right)_{T,V} \\left(\\frac{\\partial P} {\\partial n_i}\\right)_{T,V} } {\\left(\\frac{\\partial P} {\\partial V}    \\right)_{T,n}}$$\n",
    "\n",
    "\n",
    "Relación entre derivadas de la fugacidad y el coeficiente de fugacidad\n",
    "\n",
    "$$ \\left(\\frac{\\partial ln\\hat f_i }{\\partial n_i}\\right)_{T,P} = \\left(\\frac{\\partial \\hat \\phi_i}{\\partial n_i}\\right)_{T,P} + \\left(\\frac{\\delta_{ij}}{n} - \\frac{1}{n} \\right)$$"
   ]
  },
  {
   "cell_type": "markdown",
   "metadata": {},
   "source": [
    "\n",
    "\n",
    "$$RJAC(1,1)=DPDTx/Pl-DPDTy/Pv$$\n",
    "$$ RJAC(1,1)=T*RJAC(1,1) $$\n",
    "\n",
    "$$ RJAC(1,1) = T \\left( \\frac {\\left(\\frac{\\partial P }{\\partial T}\\right)_{x}} {P_l} - \\frac {\\left(\\frac{\\partial P }{\\partial T}\\right)_{y}} {P_v}  \\right) $$\n",
    "\n",
    "\n",
    "$$RJAC(1,2)=Vl*DPDVx/Pl$$\n",
    "\n",
    "$$ RJAC(1,2) = -V_l \\left( \\frac {\\left(\\frac{\\partial P }{\\partial V}\\right)_{x}} {P_l} \\right) $$\n",
    "\n",
    "$$RJAC(1,3)=-Vv*DPDVy/Pv$$\n",
    "\n",
    "$$ RJAC(1,2) = -V_v \\left( \\frac {\\left(\\frac{\\partial P }{\\partial V}\\right)_{y}} {P_y} \\right) $$\n",
    "\n",
    "\n",
    "\n",
    "$$RJAC(2,1)=FUGTx(icomp)-FUGTy(icomp)$$\n",
    "\n",
    "$$\\hat\\phi_i $$ \n",
    "\n",
    "$$RJAC(2,1)=T*RJAC(2,1)$$\n",
    "\n",
    "$$RJAC(2,2)=Vl*FUGVx(icomp)$$\n",
    "\n",
    "$$RJAC(2,3)=-Vv*FUGVy(icomp)$$"
   ]
  },
  {
   "cell_type": "code",
   "execution_count": null,
   "metadata": {
    "collapsed": true
   },
   "outputs": [],
   "source": []
  },
  {
   "cell_type": "code",
   "execution_count": null,
   "metadata": {
    "collapsed": true
   },
   "outputs": [],
   "source": []
  },
  {
   "cell_type": "code",
   "execution_count": null,
   "metadata": {
    "collapsed": true
   },
   "outputs": [],
   "source": []
  },
  {
   "cell_type": "code",
   "execution_count": null,
   "metadata": {
    "collapsed": true
   },
   "outputs": [],
   "source": []
  }
 ],
 "metadata": {
  "kernelspec": {
   "display_name": "Python [conda root]",
   "language": "python",
   "name": "conda-root-py"
  },
  "language_info": {
   "codemirror_mode": {
    "name": "ipython",
    "version": 3
   },
   "file_extension": ".py",
   "mimetype": "text/x-python",
   "name": "python",
   "nbconvert_exporter": "python",
   "pygments_lexer": "ipython3",
   "version": "3.5.2"
  }
 },
 "nbformat": 4,
 "nbformat_minor": 2
}
