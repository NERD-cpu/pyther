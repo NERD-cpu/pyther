{
 "cells": [
  {
   "cell_type": "markdown",
   "metadata": {},
   "source": [
    "# Thermodynamics correlations for pure components\n",
    "\n",
    "\n"
   ]
  },
  {
   "cell_type": "markdown",
   "metadata": {},
   "source": [
    "En esta sección se muestra la class *Thermodynamic_correlations()* la cual permite realizar el cálculo de propiedades termodinámicas de sustancias puras como una función de la temperatura. En este caso se pueden tener 6 situaciones para cada una de las 13 propiedades termofísicas soportadas:\n",
    "\n",
    "1. Especificar una sustancia pura sin especificar una temperatura. En este caso por defecto la propiedad termodinámica se calcula entre el intervalo mínimo y máximo de validez experimental para cada correlación.\n",
    "\n",
    "2. Especificar una sustancia pura y especificar una temperatura. \n",
    "\n",
    "3. Especificar una sustancia pura y especificar varias temperaturas.\n",
    "\n",
    "4. Especificar varias sustancias puras sin especificar una temperatura.\n",
    "\n",
    "5. Especificar varias sustancias puras y especificar una temperatura.\n",
    "\n",
    "6. Especificar  varias sustancias puras y especificar varias temperaturas\n",
    "\n",
    "la clase *Thermodynamics_correlations* es usada para calcular 13 propiedades termodinámicas de sustancias puras en función de la temperatura y se sigue la siguente convención para presentar identificar las propiedades termodinámicas\n",
    "\n",
    "property thermodynamics = name property, units, correlation, equation\n",
    "\n",
    "The thermodynamic correlations are:\n",
    "\n",
    "-**Solid_Density** = \"Solid Density\", \"[kmol/m^3]\", \"A+B*T+C*T^2+D*T^3+E*T^4\", 0\n",
    "\n",
    "-**Liquid_Density** = \"Liquid Density\", \"[kmol/m^3]\", \"A/B^(1+(1-T/C)^D)\", 1\n",
    "\n",
    "-**Vapour_Pressure** = \"Vapour Pressure\", \"[Bar]\", \"exp(A+B/T+C*ln(T)+D*T^E) * 1e-5\", 2\n",
    "\n",
    "-**Heat_of_Vaporization** = \"Heat of Vaporization\", \"[J/kmol]\", \"A*(1-Tr)^(B+C*Tr+D*Tr^2)\", 3\n",
    "\n",
    "-**Solid_Heat_Capacity** = \"Solid Heat Capacity\", \"[J/(kmol*K)]\", \"A+B*T+C*T^2+D*T^3+E*T^4\", 4\n",
    "\n",
    "-**Liquid_Heat_Capacity** = \"Liquid Heat Capacity\", \"[J/(kmol*K)]\", \"A^2/(1-Tr)+B-2*A*C*(1-Tr)-A*D*(1-Tr)^2-C^2*(1-Tr)^3/3-C*D*(1-Tr)^4/2-D^2*(1-Tr)^5/5\", 5\n",
    "\n",
    "-**Ideal_Gas_Heat_Capacity** = \"Ideal Gas Heat Capacity\" \"[J/(kmol*K)]\", \"A+B*(C/T/sinh(C/T))^2+D*(E/T/cosh(E/T))^2\", 6\n",
    "\n",
    "-**Second_Virial_Coefficient** = \"Second\tVirial\tCoefficient\", \"[m^3/kmol]\", \"A+B/T+C/T^3+D/T^8+E/T^9\", 7\n",
    "\n",
    "-**Liquid_Viscosity** = \"Liquid\tViscosity\", \"[kg/(m*s)]\", \"exp(A+B/T+C*ln(T)+D*T^E)\", 8\n",
    "\n",
    "-**Vapour_Viscosity** = \"Vapour\tViscosity\", \"[kg/(m*s)]\", \"A*T^B/(1+C/T+D/T^2)\", 9\n",
    "\n",
    "-**Liquid_Thermal_Conductivity** = \"Liquid Thermal Conductivity\", \"[J/(m*s*K)]\", \"A+B*T+C*T^2+D*T^3+E*T^4\", 10\n",
    "\n",
    "-**Vapour_Thermal_Conductivity** = \"Vapour Thermal Conductivity\", \"[J/(m*s*K)]\", \"A*T^B/(1+C/T+D/T^2)\", 11\n",
    "\n",
    "-**Surface_Tension** = \"Surface Tension\", \"[kg/s^2]\", \"A*(1-Tr)^(B+C*Tr+D*Tr^2)\", 12\t"
   ]
  },
  {
   "cell_type": "markdown",
   "metadata": {},
   "source": [
    "Para empezar se importan las librerías que se van a utilizar, que en este caso son numpy, pandas, pyther y especificar que las figuras generadas se muesten dentro del jupyter notebook"
   ]
  },
  {
   "cell_type": "markdown",
   "metadata": {},
   "source": []
  },
  {
   "cell_type": "code",
   "execution_count": 1,
   "metadata": {
    "collapsed": true
   },
   "outputs": [],
   "source": [
    "import numpy as np\n",
    "import pandas as pd\n",
    "import pyther as pt\n",
    "import matplotlib.pyplot as plt\n",
    "%matplotlib inline\n"
   ]
  },
  {
   "cell_type": "markdown",
   "metadata": {},
   "source": [
    "# 1. Especificar una sustancia pura sin especificar una temperatura."
   ]
  },
  {
   "cell_type": "markdown",
   "metadata": {},
   "source": [
    "Luego se carga el archivo que contine las constantes de las correlaciones de las propiedades termodinamicas, que se llama en este caso *\"PureFull_mod_properties.xls\"* y se asigna a la variable *dppr_file*.\n",
    "\n",
    "Creamos un objeto llamado **thermodynamic_correlations** y se pasan como parametros las variables **component** y **property_thermodynamics** que en el ejemplo se especifica para el componente METHANE la Vapour_Pressure"
   ]
  },
  {
   "cell_type": "code",
   "execution_count": 3,
   "metadata": {
    "collapsed": false
   },
   "outputs": [
    {
     "name": "stdout",
     "output_type": "stream",
     "text": [
      "----------------------------------------------------------------------\n",
      "One component without temperature especific: ['METHANE']\n",
      "----------------------------------------------------------------------\n",
      "Vapour Pressure = [  0.11687017   0.13272851   0.15029231   0.1696935    0.19106965\n",
      "   0.21456383   0.24032459   0.26850587   0.29926689   0.33277204\n",
      "   0.36919081   0.40869762   0.45147173   0.49769708   0.54756216\n",
      "   0.60125987   0.65898737   0.72094595   0.78734085   0.85838113\n",
      "   0.93427952   1.01525227   1.101519     1.19330257   1.29082892\n",
      "   1.39432695   1.50402838   1.62016765   1.74298174   1.87271013\n",
      "   2.00959463   2.1538793    2.30581038   2.46563616   2.63360692\n",
      "   2.80997486   2.99499402   3.18892023   3.39201109   3.60452587\n",
      "   3.82672552   4.05887261   4.30123136   4.55406758   4.8176487\n",
      "   5.09224376   5.37812343   5.67556002   5.98482753   6.30620166\n",
      "   6.63995987   6.98638141   7.34574742   7.71834093   8.10444699\n",
      "   8.5043527    8.91834734   9.34672242   9.78977179  10.24779173\n",
      "  10.7210811   11.20994139  11.71467689  12.23559478  12.7730053\n",
      "  13.32722183  13.89856107  14.48734319  15.09389194  15.71853484\n",
      "  16.36160334  17.02343294  17.70436342  18.40473898  19.1249084\n",
      "  19.86522527  20.62604814  21.40774072  22.21067207  23.03521683\n",
      "  23.88175537  24.75067404  25.64236538  26.55722832  27.4956684\n",
      "  28.45809802  29.44493665  30.45661106  31.49355559  32.55621234\n",
      "  33.64503148  34.76047146  35.90299928  37.07309076  38.2712308\n",
      "  39.49791367  40.75364324  42.03893333  43.35430794  44.7003016 ]\n"
     ]
    }
   ],
   "source": [
    "dppr_file = \"PureFull_mod_properties.xls\"\n",
    "\n",
    "thermodynamic_correlations = pt.Thermodynamic_correlations(dppr_file)\n",
    "\n",
    "component = ['METHANE']\n",
    "property_thermodynamics = \"Vapour_Pressure\"\n",
    "\n",
    "Vapour_Pressure = thermodynamic_correlations.property_cal(component, property_thermodynamics)\n",
    "print(\"Vapour Pressure = {0}\". format(Vapour_Pressure))\n"
   ]
  },
  {
   "cell_type": "markdown",
   "metadata": {},
   "source": [
    "para realizar un gráfico simple de la propiedad termodinámica se utiliza el método **graphical(temperature, property_thermodynamics, label_property_thermodynamics, units)**.\n",
    "\n",
    "En donde se pasan como argumentos la temperatura a la cual se claculó la propiedad termodinamica, los valores calculados de la propiedad termodinamica, el label de la propiedad termodinámica y las unidades correspondientes de temperatura y la propiedad termodinámica en cada caso."
   ]
  },
  {
   "cell_type": "code",
   "execution_count": 4,
   "metadata": {
    "collapsed": false
   },
   "outputs": [
    {
     "name": "stdout",
     "output_type": "stream",
     "text": [
      "('K', '[Pa]')\n"
     ]
    },
    {
     "data": {
      "image/png": "[encoded data removed]",
      "text/plain": [
       "<matplotlib.figure.Figure at 0x7f09d34017b8>"
      ]
     },
     "metadata": {},
     "output_type": "display_data"
    }
   ],
   "source": [
    "temperature_vapour = thermodynamic_correlations.temperature\n",
    "units = thermodynamic_correlations.units\n",
    "print(units)\n",
    "\n",
    "thermodynamic_correlations.graphical(temperature_vapour, Vapour_Pressure, property_thermodynamics, units)"
   ]
  },
  {
   "cell_type": "markdown",
   "metadata": {},
   "source": [
    "# 2. Especificar una sustancia pura y una temperatura. \n",
    "\n"
   ]
  },
  {
   "cell_type": "markdown",
   "metadata": {},
   "source": [
    "Siguiendo con la sustacia pura *METHANE* se tiene el segundo caso en el cual ademas de especificiar el componente se especifica también solo un valor de temperatura, tal como se muestra en la variable *temperature*.\n",
    "\n",
    "Dado que cada correlación de propiedad termodinámica tiene un rango mínimo y máximo de temperatura en la cual es valida, al especificar un valor de temperatura se hace una verificación para determinar si la temperatura ingresada se encuentra entre el intervalo aceptado para cada componente y cada propiedad termodinámica. En caso contrario la temperatura se clasifica como invalida y no se obtiene valor para la propiedad termodinámica seleccionada."
   ]
  },
  {
   "cell_type": "code",
   "execution_count": 5,
   "metadata": {
    "collapsed": false
   },
   "outputs": [
    {
     "name": "stdout",
     "output_type": "stream",
     "text": [
      "----------------------------------------------------------------------\n",
      "One component with a temperature especific: ['METHANE']\n",
      "----------------------------------------------------------------------\n",
      "Temperature_enter = [180.4]\n",
      "Temperature_invalid = []\n",
      "Temperature_valid = [180.4]\n",
      "----------------------------------------------------------------------\n",
      "Vapour Pressure = [ 33.32655377] [Pa]\n"
     ]
    }
   ],
   "source": [
    "component = ['METHANE']\n",
    "property_thermodynamics = \"Vapour_Pressure\"\n",
    "temperature = [180.4]\n",
    "\n",
    "Vapour_Pressure = thermodynamic_correlations.property_cal(component, property_thermodynamics, temperature)\n",
    "print(\"Vapour Pressure = {0} {1}\". format(Vapour_Pressure, units[1]))\n"
   ]
  },
  {
   "cell_type": "markdown",
   "metadata": {},
   "source": [
    "# 3. Especificar una sustancia pura y especificar varias temperaturas.\n",
    "\n"
   ]
  },
  {
   "cell_type": "markdown",
   "metadata": {},
   "source": [
    "Ahora se tiene la situación de contar con un solo componente \"METHANE\" sin embargo, esta vez se especifica varios valores para la temperatura en las cuales se quiere determinar el correspondiente valor de una proiedad termodinámica, que como en los casos anteriores es la *Vapour_Pressure*."
   ]
  },
  {
   "cell_type": "code",
   "execution_count": 6,
   "metadata": {
    "collapsed": false
   },
   "outputs": [
    {
     "name": "stdout",
     "output_type": "stream",
     "text": [
      "----------------------------------------------------------------------\n",
      "One component with a temperature especific: ['METHANE']\n",
      "----------------------------------------------------------------------\n",
      "Temperature_enter = [180.4, 181.4, 185.3, '210 K is a temperature not valid', '85 K is a temperature not valid']\n",
      "Temperature_invalid = ['210 K is a temperature not valid', '85 K is a temperature not valid']\n",
      "Temperature_valid = [180.4, 181.4, 185.3]\n",
      "----------------------------------------------------------------------\n",
      "Vapour Pressure = [ 33.32655377  34.43422601  39.01608023] [Pa]\n"
     ]
    }
   ],
   "source": [
    "component = ['METHANE']\n",
    "property_thermodynamics = \"Vapour_Pressure\"\n",
    "temperature = [180.4, 181.4, 185.3, 210, 85]\n",
    "\n",
    "Vapour_Pressure = thermodynamic_correlations.property_cal(component, \"Vapour_Pressure\", temperature)\n",
    "print(\"Vapour Pressure = {0} {1}\". format(Vapour_Pressure, units[1]))"
   ]
  },
  {
   "cell_type": "markdown",
   "metadata": {},
   "source": [
    "Se debe notar que al ingresar una serie de valores de temperatura, en este caso 5 valores, se obtienen solo 3 valores de la propiedad termodinámica. Esto se debe a que para este caso 2 valores de temperatura no se encuentran en el valor mínimo y máximo en donde es valida la correlación termodinámica. Por tanto, esto se avisa por medio del mensaje: *Temperature_invalid = ['210 K is a temperature not valid', '85 K is a temperature not valid']*  "
   ]
  },
  {
   "cell_type": "markdown",
   "metadata": {},
   "source": [
    "# 4. Especificar varias sustancias puras sin especificar una temperatura.\n",
    "\n"
   ]
  },
  {
   "cell_type": "markdown",
   "metadata": {},
   "source": [
    "Otra de las posibilidades que se puede tener es la opción de especificar varios componentes para una misma propiedad termodinámica sin que se especifique una o más valores de temperatura. En esta opción se pueden ingresar multiples componentes sin un limite, siempre y cuando estén en la base de datos con la que se trabaja o en dado caso sean agregados a la base de datos nuevas correlaciones para sustancias puras *Ver sección base de datos*. Para este ejemplo se utiliza una *list components* con 3 sustancias puras por cuestiones de visibilidad de las gráficas de *Vapour_Pressure*.\n"
   ]
  },
  {
   "cell_type": "code",
   "execution_count": 7,
   "metadata": {
    "collapsed": false
   },
   "outputs": [],
   "source": [
    "components = [\"METHANE\", \"n-TETRACOSANE\", \"ISOBUTANE\"]\n",
    "property_thermodynamics = \"Vapour_Pressure\"\n",
    "\n",
    "Vapour_Pressure = thermodynamic_correlations.property_cal(components, property_thermodynamics)\n",
    "temperature_vapour = thermodynamic_correlations.temperature"
   ]
  },
  {
   "cell_type": "markdown",
   "metadata": {},
   "source": [
    "por medio del método *multi_graphical(components, temperature, property_thermodynamics)* al cual se pasan los parámetros correspondiente a las sustancias puras, la temperatura a la cual se realiza el calculo de la propiedad termodinámica y los valores de la propiedad termodinámica de cada sustancia pura, para obtener la siguiente figura."
   ]
  },
  {
   "cell_type": "code",
   "execution_count": 8,
   "metadata": {
    "collapsed": false
   },
   "outputs": [
    {
     "data": {
      "image/png": "[encoded data removed]",
      "text/plain": [
       "<matplotlib.figure.Figure at 0x7f09d4007c88>"
      ]
     },
     "metadata": {},
     "output_type": "display_data"
    }
   ],
   "source": [
    "\n",
    "thermodynamic_correlations.multi_graphical(components, temperature_vapour, Vapour_Pressure)"
   ]
  },
  {
   "cell_type": "markdown",
   "metadata": {},
   "source": [
    "sin embargo como se menciono anteriormente, es posible calcular una propiedad termodinámica para un gran número de sustancias puras y luego realizar las gráficas correspondientes dependiendo de las necesidades de visualización entre otros criterios. Para ejemplificar esto, ahora se tienen 7 sustancias puras y se quiere gŕaficar la propiedad termodinámica de solo: *n-PENTACOSANE, ETHANE y el ISOBUTANE*. "
   ]
  },
  {
   "cell_type": "code",
   "execution_count": 9,
   "metadata": {
    "collapsed": true
   },
   "outputs": [],
   "source": [
    "components = [\"METHANE\", \"n-TETRACOSANE\", \"n-PENTACOSANE\", \"ETHANE\", \"ISOBUTANE\", \"PROPANE\", \"3-METHYLHEPTANE\"]\n",
    "property_thermodynamics = \"Vapour_Pressure\"\n",
    "\n",
    "Vapour_Pressure = thermodynamic_correlations.property_cal(components, property_thermodynamics)\n",
    "temperature_vapour = thermodynamic_correlations.temperature"
   ]
  },
  {
   "cell_type": "code",
   "execution_count": 10,
   "metadata": {
    "collapsed": false
   },
   "outputs": [
    {
     "data": {
      "image/png": "[encoded data removed]",
      "text/plain": [
       "<matplotlib.figure.Figure at 0x7f09d3e6c358>"
      ]
     },
     "metadata": {},
     "output_type": "display_data"
    }
   ],
   "source": [
    "thermodynamic_correlations.multi_graphical(components[2:5], temperature_vapour[2:5], Vapour_Pressure[2:5])"
   ]
  },
  {
   "cell_type": "markdown",
   "metadata": {},
   "source": [
    "# 5. Especificar varias sustancias puras y una temperatura.\n",
    "\n"
   ]
  },
  {
   "cell_type": "markdown",
   "metadata": {},
   "source": [
    "Como en el caso anterios, en este ejemplo se espcifican 3 sustancias puras pero con la especificación de un solo valor de temperatura. Esta temperatura será común para las sustancias puras con las que se trabaje por tanto puede darse el caso de que sea una temperatura valida para algunas sustancias puras mientras que para otras no dependiendo del intervalo de valides de cada correlación termodinámica."
   ]
  },
  {
   "cell_type": "code",
   "execution_count": 15,
   "metadata": {
    "collapsed": false
   },
   "outputs": [
    {
     "name": "stdout",
     "output_type": "stream",
     "text": [
      "----------------------------------------------------------------------\n",
      "One component with a temperature especific: ['METHANE', 'n-TETRACOSANE', 'ISOBUTANE']\n",
      "----------------------------------------------------------------------\n",
      "[180.4]\n",
      "Temperature_enter = [[180.4], ['180.4 K is a temperature not valid'], [180.4]]\n",
      "Temperature_invalid = [[], ['180.4 K is a temperature not valid'], []]\n",
      "Temperature_valid = [array([ 180.4]), array([], dtype=float64), array([ 180.4])]\n",
      "vapour_Pressure =  [array([ 33.32655377]) array([], dtype=float64) array([ 0.0074373])] (3,)\n",
      "3\n",
      "Vapour Pressure = [array([ 33.32655377]) array([], dtype=float64) array([ 0.0074373])] [Pa]\n"
     ]
    }
   ],
   "source": [
    "dppr_file = \"PureFull_mod_properties.xls\"\n",
    "\n",
    "thermodynamic_correlations = pt.Thermodynamic_correlations(dppr_file)\n",
    "\n",
    "components = [\"METHANE\", \"n-TETRACOSANE\", \"ISOBUTANE\"]\n",
    "property_thermodynamics = \"Vapour_Pressure\"\n",
    "temperature = [180.4]\n",
    "\n",
    "Vapour_Pressure = thermodynamic_correlations.property_cal(components, property_thermodynamics, temperature)\n",
    "print(\"Vapour Pressure = {0} {1}\". format(Vapour_Pressure, units[1]))\n",
    "\n"
   ]
  },
  {
   "cell_type": "markdown",
   "metadata": {},
   "source": [
    "en este caso se tiene como resultado un con 2 valores de presión de vapor, uno para METHANE y otro para ISOBUTANE, mientras que se obtiene un array vacio en el caso \"de n-TETRACOSANE, puesto que la temperatura de 180 K especificada no se encuentra como valida."
   ]
  },
  {
   "cell_type": "markdown",
   "metadata": {},
   "source": [
    "para verificar tanto los valores de las constantes como los valores mínimos y máximos de cada correlación termodinámica para cada una de las sustancias puras que se especifique se utiliza el atributo *component_constans* tal como se muestra a continuación"
   ]
  },
  {
   "cell_type": "code",
   "execution_count": 16,
   "metadata": {
    "collapsed": false
   },
   "outputs": [
    {
     "data": {
      "text/html": [
       "<div>\n",
       "<table border=\"1\" class=\"dataframe\">\n",
       "  <thead>\n",
       "    <tr style=\"text-align: right;\">\n",
       "      <th></th>\n",
       "      <th>A</th>\n",
       "      <th>B</th>\n",
       "      <th>C</th>\n",
       "      <th>D</th>\n",
       "      <th>E</th>\n",
       "      <th>T Min [K]</th>\n",
       "      <th>T Max [K]</th>\n",
       "    </tr>\n",
       "  </thead>\n",
       "  <tbody>\n",
       "    <tr>\n",
       "      <th>METHANE</th>\n",
       "      <td>39.205</td>\n",
       "      <td>-1324.4</td>\n",
       "      <td>-3.4366</td>\n",
       "      <td>3.1019e-05</td>\n",
       "      <td>2</td>\n",
       "      <td>90.69</td>\n",
       "      <td>190.56</td>\n",
       "    </tr>\n",
       "    <tr>\n",
       "      <th>n-TETRACOSANE</th>\n",
       "      <td>211.42</td>\n",
       "      <td>-21711</td>\n",
       "      <td>-26.255</td>\n",
       "      <td>7.7485e-06</td>\n",
       "      <td>2</td>\n",
       "      <td>323.75</td>\n",
       "      <td>804</td>\n",
       "    </tr>\n",
       "    <tr>\n",
       "      <th>ISOBUTANE</th>\n",
       "      <td>100.18</td>\n",
       "      <td>-4841.9</td>\n",
       "      <td>-13.541</td>\n",
       "      <td>0.020063</td>\n",
       "      <td>1</td>\n",
       "      <td>113.54</td>\n",
       "      <td>408.14</td>\n",
       "    </tr>\n",
       "  </tbody>\n",
       "</table>\n",
       "</div>"
      ],
      "text/plain": [
       "                    A       B       C           D  E T Min [K] T Max [K]\n",
       "METHANE        39.205 -1324.4 -3.4366  3.1019e-05  2     90.69    190.56\n",
       "n-TETRACOSANE  211.42  -21711 -26.255  7.7485e-06  2    323.75       804\n",
       "ISOBUTANE      100.18 -4841.9 -13.541    0.020063  1    113.54    408.14"
      ]
     },
     "execution_count": 16,
     "metadata": {},
     "output_type": "execute_result"
    }
   ],
   "source": [
    "thermodynamic_correlations.component_constans\n"
   ]
  },
  {
   "cell_type": "markdown",
   "metadata": {},
   "source": [
    "# 6. Especificar  varias sustancias puras y especificar varias temperaturas"
   ]
  },
  {
   "cell_type": "code",
   "execution_count": 1,
   "metadata": {
    "collapsed": true
   },
   "outputs": [],
   "source": [
    "import numpy as np\n",
    "import pandas as pd\n",
    "import pyther as pt\n",
    "import matplotlib.pyplot as plt\n",
    "%matplotlib inline"
   ]
  },
  {
   "cell_type": "code",
   "execution_count": 2,
   "metadata": {
    "collapsed": false
   },
   "outputs": [
    {
     "name": "stdout",
     "output_type": "stream",
     "text": [
      "----------------------------------------------------------------------\n",
      "Pure substances with a temperature especific: ['METHANE', 'n-TETRACOSANE', 'ISOBUTANE']\n",
      "----------------------------------------------------------------------\n",
      "[180.4, 181.4, 185.3, 210, 800]\n",
      "Temperature_enter = [[180.4, 181.4, 185.3, '210 K is a temperature not valid', '800 K is a temperature not valid'], ['180.4 K is a temperature not valid', '181.4 K is a temperature not valid', '185.3 K is a temperature not valid', '210 K is a temperature not valid', 800], [180.4, 181.4, 185.3, 210, '800 K is a temperature not valid']]\n",
      "Temperature_invalid = [['210 K is a temperature not valid', '800 K is a temperature not valid'], ['180.4 K is a temperature not valid', '181.4 K is a temperature not valid', '185.3 K is a temperature not valid', '210 K is a temperature not valid'], ['800 K is a temperature not valid']]\n",
      "Temperature_valid = [array([ 180.4,  181.4,  185.3]), array([800]), array([ 180.4,  181.4,  185.3,  210. ])]\n",
      "3\n",
      "Vapour Pressure = [array([ 33.32655377,  34.43422601,  39.01608023]) array([ 9.23391967])\n",
      " array([ 0.0074373 ,  0.00816353,  0.01160766,  0.07565701])]\n"
     ]
    }
   ],
   "source": [
    "dppr_file = \"PureFull_mod_properties.xls\"\n",
    "\n",
    "thermodynamic_correlations = pt.Thermodynamic_correlations(dppr_file)\n",
    "\n",
    "components = [\"METHANE\", \"n-TETRACOSANE\", \"ISOBUTANE\"]\n",
    "property_thermodynamics = \"Vapour_Pressure\"\n",
    "temperature = [180.4, 181.4, 185.3, 210, 800]\n",
    "\n",
    "Vapour_Pressure = thermodynamic_correlations.property_cal(components, property_thermodynamics, temperature)\n",
    "print(\"Vapour Pressure = {0}\". format(Vapour_Pressure))"
   ]
  },
  {
   "cell_type": "code",
   "execution_count": 45,
   "metadata": {
    "collapsed": false
   },
   "outputs": [
    {
     "data": {
      "text/plain": [
       "[180.4, 181.4, 185.3, 210, 800]"
      ]
     },
     "execution_count": 45,
     "metadata": {},
     "output_type": "execute_result"
    }
   ],
   "source": [
    "temperature\n"
   ]
  },
  {
   "cell_type": "code",
   "execution_count": 46,
   "metadata": {
    "collapsed": false
   },
   "outputs": [
    {
     "data": {
      "text/plain": [
       "[[180.4,\n",
       "  181.4,\n",
       "  185.3,\n",
       "  '210 K is a temperature not valid',\n",
       "  '800 K is a temperature not valid'],\n",
       " ['180.4 K is a temperature not valid',\n",
       "  '181.4 K is a temperature not valid',\n",
       "  '185.3 K is a temperature not valid',\n",
       "  '210 K is a temperature not valid',\n",
       "  800],\n",
       " [180.4, 181.4, 185.3, 210, '800 K is a temperature not valid']]"
      ]
     },
     "execution_count": 46,
     "metadata": {},
     "output_type": "execute_result"
    }
   ],
   "source": [
    "thermodynamic_correlations.temperature_enter"
   ]
  },
  {
   "cell_type": "code",
   "execution_count": 73,
   "metadata": {
    "collapsed": false
   },
   "outputs": [
    {
     "data": {
      "text/plain": [
       "[True, True, True, False, False]"
      ]
     },
     "execution_count": 73,
     "metadata": {},
     "output_type": "execute_result"
    }
   ],
   "source": [
    "[type(thermodynamic_correlations.temperature_enter[0][i])!= str for i in range(len(temperature))]"
   ]
  },
  {
   "cell_type": "code",
   "execution_count": 74,
   "metadata": {
    "collapsed": false
   },
   "outputs": [
    {
     "data": {
      "text/plain": [
       "[False, False, False, False, True]"
      ]
     },
     "execution_count": 74,
     "metadata": {},
     "output_type": "execute_result"
    }
   ],
   "source": [
    "[type(thermodynamic_correlations.temperature_enter[1][i])!= str for i in range(len(temperature))]"
   ]
  },
  {
   "cell_type": "code",
   "execution_count": 76,
   "metadata": {
    "collapsed": false
   },
   "outputs": [
    {
     "data": {
      "text/plain": [
       "[True, True, True, True, False]"
      ]
     },
     "execution_count": 76,
     "metadata": {},
     "output_type": "execute_result"
    }
   ],
   "source": [
    "[type(thermodynamic_correlations.temperature_enter[2][i])!= str for i in range(len(temperature))]"
   ]
  },
  {
   "cell_type": "code",
   "execution_count": 77,
   "metadata": {
    "collapsed": false
   },
   "outputs": [
    {
     "data": {
      "text/plain": [
       "array([ 33.32655377,  34.43422601,  39.01608023])"
      ]
     },
     "execution_count": 77,
     "metadata": {},
     "output_type": "execute_result"
    }
   ],
   "source": [
    "Vapour_Pressure[0]"
   ]
  },
  {
   "cell_type": "code",
   "execution_count": 107,
   "metadata": {
    "collapsed": false
   },
   "outputs": [
    {
     "data": {
      "text/plain": [
       "[33.326553767513083, 34.434226007325073, 39.016080233753712, None, None]"
      ]
     },
     "execution_count": 107,
     "metadata": {},
     "output_type": "execute_result"
    }
   ],
   "source": [
    "con0 = [type(thermodynamic_correlations.temperature_enter[0][i])!= str for i in range(len(temperature))]\n",
    "[Vapour_Pressure[0][vp] if con0[vp]== True else None for vp in range(len(temperature))]\n"
   ]
  },
  {
   "cell_type": "code",
   "execution_count": 108,
   "metadata": {
    "collapsed": false
   },
   "outputs": [
    {
     "ename": "IndexError",
     "evalue": "index 4 is out of bounds for axis 0 with size 1",
     "output_type": "error",
     "traceback": [
      "\u001b[0;31m---------------------------------------------------------------------------\u001b[0m",
      "\u001b[0;31mIndexError\u001b[0m                                Traceback (most recent call last)",
      "\u001b[0;32m<ipython-input-108-660cc1130589>\u001b[0m in \u001b[0;36m<module>\u001b[0;34m()\u001b[0m\n\u001b[1;32m      1\u001b[0m \u001b[0mcon1\u001b[0m \u001b[0;34m=\u001b[0m \u001b[0;34m[\u001b[0m\u001b[0mtype\u001b[0m\u001b[0;34m(\u001b[0m\u001b[0mthermodynamic_correlations\u001b[0m\u001b[0;34m.\u001b[0m\u001b[0mtemperature_enter\u001b[0m\u001b[0;34m[\u001b[0m\u001b[0;36m1\u001b[0m\u001b[0;34m]\u001b[0m\u001b[0;34m[\u001b[0m\u001b[0mi\u001b[0m\u001b[0;34m]\u001b[0m\u001b[0;34m)\u001b[0m\u001b[0;34m!=\u001b[0m \u001b[0mstr\u001b[0m \u001b[0;32mfor\u001b[0m \u001b[0mi\u001b[0m \u001b[0;32min\u001b[0m \u001b[0mrange\u001b[0m\u001b[0;34m(\u001b[0m\u001b[0mlen\u001b[0m\u001b[0;34m(\u001b[0m\u001b[0mtemperature\u001b[0m\u001b[0;34m)\u001b[0m\u001b[0;34m)\u001b[0m\u001b[0;34m]\u001b[0m\u001b[0;34m\u001b[0m\u001b[0m\n\u001b[0;32m----> 2\u001b[0;31m \u001b[0;34m[\u001b[0m\u001b[0mVapour_Pressure\u001b[0m\u001b[0;34m[\u001b[0m\u001b[0;36m1\u001b[0m\u001b[0;34m]\u001b[0m\u001b[0;34m[\u001b[0m\u001b[0mvp\u001b[0m\u001b[0;34m]\u001b[0m \u001b[0;32mif\u001b[0m \u001b[0mcon1\u001b[0m\u001b[0;34m[\u001b[0m\u001b[0mvp\u001b[0m\u001b[0;34m]\u001b[0m\u001b[0;34m==\u001b[0m \u001b[0;32mTrue\u001b[0m \u001b[0;32melse\u001b[0m \u001b[0;32mNone\u001b[0m \u001b[0;32mfor\u001b[0m \u001b[0mvp\u001b[0m \u001b[0;32min\u001b[0m \u001b[0mrange\u001b[0m\u001b[0;34m(\u001b[0m\u001b[0mlen\u001b[0m\u001b[0;34m(\u001b[0m\u001b[0mtemperature\u001b[0m\u001b[0;34m)\u001b[0m\u001b[0;34m)\u001b[0m\u001b[0;34m]\u001b[0m\u001b[0;34m\u001b[0m\u001b[0m\n\u001b[0m",
      "\u001b[0;32m<ipython-input-108-660cc1130589>\u001b[0m in \u001b[0;36m<listcomp>\u001b[0;34m(.0)\u001b[0m\n\u001b[1;32m      1\u001b[0m \u001b[0mcon1\u001b[0m \u001b[0;34m=\u001b[0m \u001b[0;34m[\u001b[0m\u001b[0mtype\u001b[0m\u001b[0;34m(\u001b[0m\u001b[0mthermodynamic_correlations\u001b[0m\u001b[0;34m.\u001b[0m\u001b[0mtemperature_enter\u001b[0m\u001b[0;34m[\u001b[0m\u001b[0;36m1\u001b[0m\u001b[0;34m]\u001b[0m\u001b[0;34m[\u001b[0m\u001b[0mi\u001b[0m\u001b[0;34m]\u001b[0m\u001b[0;34m)\u001b[0m\u001b[0;34m!=\u001b[0m \u001b[0mstr\u001b[0m \u001b[0;32mfor\u001b[0m \u001b[0mi\u001b[0m \u001b[0;32min\u001b[0m \u001b[0mrange\u001b[0m\u001b[0;34m(\u001b[0m\u001b[0mlen\u001b[0m\u001b[0;34m(\u001b[0m\u001b[0mtemperature\u001b[0m\u001b[0;34m)\u001b[0m\u001b[0;34m)\u001b[0m\u001b[0;34m]\u001b[0m\u001b[0;34m\u001b[0m\u001b[0m\n\u001b[0;32m----> 2\u001b[0;31m \u001b[0;34m[\u001b[0m\u001b[0mVapour_Pressure\u001b[0m\u001b[0;34m[\u001b[0m\u001b[0;36m1\u001b[0m\u001b[0;34m]\u001b[0m\u001b[0;34m[\u001b[0m\u001b[0mvp\u001b[0m\u001b[0;34m]\u001b[0m \u001b[0;32mif\u001b[0m \u001b[0mcon1\u001b[0m\u001b[0;34m[\u001b[0m\u001b[0mvp\u001b[0m\u001b[0;34m]\u001b[0m\u001b[0;34m==\u001b[0m \u001b[0;32mTrue\u001b[0m \u001b[0;32melse\u001b[0m \u001b[0;32mNone\u001b[0m \u001b[0;32mfor\u001b[0m \u001b[0mvp\u001b[0m \u001b[0;32min\u001b[0m \u001b[0mrange\u001b[0m\u001b[0;34m(\u001b[0m\u001b[0mlen\u001b[0m\u001b[0;34m(\u001b[0m\u001b[0mtemperature\u001b[0m\u001b[0;34m)\u001b[0m\u001b[0;34m)\u001b[0m\u001b[0;34m]\u001b[0m\u001b[0;34m\u001b[0m\u001b[0m\n\u001b[0m",
      "\u001b[0;31mIndexError\u001b[0m: index 4 is out of bounds for axis 0 with size 1"
     ]
    }
   ],
   "source": [
    "con1 = [type(thermodynamic_correlations.temperature_enter[1][i])!= str for i in range(len(temperature))]\n",
    "[Vapour_Pressure[1][vp] if con1[vp]== True else None for vp in range(len(temperature))]\n"
   ]
  },
  {
   "cell_type": "code",
   "execution_count": 109,
   "metadata": {
    "collapsed": false
   },
   "outputs": [
    {
     "data": {
      "text/plain": [
       "[0.0074373018362786265,\n",
       " 0.0081635296813054956,\n",
       " 0.011607663539306267,\n",
       " 0.075657008061391431,\n",
       " None]"
      ]
     },
     "execution_count": 109,
     "metadata": {},
     "output_type": "execute_result"
    }
   ],
   "source": [
    "con2 = [type(thermodynamic_correlations.temperature_enter[2][i])!= str for i in range(len(temperature))]\n",
    "[Vapour_Pressure[2][vp] if con2[vp]== True else None for vp in range(len(temperature))]"
   ]
  },
  {
   "cell_type": "code",
   "execution_count": null,
   "metadata": {
    "collapsed": true
   },
   "outputs": [],
   "source": [
    " [([i if Min[j] < i < Max[j] else \"{0} K is a temperature not valid\".format(i) for i in temperature]) for j in range(0, len(components))]\n"
   ]
  },
  {
   "cell_type": "code",
   "execution_count": null,
   "metadata": {
    "collapsed": true
   },
   "outputs": [],
   "source": []
  },
  {
   "cell_type": "code",
   "execution_count": 67,
   "metadata": {
    "collapsed": false
   },
   "outputs": [
    {
     "ename": "TypeError",
     "evalue": "list indices must be integers or slices, not list",
     "output_type": "error",
     "traceback": [
      "\u001b[0;31m---------------------------------------------------------------------------\u001b[0m",
      "\u001b[0;31mTypeError\u001b[0m                                 Traceback (most recent call last)",
      "\u001b[0;32m<ipython-input-67-0f27e0228348>\u001b[0m in \u001b[0;36m<module>\u001b[0;34m()\u001b[0m\n\u001b[0;32m----> 1\u001b[0;31m \u001b[0;34m[\u001b[0m\u001b[0mi\u001b[0m \u001b[0;32mfor\u001b[0m \u001b[0mi\u001b[0m \u001b[0;32min\u001b[0m \u001b[0mthermodynamic_correlations\u001b[0m\u001b[0;34m.\u001b[0m\u001b[0mtemperature_enter\u001b[0m \u001b[0;32mif\u001b[0m \u001b[0mtype\u001b[0m\u001b[0;34m(\u001b[0m\u001b[0mthermodynamic_correlations\u001b[0m\u001b[0;34m.\u001b[0m\u001b[0mtemperature_enter\u001b[0m\u001b[0;34m[\u001b[0m\u001b[0;36m0\u001b[0m\u001b[0;34m]\u001b[0m\u001b[0;34m[\u001b[0m\u001b[0mi\u001b[0m\u001b[0;34m]\u001b[0m\u001b[0;34m)\u001b[0m\u001b[0;34m==\u001b[0m \u001b[0mstr\u001b[0m\u001b[0;34m]\u001b[0m\u001b[0;34m\u001b[0m\u001b[0m\n\u001b[0m",
      "\u001b[0;32m<ipython-input-67-0f27e0228348>\u001b[0m in \u001b[0;36m<listcomp>\u001b[0;34m(.0)\u001b[0m\n\u001b[0;32m----> 1\u001b[0;31m \u001b[0;34m[\u001b[0m\u001b[0mi\u001b[0m \u001b[0;32mfor\u001b[0m \u001b[0mi\u001b[0m \u001b[0;32min\u001b[0m \u001b[0mthermodynamic_correlations\u001b[0m\u001b[0;34m.\u001b[0m\u001b[0mtemperature_enter\u001b[0m \u001b[0;32mif\u001b[0m \u001b[0mtype\u001b[0m\u001b[0;34m(\u001b[0m\u001b[0mthermodynamic_correlations\u001b[0m\u001b[0;34m.\u001b[0m\u001b[0mtemperature_enter\u001b[0m\u001b[0;34m[\u001b[0m\u001b[0;36m0\u001b[0m\u001b[0;34m]\u001b[0m\u001b[0;34m[\u001b[0m\u001b[0mi\u001b[0m\u001b[0;34m]\u001b[0m\u001b[0;34m)\u001b[0m\u001b[0;34m==\u001b[0m \u001b[0mstr\u001b[0m\u001b[0;34m]\u001b[0m\u001b[0;34m\u001b[0m\u001b[0m\n\u001b[0m",
      "\u001b[0;31mTypeError\u001b[0m: list indices must be integers or slices, not list"
     ]
    }
   ],
   "source": [
    "[i for i in thermodynamic_correlations.temperature_enter if type(thermodynamic_correlations.temperature_enter[0][i])== str]"
   ]
  },
  {
   "cell_type": "code",
   "execution_count": 48,
   "metadata": {
    "collapsed": false
   },
   "outputs": [
    {
     "data": {
      "text/plain": [
       "[['210 K is a temperature not valid', '800 K is a temperature not valid'],\n",
       " ['180.4 K is a temperature not valid',\n",
       "  '181.4 K is a temperature not valid',\n",
       "  '185.3 K is a temperature not valid',\n",
       "  '210 K is a temperature not valid'],\n",
       " ['800 K is a temperature not valid']]"
      ]
     },
     "execution_count": 48,
     "metadata": {},
     "output_type": "execute_result"
    }
   ],
   "source": [
    "thermodynamic_correlations.temperature_invalid"
   ]
  },
  {
   "cell_type": "code",
   "execution_count": 49,
   "metadata": {
    "collapsed": false
   },
   "outputs": [
    {
     "data": {
      "text/plain": [
       "[array([ 180.4,  181.4,  185.3]),\n",
       " array([800]),\n",
       " array([ 180.4,  181.4,  185.3,  210. ])]"
      ]
     },
     "execution_count": 49,
     "metadata": {},
     "output_type": "execute_result"
    }
   ],
   "source": [
    "thermodynamic_correlations.temperature_valid"
   ]
  },
  {
   "cell_type": "code",
   "execution_count": 53,
   "metadata": {
    "collapsed": false
   },
   "outputs": [
    {
     "data": {
      "text/plain": [
       "array([[ 0.,  0.,  0.,  0.,  0.],\n",
       "       [ 0.,  0.,  0.,  0.,  0.],\n",
       "       [ 0.,  0.,  0.,  0.,  0.]])"
      ]
     },
     "execution_count": 53,
     "metadata": {},
     "output_type": "execute_result"
    }
   ],
   "source": [
    "np.zeros([len(components), len(temperature)])"
   ]
  },
  {
   "cell_type": "code",
   "execution_count": 56,
   "metadata": {
    "collapsed": false
   },
   "outputs": [
    {
     "data": {
      "text/plain": [
       "(3,)"
      ]
     },
     "execution_count": 56,
     "metadata": {},
     "output_type": "execute_result"
    }
   ],
   "source": [
    "np.shape(Vapour_Pressure)"
   ]
  },
  {
   "cell_type": "code",
   "execution_count": 19,
   "metadata": {
    "collapsed": false
   },
   "outputs": [
    {
     "data": {
      "text/plain": [
       "'[180.4, 181.4, 185.3, 210, 800]'"
      ]
     },
     "execution_count": 19,
     "metadata": {},
     "output_type": "execute_result"
    }
   ],
   "source": [
    "str(temperature)"
   ]
  },
  {
   "cell_type": "code",
   "execution_count": 42,
   "metadata": {
    "collapsed": false
   },
   "outputs": [
    {
     "data": {
      "text/plain": [
       "['180.4 K', '181.4 K', '185.3 K', '210 K', '800 K']"
      ]
     },
     "execution_count": 42,
     "metadata": {},
     "output_type": "execute_result"
    }
   ],
   "source": [
    "t = [str(temp)+\" K\" for temp in temperature]\n",
    "t"
   ]
  },
  {
   "cell_type": "code",
   "execution_count": 43,
   "metadata": {
    "collapsed": false
   },
   "outputs": [
    {
     "data": {
      "text/html": [
       "<div>\n",
       "<table border=\"1\" class=\"dataframe\">\n",
       "  <thead>\n",
       "    <tr style=\"text-align: right;\">\n",
       "      <th></th>\n",
       "      <th>180.4 K</th>\n",
       "      <th>181.4 K</th>\n",
       "      <th>185.3 K</th>\n",
       "      <th>210 K</th>\n",
       "      <th>800 K</th>\n",
       "    </tr>\n",
       "  </thead>\n",
       "  <tbody>\n",
       "    <tr>\n",
       "      <th>METHANE</th>\n",
       "      <td>1.0</td>\n",
       "      <td>1.0</td>\n",
       "      <td>1.0</td>\n",
       "      <td>1.0</td>\n",
       "      <td>1.0</td>\n",
       "    </tr>\n",
       "    <tr>\n",
       "      <th>n-TETRACOSANE</th>\n",
       "      <td>1.0</td>\n",
       "      <td>1.0</td>\n",
       "      <td>1.0</td>\n",
       "      <td>1.0</td>\n",
       "      <td>1.0</td>\n",
       "    </tr>\n",
       "    <tr>\n",
       "      <th>ISOBUTANE</th>\n",
       "      <td>1.0</td>\n",
       "      <td>1.0</td>\n",
       "      <td>1.0</td>\n",
       "      <td>1.0</td>\n",
       "      <td>1.0</td>\n",
       "    </tr>\n",
       "  </tbody>\n",
       "</table>\n",
       "</div>"
      ],
      "text/plain": [
       "               180.4 K  181.4 K  185.3 K  210 K  800 K\n",
       "METHANE            1.0      1.0      1.0    1.0    1.0\n",
       "n-TETRACOSANE      1.0      1.0      1.0    1.0    1.0\n",
       "ISOBUTANE          1.0      1.0      1.0    1.0    1.0"
      ]
     },
     "execution_count": 43,
     "metadata": {},
     "output_type": "execute_result"
    }
   ],
   "source": [
    "data = np.ones([3,5])\n",
    "#table = pd.DataFrame(data=data,index= components, columns=['180.4', '181.4', '185.3'])\n",
    "table = pd.DataFrame(data=data,index= components, columns=t)\n",
    "\n",
    "table\n"
   ]
  },
  {
   "cell_type": "code",
   "execution_count": 33,
   "metadata": {
    "collapsed": false
   },
   "outputs": [],
   "source": [
    "table_components = pd.DataFrame(data=Vapour_Pressure,index= components, columns=[str(temperature)])\n"
   ]
  },
  {
   "cell_type": "code",
   "execution_count": 30,
   "metadata": {
    "collapsed": false
   },
   "outputs": [
    {
     "data": {
      "text/html": [
       "<div>\n",
       "<table border=\"1\" class=\"dataframe\">\n",
       "  <thead>\n",
       "    <tr style=\"text-align: right;\">\n",
       "      <th></th>\n",
       "      <th>[180.4, 181.4, 185.3, 210, 800]</th>\n",
       "    </tr>\n",
       "  </thead>\n",
       "  <tbody>\n",
       "    <tr>\n",
       "      <th>METHANE</th>\n",
       "      <td>[33.3265537675, 34.4342260073, 39.0160802338]</td>\n",
       "    </tr>\n",
       "    <tr>\n",
       "      <th>n-TETRACOSANE</th>\n",
       "      <td>[9.233919674]</td>\n",
       "    </tr>\n",
       "    <tr>\n",
       "      <th>ISOBUTANE</th>\n",
       "      <td>[0.00743730183628, 0.00816352968131, 0.0116076...</td>\n",
       "    </tr>\n",
       "  </tbody>\n",
       "</table>\n",
       "</div>"
      ],
      "text/plain": [
       "                                 [180.4, 181.4, 185.3, 210, 800]\n",
       "METHANE            [33.3265537675, 34.4342260073, 39.0160802338]\n",
       "n-TETRACOSANE                                      [9.233919674]\n",
       "ISOBUTANE      [0.00743730183628, 0.00816352968131, 0.0116076..."
      ]
     },
     "execution_count": 30,
     "metadata": {},
     "output_type": "execute_result"
    }
   ],
   "source": [
    "table_components"
   ]
  },
  {
   "cell_type": "code",
   "execution_count": 3,
   "metadata": {
    "collapsed": false
   },
   "outputs": [
    {
     "ename": "TypeError",
     "evalue": "'NoneType' object is not subscriptable",
     "output_type": "error",
     "traceback": [
      "\u001b[0;31m---------------------------------------------------------------------------\u001b[0m",
      "\u001b[0;31mTypeError\u001b[0m                                 Traceback (most recent call last)",
      "\u001b[0;32m<ipython-input-3-3222bc788935>\u001b[0m in \u001b[0;36m<module>\u001b[0;34m()\u001b[0m\n\u001b[0;32m----> 1\u001b[0;31m \u001b[0mthermodynamic_correlations\u001b[0m\u001b[0;34m.\u001b[0m\u001b[0mtable_properties\u001b[0m\u001b[0;34m(\u001b[0m\u001b[0;34m)\u001b[0m\u001b[0;34m\u001b[0m\u001b[0m\n\u001b[0m",
      "\u001b[0;32m/home/andres-python/Documentos/proyectos/pyther/pyther/properties_ecuations.py\u001b[0m in \u001b[0;36mtable_properties\u001b[0;34m(self)\u001b[0m\n\u001b[1;32m    347\u001b[0m \u001b[0;34m\u001b[0m\u001b[0m\n\u001b[1;32m    348\u001b[0m         \u001b[0;32mdef\u001b[0m \u001b[0mtable_properties\u001b[0m\u001b[0;34m(\u001b[0m\u001b[0mself\u001b[0m\u001b[0;34m)\u001b[0m\u001b[0;34m:\u001b[0m\u001b[0;34m\u001b[0m\u001b[0m\n\u001b[0;32m--> 349\u001b[0;31m \t\ttable_components = pd.DataFrame(data=self.property_cal(self.components, self.property_label),index= self.components, \n\u001b[0m\u001b[1;32m    350\u001b[0m \t\t\t\t\t\t\t columns=[str(self.temperature)+\"K\"])\n\u001b[1;32m    351\u001b[0m                 \u001b[0;32mreturn\u001b[0m \u001b[0mtable_components\u001b[0m\u001b[0;34m\u001b[0m\u001b[0m\n",
      "\u001b[0;32m/home/andres-python/Documentos/proyectos/pyther/pyther/properties_ecuations.py\u001b[0m in \u001b[0;36mproperty_cal\u001b[0;34m(self, components, property_thermodynamics, temperature)\u001b[0m\n\u001b[1;32m    210\u001b[0m                 \u001b[0mself\u001b[0m\u001b[0;34m.\u001b[0m\u001b[0mproperty_label\u001b[0m \u001b[0;34m=\u001b[0m \u001b[0mself\u001b[0m\u001b[0;34m.\u001b[0m\u001b[0mselect_property\u001b[0m\u001b[0;34m(\u001b[0m\u001b[0mproperty_thermodynamics\u001b[0m\u001b[0;34m)\u001b[0m\u001b[0;34m\u001b[0m\u001b[0m\n\u001b[1;32m    211\u001b[0m                 \u001b[0;31m#self.units = self.property_label[1]\u001b[0m\u001b[0;34m\u001b[0m\u001b[0;34m\u001b[0m\u001b[0m\n\u001b[0;32m--> 212\u001b[0;31m                 \u001b[0mself\u001b[0m\u001b[0;34m.\u001b[0m\u001b[0munits\u001b[0m \u001b[0;34m=\u001b[0m \u001b[0;34m(\u001b[0m\u001b[0;34m\"K\"\u001b[0m\u001b[0;34m,\u001b[0m \u001b[0mself\u001b[0m\u001b[0;34m.\u001b[0m\u001b[0mproperty_label\u001b[0m\u001b[0;34m[\u001b[0m\u001b[0;36m1\u001b[0m\u001b[0;34m]\u001b[0m\u001b[0;34m)\u001b[0m\u001b[0;34m\u001b[0m\u001b[0m\n\u001b[0m\u001b[1;32m    213\u001b[0m                 \u001b[0mself\u001b[0m\u001b[0;34m.\u001b[0m\u001b[0mcomponents\u001b[0m \u001b[0;34m=\u001b[0m \u001b[0mcomponents\u001b[0m\u001b[0;34m\u001b[0m\u001b[0m\n\u001b[1;32m    214\u001b[0m \u001b[0;34m\u001b[0m\u001b[0m\n",
      "\u001b[0;31mTypeError\u001b[0m: 'NoneType' object is not subscriptable"
     ]
    }
   ],
   "source": [
    "thermodynamic_correlations.table_properties()"
   ]
  },
  {
   "cell_type": "code",
   "execution_count": null,
   "metadata": {
    "collapsed": true
   },
   "outputs": [],
   "source": []
  },
  {
   "cell_type": "code",
   "execution_count": 6,
   "metadata": {
    "collapsed": false
   },
   "outputs": [
    {
     "name": "stdout",
     "output_type": "stream",
     "text": [
      "One component without temperature especific\n",
      "Liquid_Density = [array([28.179948075677302], dtype=object)\n",
      " array([28.096011735126183], dtype=object)\n",
      " array([28.011722157828235], dtype=object)\n",
      " array([27.92707347437296], dtype=object)\n",
      " array([27.84205965663301], dtype=object)\n",
      " array([27.756674511758128], dtype=object)\n",
      " array([27.67091167587576], dtype=object)\n",
      " array([27.584764607480373], dtype=object)\n",
      " array([27.498226580492847], dtype=object)\n",
      " array([27.411290676969546], dtype=object)\n",
      " array([27.323949779439292], dtype=object)\n",
      " array([27.236196562844896], dtype=object)\n",
      " array([27.1480234860642], dtype=object)\n",
      " array([27.059422782983436], dtype=object)\n",
      " array([26.970386453094005], dtype=object)\n",
      " array([26.88090625158119], dtype=object)\n",
      " array([26.790973678871108], dtype=object)\n",
      " array([26.700579969599243], dtype=object)\n",
      " array([26.609716080961462], dtype=object)\n",
      " array([26.51837268040447], dtype=object)\n",
      " array([26.426540132610004], dtype=object)\n",
      " array([26.334208485722485], dtype=object)\n",
      " array([26.241367456766056], dtype=object)\n",
      " array([26.148006416192263], dtype=object)\n",
      " array([26.054114371494304], dtype=object)\n",
      " array([25.959679949818387], dtype=object)\n",
      " array([25.864691379496623], dtype=object)\n",
      " array([25.76913647041859], dtype=object)\n",
      " array([25.6730025931519], dtype=object)\n",
      " array([25.576276656712945], dtype=object)\n",
      " array([25.478945084880465], dtype=object)\n",
      " array([25.380993790933704], dtype=object)\n",
      " array([25.28240815068606], dtype=object)\n",
      " array([25.183172973671887], dtype=object)\n",
      " array([25.083272472330453], dtype=object)\n",
      " array([24.98269022901486], dtype=object)\n",
      " array([24.881409160636277], dtype=object)\n",
      " array([24.77941148073394], dtype=object)\n",
      " array([24.676678658739114], dtype=object)\n",
      " array([24.57319137617647], dtype=object)\n",
      " array([24.468929479517683], dtype=object)\n",
      " array([24.363871929371022], dtype=object)\n",
      " array([24.257996745654122], dtype=object)\n",
      " array([24.151280948357], dtype=object)\n",
      " array([24.043700493455955], dtype=object)\n",
      " array([23.935230203486608], dtype=object)\n",
      " array([23.82584369222452], dtype=object)\n",
      " array([23.71551328285338], dtype=object)\n",
      " array([23.604209918922535], dtype=object)\n",
      " array([23.491903067305646], dtype=object)\n",
      " array([23.37856061226877], dtype=object)\n",
      " array([23.26414873963675], dtype=object)\n",
      " array([23.148631809908284], dtype=object)\n",
      " array([23.031972219009898], dtype=object)\n",
      " array([22.91413024519179], dtype=object)\n",
      " array([22.795063880350607], dtype=object)\n",
      " array([22.674728643808244], dtype=object)\n",
      " array([22.553077376275485], dtype=object)\n",
      " array([22.430060011374444], dtype=object)\n",
      " array([22.305623321674265], dtype=object)\n",
      " array([22.179710635695095], dtype=object)\n",
      " array([22.052261521740515], dtype=object)\n",
      " array([21.923211433704232], dtype=object)\n",
      " array([21.792491313138605], dtype=object)\n",
      " array([21.660027140833208], dtype=object)\n",
      " array([21.52573942988984], dtype=object)\n",
      " array([21.389542650738267], dtype=object)\n",
      " array([21.251344576643636], dtype=object)\n",
      " array([21.111045535918027], dtype=object)\n",
      " array([20.96853755414252], dtype=object)\n",
      " array([20.82370336607234], dtype=object)\n",
      " array([20.676415272322068], dtype=object)\n",
      " array([20.5265338101257], dtype=object)\n",
      " array([20.37390620005079], dtype=object)\n",
      " array([20.218364520991866], dtype=object)\n",
      " array([20.059723553349244], dtype=object)\n",
      " array([19.897778214005026], dtype=object)\n",
      " array([19.73230048511113], dtype=object)\n",
      " array([19.563035709766616], dtype=object)\n",
      " array([19.389698088428766], dtype=object)\n",
      " array([19.211965156028697], dtype=object)\n",
      " array([19.029470944749413], dtype=object)\n",
      " array([18.841797431379828], dtype=object)\n",
      " array([18.64846371572871], dtype=object)\n",
      " array([18.448912153417645], dtype=object)\n",
      " array([18.24249033293434], dtype=object)\n",
      " array([18.02842727719883], dtype=object)\n",
      " array([17.805801450906255], dtype=object)\n",
      " array([17.573496865716606], dtype=object)\n",
      " array([17.33014142587749], dtype=object)\n",
      " array([17.074017935124633], dtype=object)\n",
      " array([16.80293145194635], dtype=object)\n",
      " array([16.514003847222597], dtype=object)\n",
      " array([16.20334038593329], dtype=object)\n",
      " array([15.865456142263303], dtype=object)\n",
      " array([15.492212522471654], dtype=object)\n",
      " array([15.07063757369429], dtype=object)\n",
      " array([14.577774840836616], dtype=object)\n",
      " array([13.965473338177098], dtype=object)\n",
      " array([13.091766151223796], dtype=object)] ('K', '[kmol/m^3]')\n",
      "[array([90.69], dtype=object) array([91.69], dtype=object)\n",
      " array([92.69], dtype=object) array([93.69], dtype=object)\n",
      " array([94.69], dtype=object) array([95.69], dtype=object)\n",
      " array([96.69], dtype=object) array([97.69], dtype=object)\n",
      " array([98.69], dtype=object) array([99.69], dtype=object)\n",
      " array([100.69], dtype=object) array([101.69], dtype=object)\n",
      " array([102.69], dtype=object) array([103.69], dtype=object)\n",
      " array([104.69], dtype=object) array([105.69], dtype=object)\n",
      " array([106.69], dtype=object) array([107.69], dtype=object)\n",
      " array([108.69], dtype=object) array([109.69], dtype=object)\n",
      " array([110.69], dtype=object) array([111.69], dtype=object)\n",
      " array([112.69], dtype=object) array([113.69], dtype=object)\n",
      " array([114.69], dtype=object) array([115.69], dtype=object)\n",
      " array([116.69], dtype=object) array([117.69], dtype=object)\n",
      " array([118.69], dtype=object) array([119.69], dtype=object)\n",
      " array([120.69], dtype=object) array([121.69], dtype=object)\n",
      " array([122.69], dtype=object) array([123.69], dtype=object)\n",
      " array([124.69], dtype=object) array([125.69], dtype=object)\n",
      " array([126.69], dtype=object) array([127.69], dtype=object)\n",
      " array([128.69], dtype=object) array([129.69], dtype=object)\n",
      " array([130.69], dtype=object) array([131.69], dtype=object)\n",
      " array([132.69], dtype=object) array([133.69], dtype=object)\n",
      " array([134.69], dtype=object) array([135.69], dtype=object)\n",
      " array([136.69], dtype=object) array([137.69], dtype=object)\n",
      " array([138.69], dtype=object) array([139.69], dtype=object)\n",
      " array([140.69], dtype=object) array([141.69], dtype=object)\n",
      " array([142.69], dtype=object) array([143.69], dtype=object)\n",
      " array([144.69], dtype=object) array([145.69], dtype=object)\n",
      " array([146.69], dtype=object) array([147.69], dtype=object)\n",
      " array([148.69], dtype=object) array([149.69], dtype=object)\n",
      " array([150.69], dtype=object) array([151.69], dtype=object)\n",
      " array([152.69], dtype=object) array([153.69], dtype=object)\n",
      " array([154.69], dtype=object) array([155.69], dtype=object)\n",
      " array([156.69], dtype=object) array([157.69], dtype=object)\n",
      " array([158.69], dtype=object) array([159.69], dtype=object)\n",
      " array([160.69], dtype=object) array([161.69], dtype=object)\n",
      " array([162.69], dtype=object) array([163.69], dtype=object)\n",
      " array([164.69], dtype=object) array([165.69], dtype=object)\n",
      " array([166.69], dtype=object) array([167.69], dtype=object)\n",
      " array([168.69], dtype=object) array([169.69], dtype=object)\n",
      " array([170.69], dtype=object) array([171.69], dtype=object)\n",
      " array([172.69], dtype=object) array([173.69], dtype=object)\n",
      " array([174.69], dtype=object) array([175.69], dtype=object)\n",
      " array([176.69], dtype=object) array([177.69], dtype=object)\n",
      " array([178.69], dtype=object) array([179.69], dtype=object)\n",
      " array([180.69], dtype=object) array([181.69], dtype=object)\n",
      " array([182.69], dtype=object) array([183.69], dtype=object)\n",
      " array([184.69], dtype=object) array([185.69], dtype=object)\n",
      " array([186.69], dtype=object) array([187.69], dtype=object)\n",
      " array([188.69], dtype=object) array([189.69], dtype=object)]\n"
     ]
    }
   ],
   "source": [
    "dppr_file = \"PureFull_mod_properties.xls\"\n",
    "\n",
    "thermodynamic_correlations = pt.Thermodynamic_correlations(dppr_file)\n",
    "\n",
    "component = ['METHANE']\n",
    "\n",
    "liquid_density = thermodynamic_correlations.property_cal(component, \"Liquid_Density\")\n",
    "units = thermodynamic_correlations.units\n",
    "temperature = thermodynamic_correlations.temperature\n",
    "\n",
    "print(\"Liquid_Density = {0} {1}\".format(liquid_density, units))\n",
    "print(temperature)\n"
   ]
  },
  {
   "cell_type": "markdown",
   "metadata": {},
   "source": [
    "# 7. Future work\n",
    "\n",
    "\n",
    "- Actualmente PyTher se encuentra implementando la opción de multiples propiedades termodinámicas de forma simultanea  para el caso de multiples sustancias puras con multiples opciones de temepratura.\n",
    "\n",
    "\n",
    "- Dar soporte a la manipulación de bases de datos por parte de usuarios para agregar, modificar, eliminar, renombrar sustancias puras y/o correlaciones termodinámicas."
   ]
  },
  {
   "cell_type": "markdown",
   "metadata": {},
   "source": [
    "# 8. References\n",
    "\n",
    "Numpy"
   ]
  },
  {
   "cell_type": "code",
   "execution_count": null,
   "metadata": {
    "collapsed": true
   },
   "outputs": [],
   "source": []
  }
 ],
 "metadata": {
  "anaconda-cloud": {},
  "kernelspec": {
   "display_name": "Python [conda root]",
   "language": "python",
   "name": "conda-root-py"
  },
  "language_info": {
   "codemirror_mode": {
    "name": "ipython",
    "version": 3
   },
   "file_extension": ".py",
   "mimetype": "text/x-python",
   "name": "python",
   "nbconvert_exporter": "python",
   "pygments_lexer": "ipython3",
   "version": "3.5.2"
  }
 },
 "nbformat": 4,
 "nbformat_minor": 1
}
