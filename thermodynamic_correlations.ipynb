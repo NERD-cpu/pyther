{
 "cells": [
  {
   "cell_type": "markdown",
   "metadata": {},
   "source": [
    "#Thermodynamics correlations \n",
    "\n"
   ]
  },
  {
   "cell_type": "markdown",
   "metadata": {},
   "source": [
    "En esta sección se presenta la clase "
   ]
  },
  {
   "cell_type": "code",
   "execution_count": 15,
   "metadata": {
    "collapsed": true
   },
   "outputs": [],
   "source": [
    "import numpy as np\n",
    "import pandas as pd\n",
    "import pyther as pt\n",
    "%matplotlib inline\n"
   ]
  },
  {
   "cell_type": "code",
   "execution_count": 23,
   "metadata": {
    "collapsed": false
   },
   "outputs": [
    {
     "name": "stdout",
     "output_type": "stream",
     "text": [
      "[   11687.01727042    13272.85149949    15029.23068614    16969.35018539\n",
      "    19106.96477818    21456.38285049    24032.45929842    26850.58724692\n",
      "    29926.68867467    33277.20404082    36919.08101219    40869.76239075\n",
      "    45147.17334219    49769.708026      54756.21572669    60125.9865842\n",
      "    65898.73701943    72094.59494793    78734.08487177    85838.11293615\n",
      "    93427.952033     101525.22703025   110151.90020062   119330.25691941\n",
      "   129082.89169635   139432.69460151   150402.83814105   162016.76463347\n",
      "   174298.17413283   187271.01294051   200959.46274308   215387.93040918\n",
      "   230581.03847449   246563.61633982   263360.69220351   280997.48574581\n",
      "   299499.40157969   318892.023479     339201.10939226   360452.58724743\n",
      "   382672.55155045   405887.26077811   430123.13556347   455406.75767023\n",
      "   481764.86975062   509224.37587987   537812.34285877   567556.0022748\n",
      "   598482.75331097   630620.16629095   663995.98694794   698638.14140435\n",
      "   734574.74184875   771834.09289627   810444.69861821   850435.27022668\n",
      "   891834.73439981   934672.24223348   978977.17880499  1024779.17333516\n",
      "  1072108.10993485  1120994.13892271  1171467.68870116  1223559.47817812\n",
      "  1277300.52972251  1332722.18264204  1389856.10717247  1448734.31896806\n",
      "  1509389.19408359  1571853.48443903  1636160.33375858  1702343.29397657\n",
      "  1770436.34210343  1840473.89754552  1912490.83987365  1986522.52703551\n",
      "  2062604.81400844  2140774.07188918  2221067.2074186   2303521.68293951\n",
      "  2388175.53678728  2475067.40411276  2564236.53813853  2655722.83185\n",
      "  2749566.84012348  2845809.80229436  2944493.66516916  3045661.10648574\n",
      "  3149355.55882727  3255621.23399559  3364503.14785069  3476047.14562403\n",
      "  3590299.92771324  3707309.07596762  3827123.08047355  3949791.36685025\n",
      "  4075364.32406658  4203893.33279092  4335430.79428596  4470030.15986172]\n"
     ]
    }
   ],
   "source": [
    "dppr_file = \"PureFull_mod_properties.xls\"\n",
    "\n",
    "thermodynamic_correlations = pt.Thermodynamic_correlations(dppr_file)\n",
    "\n",
    "component = 'METHANE'\n",
    "\n",
    "Vapour_Pressure = thermodynamic_correlations.property_cal(component, \"Vapour_Pressure\")\n",
    "\n",
    "print(Vapour_Pressure)\n",
    "\n"
   ]
  },
  {
   "cell_type": "code",
   "execution_count": 4,
   "metadata": {
    "collapsed": false
   },
   "outputs": [
    {
     "name": "stdout",
     "output_type": "stream",
     "text": [
      "Temperature_enter = [180.4]\n",
      "Temperature_invalid = []\n",
      "Temperature_valid = [180.4]\n",
      "[ 3332655.37675131]\n"
     ]
    }
   ],
   "source": [
    "dppr_file = \"PureFull_mod_properties.xls\"\n",
    "\n",
    "thermodynamic_correlations = pt.Thermodynamic_correlations(dppr_file)\n",
    "\n",
    "component = 'METHANE'\n",
    "\n",
    "temperature = 180.4\n",
    "\n",
    "property_thermodynamics = thermodynamic_correlations.property_cal(component, \"Vapour_Pressure\", temperature)\n",
    "\n",
    "print(property_thermodynamics)\n",
    "\n"
   ]
  },
  {
   "cell_type": "code",
   "execution_count": 7,
   "metadata": {
    "collapsed": false
   },
   "outputs": [
    {
     "name": "stdout",
     "output_type": "stream",
     "text": [
      "Temperature_enter = [180.4, 181.4, 185.3, '210 K is a temperature not valid', '85 K is a temperature not valid']\n",
      "Temperature_invalid = ['210 K is a temperature not valid', '85 K is a temperature not valid']\n",
      "Temperature_valid = [180.4, 181.4, 185.3]\n",
      "[ 3332655.37675131  3443422.60073251  3901608.02337537]\n"
     ]
    }
   ],
   "source": [
    "dppr_file = \"PureFull_mod_properties.xls\"\n",
    "\n",
    "thermodynamic_correlations = pt.Thermodynamic_correlations(dppr_file)\n",
    "\n",
    "component = 'METHANE'\n",
    "\n",
    "temperature = [180.4, 181.4, 185.3, 210, 85]\n",
    "\n",
    "property_thermodynamics = thermodynamic_correlations.property_cal(component, \"Vapour_Pressure\", temperature)\n",
    "\n",
    "print(property_thermodynamics)\n",
    "\n"
   ]
  },
  {
   "cell_type": "code",
   "execution_count": 21,
   "metadata": {
    "collapsed": false
   },
   "outputs": [
    {
     "name": "stdout",
     "output_type": "stream",
     "text": [
      "Liquid_Density = [ 28.17994808  28.09601174  28.01172216  27.92707347  27.84205966\n",
      "  27.75667451  27.67091168  27.58476461  27.49822658  27.41129068\n",
      "  27.32394978  27.23619656  27.14802349  27.05942278  26.97038645\n",
      "  26.88090625  26.79097368  26.70057997  26.60971608  26.51837268\n",
      "  26.42654013  26.33420849  26.24136746  26.14800642  26.05411437\n",
      "  25.95967995  25.86469138  25.76913647  25.67300259  25.57627666\n",
      "  25.47894508  25.38099379  25.28240815  25.18317297  25.08327247\n",
      "  24.98269023  24.88140916  24.77941148  24.67667866  24.57319138\n",
      "  24.46892948  24.36387193  24.25799675  24.15128095  24.04370049\n",
      "  23.9352302   23.82584369  23.71551328  23.60420992  23.49190307\n",
      "  23.37856061  23.26414874  23.14863181  23.03197222  22.91413025\n",
      "  22.79506388  22.67472864  22.55307738  22.43006001  22.30562332\n",
      "  22.17971064  22.05226152  21.92321143  21.79249131  21.66002714\n",
      "  21.52573943  21.38954265  21.25134458  21.11104554  20.96853755\n",
      "  20.82370337  20.67641527  20.52653381  20.3739062   20.21836452\n",
      "  20.05972355  19.89777821  19.73230049  19.56303571  19.38969809\n",
      "  19.21196516  19.02947094  18.84179743  18.64846372  18.44891215\n",
      "  18.24249033  18.02842728  17.80580145  17.57349687  17.33014143\n",
      "  17.07401794  16.80293145  16.51400385  16.20334039  15.86545614\n",
      "  15.49221252  15.07063757  14.57777484  13.96547334  13.09176615] [kmol/m^3]\n",
      "[  90.69   91.69   92.69   93.69   94.69   95.69   96.69   97.69   98.69\n",
      "   99.69  100.69  101.69  102.69  103.69  104.69  105.69  106.69  107.69\n",
      "  108.69  109.69  110.69  111.69  112.69  113.69  114.69  115.69  116.69\n",
      "  117.69  118.69  119.69  120.69  121.69  122.69  123.69  124.69  125.69\n",
      "  126.69  127.69  128.69  129.69  130.69  131.69  132.69  133.69  134.69\n",
      "  135.69  136.69  137.69  138.69  139.69  140.69  141.69  142.69  143.69\n",
      "  144.69  145.69  146.69  147.69  148.69  149.69  150.69  151.69  152.69\n",
      "  153.69  154.69  155.69  156.69  157.69  158.69  159.69  160.69  161.69\n",
      "  162.69  163.69  164.69  165.69  166.69  167.69  168.69  169.69  170.69\n",
      "  171.69  172.69  173.69  174.69  175.69  176.69  177.69  178.69  179.69\n",
      "  180.69  181.69  182.69  183.69  184.69  185.69  186.69  187.69  188.69\n",
      "  189.69]\n"
     ]
    }
   ],
   "source": [
    "dppr_file = \"PureFull_mod_properties.xls\"\n",
    "\n",
    "thermodynamic_correlations = pt.Thermodynamic_correlations(dppr_file)\n",
    "\n",
    "component = 'METHANE'\n",
    "\n",
    "liquid_density = thermodynamic_correlations.property_cal(component, \"Liquid_Density\")\n",
    "units = thermodynamic_correlations.units\n",
    "temperature = thermodynamic_correlations.temperature\n",
    "\n",
    "print(\"Liquid_Density = {0} {1}\".format(liquid_density, units))\n",
    "print(temperature)\n",
    "\n"
   ]
  },
  {
   "cell_type": "code",
   "execution_count": 22,
   "metadata": {
    "collapsed": false
   },
   "outputs": [
    {
     "data": {
      "text/plain": [
       "<matplotlib.text.Text at 0x7ff48d81d978>"
      ]
     },
     "execution_count": 22,
     "metadata": {},
     "output_type": "execute_result"
    },
    {
     "data": {
      "image/png": "[encoded data removed]",
      "text/plain": [
       "<matplotlib.figure.Figure at 0x7ff48c57cb70>"
      ]
     },
     "metadata": {},
     "output_type": "display_data"
    }
   ],
   "source": [
    "import numpy as np\n",
    "import matplotlib.pyplot as plt\n",
    "fig, axes = plt.subplots(1, 3, figsize=(10, 4))\n",
    "x = np.arange(0, 5, 0.25)\n",
    "axes[0].plot(temperature, liquid_density)\n",
    "axes[0].set_title(\"default axes ranges\")"
   ]
  },
  {
   "cell_type": "code",
   "execution_count": null,
   "metadata": {
    "collapsed": true
   },
   "outputs": [],
   "source": [
    "dppr_file = \"PureFull_mod_properties.xls\"\n",
    "\n",
    "thermodynamic_correlations = pt.Thermodynamic_correlations(dppr_file)\n",
    "\n",
    "component = 'METHANE'\n",
    "#component = \"ETHANE\"\n",
    "#component = \"3-METHYLHEPTANE\"\n",
    "#component = \"n-PENTACOSANE\"\n",
    "#component = \"ISOBUTANE\"\n",
    "#component = \"n-TETRADECANE\"\n",
    "\n",
    "temp = [180.4, 181.4, 185.3, 210, 85]\n",
    "#temp = 180.4\n",
    "\n",
    "#property_thermodynamics = thermodynamic_correlations.property_cal(component, Vapour_Pressure, temp)\n",
    "#property_thermodynamics = property_cal(components, Vapour_Pressure, temp)\n",
    "#property_thermodynamics = property_cal(component, Vapour_Pressure, [180.4, 181.4, 185.3, 210, 85])\n",
    "property_thermodynamics = thermodynamic_correlations.property_cal(component, \"Vapour_Pressure\")\n",
    "\n",
    "print(property_thermodynamics)\n",
    "\n"
   ]
  }
 ],
 "metadata": {
  "anaconda-cloud": {},
  "kernelspec": {
   "display_name": "Python [conda root]",
   "language": "python",
   "name": "conda-root-py"
  },
  "language_info": {
   "codemirror_mode": {
    "name": "ipython",
    "version": 3
   },
   "file_extension": ".py",
   "mimetype": "text/x-python",
   "name": "python",
   "nbconvert_exporter": "python",
   "pygments_lexer": "ipython3",
   "version": "3.5.2"
  }
 },
 "nbformat": 4,
 "nbformat_minor": 1
}
