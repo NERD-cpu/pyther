{
 "cells": [
  {
   "cell_type": "markdown",
   "metadata": {},
   "source": [
    "# Thermodynamics correlations for pure components\n",
    "\n",
    "\n"
   ]
  },
  {
   "cell_type": "markdown",
   "metadata": {},
   "source": [
    "En esta sección se muestra la class *Thermodynamic_correlations()* la cual permite realizar el cálculo de propiedades termodinámicas de sustancias puras como una función de la temperatura. En este caso se pueden tener 6 situaciones para cada una de las 13 propiedades termofísicas soportadas:\n",
    "\n",
    "1. Especificar una sustancia pura sin especificar una temperatura. En este caso por defecto la propiedad termodinámica se calcula entre el intervalo mínimo y máximo de validez experimental para cada correlación.\n",
    "\n",
    "2. Especificar una sustancia pura y especificar una temperatura. \n",
    "\n",
    "3. Especificar una sustancia pura y especificar varias temperaturas.\n",
    "\n",
    "4. Especificar varias sustancias puras sin especificar una temperatura.\n",
    "\n",
    "5. Especificar varias sustancias puras y especificar una temperatura.\n",
    "\n",
    "6. Especificar  varias sustancias puras y especificar varias temperaturas\n",
    "\n",
    "la clase *Thermodynamics_correlations* es usada para calcular 13 propiedades termodinámicas de sustancias puras en función de la temperatura y se sigue la siguente convención para presentar identificar las propiedades termodinámicas\n",
    "\n",
    "property thermodynamics = name property, units, correlation, equation\n",
    "\n",
    "The thermodynamic correlations are:\n",
    "\n",
    "-**Solid_Density** = \"Solid Density\", \"[kmol/m^3]\", \"A+B*T+C*T^2+D*T^3+E*T^4\", 0\n",
    "\n",
    "-**Liquid_Density** = \"Liquid Density\", \"[kmol/m^3]\", \"A/B^(1+(1-T/C)^D)\", 1\n",
    "\n",
    "-**Vapour_Pressure** = \"Vapour Pressure\", \"[Bar]\", \"exp(A+B/T+C*ln(T)+D*T^E) * 1e-5\", 2\n",
    "\n",
    "-**Heat_of_Vaporization** = \"Heat of Vaporization\", \"[J/kmol]\", \"A*(1-Tr)^(B+C*Tr+D*Tr^2)\", 3\n",
    "\n",
    "-**Solid_Heat_Capacity** = \"Solid Heat Capacity\", \"[J/(kmol*K)]\", \"A+B*T+C*T^2+D*T^3+E*T^4\", 4\n",
    "\n",
    "-**Liquid_Heat_Capacity** = \"Liquid Heat Capacity\", \"[J/(kmol*K)]\", \"A^2/(1-Tr)+B-2*A*C*(1-Tr)-A*D*(1-Tr)^2-C^2*(1-Tr)^3/3-C*D*(1-Tr)^4/2-D^2*(1-Tr)^5/5\", 5\n",
    "\n",
    "-**Ideal_Gas_Heat_Capacity** = \"Ideal Gas Heat Capacity\" \"[J/(kmol*K)]\", \"A+B*(C/T/sinh(C/T))^2+D*(E/T/cosh(E/T))^2\", 6\n",
    "\n",
    "-**Second_Virial_Coefficient** = \"Second\tVirial\tCoefficient\", \"[m^3/kmol]\", \"A+B/T+C/T^3+D/T^8+E/T^9\", 7\n",
    "\n",
    "-**Liquid_Viscosity** = \"Liquid\tViscosity\", \"[kg/(m*s)]\", \"exp(A+B/T+C*ln(T)+D*T^E)\", 8\n",
    "\n",
    "-**Vapour_Viscosity** = \"Vapour\tViscosity\", \"[kg/(m*s)]\", \"A*T^B/(1+C/T+D/T^2)\", 9\n",
    "\n",
    "-**Liquid_Thermal_Conductivity** = \"Liquid Thermal Conductivity\", \"[J/(m*s*K)]\", \"A+B*T+C*T^2+D*T^3+E*T^4\", 10\n",
    "\n",
    "-**Vapour_Thermal_Conductivity** = \"Vapour Thermal Conductivity\", \"[J/(m*s*K)]\", \"A*T^B/(1+C/T+D/T^2)\", 11\n",
    "\n",
    "-**Surface_Tension** = \"Surface Tension\", \"[kg/s^2]\", \"A*(1-Tr)^(B+C*Tr+D*Tr^2)\", 12\t"
   ]
  },
  {
   "cell_type": "markdown",
   "metadata": {},
   "source": [
    "Para empezar se importan las librerías que se van a utilizar, que en este caso son numpy, pandas, pyther y especificar que las figuras generadas se muesten dentro del jupyter notebook"
   ]
  },
  {
   "cell_type": "markdown",
   "metadata": {},
   "source": []
  },
  {
   "cell_type": "code",
   "execution_count": 1,
   "metadata": {},
   "outputs": [],
   "source": [
    "import numpy as np\n",
    "import pandas as pd\n",
    "import pyther as pt\n",
    "import matplotlib.pyplot as plt\n",
    "%matplotlib inline\n"
   ]
  },
  {
   "cell_type": "markdown",
   "metadata": {},
   "source": [
    "# 1. Especificar una sustancia pura sin especificar una temperatura."
   ]
  },
  {
   "cell_type": "markdown",
   "metadata": {},
   "source": [
    "Luego se carga el archivo que contine las constantes de las correlaciones de las propiedades termodinamicas, que se llama en este caso *\"PureFull_mod_properties.xls\"* y se asigna a la variable *dppr_file*.\n",
    "\n",
    "Creamos un objeto llamado **thermodynamic_correlations** y se pasan como parametros las variables **component** y **property_thermodynamics** que en el ejemplo se especifica para el componente METHANE la Vapour_Pressure"
   ]
  },
  {
   "cell_type": "code",
   "execution_count": 4,
   "metadata": {},
   "outputs": [
    {
     "name": "stdout",
     "output_type": "stream",
     "text": [
      "----------------------------------------------------------------------\n",
      "Pure substance without temperature especific: ['METHANE']\n",
      "----------------------------------------------------------------------\n",
      "Vapour Pressure = [  0.11687017   0.13272851   0.15029231   0.1696935    0.19106965\n",
      "   0.21456383   0.24032459   0.26850587   0.29926689   0.33277204\n",
      "   0.36919081   0.40869762   0.45147173   0.49769708   0.54756216\n",
      "   0.60125987   0.65898737   0.72094595   0.78734085   0.85838113\n",
      "   0.93427952   1.01525227   1.101519     1.19330257   1.29082892\n",
      "   1.39432695   1.50402838   1.62016765   1.74298174   1.87271013\n",
      "   2.00959463   2.1538793    2.30581038   2.46563616   2.63360692\n",
      "   2.80997486   2.99499402   3.18892023   3.39201109   3.60452587\n",
      "   3.82672552   4.05887261   4.30123136   4.55406758   4.8176487\n",
      "   5.09224376   5.37812343   5.67556002   5.98482753   6.30620166\n",
      "   6.63995987   6.98638141   7.34574742   7.71834093   8.10444699\n",
      "   8.5043527    8.91834734   9.34672242   9.78977179  10.24779173\n",
      "  10.7210811   11.20994139  11.71467689  12.23559478  12.7730053\n",
      "  13.32722183  13.89856107  14.48734319  15.09389194  15.71853484\n",
      "  16.36160334  17.02343294  17.70436342  18.40473898  19.1249084\n",
      "  19.86522527  20.62604814  21.40774072  22.21067207  23.03521683\n",
      "  23.88175537  24.75067404  25.64236538  26.55722832  27.4956684\n",
      "  28.45809802  29.44493665  30.45661106  31.49355559  32.55621234\n",
      "  33.64503148  34.76047146  35.90299928  37.07309076  38.2712308\n",
      "  39.49791367  40.75364324  42.03893333  43.35430794  44.7003016 ]\n"
     ]
    }
   ],
   "source": [
    "\n",
    "prueba_1 = pt.Thermodynamic_correlations()\n",
    "\n",
    "component = ['METHANE']\n",
    "property_thermodynamics = \"Vapour_Pressure\"\n",
    "\n",
    "Vapour_Pressure = prueba_1.property_cal(component, property_thermodynamics)\n",
    "print(\"Vapour Pressure = {0}\". format(Vapour_Pressure))\n",
    "\n"
   ]
  },
  {
   "cell_type": "code",
   "execution_count": 5,
   "metadata": {},
   "outputs": [
    {
     "name": "stdout",
     "output_type": "stream",
     "text": [
      "----------------------------------------------------------------------\n",
      "Pure substance without temperature especific: ['ETHANE']\n",
      "----------------------------------------------------------------------\n",
      "Vapour Pressure = [  0.11687017   0.13272851   0.15029231   0.1696935    0.19106965\n",
      "   0.21456383   0.24032459   0.26850587   0.29926689   0.33277204\n",
      "   0.36919081   0.40869762   0.45147173   0.49769708   0.54756216\n",
      "   0.60125987   0.65898737   0.72094595   0.78734085   0.85838113\n",
      "   0.93427952   1.01525227   1.101519     1.19330257   1.29082892\n",
      "   1.39432695   1.50402838   1.62016765   1.74298174   1.87271013\n",
      "   2.00959463   2.1538793    2.30581038   2.46563616   2.63360692\n",
      "   2.80997486   2.99499402   3.18892023   3.39201109   3.60452587\n",
      "   3.82672552   4.05887261   4.30123136   4.55406758   4.8176487\n",
      "   5.09224376   5.37812343   5.67556002   5.98482753   6.30620166\n",
      "   6.63995987   6.98638141   7.34574742   7.71834093   8.10444699\n",
      "   8.5043527    8.91834734   9.34672242   9.78977179  10.24779173\n",
      "  10.7210811   11.20994139  11.71467689  12.23559478  12.7730053\n",
      "  13.32722183  13.89856107  14.48734319  15.09389194  15.71853484\n",
      "  16.36160334  17.02343294  17.70436342  18.40473898  19.1249084\n",
      "  19.86522527  20.62604814  21.40774072  22.21067207  23.03521683\n",
      "  23.88175537  24.75067404  25.64236538  26.55722832  27.4956684\n",
      "  28.45809802  29.44493665  30.45661106  31.49355559  32.55621234\n",
      "  33.64503148  34.76047146  35.90299928  37.07309076  38.2712308\n",
      "  39.49791367  40.75364324  42.03893333  43.35430794  44.7003016 ]\n"
     ]
    }
   ],
   "source": [
    "prueba_2 = pt.Thermodynamic_correlations()\n",
    "\n",
    "component = ['ETHANE']\n",
    "property_thermodynamics = \"Vapour_Pressure\"\n",
    "\n",
    "Vapour_Pressure_2 = prueba_2.property_cal(component, property_thermodynamics)\n",
    "print(\"Vapour Pressure = {0}\". format(Vapour_Pressure))"
   ]
  },
  {
   "cell_type": "code",
   "execution_count": 10,
   "metadata": {},
   "outputs": [
    {
     "data": {
      "text/plain": [
       "array([ 11.68701727,  13.2728515 ,  15.02923069,  16.96935019,  19.10696478])"
      ]
     },
     "execution_count": 10,
     "metadata": {},
     "output_type": "execute_result"
    }
   ],
   "source": [
    "Vapour_Pressure[:5]*100"
   ]
  },
  {
   "cell_type": "markdown",
   "metadata": {},
   "source": [
    "para realizar un gráfico simple de la propiedad termodinámica se utiliza el método **graphical(temperature, property_thermodynamics, label_property_thermodynamics, units)**.\n",
    "\n",
    "En donde se pasan como argumentos la temperatura a la cual se claculó la propiedad termodinamica, los valores calculados de la propiedad termodinamica, el label de la propiedad termodinámica y las unidades correspondientes de temperatura y la propiedad termodinámica en cada caso."
   ]
  },
  {
   "cell_type": "code",
   "execution_count": 13,
   "metadata": {},
   "outputs": [
    {
     "name": "stdout",
     "output_type": "stream",
     "text": [
      "('K', '[Pa]')\n"
     ]
    },
    {
     "data": {
      "text/plain": [
       "0"
      ]
     },
     "execution_count": 13,
     "metadata": {},
     "output_type": "execute_result"
    }
   ],
   "source": [
    "temperature_vapour = prueba_1.temperature\n",
    "units = prueba_1.units\n",
    "print(units)\n",
    "\n",
    "thermodynamic_correlations.graphical(temperature_vapour, Vapour_Pressure, property_thermodynamics, units)"
   ]
  },
  {
   "cell_type": "markdown",
   "metadata": {},
   "source": [
    "# 2. Especificar una sustancia pura y una temperatura. \n",
    "\n"
   ]
  },
  {
   "cell_type": "markdown",
   "metadata": {},
   "source": [
    "Siguiendo con la sustacia pura *METHANE* se tiene el segundo caso en el cual ademas de especificiar el componente se especifica también solo un valor de temperatura, tal como se muestra en la variable *temperature*.\n",
    "\n",
    "Dado que cada correlación de propiedad termodinámica tiene un rango mínimo y máximo de temperatura en la cual es valida, al especificar un valor de temperatura se hace una verificación para determinar si la temperatura ingresada se encuentra entre el intervalo aceptado para cada componente y cada propiedad termodinámica. En caso contrario la temperatura se clasifica como invalida y no se obtiene valor para la propiedad termodinámica seleccionada."
   ]
  },
  {
   "cell_type": "code",
   "execution_count": null,
   "metadata": {},
   "outputs": [],
   "source": [
    "component = ['METHANE']\n",
    "property_thermodynamics = \"Vapour_Pressure\"\n",
    "temperature = [180.4]\n",
    "\n",
    "Vapour_Pressure = thermodynamic_correlations.property_cal(component, property_thermodynamics, temperature)\n",
    "print(\"Vapour Pressure = {0} {1}\". format(Vapour_Pressure, units[1]))\n"
   ]
  },
  {
   "cell_type": "markdown",
   "metadata": {},
   "source": [
    "# 3. Especificar una sustancia pura y especificar varias temperaturas.\n",
    "\n"
   ]
  },
  {
   "cell_type": "markdown",
   "metadata": {},
   "source": [
    "Ahora se tiene la situación de contar con un solo componente \"METHANE\" sin embargo, esta vez se especifica varios valores para la temperatura en las cuales se quiere determinar el correspondiente valor de una proiedad termodinámica, que como en los casos anteriores es la *Vapour_Pressure*."
   ]
  },
  {
   "cell_type": "code",
   "execution_count": null,
   "metadata": {},
   "outputs": [],
   "source": [
    "component = ['METHANE']\n",
    "property_thermodynamics = \"Vapour_Pressure\"\n",
    "temperature = [180.4, 181.4, 185.3, 210, 85]\n",
    "\n",
    "Vapour_Pressure = thermodynamic_correlations.property_cal(component, \"Vapour_Pressure\", temperature)\n",
    "print(\"Vapour Pressure = {0} {1}\". format(Vapour_Pressure, units[1]))"
   ]
  },
  {
   "cell_type": "markdown",
   "metadata": {},
   "source": [
    "Se debe notar que al ingresar una serie de valores de temperatura, en este caso 5 valores, se obtienen solo 3 valores de la propiedad termodinámica. Esto se debe a que para este caso 2 valores de temperatura no se encuentran en el valor mínimo y máximo en donde es valida la correlación termodinámica. Por tanto, esto se avisa por medio del mensaje: *Temperature_invalid = ['210 K is a temperature not valid', '85 K is a temperature not valid']*  "
   ]
  },
  {
   "cell_type": "markdown",
   "metadata": {},
   "source": [
    "# 4. Especificar varias sustancias puras sin especificar una temperatura.\n",
    "\n"
   ]
  },
  {
   "cell_type": "markdown",
   "metadata": {},
   "source": [
    "Otra de las posibilidades que se puede tener es la opción de especificar varios componentes para una misma propiedad termodinámica sin que se especifique una o más valores de temperatura. En esta opción se pueden ingresar multiples componentes sin un limite, siempre y cuando estén en la base de datos con la que se trabaja o en dado caso sean agregados a la base de datos nuevas correlaciones para sustancias puras *Ver sección base de datos*. Para este ejemplo se utiliza una *list components* con 3 sustancias puras por cuestiones de visibilidad de las gráficas de *Vapour_Pressure*.\n"
   ]
  },
  {
   "cell_type": "code",
   "execution_count": null,
   "metadata": {
    "collapsed": true
   },
   "outputs": [],
   "source": [
    "components = [\"METHANE\", \"n-TETRACOSANE\", \"ISOBUTANE\"]\n",
    "property_thermodynamics = \"Vapour_Pressure\"\n",
    "\n",
    "Vapour_Pressure = thermodynamic_correlations.property_cal(components, property_thermodynamics)\n",
    "temperature_vapour = thermodynamic_correlations.temperature"
   ]
  },
  {
   "cell_type": "markdown",
   "metadata": {},
   "source": [
    "por medio del método *multi_graphical(components, temperature, property_thermodynamics)* al cual se pasan los parámetros correspondiente a las sustancias puras, la temperatura a la cual se realiza el calculo de la propiedad termodinámica y los valores de la propiedad termodinámica de cada sustancia pura, para obtener la siguiente figura."
   ]
  },
  {
   "cell_type": "code",
   "execution_count": null,
   "metadata": {},
   "outputs": [],
   "source": [
    "\n",
    "thermodynamic_correlations.multi_graphical(components, temperature_vapour, Vapour_Pressure)"
   ]
  },
  {
   "cell_type": "markdown",
   "metadata": {},
   "source": [
    "sin embargo como se menciono anteriormente, es posible calcular una propiedad termodinámica para un gran número de sustancias puras y luego realizar las gráficas correspondientes dependiendo de las necesidades de visualización entre otros criterios. Para ejemplificar esto, ahora se tienen 7 sustancias puras y se quiere gŕaficar la propiedad termodinámica de solo: *n-PENTACOSANE, ETHANE y el ISOBUTANE*. "
   ]
  },
  {
   "cell_type": "code",
   "execution_count": null,
   "metadata": {
    "collapsed": true
   },
   "outputs": [],
   "source": [
    "components = [\"METHANE\", \"n-TETRACOSANE\", \"n-PENTACOSANE\", \"ETHANE\", \"ISOBUTANE\", \"PROPANE\", \"3-METHYLHEPTANE\"]\n",
    "property_thermodynamics = \"Vapour_Pressure\"\n",
    "\n",
    "Vapour_Pressure = thermodynamic_correlations.property_cal(components, property_thermodynamics)\n",
    "temperature_vapour = thermodynamic_correlations.temperature"
   ]
  },
  {
   "cell_type": "code",
   "execution_count": null,
   "metadata": {},
   "outputs": [],
   "source": [
    "thermodynamic_correlations.multi_graphical(components[2:5], temperature_vapour[2:5], Vapour_Pressure[2:5])"
   ]
  },
  {
   "cell_type": "markdown",
   "metadata": {},
   "source": [
    "# 5. Especificar varias sustancias puras y una temperatura.\n",
    "\n"
   ]
  },
  {
   "cell_type": "markdown",
   "metadata": {},
   "source": [
    "Como en el caso anterios, en este ejemplo se espcifican 3 sustancias puras pero con la especificación de un solo valor de temperatura. Esta temperatura será común para las sustancias puras con las que se trabaje por tanto puede darse el caso de que sea una temperatura valida para algunas sustancias puras mientras que para otras no dependiendo del intervalo de valides de cada correlación termodinámica."
   ]
  },
  {
   "cell_type": "code",
   "execution_count": null,
   "metadata": {},
   "outputs": [],
   "source": [
    "dppr_file = \"PureFull_mod_properties.xls\"\n",
    "\n",
    "thermodynamic_correlations = pt.Thermodynamic_correlations(dppr_file)\n",
    "\n",
    "components = [\"METHANE\", \"n-TETRACOSANE\", \"ISOBUTANE\"]\n",
    "property_thermodynamics = \"Vapour_Pressure\"\n",
    "temperature = [180.4]\n",
    "\n",
    "Vapour_Pressure = thermodynamic_correlations.property_cal(components, property_thermodynamics, temperature)\n",
    "print(\"Vapour Pressure = {0} {1}\". format(Vapour_Pressure, units[1]))\n",
    "\n"
   ]
  },
  {
   "cell_type": "markdown",
   "metadata": {},
   "source": [
    "en este caso se tiene como resultado un con 2 valores de presión de vapor, uno para METHANE y otro para ISOBUTANE, mientras que se obtiene un array vacio en el caso \"de n-TETRACOSANE, puesto que la temperatura de 180 K especificada no se encuentra como valida."
   ]
  },
  {
   "cell_type": "markdown",
   "metadata": {},
   "source": [
    "para verificar tanto los valores de las constantes como los valores mínimos y máximos de cada correlación termodinámica para cada una de las sustancias puras que se especifique se utiliza el atributo *component_constans* tal como se muestra a continuación"
   ]
  },
  {
   "cell_type": "code",
   "execution_count": null,
   "metadata": {},
   "outputs": [],
   "source": [
    "thermodynamic_correlations.component_constans\n"
   ]
  },
  {
   "cell_type": "markdown",
   "metadata": {},
   "source": [
    "# 6. Especificar  varias sustancias puras y especificar varias temperaturas"
   ]
  },
  {
   "cell_type": "markdown",
   "metadata": {},
   "source": [
    "En esta opción se puede manipular varias sustancias puras de forma simultanea con la especificación de varios valores de temperaturas, en donde cada valor de temperatura especificado será común para cada sustancia pura, de tal forma que se obtendra valores adecuados para aquellos valores de temperatura que sean validos para cada caso considerado."
   ]
  },
  {
   "cell_type": "code",
   "execution_count": null,
   "metadata": {
    "collapsed": true
   },
   "outputs": [],
   "source": [
    "import numpy as np\n",
    "import pandas as pd\n",
    "import pyther as pt\n",
    "import matplotlib.pyplot as plt\n",
    "%matplotlib inline"
   ]
  },
  {
   "cell_type": "code",
   "execution_count": null,
   "metadata": {},
   "outputs": [],
   "source": [
    "dppr_file = \"PureFull_mod_properties.xls\"\n",
    "\n",
    "thermodynamic_correlations = pt.Thermodynamic_correlations(dppr_file)\n",
    "\n",
    "#components = [\"METHANE\", \"n-TETRACOSANE\", \"ISOBUTANE\"]\n",
    "components = [\"METHANE\", \"n-TETRACOSANE\", \"n-PENTACOSANE\", \"ETHANE\", \"ISOBUTANE\", \"PROPANE\", \"3-METHYLHEPTANE\"]\n",
    "property_thermodynamics = \"Vapour_Pressure\"\n",
    "temperature = [180.4, 181.4, 185.3, 210, 800]\n",
    "\n",
    "Vapour_Pressure = thermodynamic_correlations.property_cal(components, property_thermodynamics, temperature)\n",
    "print(\"Vapour Pressure = {0}\". format(Vapour_Pressure))"
   ]
  },
  {
   "cell_type": "markdown",
   "metadata": {},
   "source": [
    "como se muestra en los resultados anteriores, se comienza a complicar la manipulación de los datos conforme incrementa el número de sustancias puras y temperaturas involucradas en el analisis, por tal motivo conviene utilizar las bondades de librerías especializadas para el procesamiento de datos como *Pandas* para obtener resultados más eficientes. \n",
    "\n",
    "El método *data_temperature(components, temperature, Vapour_Pressure, temp_enter)* presenta un DataFrame con los resultados obtenidos luego de calcular la propiedad termodinámica indicada, señalan que para las temperaturas invalidas en el intervalo de aplicación de la correlación termodinámica, el resultado será *NaN*, tal como se muestra con el ejemplo a continuación. "
   ]
  },
  {
   "cell_type": "code",
   "execution_count": null,
   "metadata": {},
   "outputs": [],
   "source": [
    "temp_enter = thermodynamic_correlations.temperature_enter\n",
    "thermodynamic_correlations.data_temperature(components, temperature, Vapour_Pressure, temp_enter)"
   ]
  },
  {
   "cell_type": "markdown",
   "metadata": {},
   "source": [
    "# 7. Future work\n",
    "\n",
    "\n",
    "- Actualmente PyTher se encuentra implementando la opción de multiples propiedades termodinámicas de forma simultanea  para el caso de multiples sustancias puras con multiples opciones de temepratura.\n",
    "\n",
    "\n",
    "- Dar soporte a la manipulación de bases de datos por parte de usuarios para agregar, modificar, eliminar, renombrar sustancias puras y/o correlaciones termodinámicas."
   ]
  },
  {
   "cell_type": "markdown",
   "metadata": {},
   "source": [
    "# 8. References\n",
    "\n",
    "Numpy"
   ]
  },
  {
   "cell_type": "code",
   "execution_count": null,
   "metadata": {
    "collapsed": true
   },
   "outputs": [],
   "source": []
  }
 ],
 "metadata": {
  "anaconda-cloud": {},
  "kernelspec": {
   "display_name": "Python [conda root]",
   "language": "python",
   "name": "conda-root-py"
  },
  "language_info": {
   "codemirror_mode": {
    "name": "ipython",
    "version": 3
   },
   "file_extension": ".py",
   "mimetype": "text/x-python",
   "name": "python",
   "nbconvert_exporter": "python",
   "pygments_lexer": "ipython3",
   "version": "3.5.2"
  }
 },
 "nbformat": 4,
 "nbformat_minor": 1
}
