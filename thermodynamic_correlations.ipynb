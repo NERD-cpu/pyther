{
 "cells": [
  {
   "cell_type": "markdown",
   "metadata": {},
   "source": [
    "**Thermodynamics correlations for pure components** \n",
    "\n"
   ]
  },
  {
   "cell_type": "markdown",
   "metadata": {},
   "source": [
    "En esta sección se presenta la clase *Thermodynamics_correlations* la cual es usada para calcular 13 propiedades termodinámicas de sustancias puras en función de la temperatura.\n",
    "\n",
    "Se sigue la siguente convención para presentar identificar las propiedades termodinámicas\n",
    "\n",
    "property thermodynamics = name property, units, correlation, equation\n",
    "\n",
    "The thermodynamic correlations are:\n",
    "\n",
    "-**Solid_Density** = \"Solid Density\", \"[kmol/m^3]\", \"A+B*T+C*T^2+D*T^3+E*T^4\", 0\n",
    "\n",
    "-**Liquid_Density** = \"Liquid Density\", \"[kmol/m^3]\", \"A/B^(1+(1-T/C)^D)\", 1\n",
    "\n",
    "-**Vapour_Pressure** = \"Vapour Pressure\", \"[Bar]\", \"exp(A+B/T+C*ln(T)+D*T^E) * 1e-5\", 2\n",
    "\n",
    "-**Heat_of_Vaporization** = \"Heat of Vaporization\", \"[J/kmol]\", \"A*(1-Tr)^(B+C*Tr+D*Tr^2)\", 3\n",
    "\n",
    "-**Solid_Heat_Capacity** = \"Solid Heat Capacity\", \"[J/(kmol*K)]\", \"A+B*T+C*T^2+D*T^3+E*T^4\", 4\n",
    "\n",
    "-**Liquid_Heat_Capacity** = \"Liquid Heat Capacity\", \"[J/(kmol*K)]\", \"A^2/(1-Tr)+B-2*A*C*(1-Tr)-A*D*(1-Tr)^2-C^2*(1-Tr)^3/3-C*D*(1-Tr)^4/2-D^2*(1-Tr)^5/5\", 5\n",
    "\n",
    "-**Ideal_Gas_Heat_Capacity** = \"Ideal Gas Heat Capacity\" \"[J/(kmol*K)]\", \"A+B*(C/T/sinh(C/T))^2+D*(E/T/cosh(E/T))^2\", 6\n",
    "\n",
    "-**Second_Virial_Coefficient** = \"Second\tVirial\tCoefficient\", \"[m^3/kmol]\", \"A+B/T+C/T^3+D/T^8+E/T^9\", 7\n",
    "\n",
    "-**Liquid_Viscosity** = \"Liquid\tViscosity\", \"[kg/(m*s)]\", \"exp(A+B/T+C*ln(T)+D*T^E)\", 8\n",
    "\n",
    "-**Vapour_Viscosity** = \"Vapour\tViscosity\", \"[kg/(m*s)]\", \"A*T^B/(1+C/T+D/T^2)\", 9\n",
    "\n",
    "-**Liquid_Thermal_Conductivity** = \"Liquid Thermal Conductivity\", \"[J/(m*s*K)]\", \"A+B*T+C*T^2+D*T^3+E*T^4\", 10\n",
    "\n",
    "-**Vapour_Thermal_Conductivity** = \"Vapour Thermal Conductivity\", \"[J/(m*s*K)]\", \"A*T^B/(1+C/T+D/T^2)\", 11\n",
    "\n",
    "-**Surface_Tension** = \"Surface Tension\", \"[kg/s^2]\", \"A*(1-Tr)^(B+C*Tr+D*Tr^2)\", 12\t"
   ]
  },
  {
   "cell_type": "markdown",
   "metadata": {},
   "source": []
  },
  {
   "cell_type": "code",
   "execution_count": 1,
   "metadata": {
    "collapsed": true
   },
   "outputs": [],
   "source": [
    "import numpy as np\n",
    "import pandas as pd\n",
    "import pyther as pt\n",
    "%matplotlib inline\n"
   ]
  },
  {
   "cell_type": "code",
   "execution_count": 2,
   "metadata": {
    "collapsed": false
   },
   "outputs": [
    {
     "name": "stdout",
     "output_type": "stream",
     "text": [
      "              A       B       C           D  E T Min [K] T Max [K]\n",
      "METHANE  39.205 -1324.4 -3.4366  3.1019e-05  2     90.69    190.56\n",
      "1 ['METHANE']\n",
      "sss =  [39.205] [90.69] <class 'numpy.ndarray'>\n",
      "number of components view temperature =  1 ['METHANE'] None\n",
      "one component without temperature especific\n",
      "temperature =  [array([90.69], dtype=object) array([91.69], dtype=object)\n",
      " array([92.69], dtype=object) array([93.69], dtype=object)\n",
      " array([94.69], dtype=object) array([95.69], dtype=object)\n",
      " array([96.69], dtype=object) array([97.69], dtype=object)\n",
      " array([98.69], dtype=object) array([99.69], dtype=object)\n",
      " array([100.69], dtype=object) array([101.69], dtype=object)\n",
      " array([102.69], dtype=object) array([103.69], dtype=object)\n",
      " array([104.69], dtype=object) array([105.69], dtype=object)\n",
      " array([106.69], dtype=object) array([107.69], dtype=object)\n",
      " array([108.69], dtype=object) array([109.69], dtype=object)\n",
      " array([110.69], dtype=object) array([111.69], dtype=object)\n",
      " array([112.69], dtype=object) array([113.69], dtype=object)\n",
      " array([114.69], dtype=object) array([115.69], dtype=object)\n",
      " array([116.69], dtype=object) array([117.69], dtype=object)\n",
      " array([118.69], dtype=object) array([119.69], dtype=object)\n",
      " array([120.69], dtype=object) array([121.69], dtype=object)\n",
      " array([122.69], dtype=object) array([123.69], dtype=object)\n",
      " array([124.69], dtype=object) array([125.69], dtype=object)\n",
      " array([126.69], dtype=object) array([127.69], dtype=object)\n",
      " array([128.69], dtype=object) array([129.69], dtype=object)\n",
      " array([130.69], dtype=object) array([131.69], dtype=object)\n",
      " array([132.69], dtype=object) array([133.69], dtype=object)\n",
      " array([134.69], dtype=object) array([135.69], dtype=object)\n",
      " array([136.69], dtype=object) array([137.69], dtype=object)\n",
      " array([138.69], dtype=object) array([139.69], dtype=object)\n",
      " array([140.69], dtype=object) array([141.69], dtype=object)\n",
      " array([142.69], dtype=object) array([143.69], dtype=object)\n",
      " array([144.69], dtype=object) array([145.69], dtype=object)\n",
      " array([146.69], dtype=object) array([147.69], dtype=object)\n",
      " array([148.69], dtype=object) array([149.69], dtype=object)\n",
      " array([150.69], dtype=object) array([151.69], dtype=object)\n",
      " array([152.69], dtype=object) array([153.69], dtype=object)\n",
      " array([154.69], dtype=object) array([155.69], dtype=object)\n",
      " array([156.69], dtype=object) array([157.69], dtype=object)\n",
      " array([158.69], dtype=object) array([159.69], dtype=object)\n",
      " array([160.69], dtype=object) array([161.69], dtype=object)\n",
      " array([162.69], dtype=object) array([163.69], dtype=object)\n",
      " array([164.69], dtype=object) array([165.69], dtype=object)\n",
      " array([166.69], dtype=object) array([167.69], dtype=object)\n",
      " array([168.69], dtype=object) array([169.69], dtype=object)\n",
      " array([170.69], dtype=object) array([171.69], dtype=object)\n",
      " array([172.69], dtype=object) array([173.69], dtype=object)\n",
      " array([174.69], dtype=object) array([175.69], dtype=object)\n",
      " array([176.69], dtype=object) array([177.69], dtype=object)\n",
      " array([178.69], dtype=object) array([179.69], dtype=object)\n",
      " array([180.69], dtype=object) array([181.69], dtype=object)\n",
      " array([182.69], dtype=object) array([183.69], dtype=object)\n",
      " array([184.69], dtype=object) array([185.69], dtype=object)\n",
      " array([186.69], dtype=object) array([187.69], dtype=object)\n",
      " array([188.69], dtype=object) array([189.69], dtype=object)] 100\n",
      "<class 'numpy.ndarray'>\n",
      "one component with one temperature especific\n",
      "[  0.11687017   0.13272851   0.15029231   0.1696935    0.19106965\n",
      "   0.21456383   0.24032459   0.26850587   0.29926689   0.33277204\n",
      "   0.36919081   0.40869762   0.45147173   0.49769708   0.54756216\n",
      "   0.60125987   0.65898737   0.72094595   0.78734085   0.85838113\n",
      "   0.93427952   1.01525227   1.101519     1.19330257   1.29082892\n",
      "   1.39432695   1.50402838   1.62016765   1.74298174   1.87271013\n",
      "   2.00959463   2.1538793    2.30581038   2.46563616   2.63360692\n",
      "   2.80997486   2.99499402   3.18892023   3.39201109   3.60452587\n",
      "   3.82672552   4.05887261   4.30123136   4.55406758   4.8176487\n",
      "   5.09224376   5.37812343   5.67556002   5.98482753   6.30620166\n",
      "   6.63995987   6.98638141   7.34574742   7.71834093   8.10444699\n",
      "   8.5043527    8.91834734   9.34672242   9.78977179  10.24779173\n",
      "  10.7210811   11.20994139  11.71467689  12.23559478  12.7730053\n",
      "  13.32722183  13.89856107  14.48734319  15.09389194  15.71853484\n",
      "  16.36160334  17.02343294  17.70436342  18.40473898  19.1249084\n",
      "  19.86522527  20.62604814  21.40774072  22.21067207  23.03521683\n",
      "  23.88175537  24.75067404  25.64236538  26.55722832  27.4956684\n",
      "  28.45809802  29.44493665  30.45661106  31.49355559  32.55621234\n",
      "  33.64503148  34.76047146  35.90299928  37.07309076  38.2712308\n",
      "  39.49791367  40.75364324  42.03893333  43.35430794  44.7003016 ]\n"
     ]
    }
   ],
   "source": [
    "dppr_file = \"PureFull_mod_properties.xls\"\n",
    "\n",
    "thermodynamic_correlations = pt.Thermodynamic_correlations(dppr_file)\n",
    "\n",
    "component = ['METHANE']\n",
    "\n",
    "Vapour_Pressure = thermodynamic_correlations.property_cal(component, \"Vapour_Pressure\")\n",
    "\n",
    "print(Vapour_Pressure)\n",
    "\n"
   ]
  },
  {
   "cell_type": "code",
   "execution_count": null,
   "metadata": {
    "collapsed": false
   },
   "outputs": [],
   "source": [
    "dppr_file = \"PureFull_mod_properties.xls\"\n",
    "\n",
    "thermodynamic_correlations = pt.Thermodynamic_correlations(dppr_file)\n",
    "\n",
    "component = 'METHANE'\n",
    "\n",
    "temperature = 180.4\n",
    "\n",
    "property_thermodynamics = thermodynamic_correlations.property_cal(component, \"Vapour_Pressure\", temperature)\n",
    "\n",
    "print(property_thermodynamics)\n",
    "\n"
   ]
  },
  {
   "cell_type": "code",
   "execution_count": null,
   "metadata": {
    "collapsed": false
   },
   "outputs": [],
   "source": [
    "dppr_file = \"PureFull_mod_properties.xls\"\n",
    "\n",
    "thermodynamic_correlations = pt.Thermodynamic_correlations(dppr_file)\n",
    "\n",
    "component = 'METHANE'\n",
    "\n",
    "temperature = [180.4, 181.4, 185.3, 210, 85]\n",
    "\n",
    "property_thermodynamics = thermodynamic_correlations.property_cal(component, \"Vapour_Pressure\", temperature)\n",
    "\n",
    "print(property_thermodynamics)\n",
    "\n"
   ]
  },
  {
   "cell_type": "code",
   "execution_count": null,
   "metadata": {
    "collapsed": false
   },
   "outputs": [],
   "source": [
    "dppr_file = \"PureFull_mod_properties.xls\"\n",
    "\n",
    "thermodynamic_correlations = pt.Thermodynamic_correlations(dppr_file)\n",
    "\n",
    "component = 'METHANE'\n",
    "\n",
    "liquid_density = thermodynamic_correlations.property_cal(component, \"Liquid_Density\")\n",
    "units = thermodynamic_correlations.units\n",
    "temperature = thermodynamic_correlations.temperature\n",
    "\n",
    "print(\"Liquid_Density = {0} {1}\".format(liquid_density, units))\n",
    "print(temperature)\n",
    "\n"
   ]
  },
  {
   "cell_type": "code",
   "execution_count": null,
   "metadata": {
    "collapsed": false
   },
   "outputs": [],
   "source": [
    "import numpy as np\n",
    "import matplotlib.pyplot as plt\n",
    "fig, axes = plt.subplots(1, 3, figsize=(10, 4))\n",
    "x = np.arange(0, 5, 0.25)\n",
    "axes[0].plot(temperature, liquid_density)\n",
    "axes[0].set_title(\"liquid_density\")"
   ]
  },
  {
   "cell_type": "code",
   "execution_count": null,
   "metadata": {
    "collapsed": true
   },
   "outputs": [],
   "source": [
    "dppr_file = \"PureFull_mod_properties.xls\"\n",
    "\n",
    "thermodynamic_correlations = pt.Thermodynamic_correlations(dppr_file)\n",
    "\n",
    "component = 'METHANE'\n",
    "#component = \"ETHANE\"\n",
    "#component = \"3-METHYLHEPTANE\"\n",
    "#component = \"n-PENTACOSANE\"\n",
    "#component = \"ISOBUTANE\"\n",
    "#component = \"n-TETRADECANE\"\n",
    "\n",
    "temp = [180.4, 181.4, 185.3, 210, 85]\n",
    "#temp = 180.4\n",
    "\n",
    "#property_thermodynamics = thermodynamic_correlations.property_cal(component, Vapour_Pressure, temp)\n",
    "#property_thermodynamics = property_cal(components, Vapour_Pressure, temp)\n",
    "#property_thermodynamics = property_cal(component, Vapour_Pressure, [180.4, 181.4, 185.3, 210, 85])\n",
    "property_thermodynamics = thermodynamic_correlations.property_cal(component, \"Vapour_Pressure\")\n",
    "\n",
    "print(property_thermodynamics)\n",
    "\n"
   ]
  }
 ],
 "metadata": {
  "anaconda-cloud": {},
  "kernelspec": {
   "display_name": "Python [conda root]",
   "language": "python",
   "name": "conda-root-py"
  },
  "language_info": {
   "codemirror_mode": {
    "name": "ipython",
    "version": 3
   },
   "file_extension": ".py",
   "mimetype": "text/x-python",
   "name": "python",
   "nbconvert_exporter": "python",
   "pygments_lexer": "ipython3",
   "version": "3.5.2"
  }
 },
 "nbformat": 4,
 "nbformat_minor": 1
}
