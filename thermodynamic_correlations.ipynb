{
 "cells": [
  {
   "cell_type": "code",
   "execution_count": 1,
   "metadata": {
    "collapsed": false
   },
   "outputs": [],
   "source": [
    "import numpy as np\n",
    "import pandas as pd\n",
    "import pyther as pt"
   ]
  },
  {
   "cell_type": "code",
   "execution_count": null,
   "metadata": {
    "collapsed": false
   },
   "outputs": [
    {
     "name": "stdout",
     "output_type": "stream",
     "text": [
      "-------------------------------------------------------------------------------\n",
      "[   11687.01727042    13272.85149949    15029.23068614    16969.35018539\n",
      "    19106.96477818    21456.38285049    24032.45929842    26850.58724692\n",
      "    29926.68867467    33277.20404082    36919.08101219    40869.76239075\n",
      "    45147.17334219    49769.708026      54756.21572669    60125.9865842\n",
      "    65898.73701943    72094.59494793    78734.08487177    85838.11293615\n",
      "    93427.952033     101525.22703025   110151.90020062   119330.25691941\n",
      "   129082.89169635   139432.69460151   150402.83814105   162016.76463347\n",
      "   174298.17413283   187271.01294051   200959.46274308   215387.93040918\n",
      "   230581.03847449   246563.61633982   263360.69220351   280997.48574581\n",
      "   299499.40157969   318892.023479     339201.10939226   360452.58724743\n",
      "   382672.55155045   405887.26077811   430123.13556347   455406.75767023\n",
      "   481764.86975062   509224.37587987   537812.34285877   567556.0022748\n",
      "   598482.75331097   630620.16629095   663995.98694794   698638.14140435\n",
      "   734574.74184875   771834.09289627   810444.69861821   850435.27022668\n",
      "   891834.73439981   934672.24223348   978977.17880499  1024779.17333516\n",
      "  1072108.10993485  1120994.13892271  1171467.68870116  1223559.47817812\n",
      "  1277300.52972251  1332722.18264204  1389856.10717247  1448734.31896806\n",
      "  1509389.19408359  1571853.48443903  1636160.33375858  1702343.29397657\n",
      "  1770436.34210343  1840473.89754552  1912490.83987365  1986522.52703551\n",
      "  2062604.81400844  2140774.07188918  2221067.2074186   2303521.68293951\n",
      "  2388175.53678728  2475067.40411276  2564236.53813853  2655722.83185\n",
      "  2749566.84012348  2845809.80229436  2944493.66516916  3045661.10648574\n",
      "  3149355.55882727  3255621.23399559  3364503.14785069  3476047.14562403\n",
      "  3590299.92771324  3707309.07596762  3827123.08047355  3949791.36685025\n",
      "  4075364.32406658  4203893.33279092  4335430.79428596  4470030.15986172]\n",
      "-------------------------------------------------------------------------------\n"
     ]
    }
   ],
   "source": [
    "dppr_file = \"PureFull_mod_properties.xls\"\n",
    "#print(dppr_file)\n",
    "\n",
    "thermodynamic_correlations = pt.Thermodynamic_correlations(dppr_file)\n",
    "\n",
    "#data = data_base.read_dppr()\n",
    "#data_name = data_base.data_name_cal()\n",
    "\n",
    "component = 'METHANE'\n",
    "#component = \"ETHANE\"\n",
    "#component = \"3-METHYLHEPTANE\"\n",
    "#component = \"n-PENTACOSANE\"\n",
    "#component = \"ISOBUTANE\"\n",
    "#component = \"n-TETRADECANE\"\n",
    "\n",
    "#components = [\"METHANE\", \"n-TETRACOSANE\"]\n",
    "\n",
    "temp = [180.4, 181.4, 185.3, 210, 85]\n",
    "#temp = 180.4\n",
    "\n",
    "#property_thermodynamics = thermodynamic_correlations.property_cal(component, Vapour_Pressure, temp)\n",
    "#property_thermodynamics = property_cal(components, Vapour_Pressure, temp)\n",
    "#property_thermodynamics = property_cal(component, Vapour_Pressure, [180.4, 181.4, 185.3, 210, 85])\n",
    "property_thermodynamics = thermodynamic_correlations.property_cal(component, \"Vapour_Pressure\")\n",
    "print(property_thermodynamics)\n",
    "\n",
    "print('-' * 79)\n"
   ]
  },
  {
   "cell_type": "code",
   "execution_count": null,
   "metadata": {
    "collapsed": true
   },
   "outputs": [],
   "source": []
  }
 ],
 "metadata": {
  "anaconda-cloud": {},
  "kernelspec": {
   "display_name": "Python [conda root]",
   "language": "python",
   "name": "conda-root-py"
  },
  "language_info": {
   "codemirror_mode": {
    "name": "ipython",
    "version": 3
   },
   "file_extension": ".py",
   "mimetype": "text/x-python",
   "name": "python",
   "nbconvert_exporter": "python",
   "pygments_lexer": "ipython3",
   "version": "3.5.2"
  }
 },
 "nbformat": 4,
 "nbformat_minor": 1
}
