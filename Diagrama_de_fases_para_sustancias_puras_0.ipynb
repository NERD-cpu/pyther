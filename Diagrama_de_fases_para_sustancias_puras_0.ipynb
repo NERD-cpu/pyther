{
 "cells": [
  {
   "cell_type": "markdown",
   "metadata": {},
   "source": [
    "# 4 Diagrama de fases para sustancias puras"
   ]
  },
  {
   "cell_type": "markdown",
   "metadata": {},
   "source": [
    "En esta sección se presentan los diagramas de fases comunes para sustancias puras. Como son:\n",
    "\n",
    "\n",
    "1. Envolvente de fases liquido-vapor\n",
    "2. Isoterma\n",
    "3. Isobara\n",
    "4. Sólido-líquido"
   ]
  },
  {
   "cell_type": "code",
   "execution_count": null,
   "metadata": {
    "collapsed": true
   },
   "outputs": [],
   "source": []
  },
  {
   "cell_type": "code",
   "execution_count": null,
   "metadata": {
    "collapsed": true
   },
   "outputs": [],
   "source": []
  },
  {
   "cell_type": "code",
   "execution_count": null,
   "metadata": {
    "collapsed": true
   },
   "outputs": [],
   "source": []
  },
  {
   "cell_type": "markdown",
   "metadata": {
    "collapsed": true
   },
   "source": []
  },
  {
   "cell_type": "code",
   "execution_count": null,
   "metadata": {
    "collapsed": true
   },
   "outputs": [],
   "source": []
  },
  {
   "cell_type": "code",
   "execution_count": null,
   "metadata": {
    "collapsed": true
   },
   "outputs": [],
   "source": []
  },
  {
   "cell_type": "code",
   "execution_count": 4,
   "metadata": {},
   "outputs": [
    {
     "ename": "ImportError",
     "evalue": "No module named 'fortranmagic  # activating magic'",
     "output_type": "error",
     "traceback": [
      "\u001b[0;31m---------------------------------------------------------------------------\u001b[0m",
      "\u001b[0;31mImportError\u001b[0m                               Traceback (most recent call last)",
      "\u001b[0;32m<ipython-input-4-430be5188958>\u001b[0m in \u001b[0;36m<module>\u001b[0;34m()\u001b[0m\n\u001b[0;32m----> 1\u001b[0;31m \u001b[0mget_ipython\u001b[0m\u001b[0;34m(\u001b[0m\u001b[0;34m)\u001b[0m\u001b[0;34m.\u001b[0m\u001b[0mmagic\u001b[0m\u001b[0;34m(\u001b[0m\u001b[0;34m'load_ext fortranmagic  # activating magic'\u001b[0m\u001b[0;34m)\u001b[0m\u001b[0;34m\u001b[0m\u001b[0m\n\u001b[0m",
      "\u001b[0;32m/home/andres-python/anaconda3/lib/python3.5/site-packages/IPython/core/interactiveshell.py\u001b[0m in \u001b[0;36mmagic\u001b[0;34m(self, arg_s)\u001b[0m\n\u001b[1;32m   2156\u001b[0m         \u001b[0mmagic_name\u001b[0m\u001b[0;34m,\u001b[0m \u001b[0m_\u001b[0m\u001b[0;34m,\u001b[0m \u001b[0mmagic_arg_s\u001b[0m \u001b[0;34m=\u001b[0m \u001b[0marg_s\u001b[0m\u001b[0;34m.\u001b[0m\u001b[0mpartition\u001b[0m\u001b[0;34m(\u001b[0m\u001b[0;34m' '\u001b[0m\u001b[0;34m)\u001b[0m\u001b[0;34m\u001b[0m\u001b[0m\n\u001b[1;32m   2157\u001b[0m         \u001b[0mmagic_name\u001b[0m \u001b[0;34m=\u001b[0m \u001b[0mmagic_name\u001b[0m\u001b[0;34m.\u001b[0m\u001b[0mlstrip\u001b[0m\u001b[0;34m(\u001b[0m\u001b[0mprefilter\u001b[0m\u001b[0;34m.\u001b[0m\u001b[0mESC_MAGIC\u001b[0m\u001b[0;34m)\u001b[0m\u001b[0;34m\u001b[0m\u001b[0m\n\u001b[0;32m-> 2158\u001b[0;31m         \u001b[0;32mreturn\u001b[0m \u001b[0mself\u001b[0m\u001b[0;34m.\u001b[0m\u001b[0mrun_line_magic\u001b[0m\u001b[0;34m(\u001b[0m\u001b[0mmagic_name\u001b[0m\u001b[0;34m,\u001b[0m \u001b[0mmagic_arg_s\u001b[0m\u001b[0;34m)\u001b[0m\u001b[0;34m\u001b[0m\u001b[0m\n\u001b[0m\u001b[1;32m   2159\u001b[0m \u001b[0;34m\u001b[0m\u001b[0m\n\u001b[1;32m   2160\u001b[0m     \u001b[0;31m#-------------------------------------------------------------------------\u001b[0m\u001b[0;34m\u001b[0m\u001b[0;34m\u001b[0m\u001b[0m\n",
      "\u001b[0;32m/home/andres-python/anaconda3/lib/python3.5/site-packages/IPython/core/interactiveshell.py\u001b[0m in \u001b[0;36mrun_line_magic\u001b[0;34m(self, magic_name, line)\u001b[0m\n\u001b[1;32m   2077\u001b[0m                 \u001b[0mkwargs\u001b[0m\u001b[0;34m[\u001b[0m\u001b[0;34m'local_ns'\u001b[0m\u001b[0;34m]\u001b[0m \u001b[0;34m=\u001b[0m \u001b[0msys\u001b[0m\u001b[0;34m.\u001b[0m\u001b[0m_getframe\u001b[0m\u001b[0;34m(\u001b[0m\u001b[0mstack_depth\u001b[0m\u001b[0;34m)\u001b[0m\u001b[0;34m.\u001b[0m\u001b[0mf_locals\u001b[0m\u001b[0;34m\u001b[0m\u001b[0m\n\u001b[1;32m   2078\u001b[0m             \u001b[0;32mwith\u001b[0m \u001b[0mself\u001b[0m\u001b[0;34m.\u001b[0m\u001b[0mbuiltin_trap\u001b[0m\u001b[0;34m:\u001b[0m\u001b[0;34m\u001b[0m\u001b[0m\n\u001b[0;32m-> 2079\u001b[0;31m                 \u001b[0mresult\u001b[0m \u001b[0;34m=\u001b[0m \u001b[0mfn\u001b[0m\u001b[0;34m(\u001b[0m\u001b[0;34m*\u001b[0m\u001b[0margs\u001b[0m\u001b[0;34m,\u001b[0m\u001b[0;34m**\u001b[0m\u001b[0mkwargs\u001b[0m\u001b[0;34m)\u001b[0m\u001b[0;34m\u001b[0m\u001b[0m\n\u001b[0m\u001b[1;32m   2080\u001b[0m             \u001b[0;32mreturn\u001b[0m \u001b[0mresult\u001b[0m\u001b[0;34m\u001b[0m\u001b[0m\n\u001b[1;32m   2081\u001b[0m \u001b[0;34m\u001b[0m\u001b[0m\n",
      "\u001b[0;32m<decorator-gen-62>\u001b[0m in \u001b[0;36mload_ext\u001b[0;34m(self, module_str)\u001b[0m\n",
      "\u001b[0;32m/home/andres-python/anaconda3/lib/python3.5/site-packages/IPython/core/magic.py\u001b[0m in \u001b[0;36m<lambda>\u001b[0;34m(f, *a, **k)\u001b[0m\n\u001b[1;32m    186\u001b[0m     \u001b[0;31m# but it's overkill for just that one bit of state.\u001b[0m\u001b[0;34m\u001b[0m\u001b[0;34m\u001b[0m\u001b[0m\n\u001b[1;32m    187\u001b[0m     \u001b[0;32mdef\u001b[0m \u001b[0mmagic_deco\u001b[0m\u001b[0;34m(\u001b[0m\u001b[0marg\u001b[0m\u001b[0;34m)\u001b[0m\u001b[0;34m:\u001b[0m\u001b[0;34m\u001b[0m\u001b[0m\n\u001b[0;32m--> 188\u001b[0;31m         \u001b[0mcall\u001b[0m \u001b[0;34m=\u001b[0m \u001b[0;32mlambda\u001b[0m \u001b[0mf\u001b[0m\u001b[0;34m,\u001b[0m \u001b[0;34m*\u001b[0m\u001b[0ma\u001b[0m\u001b[0;34m,\u001b[0m \u001b[0;34m**\u001b[0m\u001b[0mk\u001b[0m\u001b[0;34m:\u001b[0m \u001b[0mf\u001b[0m\u001b[0;34m(\u001b[0m\u001b[0;34m*\u001b[0m\u001b[0ma\u001b[0m\u001b[0;34m,\u001b[0m \u001b[0;34m**\u001b[0m\u001b[0mk\u001b[0m\u001b[0;34m)\u001b[0m\u001b[0;34m\u001b[0m\u001b[0m\n\u001b[0m\u001b[1;32m    189\u001b[0m \u001b[0;34m\u001b[0m\u001b[0m\n\u001b[1;32m    190\u001b[0m         \u001b[0;32mif\u001b[0m \u001b[0mcallable\u001b[0m\u001b[0;34m(\u001b[0m\u001b[0marg\u001b[0m\u001b[0;34m)\u001b[0m\u001b[0;34m:\u001b[0m\u001b[0;34m\u001b[0m\u001b[0m\n",
      "\u001b[0;32m/home/andres-python/anaconda3/lib/python3.5/site-packages/IPython/core/magics/extension.py\u001b[0m in \u001b[0;36mload_ext\u001b[0;34m(self, module_str)\u001b[0m\n\u001b[1;32m     35\u001b[0m         \u001b[0;32mif\u001b[0m \u001b[0;32mnot\u001b[0m \u001b[0mmodule_str\u001b[0m\u001b[0;34m:\u001b[0m\u001b[0;34m\u001b[0m\u001b[0m\n\u001b[1;32m     36\u001b[0m             \u001b[0;32mraise\u001b[0m \u001b[0mUsageError\u001b[0m\u001b[0;34m(\u001b[0m\u001b[0;34m'Missing module name.'\u001b[0m\u001b[0;34m)\u001b[0m\u001b[0;34m\u001b[0m\u001b[0m\n\u001b[0;32m---> 37\u001b[0;31m         \u001b[0mres\u001b[0m \u001b[0;34m=\u001b[0m \u001b[0mself\u001b[0m\u001b[0;34m.\u001b[0m\u001b[0mshell\u001b[0m\u001b[0;34m.\u001b[0m\u001b[0mextension_manager\u001b[0m\u001b[0;34m.\u001b[0m\u001b[0mload_extension\u001b[0m\u001b[0;34m(\u001b[0m\u001b[0mmodule_str\u001b[0m\u001b[0;34m)\u001b[0m\u001b[0;34m\u001b[0m\u001b[0m\n\u001b[0m\u001b[1;32m     38\u001b[0m \u001b[0;34m\u001b[0m\u001b[0m\n\u001b[1;32m     39\u001b[0m         \u001b[0;32mif\u001b[0m \u001b[0mres\u001b[0m \u001b[0;34m==\u001b[0m \u001b[0;34m'already loaded'\u001b[0m\u001b[0;34m:\u001b[0m\u001b[0;34m\u001b[0m\u001b[0m\n",
      "\u001b[0;32m/home/andres-python/anaconda3/lib/python3.5/site-packages/IPython/core/extensions.py\u001b[0m in \u001b[0;36mload_extension\u001b[0;34m(self, module_str)\u001b[0m\n\u001b[1;32m     81\u001b[0m             \u001b[0;32mif\u001b[0m \u001b[0mmodule_str\u001b[0m \u001b[0;32mnot\u001b[0m \u001b[0;32min\u001b[0m \u001b[0msys\u001b[0m\u001b[0;34m.\u001b[0m\u001b[0mmodules\u001b[0m\u001b[0;34m:\u001b[0m\u001b[0;34m\u001b[0m\u001b[0m\n\u001b[1;32m     82\u001b[0m                 \u001b[0;32mwith\u001b[0m \u001b[0mprepended_to_syspath\u001b[0m\u001b[0;34m(\u001b[0m\u001b[0mself\u001b[0m\u001b[0;34m.\u001b[0m\u001b[0mipython_extension_dir\u001b[0m\u001b[0;34m)\u001b[0m\u001b[0;34m:\u001b[0m\u001b[0;34m\u001b[0m\u001b[0m\n\u001b[0;32m---> 83\u001b[0;31m                     \u001b[0m__import__\u001b[0m\u001b[0;34m(\u001b[0m\u001b[0mmodule_str\u001b[0m\u001b[0;34m)\u001b[0m\u001b[0;34m\u001b[0m\u001b[0m\n\u001b[0m\u001b[1;32m     84\u001b[0m             \u001b[0mmod\u001b[0m \u001b[0;34m=\u001b[0m \u001b[0msys\u001b[0m\u001b[0;34m.\u001b[0m\u001b[0mmodules\u001b[0m\u001b[0;34m[\u001b[0m\u001b[0mmodule_str\u001b[0m\u001b[0;34m]\u001b[0m\u001b[0;34m\u001b[0m\u001b[0m\n\u001b[1;32m     85\u001b[0m             \u001b[0;32mif\u001b[0m \u001b[0mself\u001b[0m\u001b[0;34m.\u001b[0m\u001b[0m_call_load_ipython_extension\u001b[0m\u001b[0;34m(\u001b[0m\u001b[0mmod\u001b[0m\u001b[0;34m)\u001b[0m\u001b[0;34m:\u001b[0m\u001b[0;34m\u001b[0m\u001b[0m\n",
      "\u001b[0;31mImportError\u001b[0m: No module named 'fortranmagic  # activating magic'"
     ]
    }
   ],
   "source": [
    "%load_ext fortranmagic  # activating magic\n"
   ]
  },
  {
   "cell_type": "code",
   "execution_count": null,
   "metadata": {
    "collapsed": true
   },
   "outputs": [],
   "source": []
  },
  {
   "cell_type": "code",
   "execution_count": null,
   "metadata": {
    "collapsed": true
   },
   "outputs": [],
   "source": []
  },
  {
   "cell_type": "markdown",
   "metadata": {
    "collapsed": true
   },
   "source": [
    "# Envolvente de fases para sustancias puras"
   ]
  },
  {
   "cell_type": "markdown",
   "metadata": {
    "collapsed": true
   },
   "source": [
    "En esta sección se presenta el desarrollo y manipulación de las ecuaciones para establecer un algortimo que permita calcular los puntos del diagrama de fases para una sustancia pura utilizando ecuaciones de estado para modelar el comportamiento de fases. "
   ]
  },
  {
   "cell_type": "markdown",
   "metadata": {},
   "source": [
    "$$ P^l(T, V^l) - P^v(T, V^v) = 0$$"
   ]
  },
  {
   "cell_type": "markdown",
   "metadata": {},
   "source": [
    "$$ ln \\phi(T, V^l) - ln \\phi(T, V^v) = 0  $$"
   ]
  },
  {
   "cell_type": "markdown",
   "metadata": {},
   "source": [
    "$$ g(T, V^l, V^v) = X_S - S = 0 $$"
   ]
  },
  {
   "cell_type": "markdown",
   "metadata": {},
   "source": [
    "$$ F = \n",
    "\\begin{bmatrix}\n",
    "P^l(T, V^l) - P^v(T, V^v)\\\\\n",
    "ln \\phi(T, V^l) - ln \\phi(T, V^v)\\\\\n",
    "X_S - S\n",
    "\\end{bmatrix}\n",
    "= 0$$"
   ]
  },
  {
   "cell_type": "markdown",
   "metadata": {},
   "source": [
    "$$ F = \n",
    "\\begin{bmatrix}\n",
    "ln \\left( \\frac{P^l(T, V^l)} {P^v(T, V^v)} \\right)\\\\\n",
    "ln f_l(T, V^l) - ln f_v(T, V^v)\\\\\n",
    "0\n",
    "\\end{bmatrix}\n",
    "$$\n",
    "\n"
   ]
  },
  {
   "cell_type": "markdown",
   "metadata": {},
   "source": [
    "$$ J \n",
    "\\begin{bmatrix}\n",
    "\\Delta ln T\\\\\n",
    "\\Delta ln V^l\\\\\n",
    "\\Delta ln V^v\\\\\n",
    "\\end{bmatrix}\n",
    "+ F = 0$$"
   ]
  },
  {
   "cell_type": "markdown",
   "metadata": {},
   "source": []
  },
  {
   "cell_type": "markdown",
   "metadata": {},
   "source": []
  },
  {
   "cell_type": "markdown",
   "metadata": {},
   "source": []
  },
  {
   "cell_type": "markdown",
   "metadata": {},
   "source": []
  },
  {
   "cell_type": "markdown",
   "metadata": {},
   "source": []
  },
  {
   "cell_type": "markdown",
   "metadata": {},
   "source": [
    "Se inicia con el cálculo de la envolvente de fases de uns sustancia pura.\n",
    "\n",
    "$$ n \\left(\\frac{\\partial ln \\hat\\phi_i}{\\partial n_j}\\right)_{T,P} = n \\left(\\frac{\\partial ln \\hat\\phi_j}{\\partial n_j}\\right)_{T,P} = n \\left(\\frac{\\partial^2 F} {\\partial n_j \\partial n_i}    \\right)_{T,V} + 1 + \\frac{n}{RT} + \\frac{ \\left(\\frac{\\partial P} {\\partial n_j}\\right)_{T,V} \\left(\\frac{\\partial P} {\\partial n_i}\\right)_{T,V} } {\\left(\\frac{\\partial P} {\\partial V}    \\right)_{T,n}}$$\n",
    "\n",
    "\n",
    "Relación entre derivadas de la fugacidad y el coeficiente de fugacidad\n",
    "\n",
    "$$ \\left(\\frac{\\partial ln\\hat f_i }{\\partial n_i}\\right)_{T,P} = \\left(\\frac{\\partial \\hat \\phi_i}{\\partial n_i}\\right)_{T,P} + \\left(\\frac{\\delta_{ij}}{n} - \\frac{1}{n} \\right)$$"
   ]
  },
  {
   "cell_type": "markdown",
   "metadata": {},
   "source": [
    "\n",
    "\n",
    "$$RJAC(1,1)=DPDTx/Pl-DPDTy/Pv$$\n",
    "\n",
    "$$ RJAC(1,1)=T*RJAC(1,1) $$\n",
    "\n",
    "$$ RJAC(1,1) = T \\left( \\frac {\\left(\\frac{\\partial P_{x} }{\\partial T}\\right)} {P_l} - \\frac {\\left(\\frac{\\partial P_{y} }{\\partial T}\\right)} {P_v}  \\right) $$\n",
    "\n",
    "\n",
    "$$RJAC(1,2)=Vl*DPDVx/Pl$$\n",
    "\n",
    "$$ RJAC(1,2) = -V_l \\left( \\frac {\\left(\\frac{\\partial P_{x} }{\\partial V}\\right)} {P_l} \\right) $$\n",
    "\n",
    "$$RJAC(1,3)=-Vv*DPDVy/Pv$$\n",
    "\n",
    "$$ RJAC(1,2) = -V_v \\left( \\frac {\\left(\\frac{\\partial P_{y} }{\\partial V}\\right)} {P_y} \\right) $$\n",
    "\n",
    "\n",
    "\n",
    "$$RJAC(2,1)=FUGTx(icomp)-FUGTy(icomp)$$\n",
    "\n",
    "$$ RJAC(2,1)= \\left(\\frac{\\partial f_{ix} } {\\partial T} \\right) - \\left(\\frac{\\partial f_{iy} } {\\partial T} \\right)$$ \n",
    "\n",
    "$$RJAC(2,1)=T*RJAC(2,1)$$\n",
    "\n",
    "$$RJAC(2,1)=T* \\left(\\left(\\frac{\\partial f_{ix} } {\\partial T} \\right) - \\left(\\frac{\\partial f_{iy} } {\\partial T} \\right) \\right) $$\n",
    "\n",
    "$$RJAC(2,2)=Vl*FUGVx(icomp)$$\n",
    "\n",
    "$$ RJAC(2,1)= V_l \\left(\\frac{\\partial f_{ix} } {\\partial V} \\right) $$\n",
    "\n",
    "\n",
    "\n",
    "$$RJAC(2,3)=-Vv*FUGVy(icomp)$$\n",
    "\n",
    "$$ RJAC(2,3)= V_v \\left(\\frac{\\partial f_{iy} } {\\partial V_{y}} \\right) $$\n",
    "\n",
    "\n",
    "\n",
    "$$DLFUGT(I)=(ArTn(I)-Arn(I)/T)/RT+1.D0/T    ! term DPDT/P is cancelled out $$\n",
    "\n",
    "$$DLFUGT(I)=(ArTn(I)-Arn(I)/T)/RT+1.D0/T  $$\n",
    "\n",
    "$$DLFUGT(I) = \\frac{ ArTn(I) - Arn(I)}  {R_GT^2} + \\frac{1} {T} $$\n",
    "\n",
    "$$DLFUGT(I) = \\frac{ \\frac{\\partial Ar}{\\partial T \\partial n}\n",
    " - \\frac{\\partial Ar}{\\partial n }}  {R_GT^2} + \\frac{1} {T} $$\n",
    "\n",
    "\n",
    "\n",
    "$$ DPDT = -ArTV+TOTN*RGAS/V $$\n",
    "\n",
    "$$ \\frac{\\partial P}{\\partial T} = -\\frac{\\partial Ar}{\\partial T \\partial V} + N_T \\frac{R_{G}} {V} $$"
   ]
  },
  {
   "cell_type": "markdown",
   "metadata": {
    "collapsed": true
   },
   "source": [
    "\n",
    "\n",
    "$$RJAC(1,1)=DPDTx/Pl-DPDTy/Pv$$\n",
    "\n",
    "$$ RJAC(1,1)=T*RJAC(1,1) $$\n",
    "\n",
    "$$ RJAC(1,1) = T \\left( \\frac {\\left(\\frac{\\partial P_{x} }{\\partial T}\\right)} {P_l} - \\frac {\\left(\\frac{\\partial P_{y} }{\\partial T}\\right)} {P_v}  \\right) $$\n",
    "\n",
    "\n",
    "$$RJAC(1,2)=Vl*DPDVx/Pl$$\n",
    "\n",
    "$$ RJAC(1,2) = -V_l \\left( \\frac {\\left(\\frac{\\partial P_{x} }{\\partial V}\\right)} {P_l} \\right) $$\n",
    "\n",
    "$$RJAC(1,3)=-Vv*DPDVy/Pv$$\n",
    "\n",
    "$$ RJAC(1,3) = -V_v \\left( \\frac {\\left(\\frac{\\partial P_{y} }{\\partial V}\\right)} {P_y} \\right) $$\n",
    "\n",
    "\n",
    "\n",
    "$$RJAC(2,1)=FUGTx(icomp)-FUGTy(icomp)$$\n",
    "\n",
    "$$ RJAC(2,1)= \\left(\\frac{\\partial f_{ix} } {\\partial T} \\right) - \\left(\\frac{\\partial f_{iy} } {\\partial T} \\right)$$ \n",
    "\n",
    "$$RJAC(2,1)=T*RJAC(2,1)$$\n",
    "\n",
    "$$RJAC(2,1)=T* \\left(\\left(\\frac{\\partial f_{ix} } {\\partial T} \\right) - \\left(\\frac{\\partial f_{iy} } {\\partial T} \\right) \\right) $$\n",
    "\n",
    "$$RJAC(2,2)=Vl*FUGVx(icomp)$$\n",
    "\n",
    "$$ RJAC(2,1)= V_l \\left(\\frac{\\partial f_{ix} } {\\partial V} \\right) $$\n",
    "\n",
    "\n",
    "\n",
    "$$RJAC(2,3)=-Vv*FUGVy(icomp)$$\n",
    "\n",
    "$$ RJAC(2,3)= V_v \\left(\\frac{\\partial f_{iy} } {\\partial V_{y}} \\right) $$\n",
    "\n",
    "\n",
    "\n",
    "$$DLFUGT(I)=(ArTn(I)-Arn(I)/T)/RT+1.D0/T    ! term DPDT/P is cancelled out $$\n",
    "\n",
    "$$DLFUGT(I)=(ArTn(I)-Arn(I)/T)/RT+1.D0/T  $$\n",
    "\n",
    "$$DLFUGT(I) = \\frac{ \\frac{ArTn(I) - Arn(I)} {T}} {R_GT} + \\frac{1} {T} $$\n",
    "\n",
    "\n",
    "\n",
    "\n",
    "$$ DPDT = -ArTV+TOTN*RGAS/V $$\n",
    "\n",
    "$$ \\frac{\\partial P}{\\partial T} = -\\frac{\\partial Ar}{\\partial T \\partial V} + N_T \\frac{R_{G}} {V} $$"
   ]
  },
  {
   "cell_type": "markdown",
   "metadata": {
    "collapsed": true
   },
   "source": [
    "_Note: \n",
    "\n"
   ]
  },
  {
   "cell_type": "markdown",
   "metadata": {
    "collapsed": true
   },
   "source": [
    "$$\\begin{bmatrix}\n",
    "    T \\left( \\frac {\\left(\\frac{\\partial P_{x} }{\\partial T}\\right)} {P_l} - \\frac {\\left(\\frac{\\partial P_{y} }{\\partial T}\\right)} {P_v}  \\right)       & x_{12} & x_{13} & \\dots & x_{1n} \\\\\n",
    "    x_{21}       & x_{22} & x_{23} & \\dots & x_{2n} \\\\\n",
    "    \\hdotsfor {5} \\\\\n",
    "    x_{d1}       & x_{d2} & x_{d3} & \\dots & x_{dn}\n",
    "\\end{bmatrix}$$"
   ]
  },
  {
   "cell_type": "markdown",
   "metadata": {},
   "source": [
    "$$J_x =  \\begin{bmatrix}\n",
    "T \\left( \\frac {\\left(\\frac{\\partial P_{x} }{\\partial T}\\right)} {P_l} - \\frac {\\left(\\frac{\\partial P_{y} }{\\partial T}\\right)} {P_v}  \\right) & \n",
    "-V_l \\left( \\frac {\\left(\\frac{\\partial P_{x} }{\\partial V}\\right)} {P_l} \\right) & \n",
    "-V_v \\left( \\frac {\\left(\\frac{\\partial P_{y} }{\\partial V}\\right)} {P_y} \\right) \\\\\n",
    "    \\left(\\frac{\\partial f_{ix} } {\\partial T} \\right) - \\left(\\frac{\\partial f_{iy} } {\\partial T} \\right)       & V_l \\left(\\frac{\\partial f_{ix} } {\\partial V} \\right) & V_v \\left(\\frac{\\partial f_{iy} } {\\partial V_{y}} \\right) &   \\\\\n",
    "    0       & 0 & 0 &  \n",
    "\\end{bmatrix}$$"
   ]
  },
  {
   "cell_type": "code",
   "execution_count": 1,
   "metadata": {},
   "outputs": [
    {
     "ename": "SyntaxError",
     "evalue": "unexpected character after line continuation character (<ipython-input-1-72792e2ef634>, line 1)",
     "output_type": "error",
     "traceback": [
      "\u001b[0;36m  File \u001b[0;32m\"<ipython-input-1-72792e2ef634>\"\u001b[0;36m, line \u001b[0;32m1\u001b[0m\n\u001b[0;31m    J_x =  \\begin{bmatrix}\u001b[0m\n\u001b[0m                          ^\u001b[0m\n\u001b[0;31mSyntaxError\u001b[0m\u001b[0;31m:\u001b[0m unexpected character after line continuation character\n"
     ]
    }
   ],
   "source": [
    "J_x =  \\begin{bmatrix}\n",
    "T \\left( \\frac {\\left(\\frac{\\partial P_{x} }{\\partial T}\\right)} {P_l} - \\frac {\\left(\\frac{\\partial P_{y} }{\\partial T}\\right)} {P_v}  \\right) & \n",
    "-V_l \\left( \\frac {\\left(\\frac{\\partial P_{x} }{\\partial V}\\right)} {P_l} \\right) & \n",
    "-V_v \\left( \\frac {\\left(\\frac{\\partial P_{y} }{\\partial V}\\right)} {P_y} \\right) \\\\\n",
    "    \\left(\\frac{\\partial f_{ix} } {\\partial T} \\right) - \\left(\\frac{\\partial f_{iy} } {\\partial T} \\right)       & V_l \\left(\\frac{\\partial f_{ix} } {\\partial V} \\right) & V_v \\left(\\frac{\\partial f_{iy} } {\\partial V_{y}} \\right) &   \\\\\n",
    "    0       & 0 & 0 &  \n",
    "\\end{bmatrix}$$"
   ]
  },
  {
   "cell_type": "code",
   "execution_count": null,
   "metadata": {
    "collapsed": true
   },
   "outputs": [],
   "source": []
  },
  {
   "cell_type": "markdown",
   "metadata": {},
   "source": [
    "# Envolvente para mezclas"
   ]
  },
  {
   "cell_type": "markdown",
   "metadata": {
    "collapsed": true
   },
   "source": [
    "$$ f_i = ln K_i + ln \\hat\\phi_i^v(T,P,y) - ln \\hat\\phi_i^l(T,P,x) = 0 $$\n",
    "\n",
    "$$ i = 1,2,... C $$\n",
    "\n",
    "$$ f_{C+1} = \\sum_{i=1}^C(y_i - x_i) = 0 $$\n",
    "\n",
    "$$ f_{C+2} = X -X_{spec} = 0 $$"
   ]
  },
  {
   "cell_type": "markdown",
   "metadata": {},
   "source": [
    "$$ x_i = \\frac{z_i} {1-\\beta+ \\beta K_i}$$\n",
    "\n",
    "$$ y_i = \\frac{K_iz_i} {1-\\beta+ \\beta K_i}$$"
   ]
  },
  {
   "cell_type": "markdown",
   "metadata": {},
   "source": [
    "$$ J_{ij} = \\frac{\\partial f_i}{\\partial ln K_j} = \\frac{\\partial ln K_i}{\\partial ln K_j} + \\frac{\\partial \\hat \\phi_i^v}{\\partial ln K_j} - \\frac{\\partial \\hat \\phi_i^l}{\\partial ln K_j} $$"
   ]
  },
  {
   "cell_type": "markdown",
   "metadata": {},
   "source": []
  },
  {
   "cell_type": "markdown",
   "metadata": {},
   "source": [
    "$$ \\frac{\\partial ln K_i}{\\partial ln K_j} = \\left\\{ \\begin{array}{lcc}\n",
    "             1 & i = j \\\\\n",
    "             \\\\ 0 &  i \\neq j \\\\\n",
    "             \\end{array}\n",
    "   \\right.$$"
   ]
  },
  {
   "cell_type": "markdown",
   "metadata": {},
   "source": [
    "$$ \\frac{\\partial ln \\hat \\phi_i^v}{\\partial ln K_j} = \\sum_{k=1}^C\\frac{\\partial ln \\hat \\phi_i^v}{\\partial y_k} \\frac{\\partial y_k}{\\partial ln K_j}  $$"
   ]
  },
  {
   "cell_type": "markdown",
   "metadata": {},
   "source": [
    "$$ \\frac{\\partial y_k}{\\partial ln K_j} = 0 $$\n",
    "\n",
    "$$ k \\neq j $$"
   ]
  },
  {
   "cell_type": "markdown",
   "metadata": {},
   "source": [
    "$$ \\frac{\\partial ln \\hat \\phi_i^v}{\\partial ln K_j} = \\frac{\\partial ln \\hat \\phi_i^v}{\\partial y_k} \\frac{\\partial y_k}{\\partial ln K_j}  $$"
   ]
  },
  {
   "cell_type": "markdown",
   "metadata": {},
   "source": [
    "$$ \\frac{\\partial x_i}{\\partial ln K_j} = K_j \\frac{\\partial x_i}{\\partial K_j} = \\frac{ \\beta K_j z_j}{(1 - \\beta + \\beta K_j)^2} = -\\beta \\frac{x_i y_i}{z_i} $$"
   ]
  },
  {
   "cell_type": "markdown",
   "metadata": {},
   "source": [
    "$$ \\frac{\\partial y_i}{\\partial ln K_j} = (1 - \\beta) \\frac{x_i y_i}{z_i} $$"
   ]
  },
  {
   "cell_type": "markdown",
   "metadata": {},
   "source": [
    "Finalmente, el termino $ \\frac{\\partial ln \\hat \\phi_i^v}{\\partial y_k} $"
   ]
  },
  {
   "cell_type": "markdown",
   "metadata": {
    "collapsed": true
   },
   "source": []
  },
  {
   "cell_type": "markdown",
   "metadata": {
    "collapsed": true
   },
   "source": []
  },
  {
   "cell_type": "markdown",
   "metadata": {
    "collapsed": true
   },
   "source": []
  },
  {
   "cell_type": "markdown",
   "metadata": {},
   "source": [
    "4. Descripción del algoritmo\n",
    "----------------------------"
   ]
  },
  {
   "cell_type": "markdown",
   "metadata": {
    "collapsed": true
   },
   "source": [
    "Donde $J_F$ es la matriz jacobiana de la función vectorial $F$, $Λ$ es el vector de variables del sistema $F=0$, $S_{Spec}$ es el valor asignado a una de las variables del vector $Λ$, $\\frac{dΛ}{ dS_{Spec}}$ es la derivada, manteniendo la condición $F=0$, del vector de variables con respecto al parámetro $S_{spec}$. Observe que si $S_{spec}=Λ_i$, entonces $\\frac{dΛi} {dS_{Spec}} =1$. El vector $\\frac{dΛ}{ dS_{Spec}}$ es llamado “vector de sensitividades”.\n",
    "\n",
    "$\\frac{\\partial F} {\\partial S_{Spec}}$ es la derivada parcial del vector de funciones $F$ con respecto la variable $S_{spec}$.\n",
    "\n",
    "En la ecuación A.3-1 la matriz jacobiana $J_F$ debe ser valuada en un punto ya convergido que es solución del sistema de ecuaciones $F=0$. Observe en los distintos sistemas de ecuaciones presentados en el capítulo 3, que sólo una componente del vector $F$ depende explícitamente de $S_{spec}$. Por tanto, las componentes del vector $\\frac{\\partial F} {\\partial S_{Spec}}$ son todas iguales a cero, excepto la que depende de $S_{spec}$, en esta tesis el valor de dicha componente es siempre $“-1”$.\n",
    "\n",
    "Conocidos $J_F$ y $\\frac{\\partial F} {\\partial S_{Spec}}$ es posible calcular todas las componentes del vector $\\frac{dΛ}{ dS_{Spec}}$ ."
   ]
  },
  {
   "cell_type": "markdown",
   "metadata": {
    "collapsed": true
   },
   "source": [
    "Con dΛ dSSpec conocido es posible predecir los valores de todas las variables del vector\n",
    "Λ para el siguiente punto de la “hiper-línea que se está calculando, aplicando la\n",
    "siguiente ecuación:\n",
    "\n",
    "\n",
    "$$ A_{next point}^0  = A _{conve. pont} + \\left(\\frac{dA}{dS_{Spec}}\\right) \\Delta S_{Spec} $$"
   ]
  },
  {
   "cell_type": "markdown",
   "metadata": {
    "collapsed": true
   },
   "source": [
    "Aquí Λ0 next point corresponde al valor inicial del vector Λ para el próximo punto a ser\n",
    "calculado.\n",
    "Λconv. point es el valor del vector Λ en el punto ya convergido.\n"
   ]
  },
  {
   "cell_type": "markdown",
   "metadata": {
    "collapsed": true
   },
   "source": [
    "Por otra parte, el vector de sensitividades dΛ dSSpec provee información sobre la\n",
    "próxima variable que debe ser especificada en el próximo punto a ser calculado. La\n",
    "variable a especificar corresponderá a la componente del vector dΛ dSSpec de mayor\n",
    "valor absoluto. Supongamos que la variable especificada para el punto convergido fue la\n",
    "presión P, es decir en el punto convergido Sspec = P. Luego al calcular el vector de\n",
    "sensitividades para el punto convergido usando A.3-1, supongamos que se determina\n",
    "que la componente de mayor valor absoluto de dicho vector es la correspondiente a\n",
    "dT dP , esto implica que en el próximo punto a ser calculado la variable que se debe\n",
    "especificar ya no es P sino T. Esto es Sspec = T. Cuando existe un cambio de variables\n",
    "especificadas como el caso del ejemplo anterior, el vector de sensitividades se\n",
    "normaliza dividiendo todas las componentes del vector por la de mayor valor absoluto,\n",
    "en el caso anterior se deberían dividir todas las componentes por dT dP . Finalmente se\n",
    "aplica A.3-2 para encontrar los valores de Λ0 next point "
   ]
  },
  {
   "cell_type": "markdown",
   "metadata": {
    "collapsed": true
   },
   "source": [
    "La variable\n",
    "∆SSpec se computa en esta tesis de la siguiente manera:"
   ]
  },
  {
   "cell_type": "code",
   "execution_count": null,
   "metadata": {
    "collapsed": true
   },
   "outputs": [],
   "source": []
  },
  {
   "cell_type": "markdown",
   "metadata": {},
   "source": [
    "Donde ∆SSpec _Old es el paso que se dio en la variable que se especifico para obtener el punto convergido. “N” es una constante impuesta por el usuario, e ITER es el número de iteraciones requeridas para el punto convergido. Note que para calcular ∆SSpec se utiliza la componente de dΛ dSSpec de mayor valor absoluto,\n",
    "\n",
    "\n",
    "max\n",
    "\n",
    "\n",
    "Λ\n",
    "dSSpec\n",
    "d\n",
    ", antes de que\n",
    "el vector\n",
    "dΛ dSSpec haya sido normalizado."
   ]
  },
  {
   "cell_type": "markdown",
   "metadata": {},
   "source": [
    "4. Referencias\n",
    "--------------"
   ]
  },
  {
   "cell_type": "markdown",
   "metadata": {},
   "source": [
    "[1] key"
   ]
  },
  {
   "cell_type": "markdown",
   "metadata": {},
   "source": [
    "[#] E.L. Allgower, K. Georg, Introduction to Numerical Continuation Methods, SIAM. Classics in Applied Mathematics, Philadelphia, 2003.\n",
    "\n",
    "[#] M. Cismondi, M.L. Michelsen, Global phase equilibrium calculations: Critical lines, critical end points and liquid-liquid-vapour equilibrium in binary mixtures, Journal of Supercritical Fluids, 39 (2007) 287-295.\n",
    "\n",
    "[#] M. Cismondi, M.L. Michelsen, M.S. Zabaloy, Automated generation of phase diagrams for binary systems with azeotropic behavior, Industrial and Engineering Chemistry Research, 47 (2008) 9728-9743."
   ]
  }
 ],
 "metadata": {
  "kernelspec": {
   "display_name": "Python [conda root]",
   "language": "python",
   "name": "conda-root-py"
  },
  "language_info": {
   "codemirror_mode": {
    "name": "ipython",
    "version": 3
   },
   "file_extension": ".py",
   "mimetype": "text/x-python",
   "name": "python",
   "nbconvert_exporter": "python",
   "pygments_lexer": "ipython3",
   "version": "3.5.2"
  }
 },
 "nbformat": 4,
 "nbformat_minor": 2
}
