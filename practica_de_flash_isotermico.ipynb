{
 "cells": [
  {
   "cell_type": "markdown",
   "metadata": {
    "collapsed": true
   },
   "source": [
    "# Práctico flash isotermico\n",
    "\n",
    "- Jose Euliser Mosquera\n",
    "- Andrés Salazar"
   ]
  },
  {
   "cell_type": "markdown",
   "metadata": {
    "collapsed": true
   },
   "source": [
    "*************************************\n",
    "## 1. Cálculo del flash Isotermico (T, P)\n",
    "**************************************\n",
    "\n",
    "Se presenta una implementación del calculo del flash isotermico bifasico utilizando la ecuación de estado *Peng-Robinsong (PR)* [2] junto con las reglas de mezclado de *Van Der Waalls* [2].\n",
    "\n",
    "El cálculo del flash isotermico bifasico es un cálculo básico en la introducción de los procesos de separación porque es el esqeuma tecnologíco de separación más simple, en el que ingresa una corriente de fluido a un \"tanque\" calentado por un flujo de calor en el que se obtiene una corriente de salida por cada fase presente en el sistema. En el caso bifasico, una corriente de líquido y otra de vapor, tal como se muestra en la figura 1."
   ]
  },
  {
   "cell_type": "markdown",
   "metadata": {},
   "source": [
    "![pilares_open_science](img/flash_diagrama.jpg)\n",
    "Figura 1. Esquema del cálculo del flash isotermico"
   ]
  },
  {
   "cell_type": "markdown",
   "metadata": {
    "collapsed": true
   },
   "source": [
    "## 1.1 Modelo flash líquido-vapor\n",
    "\n",
    "El modelo del flash isotermico bifasico, corresponde al balance de materia global y por componente en el tanque separador que se muestra en la figura (1), junto con la condición de equilibrio de fases líquido-vapor.\n",
    "\n",
    "Coeficiente de distribución $K_i$\n",
    "\n",
    "$$ Ki = \\frac {yi} {xi} $$\n",
    "\n",
    "Aproximación de wilson para el coeficiente de distribución $K_i$\n",
    "\n",
    "$$ lnK_i = ln \\left(\\frac {Pc_i} {P}\\right ) + 5.373(1 + w_i)(1 - \\frac {Tc_i} {T}) $$\n",
    "\n",
    "*Rachford-Rice* $g(\\beta)$\n",
    "\n",
    "$$ g(\\beta) = \\sum \\limits_{i=1}^{C} (y_i - x_i) $$\n",
    "\n",
    "$$ g(\\beta) = \\sum \\limits_{i=1}^{C} \\frac {K_i - 1} {1 - \\beta + \\beta K_i} $$\n",
    "\n",
    "Derivada de la función *Rachford-Rice* $g(\\beta)$\n",
    "\n",
    "$$ \\frac {dg} {d \\beta} = \\sum \\limits_{i=1}^{C} z_i \\frac {(K_i - 1)^2} {(1 - \\beta + \\beta K_i)^2} < 0 $$\n",
    "\n",
    "Valores límites de la función *Rachford-Rice* $g(\\beta)$\n",
    "\n",
    "$$ g(0) = \\sum \\limits_{i=1}^{C} (z_i K_i - 1) > 0 $$\n",
    "\n",
    "$$ g(1) = \\sum \\limits_{i=1}^{C} (1 - \\frac {z_i} {K_i}) < 0 $$\n",
    "\n",
    "Ecuaciones para calcular las fracciones molares de cada fase\n",
    "\n",
    "$$ y_i \\frac{K_i z_i} {1 - \\beta + \\beta K_i} $$\n",
    "\n",
    "$$ x_i = \\frac{z_i} {1 - \\beta + \\beta K_i} $$\n",
    "\n",
    "Relaciones que determinan los valores mínimos y máximos para $\\beta$\n",
    "\n",
    "$$ 1 - \\beta + \\beta K_i >= K_i z_i $$\n",
    "\n",
    "$$ \\beta \\geq \\frac {K-i z_i - 1} {K_i - 1} $$\n",
    "\n",
    "$$ 1 - \\beta + \\beta K_i >= z_i $$\n",
    "\n",
    "$$ \\beta \\leq \\frac {z_i - 1} {1 - K_i} $$\n",
    "\n",
    "Valores extremos de la fracción de vapor en el sistema $\\beta$\n",
    "\n",
    "$$ \\beta_{min} = 0 $$\n",
    "\n",
    "$$ \\beta_{max} = 1 $$\n"
   ]
  },
  {
   "cell_type": "markdown",
   "metadata": {},
   "source": [
    "## 2. Algoritmo\n",
    "*************\n",
    "\n",
    "- Especificar la Presión $P$, Temperatura $T$ y número de moles $N$ de cada componente del sistema\n",
    "- Calcular el coeficiente de distribución $K_i^{wilson}$ a partir de la relación de Wilson\n",
    "- Calcular el valor de $\\beta_{min}$\n",
    "- Calcular el valor de $\\beta_{max}$\n",
    "- Calcular el promedio de beta, usando Beta minimo y Beta máximo\n",
    "- Resolver la ecuación de *Rachford-Rice* $g(\\beta)$, para calcular $\\beta$ con una tolerancia de $1x10^{-6}$\n",
    "- Calcular las fracciones molares del líquido $x_i$ y del vapor $y_i$\n",
    "- Calcular los coeficientes de fugacidad $\\hat{\\phi_i}$ para las fracciones molares del líquido $x_i$ y del vapor $y_i$\n",
    "- Calcular el coeficiente de distribución $K_i$ a partir de los coeficientes de fugacidad del componente i $\\hat{\\phi_i}$\n",
    "- Volver a resolver la ecuación de *Rachford-Rice* $g(\\beta)$, para calcular $\\beta$ con una tolerancia de $1x10^{-6}$\n",
    "- Verificar la convergencia del sistema con una tolerancia de $1x10^{-6}$ para $\\Delta K_i =  \\left | K_{i}^{j+1} - K_{i}^{j} \\right| $, siendo está situación la convergencia del procedimiento.\n",
    "\n",
    "\n"
   ]
  },
  {
   "cell_type": "markdown",
   "metadata": {},
   "source": [
    "## 2.1 Implementación"
   ]
  },
  {
   "cell_type": "markdown",
   "metadata": {},
   "source": [
    "En la implementación del cálculo del flash isotermico, se tiene 3 partes importantes:\n",
    "\n",
    "- Cálculo de los coeficientes de distribución por medio de la ecuación de Wilson\n",
    "- Cálculo de los valores mínimos y máximos para la fracción $\\beta$\n",
    "- Cálculo del *step* para calcular la fracción $\\beta$"
   ]
  },
  {
   "cell_type": "markdown",
   "metadata": {},
   "source": [
    "### Ecuación de Wilson\n"
   ]
  },
  {
   "cell_type": "code",
   "execution_count": null,
   "metadata": {
    "collapsed": true
   },
   "outputs": [],
   "source": [
    "    def Ki_wilson(self):\n",
    "        \"\"\"Equation of wilson for to calculate the Ki(T,P)\"\"\"\n",
    "        variable_0 = 5.373 * (1 + self.w) * (1 - self.Tc / self.T)\n",
    "        lnKi = np.log(self.Pc / self.P) + variable_0\n",
    "        self.Ki = np.exp(lnKi)\n",
    "        return self.Ki"
   ]
  },
  {
   "cell_type": "markdown",
   "metadata": {},
   "source": [
    "### Cálculo de los valores mínimos y máximos para la fracción $\\beta$\n"
   ]
  },
  {
   "cell_type": "code",
   "execution_count": null,
   "metadata": {},
   "outputs": [],
   "source": [
    "    def beta_initial(self):\n",
    "        self.Ki = self.Ki_wilson()\n",
    "        self.Bmin = (self.Ki * self.zi - 1) / (self.Ki - 1)\n",
    "        self.Bmax = (1 - self.zi) / (1 - self.Ki)\n",
    "        self.Binit = (np.max(self.Bmin) + np.min(self.Bmax)) / 2\n",
    "        return self.Binit"
   ]
  },
  {
   "cell_type": "markdown",
   "metadata": {},
   "source": [
    "### Cálculo del *step* para calcular la fracción $\\beta$"
   ]
  },
  {
   "cell_type": "code",
   "execution_count": null,
   "metadata": {
    "collapsed": true
   },
   "outputs": [],
   "source": [
    "def beta_newton(self):\n",
    "    iteration, step, tolerance = 0, 1, 1e-5\n",
    "    while True:\n",
    "        self.Binit = self.Binit - step * self.rachford_rice()[0] / self.rachford_rice()[1]\n",
    "        iteration += 1\n",
    "        while self.Binit < self.Bmin or self.Binit > self.Bmax:\n",
    "            step = step / 2\n",
    "        if abs(self.rachford_rice()[0]) <= tolerance or (iteration >= 50):\n",
    "            break\n",
    "    return self.Binit"
   ]
  },
  {
   "cell_type": "markdown",
   "metadata": {},
   "source": [
    "## 3. Resultados\n",
    "**************\n",
    "\n",
    "A continuación se muestran los resultados numéricos del calculo del flash isotermico bifasico para una mezcla de los componentes (C3-Ci4-C4), que corresponde al cálculo del flash isotermico propuesto por (Elliott & Lira, 2012) el ejemplo 10.7 de su libro Introductory Chemical engineering thermodynamics. En la tabla 1, se presentan las especificaciones de la presión P, temperatura T y flujo F junto con las fracciones molares del líquido, del vapor y la fracción de fase resultanten usando como modelo termodinámico la ecuación de estado *Peng-robinson (PR)* y las reglas de mezclado de *Van Der Waalls*. \n",
    "\n",
    "En la tabla 1., se presenta el resultado del cálculo del flash isotermico utilizando solo el $K_i^{wilson}$\n",
    "\n",
    "Tabla.1 flash isotermico $K_i(T, P)$ Mezcla ideal\n",
    "\n",
    "\n",
    "|  Presión Bar  |  Temperatura K  |  Flujo F mol/h  |\n",
    "| :---------:| :---------:| :---------:|\n",
    "|     8         |      320        |        1        |   \n",
    "\n",
    "| Componente | $z_i$ | líquido $x_i$ |  Vapor $y_i$  |\n",
    "| :---------:|  ---------- ------------ ------------|\n",
    "|     C3     |    0.23    |0.18357118  |0.37209837  |\n",
    "|     Ci4    |    0.67    |0.70479988  |0.56349276  |\n",
    "|     C4     |    0.10    |0.11162895  |0.06440887  |\n",
    "\n",
    "|  función g  |  derivada función $\\frac{dg}{d \\beta }$ | $\\beta$ |\n",
    "|----------------------|--------------------|-------------------|\n",
    "|6.1017797856749434e-07|-0.20663315922997191|0.24627123315157093|\n",
    "\n",
    "mientras que en la tabla 2, se muestra el resultado del cálculo del flash isotermico utilizando el resultado de $K_i^{wilson}$ como valor inicial para el procedimiento del cálculo del flash isotermico incluyento el cálculo de los coeficientes de fugacidad $\\hat{\\phi_i}$ con la ecuación de estado PR.\n",
    "\n",
    "Tabla.2 Flash isotermico $K_i(T, P, x_i, y_i)$ **(PR)**\n",
    "\n",
    "\n",
    "| Componente | $z_i$ | líquido $x_i$ |  Vapor $y_i$  |\n",
    "| :---------:|  ---------- ------------ ------------|\n",
    "|     C3     |    0.23    |0.20070242  |0.35071046  |\n",
    "|     Ci4    |    0.67    |0.69183981  |0.5800167   |\n",
    "|     C4     |    0.10    |0.10745949  |0.06926579  |\n",
    "\n",
    "|  función g  |  derivada función $\\frac{dg}{d \\beta }$ | $\\beta$ |\n",
    "|----------------------|--------------------|-------------------|\n",
    "|-9.7482523918959729e-06|-0.13108663002971882|0.19530673657|\n",
    "\n",
    "\n",
    "De esta forma, se observa que el algoritmo empleando la ecuación de estado **Peng-Robinson (PR)** converge en a una solución *cercana* de la solución que utiliza la aproximación de wilson para el coeficiente de distribución **Ki**, mostrando ser efieciente para casos simples como el presente en este capítulo.\n",
    "\n",
    "\n",
    "\n",
    "\n",
    "\n",
    "\n"
   ]
  },
  {
   "cell_type": "markdown",
   "metadata": {},
   "source": [
    "## 3.1 Efecto de la temperatura y presión sobre $\\beta$\n",
    "**************\n",
    "Para el mismo sistema que se presentó en las tabla 1 y 2, en la figura 2 se muestra la solución del cálculo del flash isotermico para un rango de presión y temperatura en el cual la fracción vaporizada $\\beta$ varia entre 0 y 1. En este caso, al aumentar la presión $\\beta$ disminuye mientras que el efecto de la temperatura es el contrario.\n",
    "\n",
    "![pilares_open_science](img/index.png)\n",
    "                Figura 2. Efecto de la temperatura y presión sobre $\\beta$"
   ]
  },
  {
   "cell_type": "markdown",
   "metadata": {
    "collapsed": true
   },
   "source": [
    "## 4. Conclusiones\n",
    "****************\n",
    "\n",
    "- Se implemento el cálculo del flash isotermico bifasico utilizando la ecuación de estado *Peng-Robinsong (PR)* tomando las recomendaciones planteadas en el curso de termodinámica de fluidos para mejorar la convergencia del cálculo.\n",
    "\n",
    "- Se encontró que se utilizan en promedio 3 iteraciones para calcular el valor $\\beta$ en cada paso que se mantienen constantes los valores $K_i$.\n"
   ]
  },
  {
   "cell_type": "markdown",
   "metadata": {},
   "source": [
    "## 5. Referencias\n",
    "***************\n",
    "\n",
    "1. Curso de especialización en Termodinámica de fluidos. Ph.D Martín Cismondí. Marzo-Junio (2017)\n",
    "\n",
    "2. Introductory Chemical engineering thermodynamics. J. Richard Elliott , Carl T. Lira. Prentice Hall (2012)  "
   ]
  }
 ],
 "metadata": {
  "kernelspec": {
   "display_name": "Python [conda root]",
   "language": "python",
   "name": "conda-root-py"
  },
  "language_info": {
   "codemirror_mode": {
    "name": "ipython",
    "version": 3
   },
   "file_extension": ".py",
   "mimetype": "text/x-python",
   "name": "python",
   "nbconvert_exporter": "python",
   "pygments_lexer": "ipython3",
   "version": "3.5.2"
  }
 },
 "nbformat": 4,
 "nbformat_minor": 2
}
