{
 "cells": [
  {
   "cell_type": "code",
   "execution_count": 2,
   "metadata": {
    "collapsed": false
   },
   "outputs": [
    {
     "name": "stdout",
     "output_type": "stream",
     "text": [
      "Component = CARBON DIOXIDE\n",
      "Acentric_factor = 0.22360000000000002\n",
      "Critical_Temperature = 304.21 K\n",
      "Critical_Pressure = 72.865 Bar\n",
      "Critical_Volume = 0.094 cm3/mol\n",
      "Compressibility_factor_Z = 0.274\n",
      "\n",
      "\n"
     ]
    }
   ],
   "source": [
    "import pyther as pt\n",
    "\n",
    "properties_data = pt.Data_parse()\n",
    "\n",
    "dppr_file = \"PureFull.xls\"\n",
    "#component = 'METHANE'\n",
    "#component = \"ETHANE\"\n",
    "#component = \"3-METHYLHEPTANE\"\n",
    "#component = \"n-PENTACOSANE\"\n",
    "component = \"ISOBUTANE\"\n",
    "component = \"CARBON DIOXIDE\"\n",
    "\n",
    "NMODEL = \"RKPR\"\n",
    "NMODEL = \"PR\"\n",
    "ICALC = \"constants_eps\"\n",
    "ICALC = \"density\"\n",
    "\n",
    "properties_component = properties_data.selec_component(dppr_file, component)\n",
    "pt.print_properties_component(component, properties_component)\n",
    "#dinputs = np.array([properties_component[1]['Tc'], properties_component[1]['Pc'],\n",
    "#                    properties_component[1]['Omega'], properties_component[1]['Vc']])\n"
   ]
  }
 ],
 "metadata": {
  "kernelspec": {
   "display_name": "Python [conda root]",
   "language": "python",
   "name": "conda-root-py"
  },
  "language_info": {
   "codemirror_mode": {
    "name": "ipython",
    "version": 3
   },
   "file_extension": ".py",
   "mimetype": "text/x-python",
   "name": "python",
   "nbconvert_exporter": "python",
   "pygments_lexer": "ipython3",
   "version": "3.5.2"
  }
 },
 "nbformat": 4,
 "nbformat_minor": 1
}
