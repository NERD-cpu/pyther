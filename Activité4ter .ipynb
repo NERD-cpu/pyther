{
 "cells": [
  {
   "cell_type": "code",
   "execution_count": 61,
   "metadata": {},
   "outputs": [],
   "source": [
    "import numpy as np\n",
    "import pandas as pd\n",
    "import math\n",
    "import cmath\n",
    "import pickle\n",
    "from scipy.optimize import root\n",
    "import matplotlib.pyplot as plt\n",
    "%matplotlib inline"
   ]
  },
  {
   "cell_type": "code",
   "execution_count": 62,
   "metadata": {},
   "outputs": [
    {
     "data": {
      "text/plain": [
       "'Table1.txt'"
      ]
     },
     "execution_count": 62,
     "metadata": {},
     "output_type": "execute_result"
    }
   ],
   "source": [
    "a = (\"Table1.txt\")\n",
    "a "
   ]
  },
  {
   "cell_type": "code",
   "execution_count": 381,
   "metadata": {},
   "outputs": [],
   "source": [
    "class InterfazPolimero:\n",
    "    def __init__ (self,a):\n",
    "        self.a=a\n",
    "\n",
    "    def Lire(self):\n",
    "        tab = pd.read_csv(self.a,sep=\" \")\n",
    "        coef =tab.values\n",
    "        self.Experiment = coef[:,0]\n",
    "        self.Thickness = coef[:,1]\n",
    "        self.FoodSimulant = coef[:,2]\n",
    "        self.Cpo = coef[:,3]\n",
    "        self.K = coef [:,4]\n",
    "        self.Dp = coef[:,5]\n",
    "        self.RMSE = coef[:,6]\n",
    "        self.k = coef[:,7]\n",
    "        self.c4 = coef[:,8]\n",
    "#         self.c1 =coef[:,9]\n",
    "        self.c2 = np.zeros(10)\n",
    "        \n",
    "        return tab\n",
    "    \n",
    "    def inicializarC2(self):\n",
    "        self.c2 = np.zeros(10)\n",
    "        self.dimension = np.shape(self.c2)\n",
    "        print(self.dimension)\n",
    "        return self.c2\n",
    "    \n",
    "    \n",
    "    def calcul(self):\n",
    "        self.j1 = (self.Dp / (self.Thickness / 2)) * (self.Cpo - self.c2)\n",
    "        print(self.j1)\n",
    "        self.c3 = self.c2 / self.K\n",
    "        self.j2 = self.k * (self.c3 - self.c4)\n",
    "        return (self.j1 - self.j2) / self.j1\n",
    "            \n",
    "    def calcul2(self): \n",
    "        i = 0\n",
    "        for self.Thickness, self.Dp, self.K, self.k, self.c in enumerate(tab):\n",
    "            self.sol = root(calcul,15,args=(float(self.Dp),float(self.k),float(self.K),float(self.c4),float(self.Cpo),float(self.Thickness)))\n",
    "            c2[i]= self.sol.x\n",
    "            i = i + 1\n",
    "        print(self.c2)\n",
    "        return self.c2\n",
    "    \n",
    "    def Garder(self):\n",
    "        raw_data ={\"résultat\" : [1.115510936772821, 1.0542169426645587, 1.041340418781726, 1.0219,1.4353658536585368, 1.0542169426645587, 1.058921125781793,1.0217682926829268, 1.05340368852459, 1.058921125781793]}\n",
    "        df = pd.DataFrame(raw_data,index=[\"1\",\"2\",\"3\",\"4\",\"5\",\"6\",\"7\",\"8\",\"9\",\"10\"])\n",
    "        df.to_csv(\"c2rep\")\n",
    "        return df\n",
    "\n",
    "    \n",
    "    def Graphique(self):\n",
    "        plt.plot(self.Dp,self.Cpo,\"^\")\n",
    "        plt.title(\"Cpo=f(Dp)\")\n",
    "        \n",
    "    def Graphique2(self):\n",
    "        plt.plot(self.Dp,[1.115510936772821, 1.0542169426645587, 1.041340418781726, 1.0219,1.4353658536585368, 1.0542169426645587, 1.058921125781793,1.0217682926829268, 1.05340368852459, 1.058921125781793],\"^\")\n",
    "        \n",
    "    def Graphique3(self):\n",
    "        plt.plot(self.Cpo,[1.115510936772821, 1.0542169426645587, 1.041340418781726, 1.0219,1.4353658536585368, 1.0542169426645587, 1.058921125781793,1.0217682926829268, 1.05340368852459, 1.058921125781793],\"^\")"
   ]
  },
  {
   "cell_type": "code",
   "execution_count": 382,
   "metadata": {},
   "outputs": [
    {
     "data": {
      "text/plain": [
       "<__main__.InterfazPolimero at 0x1e944c70a58>"
      ]
     },
     "execution_count": 382,
     "metadata": {},
     "output_type": "execute_result"
    }
   ],
   "source": [
    "p = InterfazPolimero(\"Table1.txt\")\n",
    "p"
   ]
  },
  {
   "cell_type": "code",
   "execution_count": 383,
   "metadata": {
    "scrolled": false
   },
   "outputs": [
    {
     "data": {
      "text/html": [
       "<div>\n",
       "<style scoped>\n",
       "    .dataframe tbody tr th:only-of-type {\n",
       "        vertical-align: middle;\n",
       "    }\n",
       "\n",
       "    .dataframe tbody tr th {\n",
       "        vertical-align: top;\n",
       "    }\n",
       "\n",
       "    .dataframe thead th {\n",
       "        text-align: right;\n",
       "    }\n",
       "</style>\n",
       "<table border=\"1\" class=\"dataframe\">\n",
       "  <thead>\n",
       "    <tr style=\"text-align: right;\">\n",
       "      <th></th>\n",
       "      <th>Experiment</th>\n",
       "      <th>Thickness</th>\n",
       "      <th>FoodSimulant</th>\n",
       "      <th>Cpo</th>\n",
       "      <th>K</th>\n",
       "      <th>Dp</th>\n",
       "      <th>RMSE</th>\n",
       "      <th>k</th>\n",
       "      <th>c4</th>\n",
       "      <th>c1</th>\n",
       "    </tr>\n",
       "  </thead>\n",
       "  <tbody>\n",
       "    <tr>\n",
       "      <th>0</th>\n",
       "      <td>1</td>\n",
       "      <td>0.000146</td>\n",
       "      <td>EtOH95%</td>\n",
       "      <td>1157</td>\n",
       "      <td>52.0</td>\n",
       "      <td>1.950000e-13</td>\n",
       "      <td>1.5</td>\n",
       "      <td>0.000007</td>\n",
       "      <td>0.05</td>\n",
       "      <td>1045</td>\n",
       "    </tr>\n",
       "    <tr>\n",
       "      <th>1</th>\n",
       "      <td>2</td>\n",
       "      <td>0.000146</td>\n",
       "      <td>NaN</td>\n",
       "      <td>2440</td>\n",
       "      <td>35.0</td>\n",
       "      <td>1.970000e-13</td>\n",
       "      <td>3.0</td>\n",
       "      <td>0.000007</td>\n",
       "      <td>0.05</td>\n",
       "      <td>1069</td>\n",
       "    </tr>\n",
       "    <tr>\n",
       "      <th>2</th>\n",
       "      <td>3</td>\n",
       "      <td>0.000146</td>\n",
       "      <td>NaN</td>\n",
       "      <td>3152</td>\n",
       "      <td>24.0</td>\n",
       "      <td>2.000000e-13</td>\n",
       "      <td>2.6</td>\n",
       "      <td>0.000007</td>\n",
       "      <td>0.05</td>\n",
       "      <td>1094</td>\n",
       "    </tr>\n",
       "    <tr>\n",
       "      <th>3</th>\n",
       "      <td>4</td>\n",
       "      <td>0.000146</td>\n",
       "      <td>NaN</td>\n",
       "      <td>5950</td>\n",
       "      <td>0.5</td>\n",
       "      <td>2.000000e-13</td>\n",
       "      <td>2.3</td>\n",
       "      <td>0.000007</td>\n",
       "      <td>0.05</td>\n",
       "      <td>1119</td>\n",
       "    </tr>\n",
       "    <tr>\n",
       "      <th>4</th>\n",
       "      <td>5</td>\n",
       "      <td>0.000050</td>\n",
       "      <td>EtOH95%</td>\n",
       "      <td>2050</td>\n",
       "      <td>334.0</td>\n",
       "      <td>1.000000e-14</td>\n",
       "      <td>3.1</td>\n",
       "      <td>0.000007</td>\n",
       "      <td>0.05</td>\n",
       "      <td>1144</td>\n",
       "    </tr>\n",
       "    <tr>\n",
       "      <th>5</th>\n",
       "      <td>6</td>\n",
       "      <td>0.000146</td>\n",
       "      <td>NaN</td>\n",
       "      <td>2440</td>\n",
       "      <td>35.0</td>\n",
       "      <td>1.970000e-13</td>\n",
       "      <td>3.0</td>\n",
       "      <td>0.000007</td>\n",
       "      <td>0.05</td>\n",
       "      <td>1169</td>\n",
       "    </tr>\n",
       "    <tr>\n",
       "      <th>6</th>\n",
       "      <td>7</td>\n",
       "      <td>0.000190</td>\n",
       "      <td>NaN</td>\n",
       "      <td>2878</td>\n",
       "      <td>34.0</td>\n",
       "      <td>2.000000e-13</td>\n",
       "      <td>4.6</td>\n",
       "      <td>0.000007</td>\n",
       "      <td>0.05</td>\n",
       "      <td>1194</td>\n",
       "    </tr>\n",
       "    <tr>\n",
       "      <th>7</th>\n",
       "      <td>8</td>\n",
       "      <td>0.000050</td>\n",
       "      <td>EtOH10%</td>\n",
       "      <td>2050</td>\n",
       "      <td>1.0</td>\n",
       "      <td>2.000000e-13</td>\n",
       "      <td>1.0</td>\n",
       "      <td>0.000007</td>\n",
       "      <td>0.05</td>\n",
       "      <td>1219</td>\n",
       "    </tr>\n",
       "    <tr>\n",
       "      <th>8</th>\n",
       "      <td>9</td>\n",
       "      <td>0.000146</td>\n",
       "      <td>NaN</td>\n",
       "      <td>2440</td>\n",
       "      <td>1.0</td>\n",
       "      <td>2.000000e-13</td>\n",
       "      <td>1.0</td>\n",
       "      <td>0.000007</td>\n",
       "      <td>0.05</td>\n",
       "      <td>1244</td>\n",
       "    </tr>\n",
       "    <tr>\n",
       "      <th>9</th>\n",
       "      <td>10</td>\n",
       "      <td>0.000190</td>\n",
       "      <td>NaN</td>\n",
       "      <td>2878</td>\n",
       "      <td>1.0</td>\n",
       "      <td>2.000000e-13</td>\n",
       "      <td>1.0</td>\n",
       "      <td>0.000007</td>\n",
       "      <td>0.05</td>\n",
       "      <td>1269</td>\n",
       "    </tr>\n",
       "  </tbody>\n",
       "</table>\n",
       "</div>"
      ],
      "text/plain": [
       "   Experiment  Thickness FoodSimulant   Cpo      K            Dp  RMSE  \\\n",
       "0           1   0.000146      EtOH95%  1157   52.0  1.950000e-13   1.5   \n",
       "1           2   0.000146          NaN  2440   35.0  1.970000e-13   3.0   \n",
       "2           3   0.000146          NaN  3152   24.0  2.000000e-13   2.6   \n",
       "3           4   0.000146          NaN  5950    0.5  2.000000e-13   2.3   \n",
       "4           5   0.000050      EtOH95%  2050  334.0  1.000000e-14   3.1   \n",
       "5           6   0.000146          NaN  2440   35.0  1.970000e-13   3.0   \n",
       "6           7   0.000190          NaN  2878   34.0  2.000000e-13   4.6   \n",
       "7           8   0.000050      EtOH10%  2050    1.0  2.000000e-13   1.0   \n",
       "8           9   0.000146          NaN  2440    1.0  2.000000e-13   1.0   \n",
       "9          10   0.000190          NaN  2878    1.0  2.000000e-13   1.0   \n",
       "\n",
       "          k    c4    c1  \n",
       "0  0.000007  0.05  1045  \n",
       "1  0.000007  0.05  1069  \n",
       "2  0.000007  0.05  1094  \n",
       "3  0.000007  0.05  1119  \n",
       "4  0.000007  0.05  1144  \n",
       "5  0.000007  0.05  1169  \n",
       "6  0.000007  0.05  1194  \n",
       "7  0.000007  0.05  1219  \n",
       "8  0.000007  0.05  1244  \n",
       "9  0.000007  0.05  1269  "
      ]
     },
     "execution_count": 383,
     "metadata": {},
     "output_type": "execute_result"
    }
   ],
   "source": [
    "p.Lire()"
   ]
  },
  {
   "cell_type": "code",
   "execution_count": 384,
   "metadata": {},
   "outputs": [
    {
     "name": "stdout",
     "output_type": "stream",
     "text": [
      "[3.0906164383561645e-06 6.584657534246575e-06 8.635616438356165e-06\n",
      " 1.63013698630137e-05 8.199999999999999e-07 6.584657534246575e-06\n",
      " 6.058947368421054e-06 1.6400000000000002e-05 6.684931506849316e-06\n",
      " 6.058947368421054e-06]\n"
     ]
    },
    {
     "data": {
      "text/plain": [
       "array([1.115510936772821, 1.0542169426645587, 1.041340418781726, 1.0219,\n",
       "       1.4353658536585368, 1.0542169426645587, 1.058921125781793,\n",
       "       1.0217682926829268, 1.05340368852459, 1.058921125781793],\n",
       "      dtype=object)"
      ]
     },
     "execution_count": 384,
     "metadata": {},
     "output_type": "execute_result"
    }
   ],
   "source": [
    "p.calcul()"
   ]
  },
  {
   "cell_type": "code",
   "execution_count": 385,
   "metadata": {},
   "outputs": [
    {
     "data": {
      "image/png": "[encoded data removed]",
      "text/plain": [
       "<matplotlib.figure.Figure at 0x1e9436ad080>"
      ]
     },
     "metadata": {},
     "output_type": "display_data"
    }
   ],
   "source": [
    "p.Graphique()"
   ]
  },
  {
   "cell_type": "code",
   "execution_count": 386,
   "metadata": {},
   "outputs": [
    {
     "data": {
      "text/html": [
       "<div>\n",
       "<style scoped>\n",
       "    .dataframe tbody tr th:only-of-type {\n",
       "        vertical-align: middle;\n",
       "    }\n",
       "\n",
       "    .dataframe tbody tr th {\n",
       "        vertical-align: top;\n",
       "    }\n",
       "\n",
       "    .dataframe thead th {\n",
       "        text-align: right;\n",
       "    }\n",
       "</style>\n",
       "<table border=\"1\" class=\"dataframe\">\n",
       "  <thead>\n",
       "    <tr style=\"text-align: right;\">\n",
       "      <th></th>\n",
       "      <th>résultat</th>\n",
       "    </tr>\n",
       "  </thead>\n",
       "  <tbody>\n",
       "    <tr>\n",
       "      <th>1</th>\n",
       "      <td>1.115511</td>\n",
       "    </tr>\n",
       "    <tr>\n",
       "      <th>2</th>\n",
       "      <td>1.054217</td>\n",
       "    </tr>\n",
       "    <tr>\n",
       "      <th>3</th>\n",
       "      <td>1.041340</td>\n",
       "    </tr>\n",
       "    <tr>\n",
       "      <th>4</th>\n",
       "      <td>1.021900</td>\n",
       "    </tr>\n",
       "    <tr>\n",
       "      <th>5</th>\n",
       "      <td>1.435366</td>\n",
       "    </tr>\n",
       "    <tr>\n",
       "      <th>6</th>\n",
       "      <td>1.054217</td>\n",
       "    </tr>\n",
       "    <tr>\n",
       "      <th>7</th>\n",
       "      <td>1.058921</td>\n",
       "    </tr>\n",
       "    <tr>\n",
       "      <th>8</th>\n",
       "      <td>1.021768</td>\n",
       "    </tr>\n",
       "    <tr>\n",
       "      <th>9</th>\n",
       "      <td>1.053404</td>\n",
       "    </tr>\n",
       "    <tr>\n",
       "      <th>10</th>\n",
       "      <td>1.058921</td>\n",
       "    </tr>\n",
       "  </tbody>\n",
       "</table>\n",
       "</div>"
      ],
      "text/plain": [
       "    résultat\n",
       "1   1.115511\n",
       "2   1.054217\n",
       "3   1.041340\n",
       "4   1.021900\n",
       "5   1.435366\n",
       "6   1.054217\n",
       "7   1.058921\n",
       "8   1.021768\n",
       "9   1.053404\n",
       "10  1.058921"
      ]
     },
     "execution_count": 386,
     "metadata": {},
     "output_type": "execute_result"
    }
   ],
   "source": [
    "table = p.Garder()\n",
    "table"
   ]
  },
  {
   "cell_type": "code",
   "execution_count": 387,
   "metadata": {},
   "outputs": [
    {
     "data": {
      "image/png": "[encoded data removed]",
      "text/plain": [
       "<matplotlib.figure.Figure at 0x1e944c9ac88>"
      ]
     },
     "metadata": {},
     "output_type": "display_data"
    }
   ],
   "source": [
    "p.Graphique2()"
   ]
  },
  {
   "cell_type": "code",
   "execution_count": 388,
   "metadata": {},
   "outputs": [
    {
     "data": {
      "image/png": "[encoded data removed]",
      "text/plain": [
       "<matplotlib.figure.Figure at 0x1e944e4b7b8>"
      ]
     },
     "metadata": {},
     "output_type": "display_data"
    }
   ],
   "source": [
    "p.Graphique3()"
   ]
  },
  {
   "cell_type": "code",
   "execution_count": null,
   "metadata": {},
   "outputs": [],
   "source": []
  },
  {
   "cell_type": "code",
   "execution_count": null,
   "metadata": {},
   "outputs": [],
   "source": []
  }
 ],
 "metadata": {
  "kernelspec": {
   "display_name": "Python 3",
   "language": "python",
   "name": "python3"
  },
  "language_info": {
   "codemirror_mode": {
    "name": "ipython",
    "version": 3
   },
   "file_extension": ".py",
   "mimetype": "text/x-python",
   "name": "python",
   "nbconvert_exporter": "python",
   "pygments_lexer": "ipython3",
   "version": "3.6.4"
  }
 },
 "nbformat": 4,
 "nbformat_minor": 2
}
