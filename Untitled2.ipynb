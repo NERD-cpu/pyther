{
 "cells": [
  {
   "cell_type": "markdown",
   "metadata": {},
   "source": [
    "$$e^x=\\sum_{i=0}^\\infty \\frac{1}{i!}x^i$$"
   ]
  },
  {
   "cell_type": "code",
   "execution_count": 7,
   "metadata": {
    "collapsed": false
   },
   "outputs": [
    {
     "data": {
      "text/latex": [
       "\n",
       "\\begin{align}\n",
       "\n",
       "a = \\frac{1}{x}\n",
       "\n",
       "\\begin{equation*}\n",
       "\\mathbf{X} = \\left(\n",
       "\\begin{array}{ccc}\n",
       "x_1 & x_2 & \\ldots \\\\\n",
       "x_3 & x_4 & \\ldots \\\\\n",
       "\\vdots & \\vdots & \\ddots\n",
       "\\end{array} \\right)\n",
       "\\end{equation*}\n",
       "\n",
       "\\end{align}\n"
      ],
      "text/plain": [
       "<IPython.core.display.Latex object>"
      ]
     },
     "metadata": {},
     "output_type": "display_data"
    }
   ],
   "source": [
    "%%latex\n",
    "\n",
    "\\begin{align}\n",
    "\n",
    "a = \\frac{1}{x}\n",
    "\n",
    "\\begin{equation*}\n",
    "\\mathbf{X} = \\left(\n",
    "\\begin{array}{ccc}\n",
    "x_1 & x_2 & \\ldots \\\\\n",
    "x_3 & x_4 & \\ldots \\\\\n",
    "\\vdots & \\vdots & \\ddots\n",
    "\\end{array} \\right)\n",
    "\\end{equation*}\n",
    "\n",
    "\\end{align}\n",
    "\n"
   ]
  },
  {
   "cell_type": "code",
   "execution_count": 8,
   "metadata": {
    "collapsed": false
   },
   "outputs": [
    {
     "data": {
      "text/latex": [
       "\n",
       "\\begin{equation*}\n",
       "\\mathbf{X} = \\left(\n",
       "\\begin{array}{ccc}\n",
       "x_1 & x_2 & \\ldots \\\\\n",
       "x_3 & x_4 & \\ldots \\\\\n",
       "\\vdots & \\vdots & \\ddots\n",
       "\\end{array} \\right)\n",
       "\\end{equation*}"
      ],
      "text/plain": [
       "<IPython.core.display.Latex object>"
      ]
     },
     "metadata": {},
     "output_type": "display_data"
    }
   ],
   "source": [
    "%%latex\n",
    "\n",
    "\\begin{equation*}\n",
    "\\mathbf{X} = \\left(\n",
    "\\begin{array}{ccc}\n",
    "x_1 & x_2 & \\ldots \\\\\n",
    "x_3 & x_4 & \\ldots \\\\\n",
    "\\vdots & \\vdots & \\ddots\n",
    "\\end{array} \\right)\n",
    "\\end{equation*}"
   ]
  }
 ],
 "metadata": {
  "anaconda-cloud": {},
  "kernelspec": {
   "display_name": "Python [conda root]",
   "language": "python",
   "name": "conda-root-py"
  },
  "language_info": {
   "codemirror_mode": {
    "name": "ipython",
    "version": 3
   },
   "file_extension": ".py",
   "mimetype": "text/x-python",
   "name": "python",
   "nbconvert_exporter": "python",
   "pygments_lexer": "ipython3",
   "version": "3.5.2"
  }
 },
 "nbformat": 4,
 "nbformat_minor": 1
}
