{
 "cells": [
  {
   "cell_type": "markdown",
   "metadata": {},
   "source": [
    "Variables del sistema: Presión, Temperatura, n composiciones, m fases"
   ]
  },
  {
   "cell_type": "markdown",
   "metadata": {},
   "source": [
    "Se define Presión, n composiciones y m fases, dejando como unica incognita la temperatura T\n",
    "\n",
    "ecuaciones:\n",
    "\n",
    "2 componentes: C1 y C24, compoisición conocida\n",
    "Presión especificada, P = 800 bar\n",
    "equilibrio sólido-fluido: sólido-líquido\n",
    "\n",
    "se escribe una ecuación de equilibrio de fases por cada componente que se encuentra distrbuido en m fases, en este caso el C24\n",
    "\n",
    "la fugacidad del C24 en el sólido puro es igual  la fugacidad del C24 \n",
    "fug(T,P,nC24) = fug(T, P) \n",
    "\n",
    "\n"
   ]
  },
  {
   "cell_type": "code",
   "execution_count": null,
   "metadata": {
    "collapsed": true
   },
   "outputs": [],
   "source": []
  }
 ],
 "metadata": {
  "kernelspec": {
   "display_name": "Python 3",
   "language": "python",
   "name": "python3"
  },
  "language_info": {
   "codemirror_mode": {
    "name": "ipython",
    "version": 3
   },
   "file_extension": ".py",
   "mimetype": "text/x-python",
   "name": "python",
   "nbconvert_exporter": "python",
   "pygments_lexer": "ipython3",
   "version": "3.4.3"
  }
 },
 "nbformat": 4,
 "nbformat_minor": 0
}
