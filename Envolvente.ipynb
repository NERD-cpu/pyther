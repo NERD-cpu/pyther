{
 "cells": [
  {
   "cell_type": "markdown",
   "metadata": {},
   "source": [
    "# Diagrama de fases de sustancias puras"
   ]
  },
  {
   "cell_type": "markdown",
   "metadata": {},
   "source": [
    "En esta sección se presenta una forma de obtener las ecuaciones necesarias para realizar el cálculo del diagrama de fases de usa sustancia pura utilizando un algoritmo de continuación (Allgower & Georg, 2003, Cismondi & Michelsen, 2007, Cismondi et. al, 2008).\n",
    "\n",
    "La implementación de este algoritmo de solución de las ecuaciones resultantes del equilibrio de fases son implementadas como un método de la librería pyther."
   ]
  },
  {
   "cell_type": "markdown",
   "metadata": {},
   "source": [
    "9.1 Sistema de Ecuaciones\n",
    "----------------------------"
   ]
  },
  {
   "cell_type": "markdown",
   "metadata": {},
   "source": [
    "Se parte de las ecuaciones que surgen de la condición de equilibrio de fases para una sustancia pura, sin embargo, el enfoque que se utiliza corresponde a tener como variables del sistema de ecuaciones al logaritmo natural de la temperatura $T$ y los volumenes de líquido $V_l$ y vapor $V_v$. Adicionalmente, se tiene una ecuación correspondiente a la especificación de un valor de alguna de las variables del sistema de ecuaciones danto lugar a un sistema de 3 ecuaciones con la forma que se muestra a continuación:\n",
    "\n",
    "$$ F = \n",
    "\\begin{bmatrix}\n",
    "ln \\left( \\frac{P^l(T, V^l)} {P^v(T, V^v)} \\right)\\\\\n",
    "ln f_l(T, V^l) - ln f_v(T, V^v)\\\\\n",
    "X_S - S\n",
    "\\end{bmatrix}\n",
    "$$\n",
    "\n",
    "Por tanto la solución del sistema de ecuaciones se puede obtener como:\n",
    "\n",
    "$$ Jx \n",
    "\\begin{bmatrix}\n",
    "\\Delta ln T\\\\\n",
    "\\Delta ln V^l\\\\\n",
    "\\Delta ln V^v\\\\\n",
    "\\end{bmatrix}\n",
    "+ F = 0$$\n",
    "\n",
    "siendo \n",
    "$$ \\Lambda = \n",
    "\\begin{bmatrix}\n",
    "\\Delta ln T\\\\\n",
    "\\Delta ln V^l\\\\\n",
    "\\Delta ln V^v\\\\\n",
    "\\end{bmatrix}\n",
    "$$\n",
    "\n",
    "en donde cada elemento de la matriz $Jx$, salvo la última fila que son cero, tienen la siguiente forma:\n",
    "\n",
    "$$ Jx_{1,1} = T \\left( \\frac {\\left(\\frac{\\partial P_{x} }{\\partial T}\\right)} {P_l} - \\frac {\\left(\\frac{\\partial P_{y} }{\\partial T}\\right)} {P_v}  \\right) $$\n",
    "\n",
    "$$ Jx_{1,2} = -V_l \\left( \\frac {\\left(\\frac{\\partial P }{\\partial V_{x}}\\right)} {P_l} \\right) $$\n",
    "\n",
    "$$ Jx_{1,3} = -V_v \\left( \\frac {\\left(\\frac{\\partial P }{\\partial V_{y}}\\right)} {P_v} \\right) $$\n",
    "\n",
    "$$ Jx_{2,1} = T \\left(\\left(\\frac{\\partial f^l } {\\partial T} \\right) - \\left(\\frac{\\partial f^v } {\\partial T} \\right) \\right) $$\n",
    "\n",
    "$$ Jx_{2,2} = V_l \\left(\\frac{\\partial f^l } {\\partial V_{l}} \\right) $$\n",
    "\n",
    "$$ Jx_{2,3} = - V_v \\left(\\frac{\\partial f^y } {\\partial V_{v}} \\right) $$\n",
    "\n",
    "Matriz de primeras derivadas parciales\n",
    "\n",
    "$$J_x =  \\begin{bmatrix}\n",
    "T \\left( \\frac {\\left(\\frac{\\partial P_{x} }{\\partial T}\\right)} {P_l} - \\frac {\\left(\\frac{\\partial P_{y} }{\\partial T}\\right)} {P_v}  \\right) & \n",
    "-V_l \\left( \\frac {\\left(\\frac{\\partial P_{x} }{\\partial V}\\right)} {P_l} \\right) & \n",
    "-V_v \\left( \\frac {\\left(\\frac{\\partial P_{y} }{\\partial V}\\right)} {P_y} \\right) \\\\\n",
    "    T \\left(\\left(\\frac{\\partial f^l } {\\partial T} \\right) - \\left(\\frac{\\partial f^v } {\\partial T} \\right) \\right) & V_l \\left(\\frac{\\partial f^l } {\\partial V_{l}} \\right) & - V_v \\left(\\frac{\\partial f^y } {\\partial V_{v}} \\right) &   \\\\\n",
    "    0       & 0 & 0 &  \n",
    "\\end{bmatrix}$$\n",
    "\n",
    "una vez que se obtiene la solución del sistema de ecuaciones planteado, se procede con un método de continuación para obtener un valor inicial de un siguiente punto partiendo de la solución previamente encontrada y de esta forma repetir el procedimiento, siguiendo la descripción que se muestra más adelante."
   ]
  },
  {
   "cell_type": "markdown",
   "metadata": {},
   "source": [
    "9.2 Descripción del algoritmo\n",
    "----------------------------"
   ]
  },
  {
   "cell_type": "markdown",
   "metadata": {},
   "source": [
    "La descripción del algoritmo es tomada de Pisoni, Gerardo Oscar (2014):\n",
    "\n",
    "$$ Jx\\left(\\frac{d\\Lambda}{dS_{Spec}}\\right) + \\left(\\frac{dF}{dS_{Spec}}\\right) = 0 $$\n",
    "\n",
    "Donde $J_x$ es la matriz jacobiana de la función vectorial $F$, $\\Lambda$ es el vector de variables del sistema $F=0$, $S_{Spec}$ es el valor asignado a una de las variables del vector $\\Lambda$, $\\frac{d\\Lambda}{ dS_{Spec}}$ es la derivada, manteniendo la condición $F=0$, del vector de variables con respecto al parámetro $S_{spec}$. Observe que si $S_{spec}=\\Lambda_i$, entonces $\\frac{d\\Lambda_i} {dS_{Spec}} =1$. El vector $\\frac{d\\Lambda}{ dS_{Spec}}$ es llamado “vector de sensitividades”.\n",
    "\n",
    "$\\frac{\\partial F} {\\partial S_{Spec}}$ es la derivada parcial del vector de funciones $F$ con respecto la variable $S_{spec}$.\n",
    "\n",
    "La matriz jacobiana $J_x$ debe ser valuada en un punto ya convergido que es solución del sistema de ecuaciones $F=0$. Observe en los distintos sistemas de ecuaciones presentados en el capítulo 3, que sólo una componente del vector $F$ depende explícitamente de $S_{spec}$. Por tanto, las componentes del vector $\\frac{\\partial F} {\\partial S_{Spec}}$ son todas iguales a cero, excepto la que depende de $S_{spec}$, en esta tesis el valor de dicha componente es siempre $“-1”$.\n",
    "\n",
    "Conocidos $J_x$ y $\\frac{\\partial F} {\\partial S_{Spec}}$ es posible calcular todas las componentes del vector $\\frac{d\\Lambda}{ dS_{Spec}}$.\n",
    "\n",
    "Con $\\frac{d\\Lambda}{ dS_{Spec}}$ conocido es posible predecir los valores de todas las variables del vector $\\Lambda$ para el siguiente punto de la “hiper-línea\" que se está calculando, aplicando la siguiente ecuación:\n",
    "\n",
    "$$ \\Lambda_{next point}^0  = \\Lambda_{conve. pont} + \\left(\\frac{d\\Lambda}{dS_{Spec}}\\right) \\Delta S_{Spec} $$\n",
    "\n",
    "Aquí $\\Lambda_{next point}^0$ corresponde al valor inicial del vector $\\Lambda$ para el próximo punto a ser calculado. $\\Lambda_{conve. pont}$ es el valor del vector $\\Lambda$ en el punto ya convergido.\n",
    "\n",
    "Por otra parte, el vector de sensitividades $\\frac{d\\Lambda}{ dS_{Spec}}$ provee información sobre la próxima variable que debe ser especificada en el próximo punto a ser calculado. La variable a especificar corresponderá a la componente del vector $\\frac{d\\Lambda}{dS_{Spec}}$ de mayor valor absoluto. Supongamos que la variable especificada para el punto convergido fue la presión $P$, es decir en el punto convergido $S_{spec} = P$."
   ]
  },
  {
   "cell_type": "markdown",
   "metadata": {},
   "source": [
    "9.3 Implementación del Algoritmo\n",
    "-------------------------------"
   ]
  },
  {
   "cell_type": "markdown",
   "metadata": {},
   "source": [
    "A continuación se muestra la forma de utilizar la librería pyther para realizar el diagrama de fases de una sustancia pura."
   ]
  },
  {
   "cell_type": "code",
   "execution_count": 1,
   "metadata": {
    "collapsed": true
   },
   "outputs": [],
   "source": [
    "import numpy as np\n",
    "import pandas as pd\n",
    "import matplotlib.pyplot as plt\n",
    "%matplotlib inline  \n",
    "import pyther as pt"
   ]
  },
  {
   "cell_type": "markdown",
   "metadata": {},
   "source": [
    "Luego de hacer la importación de las librerías que se van a utilizar, en la función main_eos() definida por un usuario se realiza la especificación de la sustancia pura junto con el modelo de ecuación de estado y parámetros que se requieren en la función \"pt.function_elv(components, Vc, Tc, Pc, omega, k, d1)\" que realiza los cálculos del algoritmo que se describió previamente. "
   ]
  },
  {
   "cell_type": "code",
   "execution_count": 3,
   "metadata": {
    "collapsed": true
   },
   "outputs": [],
   "source": [
    "def main_eos():\n",
    "    print(\"-\" * 79)\n",
    "    components = [\"METHANE\"]\n",
    "    MODEL = \"PR\"\n",
    "    specification = \"constants\"\n",
    "    component_eos = pt.parameters_eos_constans(components, MODEL, specification)\n",
    "    #print(component_eos)\n",
    "    #print('-' * 79)\n",
    "    \n",
    "    methane = component_eos[component_eos.index==components]\n",
    "    #print(methane)    \n",
    "    methane_elv = methane[[\"Tc\", \"Pc\", \"k\", \"d1\"]]\n",
    "    #print(methane_elv)\n",
    "    \n",
    "    Tc = np.array(methane[\"Tc\"])\n",
    "    Pc = np.array(methane[\"Pc\"])\n",
    "    Vc = np.array(methane[\"Vc\"])\n",
    "    omega = np.array(methane[\"Omega\"])\n",
    "    k = np.array(methane[\"k\"])\n",
    "    d1 = np.array(methane[\"d1\"])\n",
    "    \n",
    "    punto_critico = np.array([Pc, Vc])\n",
    "    \n",
    "    print(\"Tc main = \", Tc)\n",
    "    print(\"Pc main = \", Pc)\n",
    "    print(\"punto critico = \", punto_critico)\n",
    "    \n",
    "    data_elv = pt.function_elv(components, Vc, Tc, Pc, omega, k, d1)\n",
    "    #print(data_elv)\n",
    "    \n",
    "    return data_elv, Vc, Pc"
   ]
  },
  {
   "cell_type": "markdown",
   "metadata": {},
   "source": [
    "9.4 Resultados\n",
    "-----------------"
   ]
  },
  {
   "cell_type": "markdown",
   "metadata": {},
   "source": [
    "Se obtiene el diagrama de fases líquido-vapor de una sustancia pura utilizando el método function_elv(components, Vc, Tc, Pc, omega, k, d1) de la librería pyther. Se observa que la función anterior main_eos() puede ser reemplazada por un bloque de widgets que simplifiquen la interfaz gráfica con los usuarios. "
   ]
  },
  {
   "cell_type": "code",
   "execution_count": 10,
   "metadata": {},
   "outputs": [
    {
     "data": {
      "text/plain": [
       "<matplotlib.text.Text at 0x7f9896432518>"
      ]
     },
     "execution_count": 10,
     "metadata": {},
     "output_type": "execute_result"
    },
    {
     "data": {
      "image/png": "[encoded data removed]",
      "text/plain": [
       "<matplotlib.figure.Figure at 0x7f9895c50f60>"
      ]
     },
     "metadata": {},
     "output_type": "display_data"
    }
   ],
   "source": [
    "volumen = envolvente[0][0]\n",
    "presion = envolvente[0][1]\n",
    "Vc, Pc = envolvente[1], envolvente[2]\n",
    "\n",
    "plt.plot(volumen,presion)\n",
    "plt.scatter(Vc, Pc)\n",
    "\n",
    "plt.xlabel('Volumen [=] $mol/cm^3$')\n",
    "plt.ylabel('Presión [=] bar')\n",
    "plt.grid(True)\n",
    "plt.text(Vc * 1.4, Pc * 1.01, \"Punto critico\")"
   ]
  },
  {
   "cell_type": "markdown",
   "metadata": {
    "collapsed": true
   },
   "source": [
    "9.5 Referencias\n",
    "-----------------"
   ]
  },
  {
   "cell_type": "markdown",
   "metadata": {
    "collapsed": true
   },
   "source": [
    "[1] E.L. Allgower, K. Georg, Introduction to Numerical Continuation Methods, SIAM. Classics in Applied Mathematics, Philadelphia, 2003.\n",
    "\n",
    "[2] M. Cismondi, M.L. Michelsen, Global phase equilibrium calculations: Critical lines, critical end points and liquid-liquid-vapour equilibrium in binary mixtures, Journal of Supercritical Fluids, 39 (2007) 287-295.\n",
    "\n",
    "[3] M. Cismondi, M.L. Michelsen, M.S. Zabaloy, Automated generation of phase diagrams for binary systems with azeotropic behavior, Industrial and Engineering Chemistry Research, 47 (2008) 9728-9743.\n",
    "\n",
    "[4] Pisoni, Gerardo Oscar (2014). Mapas Característicos del Equilibrio entre Fases para Sistemas Ternarios (tesis doctoral). Universidad Nacional del Sur, Argentina."
   ]
  }
 ],
 "metadata": {
  "kernelspec": {
   "display_name": "Python [conda root]",
   "language": "python",
   "name": "conda-root-py"
  },
  "language_info": {
   "codemirror_mode": {
    "name": "ipython",
    "version": 3
   },
   "file_extension": ".py",
   "mimetype": "text/x-python",
   "name": "python",
   "nbconvert_exporter": "python",
   "pygments_lexer": "ipython3",
   "version": "3.5.2"
  }
 },
 "nbformat": 4,
 "nbformat_minor": 2
}
