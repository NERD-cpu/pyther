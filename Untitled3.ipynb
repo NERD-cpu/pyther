{
 "cells": [
  {
   "cell_type": "code",
   "execution_count": 4,
   "metadata": {
    "collapsed": false
   },
   "outputs": [],
   "source": [
    "import numpy as np\n",
    "import pandas as pd\n",
    "import pyther as pt"
   ]
  },
  {
   "cell_type": "code",
   "execution_count": 5,
   "metadata": {
    "collapsed": false
   },
   "outputs": [
    {
     "name": "stdout",
     "output_type": "stream",
     "text": [
      "-------------------------------------------------------------------------------\n"
     ]
    },
    {
     "ename": "NameError",
     "evalue": "name 'Vapour_Pressure' is not defined",
     "output_type": "error",
     "traceback": [
      "\u001b[0;31m---------------------------------------------------------------------------\u001b[0m",
      "\u001b[0;31mNameError\u001b[0m                                 Traceback (most recent call last)",
      "\u001b[0;32m<ipython-input-5-63e2eee77a83>\u001b[0m in \u001b[0;36m<module>\u001b[0;34m()\u001b[0m\n\u001b[1;32m     26\u001b[0m \u001b[0;31m#property_thermodynamics = property_cal(components, Vapour_Pressure, temp)\u001b[0m\u001b[0;34m\u001b[0m\u001b[0;34m\u001b[0m\u001b[0m\n\u001b[1;32m     27\u001b[0m \u001b[0;31m#property_thermodynamics = property_cal(component, Vapour_Pressure, [180.4, 181.4, 185.3, 210, 85])\u001b[0m\u001b[0;34m\u001b[0m\u001b[0;34m\u001b[0m\u001b[0m\n\u001b[0;32m---> 28\u001b[0;31m \u001b[0mproperty_thermodynamics\u001b[0m \u001b[0;34m=\u001b[0m \u001b[0mthermodynamic_correlations\u001b[0m\u001b[0;34m.\u001b[0m\u001b[0mproperty_cal\u001b[0m\u001b[0;34m(\u001b[0m\u001b[0mcomponent\u001b[0m\u001b[0;34m,\u001b[0m \u001b[0mVapour_Pressure\u001b[0m\u001b[0;34m)\u001b[0m\u001b[0;34m\u001b[0m\u001b[0m\n\u001b[0m\u001b[1;32m     29\u001b[0m \u001b[0mprint\u001b[0m\u001b[0;34m(\u001b[0m\u001b[0mproperty_thermodynamics\u001b[0m\u001b[0;34m)\u001b[0m\u001b[0;34m\u001b[0m\u001b[0m\n\u001b[1;32m     30\u001b[0m \u001b[0;34m\u001b[0m\u001b[0m\n",
      "\u001b[0;31mNameError\u001b[0m: name 'Vapour_Pressure' is not defined"
     ]
    }
   ],
   "source": [
    "\n",
    "\n",
    "print(\"-\" * 79)\n",
    "\n",
    "dppr_file = \"PureFull_mod_properties.xls\"\n",
    "#print(dppr_file)\n",
    "\n",
    "thermodynamic_correlations = pt.Thermodynamic_correlations(dppr_file)\n",
    "\n",
    "#data = data_base.read_dppr()\t\t\n",
    "#data_name = data_base.data_name_cal()\n",
    "\n",
    "component = 'METHANE'\n",
    "#component = \"ETHANE\"\n",
    "#component = \"3-METHYLHEPTANE\"\n",
    "#component = \"n-PENTACOSANE\"\n",
    "#component = \"ISOBUTANE\"\n",
    "#component = \"n-TETRADECANE\"\n",
    "\n",
    "#components = [\"METHANE\", \"n-TETRACOSANE\"]\n",
    "\n",
    "temp = [180.4, 181.4, 185.3, 210, 85]\n",
    "#temp = 180.4\n",
    "\n",
    "#property_thermodynamics = thermodynamic_correlations.property_cal(component, Vapour_Pressure, temp)\n",
    "#property_thermodynamics = property_cal(components, Vapour_Pressure, temp)\n",
    "#property_thermodynamics = property_cal(component, Vapour_Pressure, [180.4, 181.4, 185.3, 210, 85])\n",
    "property_thermodynamics = thermodynamic_correlations.property_cal(component, Vapour_Pressure)\n",
    "print(property_thermodynamics)\n",
    "\n",
    "print('-' * 79)\n"
   ]
  },
  {
   "cell_type": "code",
   "execution_count": null,
   "metadata": {
    "collapsed": true
   },
   "outputs": [],
   "source": []
  }
 ],
 "metadata": {
  "anaconda-cloud": {},
  "kernelspec": {
   "display_name": "Python [conda root]",
   "language": "python",
   "name": "conda-root-py"
  },
  "language_info": {
   "codemirror_mode": {
    "name": "ipython",
    "version": 3
   },
   "file_extension": ".py",
   "mimetype": "text/x-python",
   "name": "python",
   "nbconvert_exporter": "python",
   "pygments_lexer": "ipython3",
   "version": "3.5.2"
  }
 },
 "nbformat": 4,
 "nbformat_minor": 1
}
